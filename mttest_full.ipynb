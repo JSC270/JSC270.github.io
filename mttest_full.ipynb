{
 "cells": [
  {
   "cell_type": "markdown",
   "metadata": {},
   "source": [
    "# JSC270 - A Partially Collaborative Midterm Test\n",
    "## March 13, 2019\n",
    "## Time allowed: 110 minutes (12:10 - 14:00)\n",
    "\n",
    "\n",
    "## Test Instructions\n",
    "\n",
    "- All answers must be submitted in a Jupyter notebook using Python and Markdown.\n",
    "\n",
    "- You are allowed to use any written aids such as code from assignment \\#2, notes, websites (e.g., stackoverflow), code from Github, books, notes, etc.  Try to provide references even if you copy/paste code you find on, say, Github, or Stackoverflow. \n",
    "\n",
    "### The first 55 Minutes\n",
    "\n",
    "- You are not allowed to communicate (e.g., talking, messaging, email, video, screen sharing) with anyone else about this test for the first half of the test (55 minutes).  In other words, you are not allowed to give or seek outside help during the first 55 minutes of the test.  \n",
    "\n",
    "- At the end of the first 55 minutes you must commit your Jupyter notebook with answers to the Github classroom repository.\n",
    "\n",
    "- There will be an announcement to commit and push your Jupyter notebook with answers to Github classroom.  This will be marked as your first commit. This should be a really good draft of your answer that you refine in the second part of the test.\n",
    "\n",
    "### The last 55 Minutes\n",
    "\n",
    "- During the remaining 55 minutes you may collaborate with other students in the class.  But, you must neither copy entire code chunks nor copy verbatim text from other students and claim it's your answer. In other words, you must submit your own work, but you can discuss it with others in the class.\n",
    "\n",
    "- Your last commit before the end of the test must be your own work, although it can be inspired by your classmates ideas or anything else.\n",
    "\n",
    "\n",
    "### Marking\n",
    "\n",
    "- Each question will be marked using the programming, data analysis, questions, and statistical methods rubrics that have been used to grade assignments.\n",
    "\n",
    "- The first commit will be worth 35% of your grade and the second commit will be worth 65% of your grade.    "
   ]
  },
  {
   "cell_type": "markdown",
   "metadata": {},
   "source": [
    "## Data\n",
    "\n",
    "- Each student has been assigned a unique dataset of randomly selected businesses from the Yelp data business.json.  The name of this file is: `business_num.csv`, where `num` is your student number. \n",
    "\n",
    "- You may use any of the other data from the [Yelp Open Dataset.](https://www.yelp.com/dataset)\n",
    "\n",
    "### Data Documentation\n",
    "\n",
    "The data documentation can be found [here.](https://www.yelp.com/dataset/documentation/main)\n",
    "\n",
    "Now that you have familiarized yourself with the Yelp data and performed some explorations in the second assignment, you must have developed some questions of your own not yet covered on the second assignment. "
   ]
  },
  {
   "cell_type": "code",
   "execution_count": null,
   "metadata": {},
   "outputs": [],
   "source": [
    "# load data and some libraries\n",
    "import pandas as pd\n",
    "import numpy as np\n",
    "import matplotlib.pyplot as plt\n",
    "import json\n",
    "\n",
    "# load your business file\n",
    "\n",
    "businessurl = 'http://utstat.toronto.edu/nathan/data_march2019/business_'\n",
    "stnum = '1234567890' #fill in your student number\n",
    "ext = '.csv'\n",
    "\n",
    "business = pd.read_csv(businessurl + stnum + ext)"
   ]
  },
  {
   "cell_type": "markdown",
   "metadata": {},
   "source": [
    "# Instructions on Answering The Question\n",
    "\n",
    "- Use the Yelp data (see data section above) to answer the following question.  \n",
    "- You must use the unique business data set to assigned to you.  Do not use the full data set!  \n",
    "\n",
    "- Use as many code or markdown cells as you need, but try to organize these into a logical flow.\n",
    "\n",
    "- <mark> Some tips: at the beginning of your answer to the question describe your strategy for answering the question, and be sure to describe and explore the variables that you use to answer the questions.  At the end of your answers include a Markdown cell where you write a conclusion for the question (see below). </mark>\n",
    "\n",
    "\n",
    "**Your answer should include:**\n",
    "\n",
    "\n",
    "1. A description of the questions; \n",
    "\n",
    "2. Statistical methods; \n",
    "\n",
    "3. Results; \n",
    "\n",
    "4. Limitations;\n",
    "\n",
    "5. Conclusion with a brief discussion.  "
   ]
  },
  {
   "cell_type": "markdown",
   "metadata": {},
   "source": [
    "## Question\n",
    "\n",
    "A new restaurant is being planned and you are an important part of the planning team since you have amazing data science skills. Previous [research](https://www.theguardian.com/lifeandstyle/2012/sep/02/ratings-boost-restaurants) has shown that restaurants with high online ratings are more successful.   Should the new restaurant have a formal or casual ambiance?  Should it offer take-out?  Should it be family friendly?  Are there any other attributes that you recommend the restaurant should possess?"
   ]
  },
  {
   "cell_type": "markdown",
   "metadata": {},
   "source": [
    "# Answer\n",
    "\n",
    "Your answer should start here ..."
   ]
  }
 ],
 "metadata": {
  "hide_input": false,
  "kernelspec": {
   "display_name": "Python 3",
   "language": "python",
   "name": "python3"
  },
  "language_info": {
   "codemirror_mode": {
    "name": "ipython",
    "version": 3
   },
   "file_extension": ".py",
   "mimetype": "text/x-python",
   "name": "python",
   "nbconvert_exporter": "python",
   "pygments_lexer": "ipython3",
   "version": "3.6.8"
  }
 },
 "nbformat": 4,
 "nbformat_minor": 2
}
