{
 "cells": [
  {
   "cell_type": "markdown",
   "metadata": {
    "slideshow": {
     "slide_type": "slide"
    }
   },
   "source": [
    "# JSC270 - Class \\#2\n",
    "\n",
    "## Prof. Taback\n",
    "\n",
    "# Today's Class\n",
    "\n",
    "- Data wrangling: \n",
    "   - selecting variables\n",
    "   - filtering rows\n",
    "   - creating new variables\n",
    "   - sorting\n",
    "   - summarizing by-group\n",
    "   - combining multiple tables\n",
    "- Summarizing Data \n",
    "- Data transformation"
   ]
  },
  {
   "cell_type": "markdown",
   "metadata": {
    "slideshow": {
     "slide_type": "slide"
    }
   },
   "source": [
    "# Data Wrangling\n",
    "\n",
    "- Data wrangling/manipulation/transformation has a large impact on the data used to answer questions with data.\n",
    "\n",
    "- Statistical and machine learning models are meaningful only if the data is meaningful.\n",
    "\n",
    "- Data wrangling/manipulation is one point in the data analysis process where decisions can introduce bias into the data.  Examples?"
   ]
  },
  {
   "cell_type": "markdown",
   "metadata": {
    "slideshow": {
     "slide_type": "slide"
    }
   },
   "source": [
    "<a href='https://www.nytimes.com/interactive/2019/01/11/us/politics/trump-border-crisis-reality.html'> <img src='trumpnyt.png'> </img> </a>"
   ]
  },
  {
   "cell_type": "markdown",
   "metadata": {
    "slideshow": {
     "slide_type": "slide"
    }
   },
   "source": [
    "# pandas"
   ]
  },
  {
   "cell_type": "markdown",
   "metadata": {
    "slideshow": {
     "slide_type": "slide"
    }
   },
   "source": [
    "# Series\n",
    "\n",
    "A Series is a one-dimensional array-like object containing a sequence of values (of similar types to NumPy types) and an associated array of data labels, called its index. The simplest Series is formed from only an array of data"
   ]
  },
  {
   "cell_type": "code",
   "execution_count": 2,
   "metadata": {
    "slideshow": {
     "slide_type": "-"
    }
   },
   "outputs": [
    {
     "name": "stdout",
     "output_type": "stream",
     "text": [
      "0     0.9\n",
      "1     0.7\n",
      "2   -10.0\n",
      "3    20.0\n",
      "dtype: float64\n"
     ]
    },
    {
     "data": {
      "text/plain": [
       "Manitoba     0.9\n",
       "Ontario      0.7\n",
       "Quebec     -10.0\n",
       "Alberta     20.0\n",
       "dtype: float64"
      ]
     },
     "execution_count": 2,
     "metadata": {},
     "output_type": "execute_result"
    }
   ],
   "source": [
    "import pandas as pd\n",
    "\n",
    "myseries = pd.Series([0.9, 0.7, -10, 20])\n",
    "print(myseries)\n",
    "prov = ['Manitoba', 'Ontario', 'Quebec', 'Alberta']\n",
    "myseries.index = prov\n",
    "myseries"
   ]
  },
  {
   "cell_type": "markdown",
   "metadata": {
    "slideshow": {
     "slide_type": "slide"
    }
   },
   "source": [
    "# pandas DataFrame\n",
    "\n",
    "- A DataFrame represents a rectangular table of data and contains an ordered collection of columns, each of which can be a different value type (numeric, string, boolean, etc.). \n",
    "\n",
    "- The DataFrame has both a row and column index; it can be thought of as a dict of Series all sharing the same index.\n",
    "\n",
    "- Under the hood, the data is stored as one or more two-dimensional blocks rather than a list, dict, or some other collection of one-dimensional arrays. \n",
    "\n",
    "(McKinney, 2018 and [pandas ref](https://pandas.pydata.org))"
   ]
  },
  {
   "cell_type": "code",
   "execution_count": 2,
   "metadata": {
    "slideshow": {
     "slide_type": "subslide"
    }
   },
   "outputs": [
    {
     "data": {
      "text/html": [
       "<div>\n",
       "<style scoped>\n",
       "    .dataframe tbody tr th:only-of-type {\n",
       "        vertical-align: middle;\n",
       "    }\n",
       "\n",
       "    .dataframe tbody tr th {\n",
       "        vertical-align: top;\n",
       "    }\n",
       "\n",
       "    .dataframe thead th {\n",
       "        text-align: right;\n",
       "    }\n",
       "</style>\n",
       "<table border=\"1\" class=\"dataframe\">\n",
       "  <thead>\n",
       "    <tr style=\"text-align: right;\">\n",
       "      <th></th>\n",
       "      <th>province</th>\n",
       "      <th>year</th>\n",
       "      <th>pop_size</th>\n",
       "    </tr>\n",
       "  </thead>\n",
       "  <tbody>\n",
       "    <tr>\n",
       "      <th>0</th>\n",
       "      <td>Ontario</td>\n",
       "      <td>2016</td>\n",
       "      <td>13448494</td>\n",
       "    </tr>\n",
       "    <tr>\n",
       "      <th>1</th>\n",
       "      <td>Ontario</td>\n",
       "      <td>2011</td>\n",
       "      <td>12851821</td>\n",
       "    </tr>\n",
       "    <tr>\n",
       "      <th>2</th>\n",
       "      <td>Quebec</td>\n",
       "      <td>2016</td>\n",
       "      <td>8164361</td>\n",
       "    </tr>\n",
       "    <tr>\n",
       "      <th>3</th>\n",
       "      <td>Quebec</td>\n",
       "      <td>2011</td>\n",
       "      <td>7903001</td>\n",
       "    </tr>\n",
       "  </tbody>\n",
       "</table>\n",
       "</div>"
      ],
      "text/plain": [
       "  province  year  pop_size\n",
       "0  Ontario  2016  13448494\n",
       "1  Ontario  2011  12851821\n",
       "2   Quebec  2016   8164361\n",
       "3   Quebec  2011   7903001"
      ]
     },
     "execution_count": 2,
     "metadata": {},
     "output_type": "execute_result"
    }
   ],
   "source": [
    "# a dict of equal length lists\n",
    "pop = {'province':['Ontario', 'Ontario', 'Quebec', 'Quebec'], \n",
    "        'year': [2016, 2011,2016, 2011],\n",
    "        'pop_size': [13448494, 12851821, 8164361, 7903001]}\n",
    "df = pd.DataFrame(pop)\n",
    "df"
   ]
  },
  {
   "cell_type": "markdown",
   "metadata": {
    "slideshow": {
     "slide_type": "subslide"
    }
   },
   "source": [
    "- pandas can read and write data in many types of formats (text, binary, SQL) that are stored as csv, json, html, etc.  (see [IO tools](http://pandas.pydata.org/pandas-docs/stable/io.html) )\n",
    "\n",
    "- For example, `read_html` accepts an HTML string/file/URL and will parse an HTML tables into a list of pandas DataFrames."
   ]
  },
  {
   "cell_type": "code",
   "execution_count": 4,
   "metadata": {
    "slideshow": {
     "slide_type": "subslide"
    }
   },
   "outputs": [
    {
     "data": {
      "text/html": [
       "<div>\n",
       "<style scoped>\n",
       "    .dataframe tbody tr th:only-of-type {\n",
       "        vertical-align: middle;\n",
       "    }\n",
       "\n",
       "    .dataframe tbody tr th {\n",
       "        vertical-align: top;\n",
       "    }\n",
       "\n",
       "    .dataframe thead th {\n",
       "        text-align: right;\n",
       "    }\n",
       "</style>\n",
       "<table border=\"1\" class=\"dataframe\">\n",
       "  <thead>\n",
       "    <tr style=\"text-align: right;\">\n",
       "      <th></th>\n",
       "      <th>Rank</th>\n",
       "      <th>Country or area</th>\n",
       "      <th>UN continentalregion[2]</th>\n",
       "      <th>UN statisticalregion[2]</th>\n",
       "      <th>Population(1 July 2016)[3]</th>\n",
       "      <th>Population(1 July 2017)[3]</th>\n",
       "      <th>Change</th>\n",
       "    </tr>\n",
       "  </thead>\n",
       "  <tbody>\n",
       "    <tr>\n",
       "      <th>0</th>\n",
       "      <td>—</td>\n",
       "      <td>World</td>\n",
       "      <td>—</td>\n",
       "      <td>—</td>\n",
       "      <td>7466964280</td>\n",
       "      <td>7550262101</td>\n",
       "      <td>+1.1%</td>\n",
       "    </tr>\n",
       "    <tr>\n",
       "      <th>1</th>\n",
       "      <td>1</td>\n",
       "      <td>China[a]</td>\n",
       "      <td>Asia</td>\n",
       "      <td>Eastern Asia</td>\n",
       "      <td>1403500365</td>\n",
       "      <td>1409517397</td>\n",
       "      <td>+0.4%</td>\n",
       "    </tr>\n",
       "    <tr>\n",
       "      <th>2</th>\n",
       "      <td>2</td>\n",
       "      <td>India</td>\n",
       "      <td>Asia</td>\n",
       "      <td>Southern Asia</td>\n",
       "      <td>1324171354</td>\n",
       "      <td>1339180127</td>\n",
       "      <td>+1.1%</td>\n",
       "    </tr>\n",
       "    <tr>\n",
       "      <th>3</th>\n",
       "      <td>3</td>\n",
       "      <td>United States</td>\n",
       "      <td>Americas</td>\n",
       "      <td>Northern America</td>\n",
       "      <td>322179605</td>\n",
       "      <td>324459463</td>\n",
       "      <td>+0.7%</td>\n",
       "    </tr>\n",
       "    <tr>\n",
       "      <th>4</th>\n",
       "      <td>4</td>\n",
       "      <td>Indonesia</td>\n",
       "      <td>Asia</td>\n",
       "      <td>South-eastern Asia</td>\n",
       "      <td>261115456</td>\n",
       "      <td>263991379</td>\n",
       "      <td>+1.1%</td>\n",
       "    </tr>\n",
       "  </tbody>\n",
       "</table>\n",
       "</div>"
      ],
      "text/plain": [
       "  Rank Country or area UN continentalregion[2] UN statisticalregion[2]  \\\n",
       "0    —           World                       —                       —   \n",
       "1    1        China[a]                    Asia            Eastern Asia   \n",
       "2    2           India                    Asia           Southern Asia   \n",
       "3    3   United States                Americas        Northern America   \n",
       "4    4       Indonesia                    Asia      South-eastern Asia   \n",
       "\n",
       "   Population(1 July 2016)[3]  Population(1 July 2017)[3] Change  \n",
       "0                  7466964280                  7550262101  +1.1%  \n",
       "1                  1403500365                  1409517397  +0.4%  \n",
       "2                  1324171354                  1339180127  +1.1%  \n",
       "3                   322179605                   324459463  +0.7%  \n",
       "4                   261115456                   263991379  +1.1%  "
      ]
     },
     "execution_count": 4,
     "metadata": {},
     "output_type": "execute_result"
    }
   ],
   "source": [
    "url = 'https://en.wikipedia.org/wiki/List_of_countries_by_population_(United_Nations)'\n",
    "df = pd.read_html(url, header=0)\n",
    "pop = df[1] # select table of countries\n",
    "pop.head()"
   ]
  },
  {
   "cell_type": "markdown",
   "metadata": {
    "slideshow": {
     "slide_type": "slide"
    }
   },
   "source": [
    "# Filtering rows (observations)\n",
    "\n",
    "- Exclude the row with the world population.\n",
    "\n",
    "- `pop[1:]` excludes the first row.\n",
    "\n",
    "- This uses \"slice\" syntax.\n"
   ]
  },
  {
   "cell_type": "code",
   "execution_count": 4,
   "metadata": {
    "slideshow": {
     "slide_type": "-"
    }
   },
   "outputs": [
    {
     "data": {
      "text/html": [
       "<div>\n",
       "<style scoped>\n",
       "    .dataframe tbody tr th:only-of-type {\n",
       "        vertical-align: middle;\n",
       "    }\n",
       "\n",
       "    .dataframe tbody tr th {\n",
       "        vertical-align: top;\n",
       "    }\n",
       "\n",
       "    .dataframe thead th {\n",
       "        text-align: right;\n",
       "    }\n",
       "</style>\n",
       "<table border=\"1\" class=\"dataframe\">\n",
       "  <thead>\n",
       "    <tr style=\"text-align: right;\">\n",
       "      <th></th>\n",
       "      <th>Rank</th>\n",
       "      <th>Country or area</th>\n",
       "      <th>UN continentalregion[2]</th>\n",
       "      <th>UN statisticalregion[2]</th>\n",
       "      <th>Population(1 July 2016)[3]</th>\n",
       "      <th>Population(1 July 2017)[3]</th>\n",
       "      <th>Change</th>\n",
       "    </tr>\n",
       "  </thead>\n",
       "  <tbody>\n",
       "    <tr>\n",
       "      <th>1</th>\n",
       "      <td>1</td>\n",
       "      <td>China[a]</td>\n",
       "      <td>Asia</td>\n",
       "      <td>Eastern Asia</td>\n",
       "      <td>1403500365</td>\n",
       "      <td>1409517397</td>\n",
       "      <td>+0.4%</td>\n",
       "    </tr>\n",
       "    <tr>\n",
       "      <th>2</th>\n",
       "      <td>2</td>\n",
       "      <td>India</td>\n",
       "      <td>Asia</td>\n",
       "      <td>Southern Asia</td>\n",
       "      <td>1324171354</td>\n",
       "      <td>1339180127</td>\n",
       "      <td>+1.1%</td>\n",
       "    </tr>\n",
       "    <tr>\n",
       "      <th>3</th>\n",
       "      <td>3</td>\n",
       "      <td>United States</td>\n",
       "      <td>Americas</td>\n",
       "      <td>Northern America</td>\n",
       "      <td>322179605</td>\n",
       "      <td>324459463</td>\n",
       "      <td>+0.7%</td>\n",
       "    </tr>\n",
       "    <tr>\n",
       "      <th>4</th>\n",
       "      <td>4</td>\n",
       "      <td>Indonesia</td>\n",
       "      <td>Asia</td>\n",
       "      <td>South-eastern Asia</td>\n",
       "      <td>261115456</td>\n",
       "      <td>263991379</td>\n",
       "      <td>+1.1%</td>\n",
       "    </tr>\n",
       "    <tr>\n",
       "      <th>5</th>\n",
       "      <td>5</td>\n",
       "      <td>Brazil</td>\n",
       "      <td>Americas</td>\n",
       "      <td>South America</td>\n",
       "      <td>207652865</td>\n",
       "      <td>209288278</td>\n",
       "      <td>+0.8%</td>\n",
       "    </tr>\n",
       "  </tbody>\n",
       "</table>\n",
       "</div>"
      ],
      "text/plain": [
       "  Rank Country or area UN continentalregion[2] UN statisticalregion[2]  \\\n",
       "1    1        China[a]                    Asia            Eastern Asia   \n",
       "2    2           India                    Asia           Southern Asia   \n",
       "3    3   United States                Americas        Northern America   \n",
       "4    4       Indonesia                    Asia      South-eastern Asia   \n",
       "5    5          Brazil                Americas           South America   \n",
       "\n",
       "   Population(1 July 2016)[3]  Population(1 July 2017)[3] Change  \n",
       "1                  1403500365                  1409517397  +0.4%  \n",
       "2                  1324171354                  1339180127  +1.1%  \n",
       "3                   322179605                   324459463  +0.7%  \n",
       "4                   261115456                   263991379  +1.1%  \n",
       "5                   207652865                   209288278  +0.8%  "
      ]
     },
     "execution_count": 4,
     "metadata": {},
     "output_type": "execute_result"
    }
   ],
   "source": [
    "pop[1:].head()"
   ]
  },
  {
   "cell_type": "markdown",
   "metadata": {
    "slideshow": {
     "slide_type": "slide"
    }
   },
   "source": [
    "Select countries that have populations that rank between 30th and 35th."
   ]
  },
  {
   "cell_type": "code",
   "execution_count": 5,
   "metadata": {},
   "outputs": [
    {
     "data": {
      "text/html": [
       "<div>\n",
       "<style scoped>\n",
       "    .dataframe tbody tr th:only-of-type {\n",
       "        vertical-align: middle;\n",
       "    }\n",
       "\n",
       "    .dataframe tbody tr th {\n",
       "        vertical-align: top;\n",
       "    }\n",
       "\n",
       "    .dataframe thead th {\n",
       "        text-align: right;\n",
       "    }\n",
       "</style>\n",
       "<table border=\"1\" class=\"dataframe\">\n",
       "  <thead>\n",
       "    <tr style=\"text-align: right;\">\n",
       "      <th></th>\n",
       "      <th>Rank</th>\n",
       "      <th>Country or area</th>\n",
       "      <th>UN continentalregion[2]</th>\n",
       "      <th>UN statisticalregion[2]</th>\n",
       "      <th>Population(1 July 2016)[3]</th>\n",
       "      <th>Population(1 July 2017)[3]</th>\n",
       "      <th>Change</th>\n",
       "    </tr>\n",
       "  </thead>\n",
       "  <tbody>\n",
       "    <tr>\n",
       "      <th>30</th>\n",
       "      <td>30</td>\n",
       "      <td>Spain[d]</td>\n",
       "      <td>Europe</td>\n",
       "      <td>Southern Europe</td>\n",
       "      <td>46347576</td>\n",
       "      <td>46354321</td>\n",
       "      <td>NaN</td>\n",
       "    </tr>\n",
       "    <tr>\n",
       "      <th>31</th>\n",
       "      <td>31</td>\n",
       "      <td>Argentina</td>\n",
       "      <td>Americas</td>\n",
       "      <td>South America</td>\n",
       "      <td>43847430</td>\n",
       "      <td>44271041</td>\n",
       "      <td>+1.0%</td>\n",
       "    </tr>\n",
       "    <tr>\n",
       "      <th>32</th>\n",
       "      <td>32</td>\n",
       "      <td>Ukraine[e]</td>\n",
       "      <td>Europe</td>\n",
       "      <td>Eastern Europe</td>\n",
       "      <td>44438625</td>\n",
       "      <td>44222947</td>\n",
       "      <td>−0.5%</td>\n",
       "    </tr>\n",
       "    <tr>\n",
       "      <th>33</th>\n",
       "      <td>33</td>\n",
       "      <td>Uganda</td>\n",
       "      <td>Africa</td>\n",
       "      <td>Eastern Africa</td>\n",
       "      <td>41487965</td>\n",
       "      <td>42862958</td>\n",
       "      <td>+3.3%</td>\n",
       "    </tr>\n",
       "    <tr>\n",
       "      <th>34</th>\n",
       "      <td>34</td>\n",
       "      <td>Algeria</td>\n",
       "      <td>Africa</td>\n",
       "      <td>Northern Africa</td>\n",
       "      <td>40606052</td>\n",
       "      <td>41318142</td>\n",
       "      <td>+1.8%</td>\n",
       "    </tr>\n",
       "    <tr>\n",
       "      <th>35</th>\n",
       "      <td>35</td>\n",
       "      <td>Sudan</td>\n",
       "      <td>Africa</td>\n",
       "      <td>Northern Africa</td>\n",
       "      <td>39578828</td>\n",
       "      <td>40533330</td>\n",
       "      <td>+2.4%</td>\n",
       "    </tr>\n",
       "  </tbody>\n",
       "</table>\n",
       "</div>"
      ],
      "text/plain": [
       "   Rank Country or area UN continentalregion[2] UN statisticalregion[2]  \\\n",
       "30   30        Spain[d]                  Europe         Southern Europe   \n",
       "31   31       Argentina                Americas           South America   \n",
       "32   32      Ukraine[e]                  Europe          Eastern Europe   \n",
       "33   33          Uganda                  Africa          Eastern Africa   \n",
       "34   34         Algeria                  Africa         Northern Africa   \n",
       "35   35           Sudan                  Africa         Northern Africa   \n",
       "\n",
       "    Population(1 July 2016)[3]  Population(1 July 2017)[3] Change  \n",
       "30                    46347576                    46354321    NaN  \n",
       "31                    43847430                    44271041  +1.0%  \n",
       "32                    44438625                    44222947  −0.5%  \n",
       "33                    41487965                    42862958  +3.3%  \n",
       "34                    40606052                    41318142  +1.8%  \n",
       "35                    39578828                    40533330  +2.4%  "
      ]
     },
     "execution_count": 5,
     "metadata": {},
     "output_type": "execute_result"
    }
   ],
   "source": [
    "pop[1:][29:35]"
   ]
  },
  {
   "cell_type": "markdown",
   "metadata": {
    "slideshow": {
     "slide_type": "slide"
    }
   },
   "source": [
    "Use `.loc` to select by row index and column name.  What is the change in population for the country of rank 30?"
   ]
  },
  {
   "cell_type": "code",
   "execution_count": 6,
   "metadata": {
    "slideshow": {
     "slide_type": "-"
    }
   },
   "outputs": [
    {
     "data": {
      "text/plain": [
       "nan"
      ]
     },
     "execution_count": 6,
     "metadata": {},
     "output_type": "execute_result"
    }
   ],
   "source": [
    "pop.loc[30,'Change']"
   ]
  },
  {
   "cell_type": "markdown",
   "metadata": {
    "slideshow": {
     "slide_type": "slide"
    }
   },
   "source": [
    "Modify values in place using `.loc`."
   ]
  },
  {
   "cell_type": "code",
   "execution_count": 7,
   "metadata": {},
   "outputs": [
    {
     "data": {
      "text/plain": [
       "'0.0%'"
      ]
     },
     "execution_count": 7,
     "metadata": {},
     "output_type": "execute_result"
    }
   ],
   "source": [
    "pop.loc[30,'Change'] = '0.0%'\n",
    "pop.loc[30,'Change']"
   ]
  },
  {
   "cell_type": "markdown",
   "metadata": {
    "slideshow": {
     "slide_type": "slide"
    }
   },
   "source": [
    "We can also select rows using integers with `iloc`.  The 7th column has index value 6."
   ]
  },
  {
   "cell_type": "code",
   "execution_count": 8,
   "metadata": {},
   "outputs": [
    {
     "data": {
      "text/plain": [
       "'0.0%'"
      ]
     },
     "execution_count": 8,
     "metadata": {},
     "output_type": "execute_result"
    }
   ],
   "source": [
    "pop.iloc[30,6]"
   ]
  },
  {
   "cell_type": "markdown",
   "metadata": {
    "slideshow": {
     "slide_type": "slide"
    }
   },
   "source": [
    "We can also use boolean logic to select rows."
   ]
  },
  {
   "cell_type": "code",
   "execution_count": 9,
   "metadata": {
    "slideshow": {
     "slide_type": "-"
    }
   },
   "outputs": [
    {
     "data": {
      "text/html": [
       "<div>\n",
       "<style scoped>\n",
       "    .dataframe tbody tr th:only-of-type {\n",
       "        vertical-align: middle;\n",
       "    }\n",
       "\n",
       "    .dataframe tbody tr th {\n",
       "        vertical-align: top;\n",
       "    }\n",
       "\n",
       "    .dataframe thead th {\n",
       "        text-align: right;\n",
       "    }\n",
       "</style>\n",
       "<table border=\"1\" class=\"dataframe\">\n",
       "  <thead>\n",
       "    <tr style=\"text-align: right;\">\n",
       "      <th></th>\n",
       "      <th>Rank</th>\n",
       "      <th>Country or area</th>\n",
       "      <th>UN continentalregion[2]</th>\n",
       "      <th>UN statisticalregion[2]</th>\n",
       "      <th>Population(1 July 2016)[3]</th>\n",
       "      <th>Population(1 July 2017)[3]</th>\n",
       "      <th>Change</th>\n",
       "    </tr>\n",
       "  </thead>\n",
       "  <tbody>\n",
       "    <tr>\n",
       "      <th>10</th>\n",
       "      <td>10</td>\n",
       "      <td>Mexico</td>\n",
       "      <td>Americas</td>\n",
       "      <td>Central America</td>\n",
       "      <td>127540423</td>\n",
       "      <td>129163276</td>\n",
       "      <td>+1.3%</td>\n",
       "    </tr>\n",
       "    <tr>\n",
       "      <th>11</th>\n",
       "      <td>11</td>\n",
       "      <td>Japan</td>\n",
       "      <td>Asia</td>\n",
       "      <td>Eastern Asia</td>\n",
       "      <td>127748513</td>\n",
       "      <td>127484450</td>\n",
       "      <td>−0.2%</td>\n",
       "    </tr>\n",
       "    <tr>\n",
       "      <th>12</th>\n",
       "      <td>12</td>\n",
       "      <td>Ethiopia</td>\n",
       "      <td>Africa</td>\n",
       "      <td>Eastern Africa</td>\n",
       "      <td>102403196</td>\n",
       "      <td>104957438</td>\n",
       "      <td>+2.5%</td>\n",
       "    </tr>\n",
       "    <tr>\n",
       "      <th>13</th>\n",
       "      <td>13</td>\n",
       "      <td>Philippines</td>\n",
       "      <td>Asia</td>\n",
       "      <td>South-eastern Asia</td>\n",
       "      <td>103320222</td>\n",
       "      <td>104918090</td>\n",
       "      <td>+1.5%</td>\n",
       "    </tr>\n",
       "    <tr>\n",
       "      <th>14</th>\n",
       "      <td>14</td>\n",
       "      <td>Egypt</td>\n",
       "      <td>Africa</td>\n",
       "      <td>Northern Africa</td>\n",
       "      <td>95688681</td>\n",
       "      <td>97553151</td>\n",
       "      <td>+1.9%</td>\n",
       "    </tr>\n",
       "    <tr>\n",
       "      <th>15</th>\n",
       "      <td>15</td>\n",
       "      <td>Vietnam</td>\n",
       "      <td>Asia</td>\n",
       "      <td>South-eastern Asia</td>\n",
       "      <td>94569072</td>\n",
       "      <td>95540800</td>\n",
       "      <td>+1.0%</td>\n",
       "    </tr>\n",
       "    <tr>\n",
       "      <th>16</th>\n",
       "      <td>16</td>\n",
       "      <td>Germany</td>\n",
       "      <td>Europe</td>\n",
       "      <td>Western Europe</td>\n",
       "      <td>81914672</td>\n",
       "      <td>82114224</td>\n",
       "      <td>+0.2%</td>\n",
       "    </tr>\n",
       "    <tr>\n",
       "      <th>17</th>\n",
       "      <td>17</td>\n",
       "      <td>Democratic Republic of the Congo</td>\n",
       "      <td>Africa</td>\n",
       "      <td>Middle Africa</td>\n",
       "      <td>78736153</td>\n",
       "      <td>81339988</td>\n",
       "      <td>+3.3%</td>\n",
       "    </tr>\n",
       "    <tr>\n",
       "      <th>18</th>\n",
       "      <td>18</td>\n",
       "      <td>Iran</td>\n",
       "      <td>Asia</td>\n",
       "      <td>Southern Asia</td>\n",
       "      <td>80277428</td>\n",
       "      <td>81162788</td>\n",
       "      <td>+1.1%</td>\n",
       "    </tr>\n",
       "    <tr>\n",
       "      <th>19</th>\n",
       "      <td>19</td>\n",
       "      <td>Turkey</td>\n",
       "      <td>Asia</td>\n",
       "      <td>Western Asia</td>\n",
       "      <td>79512426</td>\n",
       "      <td>80745020</td>\n",
       "      <td>+1.6%</td>\n",
       "    </tr>\n",
       "    <tr>\n",
       "      <th>20</th>\n",
       "      <td>20</td>\n",
       "      <td>Thailand</td>\n",
       "      <td>Asia</td>\n",
       "      <td>South-eastern Asia</td>\n",
       "      <td>68863514</td>\n",
       "      <td>69037513</td>\n",
       "      <td>+0.3%</td>\n",
       "    </tr>\n",
       "  </tbody>\n",
       "</table>\n",
       "</div>"
      ],
      "text/plain": [
       "   Rank                   Country or area UN continentalregion[2]  \\\n",
       "10   10                            Mexico                Americas   \n",
       "11   11                             Japan                    Asia   \n",
       "12   12                          Ethiopia                  Africa   \n",
       "13   13                       Philippines                    Asia   \n",
       "14   14                             Egypt                  Africa   \n",
       "15   15                           Vietnam                    Asia   \n",
       "16   16                           Germany                  Europe   \n",
       "17   17  Democratic Republic of the Congo                  Africa   \n",
       "18   18                              Iran                    Asia   \n",
       "19   19                            Turkey                    Asia   \n",
       "20   20                          Thailand                    Asia   \n",
       "\n",
       "   UN statisticalregion[2]  Population(1 July 2016)[3]  \\\n",
       "10         Central America                   127540423   \n",
       "11            Eastern Asia                   127748513   \n",
       "12          Eastern Africa                   102403196   \n",
       "13      South-eastern Asia                   103320222   \n",
       "14         Northern Africa                    95688681   \n",
       "15      South-eastern Asia                    94569072   \n",
       "16          Western Europe                    81914672   \n",
       "17           Middle Africa                    78736153   \n",
       "18           Southern Asia                    80277428   \n",
       "19            Western Asia                    79512426   \n",
       "20      South-eastern Asia                    68863514   \n",
       "\n",
       "    Population(1 July 2017)[3] Change  \n",
       "10                   129163276  +1.3%  \n",
       "11                   127484450  −0.2%  \n",
       "12                   104957438  +2.5%  \n",
       "13                   104918090  +1.5%  \n",
       "14                    97553151  +1.9%  \n",
       "15                    95540800  +1.0%  \n",
       "16                    82114224  +0.2%  \n",
       "17                    81339988  +3.3%  \n",
       "18                    81162788  +1.1%  \n",
       "19                    80745020  +1.6%  \n",
       "20                    69037513  +0.3%  "
      ]
     },
     "execution_count": 9,
     "metadata": {},
     "output_type": "execute_result"
    }
   ],
   "source": [
    "pop[1:][(pd.to_numeric(pop['Rank'][1:]) >= 10) & (pd.to_numeric(pop['Rank'][1:]) <= 20)]"
   ]
  },
  {
   "cell_type": "markdown",
   "metadata": {
    "slideshow": {
     "slide_type": "slide"
    }
   },
   "source": [
    "# Selecting variables (columns)\n",
    "\n",
    "\n",
    "- `pop['Rank']` returns a pandas series (i.e., data frame with one column).\n"
   ]
  },
  {
   "cell_type": "code",
   "execution_count": 10,
   "metadata": {},
   "outputs": [
    {
     "data": {
      "text/plain": [
       "0    —\n",
       "1    1\n",
       "2    2\n",
       "3    3\n",
       "4    4\n",
       "Name: Rank, dtype: object"
      ]
     },
     "execution_count": 10,
     "metadata": {},
     "output_type": "execute_result"
    }
   ],
   "source": [
    "pop['Rank'].head()"
   ]
  },
  {
   "cell_type": "markdown",
   "metadata": {
    "slideshow": {
     "slide_type": "slide"
    }
   },
   "source": [
    "# Creating New Variables\n",
    "\n",
    "Suppose we want to add a new variable to the data frame to indicate if a countries' change in population has magnitude greater than 3% (i.e., change $\\geq$ 3% or change $\\leq$ -3%).\n"
   ]
  },
  {
   "cell_type": "code",
   "execution_count": 206,
   "metadata": {},
   "outputs": [
    {
     "data": {
      "text/plain": [
       "count       230\n",
       "unique       49\n",
       "top       +1.3%\n",
       "freq         14\n",
       "Name: Change, dtype: object"
      ]
     },
     "execution_count": 206,
     "metadata": {},
     "output_type": "execute_result"
    }
   ],
   "source": [
    "pop[1:]['Change'].describe()"
   ]
  },
  {
   "cell_type": "markdown",
   "metadata": {
    "slideshow": {
     "slide_type": "slide"
    }
   },
   "source": [
    "- Several values of change were not correctly read in since there are no missing values in the Wikipedia [table](https://en.wikipedia.org/wiki/List_of_countries_by_population_(United_Nations)).\n",
    "- Let's search for missing values in `Change` column and change to 0.0%. \n",
    "- Use `.fillna()` to fill in missing values with '0.0%'.\n"
   ]
  },
  {
   "cell_type": "code",
   "execution_count": 212,
   "metadata": {},
   "outputs": [
    {
     "data": {
      "text/plain": [
       "3"
      ]
     },
     "execution_count": 212,
     "metadata": {},
     "output_type": "execute_result"
    }
   ],
   "source": [
    "pop[1:]['Change'].isna().sum() # count missing values "
   ]
  },
  {
   "cell_type": "code",
   "execution_count": 211,
   "metadata": {},
   "outputs": [
    {
     "data": {
      "text/plain": [
       "0"
      ]
     },
     "execution_count": 211,
     "metadata": {},
     "output_type": "execute_result"
    }
   ],
   "source": [
    "pop['Change'].fillna('0.0%').isna().sum() # count missing values "
   ]
  },
  {
   "cell_type": "markdown",
   "metadata": {
    "slideshow": {
     "slide_type": "slide"
    }
   },
   "source": [
    "- But, `Change` isn't numeric.  \n",
    "- So, it needs to be converted from string to numeric if we are going to measure magnitude of change. \n",
    "- Now replace '+' and '%' with empty character using a regular expression in `.replace()`.\n",
    "- Form a regular expression.\n",
    "- These operations can be combined or \"chained\" together."
   ]
  },
  {
   "cell_type": "code",
   "execution_count": 13,
   "metadata": {
    "slideshow": {
     "slide_type": "slide"
    }
   },
   "outputs": [
    {
     "ename": "ValueError",
     "evalue": "could not convert string to float: '−1.1'",
     "output_type": "error",
     "traceback": [
      "\u001b[0;31m---------------------------------------------------------------------------\u001b[0m",
      "\u001b[0;31mValueError\u001b[0m                                Traceback (most recent call last)",
      "\u001b[0;32m<ipython-input-13-6ffcfd1651d7>\u001b[0m in \u001b[0;36m<module>\u001b[0;34m()\u001b[0m\n\u001b[0;32m----> 1\u001b[0;31m \u001b[0mpop\u001b[0m\u001b[0;34m[\u001b[0m\u001b[0;34m'Change'\u001b[0m\u001b[0;34m]\u001b[0m\u001b[0;34m.\u001b[0m\u001b[0mfillna\u001b[0m\u001b[0;34m(\u001b[0m\u001b[0;34m'0.0%'\u001b[0m\u001b[0;34m)\u001b[0m\u001b[0;34m.\u001b[0m\u001b[0mreplace\u001b[0m\u001b[0;34m(\u001b[0m\u001b[0;34m'\\+|\\%'\u001b[0m\u001b[0;34m,\u001b[0m\u001b[0;34m''\u001b[0m\u001b[0;34m,\u001b[0m \u001b[0mregex\u001b[0m \u001b[0;34m=\u001b[0m \u001b[0;32mTrue\u001b[0m\u001b[0;34m)\u001b[0m\u001b[0;34m.\u001b[0m\u001b[0mastype\u001b[0m\u001b[0;34m(\u001b[0m\u001b[0mfloat\u001b[0m\u001b[0;34m)\u001b[0m\u001b[0;34m\u001b[0m\u001b[0m\n\u001b[0m",
      "\u001b[0;32m~/anaconda3/lib/python3.6/site-packages/pandas/util/_decorators.py\u001b[0m in \u001b[0;36mwrapper\u001b[0;34m(*args, **kwargs)\u001b[0m\n\u001b[1;32m    176\u001b[0m                 \u001b[0;32melse\u001b[0m\u001b[0;34m:\u001b[0m\u001b[0;34m\u001b[0m\u001b[0m\n\u001b[1;32m    177\u001b[0m                     \u001b[0mkwargs\u001b[0m\u001b[0;34m[\u001b[0m\u001b[0mnew_arg_name\u001b[0m\u001b[0;34m]\u001b[0m \u001b[0;34m=\u001b[0m \u001b[0mnew_arg_value\u001b[0m\u001b[0;34m\u001b[0m\u001b[0m\n\u001b[0;32m--> 178\u001b[0;31m             \u001b[0;32mreturn\u001b[0m \u001b[0mfunc\u001b[0m\u001b[0;34m(\u001b[0m\u001b[0;34m*\u001b[0m\u001b[0margs\u001b[0m\u001b[0;34m,\u001b[0m \u001b[0;34m**\u001b[0m\u001b[0mkwargs\u001b[0m\u001b[0;34m)\u001b[0m\u001b[0;34m\u001b[0m\u001b[0m\n\u001b[0m\u001b[1;32m    179\u001b[0m         \u001b[0;32mreturn\u001b[0m \u001b[0mwrapper\u001b[0m\u001b[0;34m\u001b[0m\u001b[0m\n\u001b[1;32m    180\u001b[0m     \u001b[0;32mreturn\u001b[0m \u001b[0m_deprecate_kwarg\u001b[0m\u001b[0;34m\u001b[0m\u001b[0m\n",
      "\u001b[0;32m~/anaconda3/lib/python3.6/site-packages/pandas/core/generic.py\u001b[0m in \u001b[0;36mastype\u001b[0;34m(self, dtype, copy, errors, **kwargs)\u001b[0m\n\u001b[1;32m   4999\u001b[0m             \u001b[0;31m# else, only a single dtype is given\u001b[0m\u001b[0;34m\u001b[0m\u001b[0;34m\u001b[0m\u001b[0m\n\u001b[1;32m   5000\u001b[0m             new_data = self._data.astype(dtype=dtype, copy=copy, errors=errors,\n\u001b[0;32m-> 5001\u001b[0;31m                                          **kwargs)\n\u001b[0m\u001b[1;32m   5002\u001b[0m             \u001b[0;32mreturn\u001b[0m \u001b[0mself\u001b[0m\u001b[0;34m.\u001b[0m\u001b[0m_constructor\u001b[0m\u001b[0;34m(\u001b[0m\u001b[0mnew_data\u001b[0m\u001b[0;34m)\u001b[0m\u001b[0;34m.\u001b[0m\u001b[0m__finalize__\u001b[0m\u001b[0;34m(\u001b[0m\u001b[0mself\u001b[0m\u001b[0;34m)\u001b[0m\u001b[0;34m\u001b[0m\u001b[0m\n\u001b[1;32m   5003\u001b[0m \u001b[0;34m\u001b[0m\u001b[0m\n",
      "\u001b[0;32m~/anaconda3/lib/python3.6/site-packages/pandas/core/internals.py\u001b[0m in \u001b[0;36mastype\u001b[0;34m(self, dtype, **kwargs)\u001b[0m\n\u001b[1;32m   3712\u001b[0m \u001b[0;34m\u001b[0m\u001b[0m\n\u001b[1;32m   3713\u001b[0m     \u001b[0;32mdef\u001b[0m \u001b[0mastype\u001b[0m\u001b[0;34m(\u001b[0m\u001b[0mself\u001b[0m\u001b[0;34m,\u001b[0m \u001b[0mdtype\u001b[0m\u001b[0;34m,\u001b[0m \u001b[0;34m**\u001b[0m\u001b[0mkwargs\u001b[0m\u001b[0;34m)\u001b[0m\u001b[0;34m:\u001b[0m\u001b[0;34m\u001b[0m\u001b[0m\n\u001b[0;32m-> 3714\u001b[0;31m         \u001b[0;32mreturn\u001b[0m \u001b[0mself\u001b[0m\u001b[0;34m.\u001b[0m\u001b[0mapply\u001b[0m\u001b[0;34m(\u001b[0m\u001b[0;34m'astype'\u001b[0m\u001b[0;34m,\u001b[0m \u001b[0mdtype\u001b[0m\u001b[0;34m=\u001b[0m\u001b[0mdtype\u001b[0m\u001b[0;34m,\u001b[0m \u001b[0;34m**\u001b[0m\u001b[0mkwargs\u001b[0m\u001b[0;34m)\u001b[0m\u001b[0;34m\u001b[0m\u001b[0m\n\u001b[0m\u001b[1;32m   3715\u001b[0m \u001b[0;34m\u001b[0m\u001b[0m\n\u001b[1;32m   3716\u001b[0m     \u001b[0;32mdef\u001b[0m \u001b[0mconvert\u001b[0m\u001b[0;34m(\u001b[0m\u001b[0mself\u001b[0m\u001b[0;34m,\u001b[0m \u001b[0;34m**\u001b[0m\u001b[0mkwargs\u001b[0m\u001b[0;34m)\u001b[0m\u001b[0;34m:\u001b[0m\u001b[0;34m\u001b[0m\u001b[0m\n",
      "\u001b[0;32m~/anaconda3/lib/python3.6/site-packages/pandas/core/internals.py\u001b[0m in \u001b[0;36mapply\u001b[0;34m(self, f, axes, filter, do_integrity_check, consolidate, **kwargs)\u001b[0m\n\u001b[1;32m   3579\u001b[0m \u001b[0;34m\u001b[0m\u001b[0m\n\u001b[1;32m   3580\u001b[0m             \u001b[0mkwargs\u001b[0m\u001b[0;34m[\u001b[0m\u001b[0;34m'mgr'\u001b[0m\u001b[0;34m]\u001b[0m \u001b[0;34m=\u001b[0m \u001b[0mself\u001b[0m\u001b[0;34m\u001b[0m\u001b[0m\n\u001b[0;32m-> 3581\u001b[0;31m             \u001b[0mapplied\u001b[0m \u001b[0;34m=\u001b[0m \u001b[0mgetattr\u001b[0m\u001b[0;34m(\u001b[0m\u001b[0mb\u001b[0m\u001b[0;34m,\u001b[0m \u001b[0mf\u001b[0m\u001b[0;34m)\u001b[0m\u001b[0;34m(\u001b[0m\u001b[0;34m**\u001b[0m\u001b[0mkwargs\u001b[0m\u001b[0;34m)\u001b[0m\u001b[0;34m\u001b[0m\u001b[0m\n\u001b[0m\u001b[1;32m   3582\u001b[0m             \u001b[0mresult_blocks\u001b[0m \u001b[0;34m=\u001b[0m \u001b[0m_extend_blocks\u001b[0m\u001b[0;34m(\u001b[0m\u001b[0mapplied\u001b[0m\u001b[0;34m,\u001b[0m \u001b[0mresult_blocks\u001b[0m\u001b[0;34m)\u001b[0m\u001b[0;34m\u001b[0m\u001b[0m\n\u001b[1;32m   3583\u001b[0m \u001b[0;34m\u001b[0m\u001b[0m\n",
      "\u001b[0;32m~/anaconda3/lib/python3.6/site-packages/pandas/core/internals.py\u001b[0m in \u001b[0;36mastype\u001b[0;34m(self, dtype, copy, errors, values, **kwargs)\u001b[0m\n\u001b[1;32m    573\u001b[0m     \u001b[0;32mdef\u001b[0m \u001b[0mastype\u001b[0m\u001b[0;34m(\u001b[0m\u001b[0mself\u001b[0m\u001b[0;34m,\u001b[0m \u001b[0mdtype\u001b[0m\u001b[0;34m,\u001b[0m \u001b[0mcopy\u001b[0m\u001b[0;34m=\u001b[0m\u001b[0;32mFalse\u001b[0m\u001b[0;34m,\u001b[0m \u001b[0merrors\u001b[0m\u001b[0;34m=\u001b[0m\u001b[0;34m'raise'\u001b[0m\u001b[0;34m,\u001b[0m \u001b[0mvalues\u001b[0m\u001b[0;34m=\u001b[0m\u001b[0;32mNone\u001b[0m\u001b[0;34m,\u001b[0m \u001b[0;34m**\u001b[0m\u001b[0mkwargs\u001b[0m\u001b[0;34m)\u001b[0m\u001b[0;34m:\u001b[0m\u001b[0;34m\u001b[0m\u001b[0m\n\u001b[1;32m    574\u001b[0m         return self._astype(dtype, copy=copy, errors=errors, values=values,\n\u001b[0;32m--> 575\u001b[0;31m                             **kwargs)\n\u001b[0m\u001b[1;32m    576\u001b[0m \u001b[0;34m\u001b[0m\u001b[0m\n\u001b[1;32m    577\u001b[0m     def _astype(self, dtype, copy=False, errors='raise', values=None,\n",
      "\u001b[0;32m~/anaconda3/lib/python3.6/site-packages/pandas/core/internals.py\u001b[0m in \u001b[0;36m_astype\u001b[0;34m(self, dtype, copy, errors, values, klass, mgr, **kwargs)\u001b[0m\n\u001b[1;32m    662\u001b[0m \u001b[0;34m\u001b[0m\u001b[0m\n\u001b[1;32m    663\u001b[0m                 \u001b[0;31m# _astype_nansafe works fine with 1-d only\u001b[0m\u001b[0;34m\u001b[0m\u001b[0;34m\u001b[0m\u001b[0m\n\u001b[0;32m--> 664\u001b[0;31m                 \u001b[0mvalues\u001b[0m \u001b[0;34m=\u001b[0m \u001b[0mastype_nansafe\u001b[0m\u001b[0;34m(\u001b[0m\u001b[0mvalues\u001b[0m\u001b[0;34m.\u001b[0m\u001b[0mravel\u001b[0m\u001b[0;34m(\u001b[0m\u001b[0;34m)\u001b[0m\u001b[0;34m,\u001b[0m \u001b[0mdtype\u001b[0m\u001b[0;34m,\u001b[0m \u001b[0mcopy\u001b[0m\u001b[0;34m=\u001b[0m\u001b[0;32mTrue\u001b[0m\u001b[0;34m)\u001b[0m\u001b[0;34m\u001b[0m\u001b[0m\n\u001b[0m\u001b[1;32m    665\u001b[0m                 \u001b[0mvalues\u001b[0m \u001b[0;34m=\u001b[0m \u001b[0mvalues\u001b[0m\u001b[0;34m.\u001b[0m\u001b[0mreshape\u001b[0m\u001b[0;34m(\u001b[0m\u001b[0mself\u001b[0m\u001b[0;34m.\u001b[0m\u001b[0mshape\u001b[0m\u001b[0;34m)\u001b[0m\u001b[0;34m\u001b[0m\u001b[0m\n\u001b[1;32m    666\u001b[0m \u001b[0;34m\u001b[0m\u001b[0m\n",
      "\u001b[0;32m~/anaconda3/lib/python3.6/site-packages/pandas/core/dtypes/cast.py\u001b[0m in \u001b[0;36mastype_nansafe\u001b[0;34m(arr, dtype, copy)\u001b[0m\n\u001b[1;32m    728\u001b[0m \u001b[0;34m\u001b[0m\u001b[0m\n\u001b[1;32m    729\u001b[0m     \u001b[0;32mif\u001b[0m \u001b[0mcopy\u001b[0m\u001b[0;34m:\u001b[0m\u001b[0;34m\u001b[0m\u001b[0m\n\u001b[0;32m--> 730\u001b[0;31m         \u001b[0;32mreturn\u001b[0m \u001b[0marr\u001b[0m\u001b[0;34m.\u001b[0m\u001b[0mastype\u001b[0m\u001b[0;34m(\u001b[0m\u001b[0mdtype\u001b[0m\u001b[0;34m,\u001b[0m \u001b[0mcopy\u001b[0m\u001b[0;34m=\u001b[0m\u001b[0;32mTrue\u001b[0m\u001b[0;34m)\u001b[0m\u001b[0;34m\u001b[0m\u001b[0m\n\u001b[0m\u001b[1;32m    731\u001b[0m     \u001b[0;32mreturn\u001b[0m \u001b[0marr\u001b[0m\u001b[0;34m.\u001b[0m\u001b[0mview\u001b[0m\u001b[0;34m(\u001b[0m\u001b[0mdtype\u001b[0m\u001b[0;34m)\u001b[0m\u001b[0;34m\u001b[0m\u001b[0m\n\u001b[1;32m    732\u001b[0m \u001b[0;34m\u001b[0m\u001b[0m\n",
      "\u001b[0;31mValueError\u001b[0m: could not convert string to float: '−1.1'"
     ]
    }
   ],
   "source": [
    "pop['Change'].fillna('0.0%').replace('\\+|\\%','', regex = True).astype(float)"
   ]
  },
  {
   "cell_type": "markdown",
   "metadata": {
    "slideshow": {
     "slide_type": "subslide"
    }
   },
   "source": [
    "- What's going on?\n",
    "- Time for some investigation."
   ]
  },
  {
   "cell_type": "code",
   "execution_count": 213,
   "metadata": {},
   "outputs": [
    {
     "data": {
      "text/plain": [
       "1    0.4\n",
       "2    1.1\n",
       "3    0.7\n",
       "4    1.1\n",
       "5    0.8\n",
       "6    2.0\n",
       "7    2.6\n",
       "8    1.1\n",
       "Name: Change, dtype: float64"
      ]
     },
     "execution_count": 213,
     "metadata": {},
     "output_type": "execute_result"
    }
   ],
   "source": [
    "(pop['Change']\n",
    " .fillna('0.0%')\n",
    " .replace('\\+|\\%','', regex = True)[1:9]\n",
    " .astype(float))"
   ]
  },
  {
   "cell_type": "code",
   "execution_count": 215,
   "metadata": {
    "slideshow": {
     "slide_type": "subslide"
    }
   },
   "outputs": [
    {
     "ename": "ValueError",
     "evalue": "could not convert string to float: '−2.0'",
     "output_type": "error",
     "traceback": [
      "\u001b[0;31m---------------------------------------------------------------------------\u001b[0m",
      "\u001b[0;31mValueError\u001b[0m                                Traceback (most recent call last)",
      "\u001b[0;32m<ipython-input-215-8a53b76574a7>\u001b[0m in \u001b[0;36m<module>\u001b[0;34m()\u001b[0m\n\u001b[1;32m      2\u001b[0m  \u001b[0;34m.\u001b[0m\u001b[0mfillna\u001b[0m\u001b[0;34m(\u001b[0m\u001b[0;34m'0.0%'\u001b[0m\u001b[0;34m)\u001b[0m\u001b[0;34m\u001b[0m\u001b[0m\n\u001b[1;32m      3\u001b[0m  \u001b[0;34m.\u001b[0m\u001b[0mreplace\u001b[0m\u001b[0;34m(\u001b[0m\u001b[0;34m'\\+|\\%'\u001b[0m\u001b[0;34m,\u001b[0m\u001b[0;34m''\u001b[0m\u001b[0;34m,\u001b[0m \u001b[0mregex\u001b[0m \u001b[0;34m=\u001b[0m \u001b[0;32mTrue\u001b[0m\u001b[0;34m)\u001b[0m\u001b[0;34m[\u001b[0m\u001b[0;36m1\u001b[0m\u001b[0;34m:\u001b[0m\u001b[0;36m10\u001b[0m\u001b[0;34m]\u001b[0m\u001b[0;34m\u001b[0m\u001b[0m\n\u001b[0;32m----> 4\u001b[0;31m  .astype(float))\n\u001b[0m",
      "\u001b[0;32m~/anaconda3/lib/python3.6/site-packages/pandas/util/_decorators.py\u001b[0m in \u001b[0;36mwrapper\u001b[0;34m(*args, **kwargs)\u001b[0m\n\u001b[1;32m    176\u001b[0m                 \u001b[0;32melse\u001b[0m\u001b[0;34m:\u001b[0m\u001b[0;34m\u001b[0m\u001b[0m\n\u001b[1;32m    177\u001b[0m                     \u001b[0mkwargs\u001b[0m\u001b[0;34m[\u001b[0m\u001b[0mnew_arg_name\u001b[0m\u001b[0;34m]\u001b[0m \u001b[0;34m=\u001b[0m \u001b[0mnew_arg_value\u001b[0m\u001b[0;34m\u001b[0m\u001b[0m\n\u001b[0;32m--> 178\u001b[0;31m             \u001b[0;32mreturn\u001b[0m \u001b[0mfunc\u001b[0m\u001b[0;34m(\u001b[0m\u001b[0;34m*\u001b[0m\u001b[0margs\u001b[0m\u001b[0;34m,\u001b[0m \u001b[0;34m**\u001b[0m\u001b[0mkwargs\u001b[0m\u001b[0;34m)\u001b[0m\u001b[0;34m\u001b[0m\u001b[0m\n\u001b[0m\u001b[1;32m    179\u001b[0m         \u001b[0;32mreturn\u001b[0m \u001b[0mwrapper\u001b[0m\u001b[0;34m\u001b[0m\u001b[0m\n\u001b[1;32m    180\u001b[0m     \u001b[0;32mreturn\u001b[0m \u001b[0m_deprecate_kwarg\u001b[0m\u001b[0;34m\u001b[0m\u001b[0m\n",
      "\u001b[0;32m~/anaconda3/lib/python3.6/site-packages/pandas/core/generic.py\u001b[0m in \u001b[0;36mastype\u001b[0;34m(self, dtype, copy, errors, **kwargs)\u001b[0m\n\u001b[1;32m   4999\u001b[0m             \u001b[0;31m# else, only a single dtype is given\u001b[0m\u001b[0;34m\u001b[0m\u001b[0;34m\u001b[0m\u001b[0m\n\u001b[1;32m   5000\u001b[0m             new_data = self._data.astype(dtype=dtype, copy=copy, errors=errors,\n\u001b[0;32m-> 5001\u001b[0;31m                                          **kwargs)\n\u001b[0m\u001b[1;32m   5002\u001b[0m             \u001b[0;32mreturn\u001b[0m \u001b[0mself\u001b[0m\u001b[0;34m.\u001b[0m\u001b[0m_constructor\u001b[0m\u001b[0;34m(\u001b[0m\u001b[0mnew_data\u001b[0m\u001b[0;34m)\u001b[0m\u001b[0;34m.\u001b[0m\u001b[0m__finalize__\u001b[0m\u001b[0;34m(\u001b[0m\u001b[0mself\u001b[0m\u001b[0;34m)\u001b[0m\u001b[0;34m\u001b[0m\u001b[0m\n\u001b[1;32m   5003\u001b[0m \u001b[0;34m\u001b[0m\u001b[0m\n",
      "\u001b[0;32m~/anaconda3/lib/python3.6/site-packages/pandas/core/internals.py\u001b[0m in \u001b[0;36mastype\u001b[0;34m(self, dtype, **kwargs)\u001b[0m\n\u001b[1;32m   3712\u001b[0m \u001b[0;34m\u001b[0m\u001b[0m\n\u001b[1;32m   3713\u001b[0m     \u001b[0;32mdef\u001b[0m \u001b[0mastype\u001b[0m\u001b[0;34m(\u001b[0m\u001b[0mself\u001b[0m\u001b[0;34m,\u001b[0m \u001b[0mdtype\u001b[0m\u001b[0;34m,\u001b[0m \u001b[0;34m**\u001b[0m\u001b[0mkwargs\u001b[0m\u001b[0;34m)\u001b[0m\u001b[0;34m:\u001b[0m\u001b[0;34m\u001b[0m\u001b[0m\n\u001b[0;32m-> 3714\u001b[0;31m         \u001b[0;32mreturn\u001b[0m \u001b[0mself\u001b[0m\u001b[0;34m.\u001b[0m\u001b[0mapply\u001b[0m\u001b[0;34m(\u001b[0m\u001b[0;34m'astype'\u001b[0m\u001b[0;34m,\u001b[0m \u001b[0mdtype\u001b[0m\u001b[0;34m=\u001b[0m\u001b[0mdtype\u001b[0m\u001b[0;34m,\u001b[0m \u001b[0;34m**\u001b[0m\u001b[0mkwargs\u001b[0m\u001b[0;34m)\u001b[0m\u001b[0;34m\u001b[0m\u001b[0m\n\u001b[0m\u001b[1;32m   3715\u001b[0m \u001b[0;34m\u001b[0m\u001b[0m\n\u001b[1;32m   3716\u001b[0m     \u001b[0;32mdef\u001b[0m \u001b[0mconvert\u001b[0m\u001b[0;34m(\u001b[0m\u001b[0mself\u001b[0m\u001b[0;34m,\u001b[0m \u001b[0;34m**\u001b[0m\u001b[0mkwargs\u001b[0m\u001b[0;34m)\u001b[0m\u001b[0;34m:\u001b[0m\u001b[0;34m\u001b[0m\u001b[0m\n",
      "\u001b[0;32m~/anaconda3/lib/python3.6/site-packages/pandas/core/internals.py\u001b[0m in \u001b[0;36mapply\u001b[0;34m(self, f, axes, filter, do_integrity_check, consolidate, **kwargs)\u001b[0m\n\u001b[1;32m   3579\u001b[0m \u001b[0;34m\u001b[0m\u001b[0m\n\u001b[1;32m   3580\u001b[0m             \u001b[0mkwargs\u001b[0m\u001b[0;34m[\u001b[0m\u001b[0;34m'mgr'\u001b[0m\u001b[0;34m]\u001b[0m \u001b[0;34m=\u001b[0m \u001b[0mself\u001b[0m\u001b[0;34m\u001b[0m\u001b[0m\n\u001b[0;32m-> 3581\u001b[0;31m             \u001b[0mapplied\u001b[0m \u001b[0;34m=\u001b[0m \u001b[0mgetattr\u001b[0m\u001b[0;34m(\u001b[0m\u001b[0mb\u001b[0m\u001b[0;34m,\u001b[0m \u001b[0mf\u001b[0m\u001b[0;34m)\u001b[0m\u001b[0;34m(\u001b[0m\u001b[0;34m**\u001b[0m\u001b[0mkwargs\u001b[0m\u001b[0;34m)\u001b[0m\u001b[0;34m\u001b[0m\u001b[0m\n\u001b[0m\u001b[1;32m   3582\u001b[0m             \u001b[0mresult_blocks\u001b[0m \u001b[0;34m=\u001b[0m \u001b[0m_extend_blocks\u001b[0m\u001b[0;34m(\u001b[0m\u001b[0mapplied\u001b[0m\u001b[0;34m,\u001b[0m \u001b[0mresult_blocks\u001b[0m\u001b[0;34m)\u001b[0m\u001b[0;34m\u001b[0m\u001b[0m\n\u001b[1;32m   3583\u001b[0m \u001b[0;34m\u001b[0m\u001b[0m\n",
      "\u001b[0;32m~/anaconda3/lib/python3.6/site-packages/pandas/core/internals.py\u001b[0m in \u001b[0;36mastype\u001b[0;34m(self, dtype, copy, errors, values, **kwargs)\u001b[0m\n\u001b[1;32m    573\u001b[0m     \u001b[0;32mdef\u001b[0m \u001b[0mastype\u001b[0m\u001b[0;34m(\u001b[0m\u001b[0mself\u001b[0m\u001b[0;34m,\u001b[0m \u001b[0mdtype\u001b[0m\u001b[0;34m,\u001b[0m \u001b[0mcopy\u001b[0m\u001b[0;34m=\u001b[0m\u001b[0;32mFalse\u001b[0m\u001b[0;34m,\u001b[0m \u001b[0merrors\u001b[0m\u001b[0;34m=\u001b[0m\u001b[0;34m'raise'\u001b[0m\u001b[0;34m,\u001b[0m \u001b[0mvalues\u001b[0m\u001b[0;34m=\u001b[0m\u001b[0;32mNone\u001b[0m\u001b[0;34m,\u001b[0m \u001b[0;34m**\u001b[0m\u001b[0mkwargs\u001b[0m\u001b[0;34m)\u001b[0m\u001b[0;34m:\u001b[0m\u001b[0;34m\u001b[0m\u001b[0m\n\u001b[1;32m    574\u001b[0m         return self._astype(dtype, copy=copy, errors=errors, values=values,\n\u001b[0;32m--> 575\u001b[0;31m                             **kwargs)\n\u001b[0m\u001b[1;32m    576\u001b[0m \u001b[0;34m\u001b[0m\u001b[0m\n\u001b[1;32m    577\u001b[0m     def _astype(self, dtype, copy=False, errors='raise', values=None,\n",
      "\u001b[0;32m~/anaconda3/lib/python3.6/site-packages/pandas/core/internals.py\u001b[0m in \u001b[0;36m_astype\u001b[0;34m(self, dtype, copy, errors, values, klass, mgr, **kwargs)\u001b[0m\n\u001b[1;32m    662\u001b[0m \u001b[0;34m\u001b[0m\u001b[0m\n\u001b[1;32m    663\u001b[0m                 \u001b[0;31m# _astype_nansafe works fine with 1-d only\u001b[0m\u001b[0;34m\u001b[0m\u001b[0;34m\u001b[0m\u001b[0m\n\u001b[0;32m--> 664\u001b[0;31m                 \u001b[0mvalues\u001b[0m \u001b[0;34m=\u001b[0m \u001b[0mastype_nansafe\u001b[0m\u001b[0;34m(\u001b[0m\u001b[0mvalues\u001b[0m\u001b[0;34m.\u001b[0m\u001b[0mravel\u001b[0m\u001b[0;34m(\u001b[0m\u001b[0;34m)\u001b[0m\u001b[0;34m,\u001b[0m \u001b[0mdtype\u001b[0m\u001b[0;34m,\u001b[0m \u001b[0mcopy\u001b[0m\u001b[0;34m=\u001b[0m\u001b[0;32mTrue\u001b[0m\u001b[0;34m)\u001b[0m\u001b[0;34m\u001b[0m\u001b[0m\n\u001b[0m\u001b[1;32m    665\u001b[0m                 \u001b[0mvalues\u001b[0m \u001b[0;34m=\u001b[0m \u001b[0mvalues\u001b[0m\u001b[0;34m.\u001b[0m\u001b[0mreshape\u001b[0m\u001b[0;34m(\u001b[0m\u001b[0mself\u001b[0m\u001b[0;34m.\u001b[0m\u001b[0mshape\u001b[0m\u001b[0;34m)\u001b[0m\u001b[0;34m\u001b[0m\u001b[0m\n\u001b[1;32m    666\u001b[0m \u001b[0;34m\u001b[0m\u001b[0m\n",
      "\u001b[0;32m~/anaconda3/lib/python3.6/site-packages/pandas/core/dtypes/cast.py\u001b[0m in \u001b[0;36mastype_nansafe\u001b[0;34m(arr, dtype, copy)\u001b[0m\n\u001b[1;32m    728\u001b[0m \u001b[0;34m\u001b[0m\u001b[0m\n\u001b[1;32m    729\u001b[0m     \u001b[0;32mif\u001b[0m \u001b[0mcopy\u001b[0m\u001b[0;34m:\u001b[0m\u001b[0;34m\u001b[0m\u001b[0m\n\u001b[0;32m--> 730\u001b[0;31m         \u001b[0;32mreturn\u001b[0m \u001b[0marr\u001b[0m\u001b[0;34m.\u001b[0m\u001b[0mastype\u001b[0m\u001b[0;34m(\u001b[0m\u001b[0mdtype\u001b[0m\u001b[0;34m,\u001b[0m \u001b[0mcopy\u001b[0m\u001b[0;34m=\u001b[0m\u001b[0;32mTrue\u001b[0m\u001b[0;34m)\u001b[0m\u001b[0;34m\u001b[0m\u001b[0m\n\u001b[0m\u001b[1;32m    731\u001b[0m     \u001b[0;32mreturn\u001b[0m \u001b[0marr\u001b[0m\u001b[0;34m.\u001b[0m\u001b[0mview\u001b[0m\u001b[0;34m(\u001b[0m\u001b[0mdtype\u001b[0m\u001b[0;34m)\u001b[0m\u001b[0;34m\u001b[0m\u001b[0m\n\u001b[1;32m    732\u001b[0m \u001b[0;34m\u001b[0m\u001b[0m\n",
      "\u001b[0;31mValueError\u001b[0m: could not convert string to float: '−2.0'"
     ]
    }
   ],
   "source": [
    "(pop['Change']\n",
    " .fillna('0.0%')\n",
    " .replace('\\+|\\%','', regex = True)[1:10]\n",
    " .astype(float))"
   ]
  },
  {
   "cell_type": "code",
   "execution_count": 216,
   "metadata": {
    "slideshow": {
     "slide_type": "subslide"
    }
   },
   "outputs": [
    {
     "data": {
      "text/plain": [
       "'−2.0'"
      ]
     },
     "execution_count": 216,
     "metadata": {},
     "output_type": "execute_result"
    }
   ],
   "source": [
    "# failed in 10th row\n",
    "pop['Change'].fillna('0.0%').replace('\\+|\\%','', regex = True).iloc[9]"
   ]
  },
  {
   "cell_type": "code",
   "execution_count": 217,
   "metadata": {},
   "outputs": [
    {
     "name": "stdout",
     "output_type": "stream",
     "text": [
      "8722\n"
     ]
    },
    {
     "data": {
      "text/plain": [
       "45"
      ]
     },
     "execution_count": 217,
     "metadata": {},
     "output_type": "execute_result"
    }
   ],
   "source": [
    "# print unicode code\n",
    "print(ord(pop['Change'].fillna('0.0%').replace('\\+|\\%','', regex = True).iloc[9][0])) \n",
    "ord('-') # minus sign\n"
   ]
  },
  {
   "cell_type": "code",
   "execution_count": 218,
   "metadata": {
    "slideshow": {
     "slide_type": "slide"
    }
   },
   "outputs": [
    {
     "data": {
      "text/plain": [
       "0    1.1\n",
       "1    0.4\n",
       "2    1.1\n",
       "3    0.7\n",
       "4    1.1\n",
       "Name: Change, dtype: float64"
      ]
     },
     "execution_count": 218,
     "metadata": {},
     "output_type": "execute_result"
    }
   ],
   "source": [
    "# use () to break chaining on different lines\n",
    "\n",
    "ch1 = ord(pop['Change']\n",
    "          .fillna('0.0%')\n",
    "          .replace('\\+|\\%','', regex = True)\n",
    "          .iloc[9][0])\n",
    "\n",
    "(pop['Change']\n",
    " .fillna('0.0%')\n",
    " .replace('\\+|\\%','', regex = True)\n",
    " .replace(chr(ch1),'-', regex = True)\n",
    " .astype(float)).head()"
   ]
  },
  {
   "cell_type": "code",
   "execution_count": 219,
   "metadata": {
    "slideshow": {
     "slide_type": "slide"
    }
   },
   "outputs": [
    {
     "data": {
      "text/html": [
       "<div>\n",
       "<style scoped>\n",
       "    .dataframe tbody tr th:only-of-type {\n",
       "        vertical-align: middle;\n",
       "    }\n",
       "\n",
       "    .dataframe tbody tr th {\n",
       "        vertical-align: top;\n",
       "    }\n",
       "\n",
       "    .dataframe thead th {\n",
       "        text-align: right;\n",
       "    }\n",
       "</style>\n",
       "<table border=\"1\" class=\"dataframe\">\n",
       "  <thead>\n",
       "    <tr style=\"text-align: right;\">\n",
       "      <th></th>\n",
       "      <th>Rank</th>\n",
       "      <th>Country or area</th>\n",
       "      <th>Change2</th>\n",
       "    </tr>\n",
       "  </thead>\n",
       "  <tbody>\n",
       "    <tr>\n",
       "      <th>0</th>\n",
       "      <td>—</td>\n",
       "      <td>World</td>\n",
       "      <td>low</td>\n",
       "    </tr>\n",
       "    <tr>\n",
       "      <th>1</th>\n",
       "      <td>1</td>\n",
       "      <td>China[a]</td>\n",
       "      <td>low</td>\n",
       "    </tr>\n",
       "    <tr>\n",
       "      <th>2</th>\n",
       "      <td>2</td>\n",
       "      <td>India</td>\n",
       "      <td>low</td>\n",
       "    </tr>\n",
       "    <tr>\n",
       "      <th>3</th>\n",
       "      <td>3</td>\n",
       "      <td>United States</td>\n",
       "      <td>low</td>\n",
       "    </tr>\n",
       "    <tr>\n",
       "      <th>4</th>\n",
       "      <td>4</td>\n",
       "      <td>Indonesia</td>\n",
       "      <td>low</td>\n",
       "    </tr>\n",
       "  </tbody>\n",
       "</table>\n",
       "</div>"
      ],
      "text/plain": [
       "  Rank Country or area Change2\n",
       "0    —           World     low\n",
       "1    1        China[a]     low\n",
       "2    2           India     low\n",
       "3    3   United States     low\n",
       "4    4       Indonesia     low"
      ]
     },
     "execution_count": 219,
     "metadata": {},
     "output_type": "execute_result"
    }
   ],
   "source": [
    "# now create new variable \n",
    "\n",
    "x = (pop['Change']\n",
    "     .fillna('0.0%')\n",
    "     .replace('\\+|\\%','', regex = True)\n",
    "     .replace(chr(ch1),'-', regex = True)\n",
    "     .astype(float))\n",
    "\n",
    "pop['Change2'] = np.where((x >= 3) | (x <= -3),'high','low')\n",
    "\n",
    "pop[['Rank','Country or area','Change2']].head()"
   ]
  },
  {
   "cell_type": "markdown",
   "metadata": {
    "slideshow": {
     "slide_type": "slide"
    }
   },
   "source": [
    "# Movies in 2018\n",
    "\n",
    "**Questions:** \n",
    "\n",
    "- What is the distribution of box office revenue in 2018?\n",
    "- Is the distribution different by country?\n",
    "- Is there a relationship between the two ratings from imdb and metacritic? \n",
    "\n",
    "The Wikipedia page [2018 in film](https://en.wikipedia.org/wiki/2018_in_film) lists films in 2018.\n",
    "\n",
    "<img src='2018films.png' height=\"400\" width=\"500\" ></img>\n",
    "\n",
    "How many films are listed?  The films are in a table so let's try to read the table into pandas."
   ]
  },
  {
   "cell_type": "markdown",
   "metadata": {
    "slideshow": {
     "slide_type": "subslide"
    }
   },
   "source": [
    "The pandas function `read_html` can read HTML tables into a list of DataFrame objects. "
   ]
  },
  {
   "cell_type": "code",
   "execution_count": 220,
   "metadata": {
    "slideshow": {
     "slide_type": "subslide"
    }
   },
   "outputs": [
    {
     "data": {
      "text/html": [
       "<div>\n",
       "<style scoped>\n",
       "    .dataframe tbody tr th:only-of-type {\n",
       "        vertical-align: middle;\n",
       "    }\n",
       "\n",
       "    .dataframe tbody tr th {\n",
       "        vertical-align: top;\n",
       "    }\n",
       "\n",
       "    .dataframe thead th {\n",
       "        text-align: right;\n",
       "    }\n",
       "</style>\n",
       "<table border=\"1\" class=\"dataframe\">\n",
       "  <thead>\n",
       "    <tr style=\"text-align: right;\">\n",
       "      <th></th>\n",
       "      <th>Opening</th>\n",
       "      <th>Title</th>\n",
       "      <th>Studio</th>\n",
       "      <th>Cast and crew</th>\n",
       "      <th>Genre</th>\n",
       "      <th>Country</th>\n",
       "      <th>Ref.</th>\n",
       "      <th>Unnamed: 7</th>\n",
       "    </tr>\n",
       "  </thead>\n",
       "  <tbody>\n",
       "    <tr>\n",
       "      <th>0</th>\n",
       "      <td>JANUARY</td>\n",
       "      <td>5</td>\n",
       "      <td>Insidious: The Last Key</td>\n",
       "      <td>Universal Pictures / Blumhouse Productions</td>\n",
       "      <td>Adam Robitel (director); Leigh Whannell (scree...</td>\n",
       "      <td>Horror, Thriller</td>\n",
       "      <td>US</td>\n",
       "      <td>[38]</td>\n",
       "    </tr>\n",
       "    <tr>\n",
       "      <th>1</th>\n",
       "      <td>The Strange Ones</td>\n",
       "      <td>Vertical Entertainment</td>\n",
       "      <td>Lauren Wolkstein (director); Christopher Radcl...</td>\n",
       "      <td>Drama</td>\n",
       "      <td>US</td>\n",
       "      <td>[39]</td>\n",
       "      <td>NaN</td>\n",
       "      <td>NaN</td>\n",
       "    </tr>\n",
       "    <tr>\n",
       "      <th>2</th>\n",
       "      <td>Stratton</td>\n",
       "      <td>Momentum Pictures</td>\n",
       "      <td>Simon West (director); Duncan Falconer, Warren...</td>\n",
       "      <td>Action, Thriller</td>\n",
       "      <td>IT, UK</td>\n",
       "      <td>[40]</td>\n",
       "      <td>NaN</td>\n",
       "      <td>NaN</td>\n",
       "    </tr>\n",
       "    <tr>\n",
       "      <th>3</th>\n",
       "      <td>10</td>\n",
       "      <td>Sweet Country</td>\n",
       "      <td>Samuel Goldwyn Films</td>\n",
       "      <td>Warwick Thornton (director); David Tranter, St...</td>\n",
       "      <td>Drama</td>\n",
       "      <td>AUS</td>\n",
       "      <td>[41]</td>\n",
       "      <td>NaN</td>\n",
       "    </tr>\n",
       "    <tr>\n",
       "      <th>4</th>\n",
       "      <td>12</td>\n",
       "      <td>The Commuter</td>\n",
       "      <td>Lionsgate / StudioCanal / The Picture Company</td>\n",
       "      <td>Jaume Collet-Serra (director); Byron Willinger...</td>\n",
       "      <td>Action, Crime, Drama, Mystery, Thriller</td>\n",
       "      <td>US, UK</td>\n",
       "      <td>[42]</td>\n",
       "      <td>NaN</td>\n",
       "    </tr>\n",
       "    <tr>\n",
       "      <th>5</th>\n",
       "      <td>Proud Mary</td>\n",
       "      <td>Screen Gems</td>\n",
       "      <td>Babak Najafi (director); John S. Newman, Chris...</td>\n",
       "      <td>Action, Thriller</td>\n",
       "      <td>US</td>\n",
       "      <td>[43]</td>\n",
       "      <td>NaN</td>\n",
       "      <td>NaN</td>\n",
       "    </tr>\n",
       "    <tr>\n",
       "      <th>6</th>\n",
       "      <td>Acts of Violence</td>\n",
       "      <td>Lionsgate Premiere</td>\n",
       "      <td>Brett Donowho (director); Nicolas Aaron Mezzan...</td>\n",
       "      <td>Action, Thriller</td>\n",
       "      <td>US</td>\n",
       "      <td>[44]</td>\n",
       "      <td>NaN</td>\n",
       "      <td>NaN</td>\n",
       "    </tr>\n",
       "    <tr>\n",
       "      <th>7</th>\n",
       "      <td>Freak Show</td>\n",
       "      <td>IFC Films</td>\n",
       "      <td>Trudie Styler (director); Patrick J. Clifton, ...</td>\n",
       "      <td>Drama</td>\n",
       "      <td>US</td>\n",
       "      <td>[45]</td>\n",
       "      <td>NaN</td>\n",
       "      <td>NaN</td>\n",
       "    </tr>\n",
       "    <tr>\n",
       "      <th>8</th>\n",
       "      <td>Humor Me</td>\n",
       "      <td>Shout! Factory / Shout! Studios</td>\n",
       "      <td>Sam Hoffman (director/screenplay); Jemaine Cle...</td>\n",
       "      <td>Comedy</td>\n",
       "      <td>US</td>\n",
       "      <td>[46]</td>\n",
       "      <td>NaN</td>\n",
       "      <td>NaN</td>\n",
       "    </tr>\n",
       "    <tr>\n",
       "      <th>9</th>\n",
       "      <td>Vazante</td>\n",
       "      <td>Music Box Films</td>\n",
       "      <td>Daniela Thomas (director/screenplay); Beto Ama...</td>\n",
       "      <td>Historical, Adventure, Drama</td>\n",
       "      <td>BR, PT</td>\n",
       "      <td>[47]</td>\n",
       "      <td>NaN</td>\n",
       "      <td>NaN</td>\n",
       "    </tr>\n",
       "    <tr>\n",
       "      <th>10</th>\n",
       "      <td>18</td>\n",
       "      <td>Mary and the Witch's Flower</td>\n",
       "      <td>GKIDS</td>\n",
       "      <td>Hiromasa Yonebayashi (director/screenplay); Ri...</td>\n",
       "      <td>Animation, Fantasy, Family</td>\n",
       "      <td>JP</td>\n",
       "      <td>[48]</td>\n",
       "      <td>NaN</td>\n",
       "    </tr>\n",
       "    <tr>\n",
       "      <th>11</th>\n",
       "      <td>19</td>\n",
       "      <td>12 Strong</td>\n",
       "      <td>Warner Bros. Pictures / Alcon Entertainment / ...</td>\n",
       "      <td>Nicolai Fuglsig (director); Peter Craig, Ted T...</td>\n",
       "      <td>War, Drama</td>\n",
       "      <td>US</td>\n",
       "      <td>[49]</td>\n",
       "      <td>NaN</td>\n",
       "    </tr>\n",
       "    <tr>\n",
       "      <th>12</th>\n",
       "      <td>Den of Thieves</td>\n",
       "      <td>STX Entertainment</td>\n",
       "      <td>Christian Gudegast (director/screenplay); Paul...</td>\n",
       "      <td>Heist, Action, Thriller</td>\n",
       "      <td>US</td>\n",
       "      <td>[50]</td>\n",
       "      <td>NaN</td>\n",
       "      <td>NaN</td>\n",
       "    </tr>\n",
       "    <tr>\n",
       "      <th>13</th>\n",
       "      <td>Forever My Girl</td>\n",
       "      <td>Roadside Attractions</td>\n",
       "      <td>Bethany Ashton Wolf (director/screenplay); Ale...</td>\n",
       "      <td>Romance, Music, Drama</td>\n",
       "      <td>US</td>\n",
       "      <td>[51]</td>\n",
       "      <td>NaN</td>\n",
       "      <td>NaN</td>\n",
       "    </tr>\n",
       "    <tr>\n",
       "      <th>14</th>\n",
       "      <td>26</td>\n",
       "      <td>Maze Runner: The Death Cure</td>\n",
       "      <td>20th Century Fox</td>\n",
       "      <td>Wes Ball (director); T.S. Nowlin (screenplay);...</td>\n",
       "      <td>Action, Sci-Fi, Thriller</td>\n",
       "      <td>US</td>\n",
       "      <td>[52]</td>\n",
       "      <td>NaN</td>\n",
       "    </tr>\n",
       "    <tr>\n",
       "      <th>15</th>\n",
       "      <td>The Insult</td>\n",
       "      <td>Cohen Media Group</td>\n",
       "      <td>Ziad Doueiri (director/screenplay); Joelle Tou...</td>\n",
       "      <td>Drama</td>\n",
       "      <td>US</td>\n",
       "      <td>[53]</td>\n",
       "      <td>NaN</td>\n",
       "      <td>NaN</td>\n",
       "    </tr>\n",
       "    <tr>\n",
       "      <th>16</th>\n",
       "      <td>Please Stand By</td>\n",
       "      <td>Magnolia Pictures</td>\n",
       "      <td>Ben Lewin (director); Michael Golamco (screenp...</td>\n",
       "      <td>Comedy, Drama</td>\n",
       "      <td>US</td>\n",
       "      <td>[54]</td>\n",
       "      <td>NaN</td>\n",
       "      <td>NaN</td>\n",
       "    </tr>\n",
       "    <tr>\n",
       "      <th>17</th>\n",
       "      <td>FEBRUARY</td>\n",
       "      <td>2</td>\n",
       "      <td>Winchester</td>\n",
       "      <td>Lionsgate / CBS Films</td>\n",
       "      <td>The Spierig Brothers (director/screenplay); He...</td>\n",
       "      <td>Horror</td>\n",
       "      <td>US</td>\n",
       "      <td>[55]</td>\n",
       "    </tr>\n",
       "    <tr>\n",
       "      <th>18</th>\n",
       "      <td>A Fantastic Woman</td>\n",
       "      <td>Sony Pictures Classics</td>\n",
       "      <td>Sebastián Lelio (director/screenplay); Gonzalo...</td>\n",
       "      <td>Drama</td>\n",
       "      <td>US, CHI</td>\n",
       "      <td>[56]</td>\n",
       "      <td>NaN</td>\n",
       "      <td>NaN</td>\n",
       "    </tr>\n",
       "    <tr>\n",
       "      <th>19</th>\n",
       "      <td>Armed</td>\n",
       "      <td>GVN Releasing</td>\n",
       "      <td>Mario Van Peebles (director/screenplay); Mario...</td>\n",
       "      <td>Action</td>\n",
       "      <td>US</td>\n",
       "      <td>[57]</td>\n",
       "      <td>NaN</td>\n",
       "      <td>NaN</td>\n",
       "    </tr>\n",
       "    <tr>\n",
       "      <th>20</th>\n",
       "      <td>4</td>\n",
       "      <td>The Cloverfield Paradox</td>\n",
       "      <td>Paramount Pictures / Netflix / Bad Robot Produ...</td>\n",
       "      <td>Julius Onah (director); Oren Uziel, Doug Jung ...</td>\n",
       "      <td>Sci-Fi, Horror, Thriller</td>\n",
       "      <td>US</td>\n",
       "      <td>[58]</td>\n",
       "      <td>NaN</td>\n",
       "    </tr>\n",
       "    <tr>\n",
       "      <th>21</th>\n",
       "      <td>9</td>\n",
       "      <td>The 15:17 to Paris</td>\n",
       "      <td>Warner Bros. Pictures / Village Roadshow Pictu...</td>\n",
       "      <td>Clint Eastwood (director); Dorothy Blyskal (sc...</td>\n",
       "      <td>Biography, Drama</td>\n",
       "      <td>US</td>\n",
       "      <td>[59]</td>\n",
       "      <td>NaN</td>\n",
       "    </tr>\n",
       "    <tr>\n",
       "      <th>22</th>\n",
       "      <td>Fifty Shades Freed</td>\n",
       "      <td>Universal Pictures</td>\n",
       "      <td>James Foley (director); Niall Leonard (screenp...</td>\n",
       "      <td>Drama, Romance</td>\n",
       "      <td>US</td>\n",
       "      <td>[60]</td>\n",
       "      <td>NaN</td>\n",
       "      <td>NaN</td>\n",
       "    </tr>\n",
       "    <tr>\n",
       "      <th>23</th>\n",
       "      <td>Peter Rabbit</td>\n",
       "      <td>Columbia Pictures / Sony Pictures Animation</td>\n",
       "      <td>Will Gluck (director/screenplay); Rob Lieber (...</td>\n",
       "      <td>Hybrid Animation, Family, Comedy</td>\n",
       "      <td>US, AUS</td>\n",
       "      <td>[61]</td>\n",
       "      <td>NaN</td>\n",
       "      <td>NaN</td>\n",
       "    </tr>\n",
       "    <tr>\n",
       "      <th>24</th>\n",
       "      <td>La Boda de Valentina</td>\n",
       "      <td>Lionsgate / Pantelion Films</td>\n",
       "      <td>Marco Polo Constandse (director); Omar Chaparr...</td>\n",
       "      <td>Comedy, Romance</td>\n",
       "      <td>US</td>\n",
       "      <td>[62]</td>\n",
       "      <td>NaN</td>\n",
       "      <td>NaN</td>\n",
       "    </tr>\n",
       "    <tr>\n",
       "      <th>25</th>\n",
       "      <td>Kri</td>\n",
       "      <td>Subas Entertainment Production / Super Kajal F...</td>\n",
       "      <td>Surendra Poudel (director/screenplay); Anmol K...</td>\n",
       "      <td>Action, Romance</td>\n",
       "      <td>NP</td>\n",
       "      <td>[63]</td>\n",
       "      <td>NaN</td>\n",
       "      <td>NaN</td>\n",
       "    </tr>\n",
       "    <tr>\n",
       "      <th>26</th>\n",
       "      <td>Permission</td>\n",
       "      <td>Good Dead Entertainment</td>\n",
       "      <td>Brian Crano (director/screenplay); Rebecca Hal...</td>\n",
       "      <td>Drama, Romance, Comedy</td>\n",
       "      <td>US</td>\n",
       "      <td>[64]</td>\n",
       "      <td>NaN</td>\n",
       "      <td>NaN</td>\n",
       "    </tr>\n",
       "    <tr>\n",
       "      <th>27</th>\n",
       "      <td>Monster Family</td>\n",
       "      <td>Viva Pictures</td>\n",
       "      <td>Holger Tappe (director); David Safier, Cathari...</td>\n",
       "      <td>Animation, Comedy, Family, Horror</td>\n",
       "      <td>US</td>\n",
       "      <td>[65]</td>\n",
       "      <td>NaN</td>\n",
       "      <td>NaN</td>\n",
       "    </tr>\n",
       "    <tr>\n",
       "      <th>28</th>\n",
       "      <td>Golden Exits</td>\n",
       "      <td>Vertical Entertainment</td>\n",
       "      <td>Alex Ross Perry (director/screenplay); Emily B...</td>\n",
       "      <td>Drama</td>\n",
       "      <td>US</td>\n",
       "      <td>[66]</td>\n",
       "      <td>NaN</td>\n",
       "      <td>NaN</td>\n",
       "    </tr>\n",
       "    <tr>\n",
       "      <th>29</th>\n",
       "      <td>16</td>\n",
       "      <td>Black Panther</td>\n",
       "      <td>Marvel Studios</td>\n",
       "      <td>Ryan Coogler (director/​screenplay); Joe Rober...</td>\n",
       "      <td>Superhero, Action, Adventure</td>\n",
       "      <td>US</td>\n",
       "      <td>[67]</td>\n",
       "      <td>NaN</td>\n",
       "    </tr>\n",
       "    <tr>\n",
       "      <th>...</th>\n",
       "      <td>...</td>\n",
       "      <td>...</td>\n",
       "      <td>...</td>\n",
       "      <td>...</td>\n",
       "      <td>...</td>\n",
       "      <td>...</td>\n",
       "      <td>...</td>\n",
       "      <td>...</td>\n",
       "    </tr>\n",
       "    <tr>\n",
       "      <th>43</th>\n",
       "      <td>Death Wish</td>\n",
       "      <td>Metro-Goldwyn-Mayer</td>\n",
       "      <td>Eli Roth (director); Joe Carnahan (screenplay)...</td>\n",
       "      <td>Action</td>\n",
       "      <td>US</td>\n",
       "      <td>[81]</td>\n",
       "      <td>NaN</td>\n",
       "      <td>NaN</td>\n",
       "    </tr>\n",
       "    <tr>\n",
       "      <th>44</th>\n",
       "      <td>Foxtrot</td>\n",
       "      <td>Sony Pictures Classics</td>\n",
       "      <td>Samuel Maoz (director/screenplay); Lior Ashken...</td>\n",
       "      <td>Drama</td>\n",
       "      <td>ISR</td>\n",
       "      <td>[82]</td>\n",
       "      <td>NaN</td>\n",
       "      <td>NaN</td>\n",
       "    </tr>\n",
       "    <tr>\n",
       "      <th>45</th>\n",
       "      <td>The Vanishing of Sidney Hall</td>\n",
       "      <td>A24</td>\n",
       "      <td>Shawn Christensen (director/screenplay); Jason...</td>\n",
       "      <td>Drama, Mystery</td>\n",
       "      <td>US</td>\n",
       "      <td>[83]</td>\n",
       "      <td>NaN</td>\n",
       "      <td>NaN</td>\n",
       "    </tr>\n",
       "    <tr>\n",
       "      <th>46</th>\n",
       "      <td>9</td>\n",
       "      <td>A Wrinkle in Time</td>\n",
       "      <td>Walt Disney Pictures</td>\n",
       "      <td>Ava DuVernay (director); Jennifer Lee (screenp...</td>\n",
       "      <td>Fantasy, Family, Adventure</td>\n",
       "      <td>US</td>\n",
       "      <td>[84]</td>\n",
       "      <td>NaN</td>\n",
       "    </tr>\n",
       "    <tr>\n",
       "      <th>47</th>\n",
       "      <td>Gringo</td>\n",
       "      <td>Amazon Studios / STX Entertainment</td>\n",
       "      <td>Nash Edgerton (director); Anthony Tambakis, Ma...</td>\n",
       "      <td>Action, Comedy, Drama</td>\n",
       "      <td>US</td>\n",
       "      <td>[85]</td>\n",
       "      <td>NaN</td>\n",
       "      <td>NaN</td>\n",
       "    </tr>\n",
       "    <tr>\n",
       "      <th>48</th>\n",
       "      <td>Thoroughbreds</td>\n",
       "      <td>Focus Features</td>\n",
       "      <td>Cory Finley (director/screenplay); Olivia Cook...</td>\n",
       "      <td>Drama, Thriller</td>\n",
       "      <td>US</td>\n",
       "      <td>[86]</td>\n",
       "      <td>NaN</td>\n",
       "      <td>NaN</td>\n",
       "    </tr>\n",
       "    <tr>\n",
       "      <th>49</th>\n",
       "      <td>The Death of Stalin</td>\n",
       "      <td>IFC Films</td>\n",
       "      <td>Armando Iannucci (director/screenplay); Steve ...</td>\n",
       "      <td>Political Satire Comedy</td>\n",
       "      <td>UK, FR</td>\n",
       "      <td>[87]</td>\n",
       "      <td>NaN</td>\n",
       "      <td>NaN</td>\n",
       "    </tr>\n",
       "    <tr>\n",
       "      <th>50</th>\n",
       "      <td>The Leisure Seeker</td>\n",
       "      <td>Sony Pictures Classics</td>\n",
       "      <td>Paolo Virzì (director/screenplay); Francesca A...</td>\n",
       "      <td>Drama</td>\n",
       "      <td>IT, FR</td>\n",
       "      <td>[88]</td>\n",
       "      <td>NaN</td>\n",
       "      <td>NaN</td>\n",
       "    </tr>\n",
       "    <tr>\n",
       "      <th>51</th>\n",
       "      <td>The Hurricane Heist</td>\n",
       "      <td>Entertainment Studios</td>\n",
       "      <td>Rob Cohen (director/screenplay); Toby Kebbell,...</td>\n",
       "      <td>Disaster, Thriller</td>\n",
       "      <td>US</td>\n",
       "      <td>[89]</td>\n",
       "      <td>NaN</td>\n",
       "      <td>NaN</td>\n",
       "    </tr>\n",
       "    <tr>\n",
       "      <th>52</th>\n",
       "      <td>The Strangers: Prey at Night</td>\n",
       "      <td>Aviron Pictures / Rogue</td>\n",
       "      <td>Johannes Roberts (director); Bryan Bertino, Be...</td>\n",
       "      <td>Horror, Thriller</td>\n",
       "      <td>US</td>\n",
       "      <td>[90]</td>\n",
       "      <td>NaN</td>\n",
       "      <td>NaN</td>\n",
       "    </tr>\n",
       "    <tr>\n",
       "      <th>53</th>\n",
       "      <td>16</td>\n",
       "      <td>Tomb Raider</td>\n",
       "      <td>Warner Bros. Pictures / GK Films / Metro-Goldw...</td>\n",
       "      <td>Roar Uthaug (director); Geneva Robertson-Dwore...</td>\n",
       "      <td>Action, Adventure</td>\n",
       "      <td>US</td>\n",
       "      <td>[91]</td>\n",
       "      <td>NaN</td>\n",
       "    </tr>\n",
       "    <tr>\n",
       "      <th>54</th>\n",
       "      <td>Love, Simon</td>\n",
       "      <td>Fox 2000 Pictures</td>\n",
       "      <td>Greg Berlanti (director); Isaac Aptaker, Eliza...</td>\n",
       "      <td>Dramedy</td>\n",
       "      <td>US</td>\n",
       "      <td>[92]</td>\n",
       "      <td>NaN</td>\n",
       "      <td>NaN</td>\n",
       "    </tr>\n",
       "    <tr>\n",
       "      <th>55</th>\n",
       "      <td>I Can Only Imagine</td>\n",
       "      <td>Roadside Attractions / Lionsgate</td>\n",
       "      <td>Jon Erwin (director/screenplay); Andrew Erwin ...</td>\n",
       "      <td>Drama</td>\n",
       "      <td>US</td>\n",
       "      <td>[93]</td>\n",
       "      <td>NaN</td>\n",
       "      <td>NaN</td>\n",
       "    </tr>\n",
       "    <tr>\n",
       "      <th>56</th>\n",
       "      <td>7 Days in Entebbe</td>\n",
       "      <td>Focus Features / StudioCanal / Participant Med...</td>\n",
       "      <td>José Padilha (director); Gregory Burke (screen...</td>\n",
       "      <td>Action, Thriller</td>\n",
       "      <td>US</td>\n",
       "      <td>[94]</td>\n",
       "      <td>NaN</td>\n",
       "      <td>NaN</td>\n",
       "    </tr>\n",
       "    <tr>\n",
       "      <th>57</th>\n",
       "      <td>Furlough</td>\n",
       "      <td>IFC Films</td>\n",
       "      <td>Laurie Collyer (director); Barry Strugatz (scr...</td>\n",
       "      <td>Drama, Comedy</td>\n",
       "      <td>US</td>\n",
       "      <td>[95]</td>\n",
       "      <td>NaN</td>\n",
       "      <td>NaN</td>\n",
       "    </tr>\n",
       "    <tr>\n",
       "      <th>58</th>\n",
       "      <td>Josie</td>\n",
       "      <td>Screen Media Films</td>\n",
       "      <td>Eric England (director), Anthony Ragnone II (s...</td>\n",
       "      <td>Drama, Suspense</td>\n",
       "      <td>US</td>\n",
       "      <td>[96]</td>\n",
       "      <td>NaN</td>\n",
       "      <td>NaN</td>\n",
       "    </tr>\n",
       "    <tr>\n",
       "      <th>59</th>\n",
       "      <td>Flower</td>\n",
       "      <td>The Orchard</td>\n",
       "      <td>Max Winkler (director), Alex McAulay (screenpl...</td>\n",
       "      <td>Comedy</td>\n",
       "      <td>US</td>\n",
       "      <td>[97]</td>\n",
       "      <td>NaN</td>\n",
       "      <td>NaN</td>\n",
       "    </tr>\n",
       "    <tr>\n",
       "      <th>60</th>\n",
       "      <td>23</td>\n",
       "      <td>Pacific Rim Uprising</td>\n",
       "      <td>Universal Pictures / Legendary Pictures</td>\n",
       "      <td>Steven S. DeKnight (director/screenplay); Emil...</td>\n",
       "      <td>Action, Adventure, Sci-Fi</td>\n",
       "      <td>US</td>\n",
       "      <td>[98]</td>\n",
       "      <td>NaN</td>\n",
       "    </tr>\n",
       "    <tr>\n",
       "      <th>61</th>\n",
       "      <td>Isle of Dogs</td>\n",
       "      <td>Fox Searchlight Pictures / Indian Paintbrush</td>\n",
       "      <td>Wes Anderson (director/screenplay); Bryan Cran...</td>\n",
       "      <td>Animation, Comedy</td>\n",
       "      <td>US</td>\n",
       "      <td>[99]</td>\n",
       "      <td>NaN</td>\n",
       "      <td>NaN</td>\n",
       "    </tr>\n",
       "    <tr>\n",
       "      <th>62</th>\n",
       "      <td>Sherlock Gnomes</td>\n",
       "      <td>Paramount Pictures / Paramount Animation / Met...</td>\n",
       "      <td>John Stevenson (director); Ben Zazove (screenp...</td>\n",
       "      <td>Animation, Romance, Comedy, Mystery, Family</td>\n",
       "      <td>US, UK</td>\n",
       "      <td>[100]</td>\n",
       "      <td>NaN</td>\n",
       "      <td>NaN</td>\n",
       "    </tr>\n",
       "    <tr>\n",
       "      <th>63</th>\n",
       "      <td>Unsane</td>\n",
       "      <td>Bleecker Street</td>\n",
       "      <td>Steven Soderbergh (director); Jonathan Bernste...</td>\n",
       "      <td>Horror, Thriller</td>\n",
       "      <td>US</td>\n",
       "      <td>[101]</td>\n",
       "      <td>NaN</td>\n",
       "      <td>NaN</td>\n",
       "    </tr>\n",
       "    <tr>\n",
       "      <th>64</th>\n",
       "      <td>Paul, Apostle of Christ</td>\n",
       "      <td>Affirm Films</td>\n",
       "      <td>Andrew Hyatt (director/screenplay); James Faul...</td>\n",
       "      <td>Historical, Drama, Faith</td>\n",
       "      <td>US</td>\n",
       "      <td>[102]</td>\n",
       "      <td>NaN</td>\n",
       "      <td>NaN</td>\n",
       "    </tr>\n",
       "    <tr>\n",
       "      <th>65</th>\n",
       "      <td>Final Portrait</td>\n",
       "      <td>Sony Pictures Classics</td>\n",
       "      <td>Stanley Tucci (director/screenplay); Geoffrey ...</td>\n",
       "      <td>Drama</td>\n",
       "      <td>US</td>\n",
       "      <td>[103]</td>\n",
       "      <td>NaN</td>\n",
       "      <td>NaN</td>\n",
       "    </tr>\n",
       "    <tr>\n",
       "      <th>66</th>\n",
       "      <td>Midnight Sun</td>\n",
       "      <td>Global Road Entertainment</td>\n",
       "      <td>Scott Speer (director); Eric Kirsten (screenpl...</td>\n",
       "      <td>Romance, Drama</td>\n",
       "      <td>US</td>\n",
       "      <td>[104]</td>\n",
       "      <td>NaN</td>\n",
       "      <td>NaN</td>\n",
       "    </tr>\n",
       "    <tr>\n",
       "      <th>67</th>\n",
       "      <td>Followers</td>\n",
       "      <td>Synkronized Films</td>\n",
       "      <td>Ryan Justice (director/screenplay); Ian Longen...</td>\n",
       "      <td>Horror, Thriller</td>\n",
       "      <td>US</td>\n",
       "      <td>[105]</td>\n",
       "      <td>NaN</td>\n",
       "      <td>NaN</td>\n",
       "    </tr>\n",
       "    <tr>\n",
       "      <th>68</th>\n",
       "      <td>29</td>\n",
       "      <td>Ready Player One</td>\n",
       "      <td>Warner Bros. Pictures / Village Roadshow Pictu...</td>\n",
       "      <td>Steven Spielberg (director); Ernest Cline, Zak...</td>\n",
       "      <td>Adventure, Sci-Fi</td>\n",
       "      <td>US</td>\n",
       "      <td>[106]</td>\n",
       "      <td>NaN</td>\n",
       "    </tr>\n",
       "    <tr>\n",
       "      <th>69</th>\n",
       "      <td>30</td>\n",
       "      <td>Tyler Perry's Acrimony</td>\n",
       "      <td>Lionsgate / Tyler Perry Films</td>\n",
       "      <td>Tyler Perry (director/screenplay); Taraji P. H...</td>\n",
       "      <td>Drama, Thriller</td>\n",
       "      <td>US</td>\n",
       "      <td>[107]</td>\n",
       "      <td>NaN</td>\n",
       "    </tr>\n",
       "    <tr>\n",
       "      <th>70</th>\n",
       "      <td>God's Not Dead: A Light in Darkness</td>\n",
       "      <td>Pure Flix</td>\n",
       "      <td>Michael Mason (director/screenplay); David A. ...</td>\n",
       "      <td>Drama</td>\n",
       "      <td>US</td>\n",
       "      <td>[108]</td>\n",
       "      <td>NaN</td>\n",
       "      <td>NaN</td>\n",
       "    </tr>\n",
       "    <tr>\n",
       "      <th>71</th>\n",
       "      <td>Gemini</td>\n",
       "      <td>Neon</td>\n",
       "      <td>Aaron Katz (director/screenplay); Lola Kirke, ...</td>\n",
       "      <td>Mystery, Thriller</td>\n",
       "      <td>US</td>\n",
       "      <td>[109]</td>\n",
       "      <td>NaN</td>\n",
       "      <td>NaN</td>\n",
       "    </tr>\n",
       "    <tr>\n",
       "      <th>72</th>\n",
       "      <td>The Last Movie Star</td>\n",
       "      <td>A24</td>\n",
       "      <td>Adam Rifkin (director/screenplay); Burt Reynol...</td>\n",
       "      <td>Drama</td>\n",
       "      <td>US</td>\n",
       "      <td>[110]</td>\n",
       "      <td>NaN</td>\n",
       "      <td>NaN</td>\n",
       "    </tr>\n",
       "  </tbody>\n",
       "</table>\n",
       "<p>73 rows × 8 columns</p>\n",
       "</div>"
      ],
      "text/plain": [
       "                                Opening  \\\n",
       "0                               JANUARY   \n",
       "1                      The Strange Ones   \n",
       "2                              Stratton   \n",
       "3                                    10   \n",
       "4                                    12   \n",
       "5                            Proud Mary   \n",
       "6                      Acts of Violence   \n",
       "7                            Freak Show   \n",
       "8                              Humor Me   \n",
       "9                               Vazante   \n",
       "10                                   18   \n",
       "11                                   19   \n",
       "12                       Den of Thieves   \n",
       "13                      Forever My Girl   \n",
       "14                                   26   \n",
       "15                           The Insult   \n",
       "16                      Please Stand By   \n",
       "17                             FEBRUARY   \n",
       "18                    A Fantastic Woman   \n",
       "19                                Armed   \n",
       "20                                    4   \n",
       "21                                    9   \n",
       "22                   Fifty Shades Freed   \n",
       "23                         Peter Rabbit   \n",
       "24                 La Boda de Valentina   \n",
       "25                                  Kri   \n",
       "26                           Permission   \n",
       "27                       Monster Family   \n",
       "28                         Golden Exits   \n",
       "29                                   16   \n",
       "..                                  ...   \n",
       "43                           Death Wish   \n",
       "44                              Foxtrot   \n",
       "45         The Vanishing of Sidney Hall   \n",
       "46                                    9   \n",
       "47                               Gringo   \n",
       "48                        Thoroughbreds   \n",
       "49                  The Death of Stalin   \n",
       "50                   The Leisure Seeker   \n",
       "51                  The Hurricane Heist   \n",
       "52         The Strangers: Prey at Night   \n",
       "53                                   16   \n",
       "54                          Love, Simon   \n",
       "55                   I Can Only Imagine   \n",
       "56                    7 Days in Entebbe   \n",
       "57                             Furlough   \n",
       "58                                Josie   \n",
       "59                               Flower   \n",
       "60                                   23   \n",
       "61                         Isle of Dogs   \n",
       "62                      Sherlock Gnomes   \n",
       "63                               Unsane   \n",
       "64              Paul, Apostle of Christ   \n",
       "65                       Final Portrait   \n",
       "66                         Midnight Sun   \n",
       "67                            Followers   \n",
       "68                                   29   \n",
       "69                                   30   \n",
       "70  God's Not Dead: A Light in Darkness   \n",
       "71                               Gemini   \n",
       "72                  The Last Movie Star   \n",
       "\n",
       "                                                Title  \\\n",
       "0                                                   5   \n",
       "1                              Vertical Entertainment   \n",
       "2                                   Momentum Pictures   \n",
       "3                                       Sweet Country   \n",
       "4                                        The Commuter   \n",
       "5                                         Screen Gems   \n",
       "6                                  Lionsgate Premiere   \n",
       "7                                           IFC Films   \n",
       "8                     Shout! Factory / Shout! Studios   \n",
       "9                                     Music Box Films   \n",
       "10                        Mary and the Witch's Flower   \n",
       "11                                          12 Strong   \n",
       "12                                  STX Entertainment   \n",
       "13                               Roadside Attractions   \n",
       "14                        Maze Runner: The Death Cure   \n",
       "15                                  Cohen Media Group   \n",
       "16                                  Magnolia Pictures   \n",
       "17                                                  2   \n",
       "18                             Sony Pictures Classics   \n",
       "19                                      GVN Releasing   \n",
       "20                            The Cloverfield Paradox   \n",
       "21                                 The 15:17 to Paris   \n",
       "22                                 Universal Pictures   \n",
       "23        Columbia Pictures / Sony Pictures Animation   \n",
       "24                        Lionsgate / Pantelion Films   \n",
       "25  Subas Entertainment Production / Super Kajal F...   \n",
       "26                            Good Dead Entertainment   \n",
       "27                                      Viva Pictures   \n",
       "28                             Vertical Entertainment   \n",
       "29                                      Black Panther   \n",
       "..                                                ...   \n",
       "43                                Metro-Goldwyn-Mayer   \n",
       "44                             Sony Pictures Classics   \n",
       "45                                                A24   \n",
       "46                                  A Wrinkle in Time   \n",
       "47                 Amazon Studios / STX Entertainment   \n",
       "48                                     Focus Features   \n",
       "49                                          IFC Films   \n",
       "50                             Sony Pictures Classics   \n",
       "51                              Entertainment Studios   \n",
       "52                            Aviron Pictures / Rogue   \n",
       "53                                        Tomb Raider   \n",
       "54                                  Fox 2000 Pictures   \n",
       "55                   Roadside Attractions / Lionsgate   \n",
       "56  Focus Features / StudioCanal / Participant Med...   \n",
       "57                                          IFC Films   \n",
       "58                                 Screen Media Films   \n",
       "59                                        The Orchard   \n",
       "60                               Pacific Rim Uprising   \n",
       "61       Fox Searchlight Pictures / Indian Paintbrush   \n",
       "62  Paramount Pictures / Paramount Animation / Met...   \n",
       "63                                    Bleecker Street   \n",
       "64                                       Affirm Films   \n",
       "65                             Sony Pictures Classics   \n",
       "66                          Global Road Entertainment   \n",
       "67                                  Synkronized Films   \n",
       "68                                   Ready Player One   \n",
       "69                             Tyler Perry's Acrimony   \n",
       "70                                          Pure Flix   \n",
       "71                                               Neon   \n",
       "72                                                A24   \n",
       "\n",
       "                                               Studio  \\\n",
       "0                             Insidious: The Last Key   \n",
       "1   Lauren Wolkstein (director); Christopher Radcl...   \n",
       "2   Simon West (director); Duncan Falconer, Warren...   \n",
       "3                                Samuel Goldwyn Films   \n",
       "4       Lionsgate / StudioCanal / The Picture Company   \n",
       "5   Babak Najafi (director); John S. Newman, Chris...   \n",
       "6   Brett Donowho (director); Nicolas Aaron Mezzan...   \n",
       "7   Trudie Styler (director); Patrick J. Clifton, ...   \n",
       "8   Sam Hoffman (director/screenplay); Jemaine Cle...   \n",
       "9   Daniela Thomas (director/screenplay); Beto Ama...   \n",
       "10                                              GKIDS   \n",
       "11  Warner Bros. Pictures / Alcon Entertainment / ...   \n",
       "12  Christian Gudegast (director/screenplay); Paul...   \n",
       "13  Bethany Ashton Wolf (director/screenplay); Ale...   \n",
       "14                                   20th Century Fox   \n",
       "15  Ziad Doueiri (director/screenplay); Joelle Tou...   \n",
       "16  Ben Lewin (director); Michael Golamco (screenp...   \n",
       "17                                         Winchester   \n",
       "18  Sebastián Lelio (director/screenplay); Gonzalo...   \n",
       "19  Mario Van Peebles (director/screenplay); Mario...   \n",
       "20  Paramount Pictures / Netflix / Bad Robot Produ...   \n",
       "21  Warner Bros. Pictures / Village Roadshow Pictu...   \n",
       "22  James Foley (director); Niall Leonard (screenp...   \n",
       "23  Will Gluck (director/screenplay); Rob Lieber (...   \n",
       "24  Marco Polo Constandse (director); Omar Chaparr...   \n",
       "25  Surendra Poudel (director/screenplay); Anmol K...   \n",
       "26  Brian Crano (director/screenplay); Rebecca Hal...   \n",
       "27  Holger Tappe (director); David Safier, Cathari...   \n",
       "28  Alex Ross Perry (director/screenplay); Emily B...   \n",
       "29                                     Marvel Studios   \n",
       "..                                                ...   \n",
       "43  Eli Roth (director); Joe Carnahan (screenplay)...   \n",
       "44  Samuel Maoz (director/screenplay); Lior Ashken...   \n",
       "45  Shawn Christensen (director/screenplay); Jason...   \n",
       "46                               Walt Disney Pictures   \n",
       "47  Nash Edgerton (director); Anthony Tambakis, Ma...   \n",
       "48  Cory Finley (director/screenplay); Olivia Cook...   \n",
       "49  Armando Iannucci (director/screenplay); Steve ...   \n",
       "50  Paolo Virzì (director/screenplay); Francesca A...   \n",
       "51  Rob Cohen (director/screenplay); Toby Kebbell,...   \n",
       "52  Johannes Roberts (director); Bryan Bertino, Be...   \n",
       "53  Warner Bros. Pictures / GK Films / Metro-Goldw...   \n",
       "54  Greg Berlanti (director); Isaac Aptaker, Eliza...   \n",
       "55  Jon Erwin (director/screenplay); Andrew Erwin ...   \n",
       "56  José Padilha (director); Gregory Burke (screen...   \n",
       "57  Laurie Collyer (director); Barry Strugatz (scr...   \n",
       "58  Eric England (director), Anthony Ragnone II (s...   \n",
       "59  Max Winkler (director), Alex McAulay (screenpl...   \n",
       "60            Universal Pictures / Legendary Pictures   \n",
       "61  Wes Anderson (director/screenplay); Bryan Cran...   \n",
       "62  John Stevenson (director); Ben Zazove (screenp...   \n",
       "63  Steven Soderbergh (director); Jonathan Bernste...   \n",
       "64  Andrew Hyatt (director/screenplay); James Faul...   \n",
       "65  Stanley Tucci (director/screenplay); Geoffrey ...   \n",
       "66  Scott Speer (director); Eric Kirsten (screenpl...   \n",
       "67  Ryan Justice (director/screenplay); Ian Longen...   \n",
       "68  Warner Bros. Pictures / Village Roadshow Pictu...   \n",
       "69                      Lionsgate / Tyler Perry Films   \n",
       "70  Michael Mason (director/screenplay); David A. ...   \n",
       "71  Aaron Katz (director/screenplay); Lola Kirke, ...   \n",
       "72  Adam Rifkin (director/screenplay); Burt Reynol...   \n",
       "\n",
       "                                        Cast and crew  \\\n",
       "0          Universal Pictures / Blumhouse Productions   \n",
       "1                                               Drama   \n",
       "2                                    Action, Thriller   \n",
       "3   Warwick Thornton (director); David Tranter, St...   \n",
       "4   Jaume Collet-Serra (director); Byron Willinger...   \n",
       "5                                    Action, Thriller   \n",
       "6                                    Action, Thriller   \n",
       "7                                               Drama   \n",
       "8                                              Comedy   \n",
       "9                        Historical, Adventure, Drama   \n",
       "10  Hiromasa Yonebayashi (director/screenplay); Ri...   \n",
       "11  Nicolai Fuglsig (director); Peter Craig, Ted T...   \n",
       "12                            Heist, Action, Thriller   \n",
       "13                              Romance, Music, Drama   \n",
       "14  Wes Ball (director); T.S. Nowlin (screenplay);...   \n",
       "15                                              Drama   \n",
       "16                                      Comedy, Drama   \n",
       "17                              Lionsgate / CBS Films   \n",
       "18                                              Drama   \n",
       "19                                             Action   \n",
       "20  Julius Onah (director); Oren Uziel, Doug Jung ...   \n",
       "21  Clint Eastwood (director); Dorothy Blyskal (sc...   \n",
       "22                                     Drama, Romance   \n",
       "23                   Hybrid Animation, Family, Comedy   \n",
       "24                                    Comedy, Romance   \n",
       "25                                    Action, Romance   \n",
       "26                             Drama, Romance, Comedy   \n",
       "27                  Animation, Comedy, Family, Horror   \n",
       "28                                              Drama   \n",
       "29  Ryan Coogler (director/​screenplay); Joe Rober...   \n",
       "..                                                ...   \n",
       "43                                             Action   \n",
       "44                                              Drama   \n",
       "45                                     Drama, Mystery   \n",
       "46  Ava DuVernay (director); Jennifer Lee (screenp...   \n",
       "47                              Action, Comedy, Drama   \n",
       "48                                    Drama, Thriller   \n",
       "49                            Political Satire Comedy   \n",
       "50                                              Drama   \n",
       "51                                 Disaster, Thriller   \n",
       "52                                   Horror, Thriller   \n",
       "53  Roar Uthaug (director); Geneva Robertson-Dwore...   \n",
       "54                                            Dramedy   \n",
       "55                                              Drama   \n",
       "56                                   Action, Thriller   \n",
       "57                                      Drama, Comedy   \n",
       "58                                    Drama, Suspense   \n",
       "59                                             Comedy   \n",
       "60  Steven S. DeKnight (director/screenplay); Emil...   \n",
       "61                                  Animation, Comedy   \n",
       "62        Animation, Romance, Comedy, Mystery, Family   \n",
       "63                                   Horror, Thriller   \n",
       "64                           Historical, Drama, Faith   \n",
       "65                                              Drama   \n",
       "66                                     Romance, Drama   \n",
       "67                                   Horror, Thriller   \n",
       "68  Steven Spielberg (director); Ernest Cline, Zak...   \n",
       "69  Tyler Perry (director/screenplay); Taraji P. H...   \n",
       "70                                              Drama   \n",
       "71                                  Mystery, Thriller   \n",
       "72                                              Drama   \n",
       "\n",
       "                                                Genre           Country  \\\n",
       "0   Adam Robitel (director); Leigh Whannell (scree...  Horror, Thriller   \n",
       "1                                                  US              [39]   \n",
       "2                                              IT, UK              [40]   \n",
       "3                                               Drama               AUS   \n",
       "4             Action, Crime, Drama, Mystery, Thriller            US, UK   \n",
       "5                                                  US              [43]   \n",
       "6                                                  US              [44]   \n",
       "7                                                  US              [45]   \n",
       "8                                                  US              [46]   \n",
       "9                                              BR, PT              [47]   \n",
       "10                         Animation, Fantasy, Family                JP   \n",
       "11                                         War, Drama                US   \n",
       "12                                                 US              [50]   \n",
       "13                                                 US              [51]   \n",
       "14                           Action, Sci-Fi, Thriller                US   \n",
       "15                                                 US              [53]   \n",
       "16                                                 US              [54]   \n",
       "17  The Spierig Brothers (director/screenplay); He...            Horror   \n",
       "18                                            US, CHI              [56]   \n",
       "19                                                 US              [57]   \n",
       "20                           Sci-Fi, Horror, Thriller                US   \n",
       "21                                   Biography, Drama                US   \n",
       "22                                                 US              [60]   \n",
       "23                                            US, AUS              [61]   \n",
       "24                                                 US              [62]   \n",
       "25                                                 NP              [63]   \n",
       "26                                                 US              [64]   \n",
       "27                                                 US              [65]   \n",
       "28                                                 US              [66]   \n",
       "29                       Superhero, Action, Adventure                US   \n",
       "..                                                ...               ...   \n",
       "43                                                 US              [81]   \n",
       "44                                                ISR              [82]   \n",
       "45                                                 US              [83]   \n",
       "46                         Fantasy, Family, Adventure                US   \n",
       "47                                                 US              [85]   \n",
       "48                                                 US              [86]   \n",
       "49                                             UK, FR              [87]   \n",
       "50                                             IT, FR              [88]   \n",
       "51                                                 US              [89]   \n",
       "52                                                 US              [90]   \n",
       "53                                  Action, Adventure                US   \n",
       "54                                                 US              [92]   \n",
       "55                                                 US              [93]   \n",
       "56                                                 US              [94]   \n",
       "57                                                 US              [95]   \n",
       "58                                                 US              [96]   \n",
       "59                                                 US              [97]   \n",
       "60                          Action, Adventure, Sci-Fi                US   \n",
       "61                                                 US              [99]   \n",
       "62                                             US, UK             [100]   \n",
       "63                                                 US             [101]   \n",
       "64                                                 US             [102]   \n",
       "65                                                 US             [103]   \n",
       "66                                                 US             [104]   \n",
       "67                                                 US             [105]   \n",
       "68                                  Adventure, Sci-Fi                US   \n",
       "69                                    Drama, Thriller                US   \n",
       "70                                                 US             [108]   \n",
       "71                                                 US             [109]   \n",
       "72                                                 US             [110]   \n",
       "\n",
       "     Ref. Unnamed: 7  \n",
       "0      US       [38]  \n",
       "1     NaN        NaN  \n",
       "2     NaN        NaN  \n",
       "3    [41]        NaN  \n",
       "4    [42]        NaN  \n",
       "5     NaN        NaN  \n",
       "6     NaN        NaN  \n",
       "7     NaN        NaN  \n",
       "8     NaN        NaN  \n",
       "9     NaN        NaN  \n",
       "10   [48]        NaN  \n",
       "11   [49]        NaN  \n",
       "12    NaN        NaN  \n",
       "13    NaN        NaN  \n",
       "14   [52]        NaN  \n",
       "15    NaN        NaN  \n",
       "16    NaN        NaN  \n",
       "17     US       [55]  \n",
       "18    NaN        NaN  \n",
       "19    NaN        NaN  \n",
       "20   [58]        NaN  \n",
       "21   [59]        NaN  \n",
       "22    NaN        NaN  \n",
       "23    NaN        NaN  \n",
       "24    NaN        NaN  \n",
       "25    NaN        NaN  \n",
       "26    NaN        NaN  \n",
       "27    NaN        NaN  \n",
       "28    NaN        NaN  \n",
       "29   [67]        NaN  \n",
       "..    ...        ...  \n",
       "43    NaN        NaN  \n",
       "44    NaN        NaN  \n",
       "45    NaN        NaN  \n",
       "46   [84]        NaN  \n",
       "47    NaN        NaN  \n",
       "48    NaN        NaN  \n",
       "49    NaN        NaN  \n",
       "50    NaN        NaN  \n",
       "51    NaN        NaN  \n",
       "52    NaN        NaN  \n",
       "53   [91]        NaN  \n",
       "54    NaN        NaN  \n",
       "55    NaN        NaN  \n",
       "56    NaN        NaN  \n",
       "57    NaN        NaN  \n",
       "58    NaN        NaN  \n",
       "59    NaN        NaN  \n",
       "60   [98]        NaN  \n",
       "61    NaN        NaN  \n",
       "62    NaN        NaN  \n",
       "63    NaN        NaN  \n",
       "64    NaN        NaN  \n",
       "65    NaN        NaN  \n",
       "66    NaN        NaN  \n",
       "67    NaN        NaN  \n",
       "68  [106]        NaN  \n",
       "69  [107]        NaN  \n",
       "70    NaN        NaN  \n",
       "71    NaN        NaN  \n",
       "72    NaN        NaN  \n",
       "\n",
       "[73 rows x 8 columns]"
      ]
     },
     "execution_count": 220,
     "metadata": {},
     "output_type": "execute_result"
    }
   ],
   "source": [
    "import pandas as pd\n",
    "url = 'https://en.wikipedia.org/wiki/2018_in_film'\n",
    "df = pd.read_html(url, header=0, attrs = {\"class\":\"wikitable sortable\"})\n",
    "df[1] #returns a list of DFs"
   ]
  },
  {
   "cell_type": "markdown",
   "metadata": {},
   "source": [
    "- `read_html` didn't parse the table properly.\n",
    "\n",
    ">Expect to do some cleanup after you call this function. For example, you might need to manually assign column names if the column names are converted to NaN when you pass the header=0 argument. We try to assume as little as possible about the structure of the table and push the idiosyncrasies of the HTML contained in the table to the user (see `pandas.read_html` [API ref](https://pandas.pydata.org/pandas-docs/stable/generated/pandas.read_html.html)).\n",
    "\n",
    "- Cleaning this table requires selecting cells manually. \n",
    "- The information we need from this table are film titles."
   ]
  },
  {
   "cell_type": "markdown",
   "metadata": {
    "slideshow": {
     "slide_type": "slide"
    }
   },
   "source": [
    "<img src='itag.png' height=\"400\" width=\"500\" ></img>"
   ]
  },
  {
   "cell_type": "code",
   "execution_count": 9,
   "metadata": {
    "scrolled": true,
    "slideshow": {
     "slide_type": "slide"
    }
   },
   "outputs": [
    {
     "name": "stdout",
     "output_type": "stream",
     "text": [
      "['First Reformed', 'Spider-Man: Into the Spider-Verse']\n"
     ]
    },
    {
     "data": {
      "text/plain": [
       "266"
      ]
     },
     "execution_count": 9,
     "metadata": {},
     "output_type": "execute_result"
    }
   ],
   "source": [
    "# we just want the movie names\n",
    "from urllib.request import urlopen\n",
    "from bs4 import BeautifulSoup\n",
    "\n",
    "webpage = 'https://en.wikipedia.org/wiki/2018_in_film'\n",
    "page = urlopen(webpage)\n",
    "soup = BeautifulSoup(page, 'html.parser')\n",
    "\n",
    "# css selection \n",
    "# select all <i> tag elements within <td> within <tr> elements \n",
    "# within <tbody> elements see \n",
    "# https://www.w3schools.com/cssref/css_selectors.asp \n",
    "\n",
    "movie=soup.select('tbody tr td i') \n",
    "movie # returns a list of <i> tag elements on the page\n",
    "\n",
    "# extract text part of tag using \n",
    "# list comprehension\n",
    "names = [m.get_text() for m in movie] \n",
    "\n",
    "names\n",
    "\n",
    "# by inspection we see rows 25:291\n",
    "# correspond to movie names\n",
    "\n",
    "mnames= names[25:291]\n",
    "print(mnames[0:2])\n",
    "len(mnames)"
   ]
  },
  {
   "cell_type": "markdown",
   "metadata": {
    "slideshow": {
     "slide_type": "slide"
    }
   },
   "source": [
    "<a href='http://www.omdbapi.com'> <img src='omdb.png' height=\"600\" width=\"800\" ></img> </a>"
   ]
  },
  {
   "cell_type": "markdown",
   "metadata": {
    "slideshow": {
     "slide_type": "slide"
    }
   },
   "source": [
    "Install Python package [omdb](https://pypi.org/project/omdb/) using `pip` or access the API directly."
   ]
  },
  {
   "cell_type": "code",
   "execution_count": 17,
   "metadata": {
    "slideshow": {
     "slide_type": "slide"
    }
   },
   "outputs": [
    {
     "data": {
      "text/plain": [
       "{'actors': 'Lin Shaye, Leigh Whannell, Angus Sampson, Kirk Acevedo',\n",
       " 'awards': 'N/A',\n",
       " 'box_office': '$29,581,355',\n",
       " 'country': 'Canada, USA',\n",
       " 'director': 'Adam Robitel',\n",
       " 'dvd': '03 Apr 2018',\n",
       " 'genre': 'Horror, Mystery, Thriller',\n",
       " 'imdb_id': 'tt5726086',\n",
       " 'imdb_rating': '5.7',\n",
       " 'imdb_votes': '36,825',\n",
       " 'language': 'English',\n",
       " 'metascore': '49',\n",
       " 'plot': 'Parapsychologist Dr. Elise Rainier faces her most fearsome and personal haunting yet, as she is drawn back to her ghostly childhood home, where the terror began.',\n",
       " 'poster': 'https://m.media-amazon.com/images/M/MV5BMTUxODU0NjQ2Nl5BMl5BanBnXkFtZTgwMTc4NDQ0MzI@._V1_SX300.jpg',\n",
       " 'production': 'Universal Pictures',\n",
       " 'rated': 'PG-13',\n",
       " 'ratings': [{'source': 'Internet Movie Database', 'value': '5.7/10'},\n",
       "  {'source': 'Rotten Tomatoes', 'value': '32%'},\n",
       "  {'source': 'Metacritic', 'value': '49/100'}],\n",
       " 'released': '05 Jan 2018',\n",
       " 'response': 'True',\n",
       " 'runtime': '103 min',\n",
       " 'title': 'Insidious: The Last Key',\n",
       " 'type': 'movie',\n",
       " 'website': 'http://www.insidiousmovie.com/',\n",
       " 'writer': 'Leigh Whannell, Leigh Whannell (based on characters created by)',\n",
       " 'year': '2018'}"
      ]
     },
     "execution_count": 17,
     "metadata": {},
     "output_type": "execute_result"
    }
   ],
   "source": [
    "#install omdb using pip\n",
    "\n",
    "import omdb\n",
    "\n",
    "API_KEY = ''\n",
    "\n",
    "omdb.set_default('apikey', API_KEY)\n",
    "movie1 = omdb.title(mnames[0])\n",
    "movie1 #returns a dict"
   ]
  },
  {
   "cell_type": "code",
   "execution_count": 18,
   "metadata": {
    "slideshow": {
     "slide_type": "subslide"
    }
   },
   "outputs": [
    {
     "name": "stdout",
     "output_type": "stream",
     "text": [
      "Lin Shaye, Leigh Whannell, Angus Sampson, Kirk Acevedo \n",
      " \n",
      " $29,581,355\n"
     ]
    }
   ],
   "source": [
    "print(movie1['actors'], '\\n \\n', movie1['box_office'])"
   ]
  },
  {
   "cell_type": "code",
   "execution_count": 19,
   "metadata": {},
   "outputs": [
    {
     "data": {
      "text/html": [
       "<div>\n",
       "<style scoped>\n",
       "    .dataframe tbody tr th:only-of-type {\n",
       "        vertical-align: middle;\n",
       "    }\n",
       "\n",
       "    .dataframe tbody tr th {\n",
       "        vertical-align: top;\n",
       "    }\n",
       "\n",
       "    .dataframe thead th {\n",
       "        text-align: right;\n",
       "    }\n",
       "</style>\n",
       "<table border=\"1\" class=\"dataframe\">\n",
       "  <thead>\n",
       "    <tr style=\"text-align: right;\">\n",
       "      <th></th>\n",
       "      <th>title</th>\n",
       "      <th>year</th>\n",
       "      <th>rated</th>\n",
       "      <th>released</th>\n",
       "      <th>runtime</th>\n",
       "      <th>genre</th>\n",
       "      <th>director</th>\n",
       "      <th>writer</th>\n",
       "      <th>actors</th>\n",
       "      <th>plot</th>\n",
       "      <th>...</th>\n",
       "      <th>metascore</th>\n",
       "      <th>imdb_rating</th>\n",
       "      <th>imdb_votes</th>\n",
       "      <th>imdb_id</th>\n",
       "      <th>type</th>\n",
       "      <th>dvd</th>\n",
       "      <th>box_office</th>\n",
       "      <th>production</th>\n",
       "      <th>website</th>\n",
       "      <th>response</th>\n",
       "    </tr>\n",
       "  </thead>\n",
       "  <tbody>\n",
       "    <tr>\n",
       "      <th>0</th>\n",
       "      <td>Insidious: The Last Key</td>\n",
       "      <td>2018</td>\n",
       "      <td>PG-13</td>\n",
       "      <td>05 Jan 2018</td>\n",
       "      <td>103 min</td>\n",
       "      <td>Horror, Mystery, Thriller</td>\n",
       "      <td>Adam Robitel</td>\n",
       "      <td>Leigh Whannell, Leigh Whannell (based on chara...</td>\n",
       "      <td>Lin Shaye, Leigh Whannell, Angus Sampson, Kirk...</td>\n",
       "      <td>Parapsychologist Dr. Elise Rainier faces her m...</td>\n",
       "      <td>...</td>\n",
       "      <td>49</td>\n",
       "      <td>5.7</td>\n",
       "      <td>36,825</td>\n",
       "      <td>tt5726086</td>\n",
       "      <td>movie</td>\n",
       "      <td>03 Apr 2018</td>\n",
       "      <td>$29,581,355</td>\n",
       "      <td>Universal Pictures</td>\n",
       "      <td>http://www.insidiousmovie.com/</td>\n",
       "      <td>True</td>\n",
       "    </tr>\n",
       "    <tr>\n",
       "      <th>1</th>\n",
       "      <td>Insidious: The Last Key</td>\n",
       "      <td>2018</td>\n",
       "      <td>PG-13</td>\n",
       "      <td>05 Jan 2018</td>\n",
       "      <td>103 min</td>\n",
       "      <td>Horror, Mystery, Thriller</td>\n",
       "      <td>Adam Robitel</td>\n",
       "      <td>Leigh Whannell, Leigh Whannell (based on chara...</td>\n",
       "      <td>Lin Shaye, Leigh Whannell, Angus Sampson, Kirk...</td>\n",
       "      <td>Parapsychologist Dr. Elise Rainier faces her m...</td>\n",
       "      <td>...</td>\n",
       "      <td>49</td>\n",
       "      <td>5.7</td>\n",
       "      <td>36,825</td>\n",
       "      <td>tt5726086</td>\n",
       "      <td>movie</td>\n",
       "      <td>03 Apr 2018</td>\n",
       "      <td>$29,581,355</td>\n",
       "      <td>Universal Pictures</td>\n",
       "      <td>http://www.insidiousmovie.com/</td>\n",
       "      <td>True</td>\n",
       "    </tr>\n",
       "    <tr>\n",
       "      <th>2</th>\n",
       "      <td>Insidious: The Last Key</td>\n",
       "      <td>2018</td>\n",
       "      <td>PG-13</td>\n",
       "      <td>05 Jan 2018</td>\n",
       "      <td>103 min</td>\n",
       "      <td>Horror, Mystery, Thriller</td>\n",
       "      <td>Adam Robitel</td>\n",
       "      <td>Leigh Whannell, Leigh Whannell (based on chara...</td>\n",
       "      <td>Lin Shaye, Leigh Whannell, Angus Sampson, Kirk...</td>\n",
       "      <td>Parapsychologist Dr. Elise Rainier faces her m...</td>\n",
       "      <td>...</td>\n",
       "      <td>49</td>\n",
       "      <td>5.7</td>\n",
       "      <td>36,825</td>\n",
       "      <td>tt5726086</td>\n",
       "      <td>movie</td>\n",
       "      <td>03 Apr 2018</td>\n",
       "      <td>$29,581,355</td>\n",
       "      <td>Universal Pictures</td>\n",
       "      <td>http://www.insidiousmovie.com/</td>\n",
       "      <td>True</td>\n",
       "    </tr>\n",
       "  </tbody>\n",
       "</table>\n",
       "<p>3 rows × 25 columns</p>\n",
       "</div>"
      ],
      "text/plain": [
       "                     title  year  rated     released  runtime  \\\n",
       "0  Insidious: The Last Key  2018  PG-13  05 Jan 2018  103 min   \n",
       "1  Insidious: The Last Key  2018  PG-13  05 Jan 2018  103 min   \n",
       "2  Insidious: The Last Key  2018  PG-13  05 Jan 2018  103 min   \n",
       "\n",
       "                       genre      director  \\\n",
       "0  Horror, Mystery, Thriller  Adam Robitel   \n",
       "1  Horror, Mystery, Thriller  Adam Robitel   \n",
       "2  Horror, Mystery, Thriller  Adam Robitel   \n",
       "\n",
       "                                              writer  \\\n",
       "0  Leigh Whannell, Leigh Whannell (based on chara...   \n",
       "1  Leigh Whannell, Leigh Whannell (based on chara...   \n",
       "2  Leigh Whannell, Leigh Whannell (based on chara...   \n",
       "\n",
       "                                              actors  \\\n",
       "0  Lin Shaye, Leigh Whannell, Angus Sampson, Kirk...   \n",
       "1  Lin Shaye, Leigh Whannell, Angus Sampson, Kirk...   \n",
       "2  Lin Shaye, Leigh Whannell, Angus Sampson, Kirk...   \n",
       "\n",
       "                                                plot   ...    metascore  \\\n",
       "0  Parapsychologist Dr. Elise Rainier faces her m...   ...           49   \n",
       "1  Parapsychologist Dr. Elise Rainier faces her m...   ...           49   \n",
       "2  Parapsychologist Dr. Elise Rainier faces her m...   ...           49   \n",
       "\n",
       "  imdb_rating imdb_votes    imdb_id   type          dvd   box_office  \\\n",
       "0         5.7     36,825  tt5726086  movie  03 Apr 2018  $29,581,355   \n",
       "1         5.7     36,825  tt5726086  movie  03 Apr 2018  $29,581,355   \n",
       "2         5.7     36,825  tt5726086  movie  03 Apr 2018  $29,581,355   \n",
       "\n",
       "           production                         website response  \n",
       "0  Universal Pictures  http://www.insidiousmovie.com/     True  \n",
       "1  Universal Pictures  http://www.insidiousmovie.com/     True  \n",
       "2  Universal Pictures  http://www.insidiousmovie.com/     True  \n",
       "\n",
       "[3 rows x 25 columns]"
      ]
     },
     "execution_count": 19,
     "metadata": {},
     "output_type": "execute_result"
    }
   ],
   "source": [
    "# easy to import directly into pandas\n",
    "import pandas as pd\n",
    "pd.DataFrame(movie1)"
   ]
  },
  {
   "cell_type": "markdown",
   "metadata": {
    "slideshow": {
     "slide_type": "slide"
    }
   },
   "source": [
    "Iterate through list of movie names and store select values in a list "
   ]
  },
  {
   "cell_type": "code",
   "execution_count": 20,
   "metadata": {
    "slideshow": {
     "slide_type": "-"
    }
   },
   "outputs": [],
   "source": [
    "movie_list = []\n",
    "for name in mnames[0:50]:\n",
    "    moviedat = omdb.title(name, timeout=5)\n",
    "    if moviedat['response'] == \"True\":\n",
    "        values = [moviedat['box_office'], moviedat['genre'], moviedat['imdb_rating'], \n",
    "                  moviedat['imdb_votes'], moviedat['title'], moviedat['metascore'], \n",
    "                  moviedat['year'], moviedat['language'], moviedat['country']]\n",
    "    movie_list.append(values)"
   ]
  },
  {
   "cell_type": "code",
   "execution_count": 21,
   "metadata": {},
   "outputs": [
    {
     "data": {
      "text/plain": [
       "['$29,581,355',\n",
       " 'Horror, Mystery, Thriller',\n",
       " '5.7',\n",
       " '36,825',\n",
       " 'Insidious: The Last Key',\n",
       " '49',\n",
       " '2018',\n",
       " 'English',\n",
       " 'Canada, USA']"
      ]
     },
     "execution_count": 21,
     "metadata": {},
     "output_type": "execute_result"
    }
   ],
   "source": [
    "movie_list[0]"
   ]
  },
  {
   "cell_type": "markdown",
   "metadata": {
    "slideshow": {
     "slide_type": "slide"
    }
   },
   "source": [
    "Store movie list in a pandas data frame."
   ]
  },
  {
   "cell_type": "code",
   "execution_count": 22,
   "metadata": {
    "slideshow": {
     "slide_type": "-"
    }
   },
   "outputs": [
    {
     "data": {
      "text/html": [
       "<div>\n",
       "<style scoped>\n",
       "    .dataframe tbody tr th:only-of-type {\n",
       "        vertical-align: middle;\n",
       "    }\n",
       "\n",
       "    .dataframe tbody tr th {\n",
       "        vertical-align: top;\n",
       "    }\n",
       "\n",
       "    .dataframe thead th {\n",
       "        text-align: right;\n",
       "    }\n",
       "</style>\n",
       "<table border=\"1\" class=\"dataframe\">\n",
       "  <thead>\n",
       "    <tr style=\"text-align: right;\">\n",
       "      <th></th>\n",
       "      <th>box_office</th>\n",
       "      <th>genre</th>\n",
       "      <th>imdb_rating</th>\n",
       "      <th>imdb_votes</th>\n",
       "      <th>title</th>\n",
       "      <th>metascore</th>\n",
       "      <th>year</th>\n",
       "      <th>language</th>\n",
       "      <th>country</th>\n",
       "    </tr>\n",
       "  </thead>\n",
       "  <tbody>\n",
       "    <tr>\n",
       "      <th>0</th>\n",
       "      <td>$29,581,355</td>\n",
       "      <td>Horror, Mystery, Thriller</td>\n",
       "      <td>5.7</td>\n",
       "      <td>36,825</td>\n",
       "      <td>Insidious: The Last Key</td>\n",
       "      <td>49</td>\n",
       "      <td>2018</td>\n",
       "      <td>English</td>\n",
       "      <td>Canada, USA</td>\n",
       "    </tr>\n",
       "    <tr>\n",
       "      <th>1</th>\n",
       "      <td>N/A</td>\n",
       "      <td>Drama, Thriller</td>\n",
       "      <td>5.0</td>\n",
       "      <td>1,806</td>\n",
       "      <td>The Strange Ones</td>\n",
       "      <td>57</td>\n",
       "      <td>2017</td>\n",
       "      <td>English</td>\n",
       "      <td>USA</td>\n",
       "    </tr>\n",
       "    <tr>\n",
       "      <th>2</th>\n",
       "      <td>N/A</td>\n",
       "      <td>Action, Thriller</td>\n",
       "      <td>4.8</td>\n",
       "      <td>3,129</td>\n",
       "      <td>Stratton</td>\n",
       "      <td>26</td>\n",
       "      <td>2017</td>\n",
       "      <td>English</td>\n",
       "      <td>UK</td>\n",
       "    </tr>\n",
       "    <tr>\n",
       "      <th>3</th>\n",
       "      <td>N/A</td>\n",
       "      <td>Adventure, Crime, Drama, History, Thriller</td>\n",
       "      <td>6.8</td>\n",
       "      <td>4,439</td>\n",
       "      <td>Sweet Country</td>\n",
       "      <td>87</td>\n",
       "      <td>2017</td>\n",
       "      <td>English, Aboriginal</td>\n",
       "      <td>Australia</td>\n",
       "    </tr>\n",
       "    <tr>\n",
       "      <th>4</th>\n",
       "      <td>$36,241,300</td>\n",
       "      <td>Action, Crime, Drama, Mystery, Thriller</td>\n",
       "      <td>6.3</td>\n",
       "      <td>70,930</td>\n",
       "      <td>The Commuter</td>\n",
       "      <td>56</td>\n",
       "      <td>2018</td>\n",
       "      <td>English, Spanish</td>\n",
       "      <td>France, USA</td>\n",
       "    </tr>\n",
       "  </tbody>\n",
       "</table>\n",
       "</div>"
      ],
      "text/plain": [
       "    box_office                                       genre imdb_rating  \\\n",
       "0  $29,581,355                   Horror, Mystery, Thriller         5.7   \n",
       "1          N/A                             Drama, Thriller         5.0   \n",
       "2          N/A                            Action, Thriller         4.8   \n",
       "3          N/A  Adventure, Crime, Drama, History, Thriller         6.8   \n",
       "4  $36,241,300     Action, Crime, Drama, Mystery, Thriller         6.3   \n",
       "\n",
       "  imdb_votes                    title metascore  year             language  \\\n",
       "0     36,825  Insidious: The Last Key        49  2018              English   \n",
       "1      1,806         The Strange Ones        57  2017              English   \n",
       "2      3,129                 Stratton        26  2017              English   \n",
       "3      4,439            Sweet Country        87  2017  English, Aboriginal   \n",
       "4     70,930             The Commuter        56  2018     English, Spanish   \n",
       "\n",
       "       country  \n",
       "0  Canada, USA  \n",
       "1          USA  \n",
       "2           UK  \n",
       "3    Australia  \n",
       "4  France, USA  "
      ]
     },
     "execution_count": 22,
     "metadata": {},
     "output_type": "execute_result"
    }
   ],
   "source": [
    "movie_list\n",
    "cols = ['box_office', 'genre', 'imdb_rating', 'imdb_votes', \n",
    "        'title', 'metascore','year', 'language', 'country']\n",
    "moviedf = pd.DataFrame(movie_list, columns = cols)\n",
    "#moviedf.to_csv('50movies.csv')\n",
    "moviedf.head()"
   ]
  },
  {
   "cell_type": "code",
   "execution_count": 23,
   "metadata": {
    "slideshow": {
     "slide_type": "-"
    }
   },
   "outputs": [
    {
     "data": {
      "text/plain": [
       "box_office     object\n",
       "genre          object\n",
       "imdb_rating    object\n",
       "imdb_votes     object\n",
       "title          object\n",
       "metascore      object\n",
       "year           object\n",
       "language       object\n",
       "country        object\n",
       "dtype: object"
      ]
     },
     "execution_count": 23,
     "metadata": {},
     "output_type": "execute_result"
    }
   ],
   "source": [
    "moviedf.dtypes"
   ]
  },
  {
   "cell_type": "markdown",
   "metadata": {
    "slideshow": {
     "slide_type": "slide"
    }
   },
   "source": [
    "# Variables\n",
    "\n",
    "- `box_office` is an example of a continuous variable.\n",
    "- `genre` is an example of a nominal (unordered) categorical variable.\n",
    "- `year` is an example of an ordered categorical variable."
   ]
  },
  {
   "cell_type": "markdown",
   "metadata": {
    "slideshow": {
     "slide_type": "slide"
    }
   },
   "source": [
    "# Statistical descriptions of variables\n",
    "\n",
    "- The most common value of a continuous variable is often measured by mean, median, mode, or other percentiles.\n",
    "- The variation of a continuous variable is often measured by variance/standard deviation or interquartile range.\n",
    "- Counts and frequencies are often used to describe categorical variables."
   ]
  },
  {
   "cell_type": "code",
   "execution_count": 30,
   "metadata": {
    "slideshow": {
     "slide_type": "subslide"
    }
   },
   "outputs": [
    {
     "data": {
      "text/plain": [
       "count    2.000000e+01\n",
       "mean     5.107472e+07\n",
       "std      1.092403e+08\n",
       "min      5.233000e+03\n",
       "25%      5.054648e+06\n",
       "50%      2.259529e+07\n",
       "75%      3.835106e+07\n",
       "max      5.011050e+08\n",
       "Name: box_office, dtype: float64"
      ]
     },
     "execution_count": 30,
     "metadata": {},
     "output_type": "execute_result"
    }
   ],
   "source": [
    "import numpy as np\n",
    "\n",
    "# remove $ and , from numbers \n",
    "moviedf_clean = moviedf.replace('N/A', np.NaN).replace('\\$|,','',regex=True)\n",
    "\n",
    "moviedf_clean['box_office'].astype(float).describe()\n"
   ]
  },
  {
   "cell_type": "markdown",
   "metadata": {
    "slideshow": {
     "slide_type": "slide"
    }
   },
   "source": [
    "# Plotting with pandas\n",
    "\n",
    "pandas has built in methods that simplify creating visualizations from DataFrame and Series objects."
   ]
  },
  {
   "cell_type": "code",
   "execution_count": 32,
   "metadata": {
    "slideshow": {
     "slide_type": "-"
    }
   },
   "outputs": [
    {
     "data": {
      "image/png": "[encoded data removed]",
      "text/plain": [
       "<Figure size 432x288 with 1 Axes>"
      ]
     },
     "metadata": {},
     "output_type": "display_data"
    }
   ],
   "source": [
    "import matplotlib.pyplot as plt\n",
    "\n",
    "plt.figure()\n",
    "moviedf_clean['language'].value_counts().plot(kind = 'bar');"
   ]
  },
  {
   "cell_type": "code",
   "execution_count": 224,
   "metadata": {
    "slideshow": {
     "slide_type": "subslide"
    }
   },
   "outputs": [
    {
     "data": {
      "image/png": "[encoded data removed]",
      "text/plain": [
       "<Figure size 432x288 with 1 Axes>"
      ]
     },
     "metadata": {},
     "output_type": "display_data"
    }
   ],
   "source": [
    "import seaborn as sns\n",
    "\n",
    "sns.distplot(moviedf_clean['box_office']\n",
    "             .astype(float).dropna(),\n",
    "             hist_kws=dict(edgecolor=\"k\", linewidth=2), kde=True, bins=10, color = \"black\");"
   ]
  },
  {
   "cell_type": "markdown",
   "metadata": {
    "slideshow": {
     "slide_type": "slide"
    }
   },
   "source": [
    "# Data Transformations\n",
    "\n",
    "- It's often convenient to transform data using a function $f(\\cdot)$.\n",
    "- Examples: $f(x)=\\log_{10}(x), \\hspace{0.1cm} x>0$; $f(x)=\\frac{x}{1-x}, \\hspace{0.1cm} 0<x<1$.\n",
    "- To implement transformations in pandas use the `apply` method with a `lambda` function."
   ]
  },
  {
   "cell_type": "code",
   "execution_count": 222,
   "metadata": {
    "slideshow": {
     "slide_type": "slide"
    }
   },
   "outputs": [
    {
     "data": {
      "image/png": "[encoded data removed]",
      "text/plain": [
       "<Figure size 432x288 with 1 Axes>"
      ]
     },
     "metadata": {},
     "output_type": "display_data"
    }
   ],
   "source": [
    "import seaborn as sns\n",
    "\n",
    "sns.distplot(moviedf_clean['box_office'] \n",
    "             .astype(float).dropna()\n",
    "             .apply(lambda x: np.log10(x)),  #apply log transform to each element of series\n",
    "             hist_kws=dict(edgecolor=\"k\", linewidth=2), kde=True, bins=10, color = \"black\");"
   ]
  },
  {
   "cell_type": "markdown",
   "metadata": {},
   "source": [
    "- A histogram is a visual summary of the distribution of a continuous variable.  \n",
    "- The smooth line superimposed on the plot is the kernel density estimate of the distribution.\n",
    "- The keyword `kde = True` adds this to `distplot`. "
   ]
  },
  {
   "cell_type": "markdown",
   "metadata": {
    "slideshow": {
     "slide_type": "subslide"
    }
   },
   "source": [
    "# Mathematical Definition of the Histogram\n",
    "\n",
    "- The bins of the histograms are the intervals: $[x_0+mh,x_0+(m+1)h]$, where $x_0$ is the origin, $m \\in \\mathbb{Z}$, and $h= (x_0+(m+1)h) - (x_0+mh)$ is the bin width.\n",
    "\n",
    "- The bins can be used to construct rectangles with width h and height $\\hat f(x)$.  So the area of these rectangles are: $h \\hat f(x).$\n",
    "\n",
    "- The area is the same as the proportion of data in the same bin as $x$.\n",
    "\n",
    "- So, given $n$ observations $x_1, x_2, \\ldots, x_n$:  \n",
    "\n",
    "$$h \\hat f(x) = \\frac{\\#\\{x_i \\text{ in same bin as } x\\}}{n}$$.\n",
    "\n",
    "- $\\hat f(x)$ is called the histogram estimator, an estimate of the density at $x$."
   ]
  },
  {
   "cell_type": "markdown",
   "metadata": {
    "slideshow": {
     "slide_type": "subslide"
    }
   },
   "source": [
    "# Kernel Density Estimation\n",
    "\n",
    "- The histogram can be centered on a point $x$: $$ \\hat f(x) = \\frac{\\# \\{ x_i \\in(x-h,x+h )\\}}{2hn}.$$\n",
    "\n",
    "- This is called the naive estimator of the density.\n",
    "\n",
    "- Define the weight function $w(x)$ by:\n",
    "\n",
    "$$w(x) =\n",
    "\\left\\{\n",
    "\t\\begin{array}{ll}\n",
    "\t\t1/2  & \\mbox{if } |x|<1  \\\\\n",
    "\t\t0 & \\mbox{if } |x| \\geq 1.\n",
    "\t\\end{array}\n",
    "\\right.$$\n",
    "\n",
    "Then the naive estimator can be written (**exercise**):\n",
    "\n",
    "$$\\hat f(x) = \\frac{1}{n} \\sum_{i=1}^n \\frac{1}{h}w\\left(\\frac{x-x_i}{h} \\right).$$ "
   ]
  },
  {
   "cell_type": "markdown",
   "metadata": {
    "slideshow": {
     "slide_type": "subslide"
    }
   },
   "source": [
    "# Kernel Density Estimation\n",
    "\n",
    "Replace the weight function is by a kernel function $K(x) \\geq 0$ which satisfies $\\int_{-\\infty}^{\\infty}K(x)dx=1$.  The kernel estimator of the density function is defined by:\n",
    "\n",
    "$$\\hat f(x) = \\frac{1}{n} \\sum_{i=1}^n \\frac{1}{h}K\\left(\\frac{x-x_i}{h} \\right),$$\n",
    "\n",
    "where $h$ is called the bandwidth.\n",
    "\n",
    "For example the Gaussian kernel is:\n",
    "\n",
    "$$K(x) = \\frac{1}{\\sqrt{2\\pi}}\\exp(-x^2/2), -\\infty < x < \\infty.$$"
   ]
  },
  {
   "cell_type": "code",
   "execution_count": 227,
   "metadata": {
    "slideshow": {
     "slide_type": "slide"
    }
   },
   "outputs": [
    {
     "data": {
      "image/png": "[encoded data removed]",
      "text/plain": [
       "<Figure size 720x432 with 4 Axes>"
      ]
     },
     "metadata": {},
     "output_type": "display_data"
    }
   ],
   "source": [
    "x= (moviedf_clean['box_office']\n",
    "             .astype(float).dropna()\n",
    "             .apply(lambda x: np.log10(x)))\n",
    "\n",
    "fig = plt.figure(figsize=(10,6)) #set fig size\n",
    "fig.subplots_adjust(hspace=0.4, wspace=0.5) # set space between subplots\n",
    "\n",
    "for i, binwidth in enumerate([1, 5, 10, 15]):\n",
    "    ax = plt.subplot(2, 2, i + 1)   # Set up the plot\n",
    "    sns.distplot(x, hist_kws=dict(edgecolor=\"k\", linewidth=2), \n",
    "                 kde=True, bins=int(50/binwidth), color = \"black\", ax=ax)\n",
    "    # Title and labels\n",
    "    ax.set_title('Histogram with Binwidth = %d' % binwidth, size = 15)\n",
    "    ax.set_xlabel('log of box office', size = 12)\n",
    "    ax.set_ylabel('y', size= 12)\n",
    "plt.show()"
   ]
  },
  {
   "cell_type": "code",
   "execution_count": 203,
   "metadata": {
    "slideshow": {
     "slide_type": "subslide"
    }
   },
   "outputs": [
    {
     "data": {
      "image/png": "[encoded data removed]",
      "text/plain": [
       "<Figure size 720x432 with 1 Axes>"
      ]
     },
     "metadata": {},
     "output_type": "display_data"
    }
   ],
   "source": [
    "x= (moviedf_clean['box_office']\n",
    "    .astype(float).dropna()\n",
    "    .apply(lambda x: np.log10(x)))\n",
    "\n",
    "fig, ax = plt.subplots(figsize = (10,6))\n",
    "\n",
    "sns.kdeplot(x, kernel = 'gau',  label = 'Gaussian')\n",
    "sns.kdeplot(x, kernel = 'cos',  label = 'Cosine')\n",
    "sns.kdeplot(x, kernel = 'epa',  label = 'Epanechnikov')\n",
    "sns.kdeplot(x, kernel = 'tri',  label = 'Triangular')\n",
    "\n",
    "leg = ax.legend()"
   ]
  },
  {
   "cell_type": "markdown",
   "metadata": {
    "slideshow": {
     "slide_type": "slide"
    }
   },
   "source": [
    "# Summarizing by Group\n",
    "\n",
    "- It's often interesting to look at various statistics/models by sub-groups.\n",
    "- To implement in pandas we can use the `.groupby` method."
   ]
  },
  {
   "cell_type": "code",
   "execution_count": 122,
   "metadata": {
    "slideshow": {
     "slide_type": "-"
    }
   },
   "outputs": [
    {
     "data": {
      "text/plain": [
       "country\n",
       "Australia USA                              24553838.0\n",
       "Canada USA                                 29581355.0\n",
       "Chile Germany Spain USA                      806746.0\n",
       "France USA                                 36241300.0\n",
       "Israel Switzerland Germany France             36786.0\n",
       "Italy Soviet Union                             5233.0\n",
       "Mexico                                      2675608.0\n",
       "South Africa USA                            4436089.0\n",
       "UK USA                                     20636742.0\n",
       "USA                                        35261701.0\n",
       "USA Australia                              84060376.0\n",
       "USA South Africa South Korea Australia    501105037.0\n",
       "Name: box_office, dtype: float64"
      ]
     },
     "execution_count": 122,
     "metadata": {},
     "output_type": "execute_result"
    }
   ],
   "source": [
    "(moviedf_clean['box_office']\n",
    " .astype(float)\n",
    " .dropna()\n",
    " .groupby(moviedf_clean['country'])\n",
    " .mean().round(0))"
   ]
  },
  {
   "cell_type": "code",
   "execution_count": 123,
   "metadata": {
    "slideshow": {
     "slide_type": "subslide"
    }
   },
   "outputs": [
    {
     "data": {
      "text/plain": [
       "country\n",
       "Australia USA                             1\n",
       "Canada USA                                1\n",
       "Chile Germany Spain USA                   1\n",
       "France USA                                1\n",
       "Israel Switzerland Germany France         1\n",
       "Italy Soviet Union                        1\n",
       "Mexico                                    1\n",
       "South Africa USA                          1\n",
       "UK USA                                    1\n",
       "USA                                       9\n",
       "USA Australia                             1\n",
       "USA South Africa South Korea Australia    1\n",
       "Name: box_office, dtype: int64"
      ]
     },
     "execution_count": 123,
     "metadata": {},
     "output_type": "execute_result"
    }
   ],
   "source": [
    "(moviedf_clean['box_office']\n",
    " .astype(float)\n",
    " .dropna()\n",
    " .groupby(moviedf_clean['country'])\n",
    " .count())"
   ]
  },
  {
   "cell_type": "markdown",
   "metadata": {
    "slideshow": {
     "slide_type": "slide"
    }
   },
   "source": [
    "# Relationship between movie ratings"
   ]
  },
  {
   "cell_type": "code",
   "execution_count": 124,
   "metadata": {
    "slideshow": {
     "slide_type": "subslide"
    }
   },
   "outputs": [
    {
     "data": {
      "image/png": "[encoded data removed]",
      "text/plain": [
       "<Figure size 432x288 with 1 Axes>"
      ]
     },
     "metadata": {},
     "output_type": "display_data"
    }
   ],
   "source": [
    "(moviedf_clean[['imdb_rating', 'metascore']].\n",
    " astype(float).\n",
    " plot.scatter(x = 'metascore', y = 'imdb_rating'));"
   ]
  },
  {
   "cell_type": "code",
   "execution_count": 125,
   "metadata": {
    "slideshow": {
     "slide_type": "subslide"
    }
   },
   "outputs": [
    {
     "data": {
      "image/png": "[encoded data removed]",
      "text/plain": [
       "<Figure size 360x360 with 1 Axes>"
      ]
     },
     "metadata": {},
     "output_type": "display_data"
    }
   ],
   "source": [
    "moviedf_clean[['imdb_rating', 'metascore']] = (moviedf_clean[['imdb_rating', 'metascore']]\n",
    "                                               .astype(float))\n",
    "\n",
    "sns.lmplot(x = 'metascore', y = 'imdb_rating', data = moviedf_clean);"
   ]
  },
  {
   "cell_type": "markdown",
   "metadata": {},
   "source": [
    "# Merging or Joining DataFrames"
   ]
  },
  {
   "cell_type": "code",
   "execution_count": 232,
   "metadata": {
    "slideshow": {
     "slide_type": "slide"
    }
   },
   "outputs": [
    {
     "data": {
      "text/html": [
       "<div>\n",
       "<style scoped>\n",
       "    .dataframe tbody tr th:only-of-type {\n",
       "        vertical-align: middle;\n",
       "    }\n",
       "\n",
       "    .dataframe tbody tr th {\n",
       "        vertical-align: top;\n",
       "    }\n",
       "\n",
       "    .dataframe thead th {\n",
       "        text-align: right;\n",
       "    }\n",
       "</style>\n",
       "<table border=\"1\" class=\"dataframe\">\n",
       "  <thead>\n",
       "    <tr style=\"text-align: right;\">\n",
       "      <th></th>\n",
       "      <th>key</th>\n",
       "      <th>data1</th>\n",
       "    </tr>\n",
       "  </thead>\n",
       "  <tbody>\n",
       "    <tr>\n",
       "      <th>0</th>\n",
       "      <td>b</td>\n",
       "      <td>0</td>\n",
       "    </tr>\n",
       "    <tr>\n",
       "      <th>1</th>\n",
       "      <td>b</td>\n",
       "      <td>1</td>\n",
       "    </tr>\n",
       "    <tr>\n",
       "      <th>2</th>\n",
       "      <td>a</td>\n",
       "      <td>2</td>\n",
       "    </tr>\n",
       "    <tr>\n",
       "      <th>3</th>\n",
       "      <td>c</td>\n",
       "      <td>3</td>\n",
       "    </tr>\n",
       "    <tr>\n",
       "      <th>4</th>\n",
       "      <td>a</td>\n",
       "      <td>4</td>\n",
       "    </tr>\n",
       "    <tr>\n",
       "      <th>5</th>\n",
       "      <td>a</td>\n",
       "      <td>5</td>\n",
       "    </tr>\n",
       "    <tr>\n",
       "      <th>6</th>\n",
       "      <td>b</td>\n",
       "      <td>6</td>\n",
       "    </tr>\n",
       "  </tbody>\n",
       "</table>\n",
       "</div>"
      ],
      "text/plain": [
       "  key  data1\n",
       "0   b      0\n",
       "1   b      1\n",
       "2   a      2\n",
       "3   c      3\n",
       "4   a      4\n",
       "5   a      5\n",
       "6   b      6"
      ]
     },
     "execution_count": 232,
     "metadata": {},
     "output_type": "execute_result"
    }
   ],
   "source": [
    "df1 = pd.DataFrame({'key': ['b', 'b', 'a', 'c', 'a', 'a', 'b'],\n",
    "                    'data1': range(7)})\n",
    "\n",
    "df2 = pd.DataFrame({'key': ['a', 'b', 'd'],\n",
    "                    'data2': range(3)})\n",
    "df1"
   ]
  },
  {
   "cell_type": "code",
   "execution_count": 229,
   "metadata": {
    "slideshow": {
     "slide_type": "slide"
    }
   },
   "outputs": [
    {
     "data": {
      "text/html": [
       "<div>\n",
       "<style scoped>\n",
       "    .dataframe tbody tr th:only-of-type {\n",
       "        vertical-align: middle;\n",
       "    }\n",
       "\n",
       "    .dataframe tbody tr th {\n",
       "        vertical-align: top;\n",
       "    }\n",
       "\n",
       "    .dataframe thead th {\n",
       "        text-align: right;\n",
       "    }\n",
       "</style>\n",
       "<table border=\"1\" class=\"dataframe\">\n",
       "  <thead>\n",
       "    <tr style=\"text-align: right;\">\n",
       "      <th></th>\n",
       "      <th>key</th>\n",
       "      <th>data2</th>\n",
       "    </tr>\n",
       "  </thead>\n",
       "  <tbody>\n",
       "    <tr>\n",
       "      <th>0</th>\n",
       "      <td>a</td>\n",
       "      <td>0</td>\n",
       "    </tr>\n",
       "    <tr>\n",
       "      <th>1</th>\n",
       "      <td>b</td>\n",
       "      <td>1</td>\n",
       "    </tr>\n",
       "    <tr>\n",
       "      <th>2</th>\n",
       "      <td>d</td>\n",
       "      <td>2</td>\n",
       "    </tr>\n",
       "  </tbody>\n",
       "</table>\n",
       "</div>"
      ],
      "text/plain": [
       "  key  data2\n",
       "0   a      0\n",
       "1   b      1\n",
       "2   d      2"
      ]
     },
     "execution_count": 229,
     "metadata": {},
     "output_type": "execute_result"
    }
   ],
   "source": [
    "df2"
   ]
  },
  {
   "cell_type": "code",
   "execution_count": 231,
   "metadata": {
    "slideshow": {
     "slide_type": "slide"
    }
   },
   "outputs": [
    {
     "data": {
      "text/html": [
       "<div>\n",
       "<style scoped>\n",
       "    .dataframe tbody tr th:only-of-type {\n",
       "        vertical-align: middle;\n",
       "    }\n",
       "\n",
       "    .dataframe tbody tr th {\n",
       "        vertical-align: top;\n",
       "    }\n",
       "\n",
       "    .dataframe thead th {\n",
       "        text-align: right;\n",
       "    }\n",
       "</style>\n",
       "<table border=\"1\" class=\"dataframe\">\n",
       "  <thead>\n",
       "    <tr style=\"text-align: right;\">\n",
       "      <th></th>\n",
       "      <th>key</th>\n",
       "      <th>data1</th>\n",
       "      <th>data2</th>\n",
       "    </tr>\n",
       "  </thead>\n",
       "  <tbody>\n",
       "    <tr>\n",
       "      <th>0</th>\n",
       "      <td>b</td>\n",
       "      <td>0</td>\n",
       "      <td>1</td>\n",
       "    </tr>\n",
       "    <tr>\n",
       "      <th>1</th>\n",
       "      <td>b</td>\n",
       "      <td>1</td>\n",
       "      <td>1</td>\n",
       "    </tr>\n",
       "    <tr>\n",
       "      <th>2</th>\n",
       "      <td>b</td>\n",
       "      <td>6</td>\n",
       "      <td>1</td>\n",
       "    </tr>\n",
       "    <tr>\n",
       "      <th>3</th>\n",
       "      <td>a</td>\n",
       "      <td>2</td>\n",
       "      <td>0</td>\n",
       "    </tr>\n",
       "    <tr>\n",
       "      <th>4</th>\n",
       "      <td>a</td>\n",
       "      <td>4</td>\n",
       "      <td>0</td>\n",
       "    </tr>\n",
       "    <tr>\n",
       "      <th>5</th>\n",
       "      <td>a</td>\n",
       "      <td>5</td>\n",
       "      <td>0</td>\n",
       "    </tr>\n",
       "  </tbody>\n",
       "</table>\n",
       "</div>"
      ],
      "text/plain": [
       "  key  data1  data2\n",
       "0   b      0      1\n",
       "1   b      1      1\n",
       "2   b      6      1\n",
       "3   a      2      0\n",
       "4   a      4      0\n",
       "5   a      5      0"
      ]
     },
     "execution_count": 231,
     "metadata": {},
     "output_type": "execute_result"
    }
   ],
   "source": [
    "pd.merge(df1, df2, on = 'key')"
   ]
  },
  {
   "cell_type": "code",
   "execution_count": 233,
   "metadata": {
    "slideshow": {
     "slide_type": "slide"
    }
   },
   "outputs": [
    {
     "data": {
      "text/html": [
       "<div>\n",
       "<style scoped>\n",
       "    .dataframe tbody tr th:only-of-type {\n",
       "        vertical-align: middle;\n",
       "    }\n",
       "\n",
       "    .dataframe tbody tr th {\n",
       "        vertical-align: top;\n",
       "    }\n",
       "\n",
       "    .dataframe thead th {\n",
       "        text-align: right;\n",
       "    }\n",
       "</style>\n",
       "<table border=\"1\" class=\"dataframe\">\n",
       "  <thead>\n",
       "    <tr style=\"text-align: right;\">\n",
       "      <th></th>\n",
       "      <th>key</th>\n",
       "      <th>data1</th>\n",
       "      <th>data2</th>\n",
       "    </tr>\n",
       "  </thead>\n",
       "  <tbody>\n",
       "    <tr>\n",
       "      <th>0</th>\n",
       "      <td>b</td>\n",
       "      <td>0</td>\n",
       "      <td>1</td>\n",
       "    </tr>\n",
       "    <tr>\n",
       "      <th>1</th>\n",
       "      <td>b</td>\n",
       "      <td>1</td>\n",
       "      <td>1</td>\n",
       "    </tr>\n",
       "    <tr>\n",
       "      <th>2</th>\n",
       "      <td>b</td>\n",
       "      <td>6</td>\n",
       "      <td>1</td>\n",
       "    </tr>\n",
       "    <tr>\n",
       "      <th>3</th>\n",
       "      <td>a</td>\n",
       "      <td>2</td>\n",
       "      <td>0</td>\n",
       "    </tr>\n",
       "    <tr>\n",
       "      <th>4</th>\n",
       "      <td>a</td>\n",
       "      <td>4</td>\n",
       "      <td>0</td>\n",
       "    </tr>\n",
       "    <tr>\n",
       "      <th>5</th>\n",
       "      <td>a</td>\n",
       "      <td>5</td>\n",
       "      <td>0</td>\n",
       "    </tr>\n",
       "  </tbody>\n",
       "</table>\n",
       "</div>"
      ],
      "text/plain": [
       "  key  data1  data2\n",
       "0   b      0      1\n",
       "1   b      1      1\n",
       "2   b      6      1\n",
       "3   a      2      0\n",
       "4   a      4      0\n",
       "5   a      5      0"
      ]
     },
     "execution_count": 233,
     "metadata": {},
     "output_type": "execute_result"
    }
   ],
   "source": [
    "pd.merge(df1, df2, how= 'inner', on = 'key') # only key combinations in both tables"
   ]
  },
  {
   "cell_type": "code",
   "execution_count": 234,
   "metadata": {
    "slideshow": {
     "slide_type": "slide"
    }
   },
   "outputs": [
    {
     "data": {
      "text/html": [
       "<div>\n",
       "<style scoped>\n",
       "    .dataframe tbody tr th:only-of-type {\n",
       "        vertical-align: middle;\n",
       "    }\n",
       "\n",
       "    .dataframe tbody tr th {\n",
       "        vertical-align: top;\n",
       "    }\n",
       "\n",
       "    .dataframe thead th {\n",
       "        text-align: right;\n",
       "    }\n",
       "</style>\n",
       "<table border=\"1\" class=\"dataframe\">\n",
       "  <thead>\n",
       "    <tr style=\"text-align: right;\">\n",
       "      <th></th>\n",
       "      <th>key</th>\n",
       "      <th>data1</th>\n",
       "      <th>data2</th>\n",
       "    </tr>\n",
       "  </thead>\n",
       "  <tbody>\n",
       "    <tr>\n",
       "      <th>0</th>\n",
       "      <td>b</td>\n",
       "      <td>0</td>\n",
       "      <td>1.0</td>\n",
       "    </tr>\n",
       "    <tr>\n",
       "      <th>1</th>\n",
       "      <td>b</td>\n",
       "      <td>1</td>\n",
       "      <td>1.0</td>\n",
       "    </tr>\n",
       "    <tr>\n",
       "      <th>2</th>\n",
       "      <td>a</td>\n",
       "      <td>2</td>\n",
       "      <td>0.0</td>\n",
       "    </tr>\n",
       "    <tr>\n",
       "      <th>3</th>\n",
       "      <td>c</td>\n",
       "      <td>3</td>\n",
       "      <td>NaN</td>\n",
       "    </tr>\n",
       "    <tr>\n",
       "      <th>4</th>\n",
       "      <td>a</td>\n",
       "      <td>4</td>\n",
       "      <td>0.0</td>\n",
       "    </tr>\n",
       "    <tr>\n",
       "      <th>5</th>\n",
       "      <td>a</td>\n",
       "      <td>5</td>\n",
       "      <td>0.0</td>\n",
       "    </tr>\n",
       "    <tr>\n",
       "      <th>6</th>\n",
       "      <td>b</td>\n",
       "      <td>6</td>\n",
       "      <td>1.0</td>\n",
       "    </tr>\n",
       "  </tbody>\n",
       "</table>\n",
       "</div>"
      ],
      "text/plain": [
       "  key  data1  data2\n",
       "0   b      0    1.0\n",
       "1   b      1    1.0\n",
       "2   a      2    0.0\n",
       "3   c      3    NaN\n",
       "4   a      4    0.0\n",
       "5   a      5    0.0\n",
       "6   b      6    1.0"
      ]
     },
     "execution_count": 234,
     "metadata": {},
     "output_type": "execute_result"
    }
   ],
   "source": [
    "pd.merge(df1, df2, how= 'left', on = 'key') # use all key combinations in left tables"
   ]
  },
  {
   "cell_type": "markdown",
   "metadata": {
    "hideCode": true,
    "slideshow": {
     "slide_type": "slide"
    }
   },
   "source": [
    "See pandas [documentation on joining/merging](http://pandas.pydata.org/pandas-docs/stable/merging.html#database-style-dataframe-joining-merging) for more options."
   ]
  }
 ],
 "metadata": {
  "celltoolbar": "Slideshow",
  "kernelspec": {
   "display_name": "Python 3",
   "language": "python",
   "name": "python3"
  },
  "language_info": {
   "codemirror_mode": {
    "name": "ipython",
    "version": 3
   },
   "file_extension": ".py",
   "mimetype": "text/x-python",
   "name": "python",
   "nbconvert_exporter": "python",
   "pygments_lexer": "ipython3",
   "version": "3.6.4"
  }
 },
 "nbformat": 4,
 "nbformat_minor": 2
}
