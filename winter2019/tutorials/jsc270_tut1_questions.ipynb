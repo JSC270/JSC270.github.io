{
 "cells": [
  {
   "cell_type": "markdown",
   "metadata": {},
   "source": [
    "# JSC270S - Tutorial \\#1 : Hiring algorithms\n",
    "\n",
    "## Profs. F. Chevalier and N. Taback\n",
    "\n",
    "\n",
    "## Date: January 16, 2019\n",
    "## Time: 12:00 - 14:00\n",
    "## Location: BA 3175\n",
    "\n",
    "\n",
    "****\n",
    "## Instructions\n",
    "\n",
    "- Make a copy of this notebook.\n",
    "\n",
    "- The notebook should be named: jsc270_tut1_answers_lastname_studentnumber, where \"lastname\" is your last name, and \"studentnumber\" is your UofT student number.\n",
    "\n",
    "- Answer the questions in the cells that indicate where your answers should be placed. Leave the initial comment in the code cell and heading (indicated by `# Answer for qustion XX`).  For example, place your code for Question 1 in the code cell with comment `# Enter your answer for Question 1 into this cell` (remember not to delete this comment).\n",
    "\n",
    "- Make sure that you explain your solutions when asked and comment your code. \n",
    "\n",
    "- Commit and push changes to the Github classroom repository that we has been provided (more details below).\n",
    "\n",
    "\n",
    "### What should be submitted?\n",
    "\n",
    "- A *Jupyter notebook* using Python that contains all the data analyses. Make sure to comment your code in the code cells.\n",
    "\n",
    "- Additional files that your notebook requires to compile properly (e.g. a data file).\n",
    "\n",
    "- A pdf of your Jupyter notebook exported as a pdf file.  This can be done using [`nbconvert`](https://nbconvert.readthedocs.io/en/latest/install.html).\n",
    "\n",
    "\n",
    "### When should it be submitted?\n",
    "\n",
    "*This tutorial consists of a 2-step submission as follows:*\n",
    "\n",
    "- **At the end of the tutorial (in-lab tutorial assignment)**: Commit and push your notebook to the Github classroom repository that contains your answers (i.e., the file named: jsc270_tut1_answers_lastname_studentnumber.ipynb) before 14:10 on the day of the tutorial, January 16.\n",
    "\n",
    "- In between January 16, 14:10 p.m. and January 21, 11:30 you should commit and push your answer notebook as you work on the assignment during the week. Commiting and pushing often is good practice (and as a bonus you will have a backup and be able to revisit previous version).\n",
    "\n",
    "- [`nbdime`](https://nbdime.readthedocs.io/en/latest/) is a Python package that allows you (and the teaching team) to the changes you have made to your assignment. \n",
    "\n",
    "- **Homework (tutorial assignment completion)**: Push your completed tutorial by 11:30, Monday, January 21.  Your last commit closest to 11:30 will be considered your final assignment.\n",
    "\n",
    "### Where should the assignment be submitted?\n",
    "\n",
    "Push your finished notebook and any other files on Github, through the following link: [https://classroom.github.com/a/VSn3JxaH](https://classroom.github.com/a/VSn3JxaH)\n",
    "\n",
    "Upload the pdf of your answer notebook to the JSC270 course page on Quercus.\n",
    "\n",
    "***\n",
    "\n",
    "## Tutorial Grading\n",
    "\n",
    "Tutorials will be graded according to the following marking scheme.\n",
    "\n",
    "<table>\n",
    "  <tr>\n",
    "    <th></th>\n",
    "    <th>Marks</th>\n",
    "  </tr>\n",
    "  <tr>\n",
    "    <td>Tutorial Participation</td>\n",
    "    <td>5</td>\n",
    "  </tr>\n",
    "  <tr>\n",
    "    <td>Attendance for entire tutorial</td>\n",
    "    <td>5</td>\n",
    "  </tr>\n",
    "  <tr>\n",
    "    <td>In-lab tutorial assignment</td>\n",
    "    <td>20</td>\n",
    "  </tr>\n",
    "  <tr>\n",
    "    <td>Tutorial assignment completion</td>\n",
    "    <td>20</td>\n",
    "  </tr>\n",
    "</table>\n",
    "\n",
    "\n",
    "### Grading Rubric for Tutorial Assignments\n",
    "\n",
    "Tutorial grading rubric is available [here](https://jsc270.github.io/tut_docs.html#tutorial_grading).\n",
    "\n",
    "\n",
    "***\n",
    "\n",
    "## Tutorial objectives\n",
    "The goal of this tutorial is to design appropriate selection criteria to filter data and reflect on the implications of the solution in the context of a real-world scenario. In this tutorial, you will practice table manipulations, as well as synthetic data generation. More specifically, we will cover the following in this tutorial: \n",
    "\n",
    "* Read from, and write to a csv file \n",
    "* Use python to extract data entries that satify given criteria\n",
    "* Use python to create numerical and visual summaries \n",
    "* Create statistically meaningful solutions to selection\n",
    "* Generate a synthetic dataset from given probability distribution functions\n",
    "* Reflect on implications of automated methods to data selection\n",
    "\n",
    "<br>"
   ]
  },
  {
   "cell_type": "markdown",
   "metadata": {},
   "source": [
    "# Fill in your name and student number in this cell\n",
    "\n",
    "<h2 id=\"first\"> <mark> First Name: write your first name is this space </mark> </h2>\n",
    "\n",
    "<h2 id=\"last\"> <mark> Last Name: write your last name is this space </mark> </h2>\n",
    "\n",
    "<br>\n",
    "\n",
    "<h2 id=\"stnum\"> <mark> Student Number: write your student number is this space </mark> </h2>"
   ]
  },
  {
   "cell_type": "markdown",
   "metadata": {},
   "source": [
    "***\n",
    "# An algorithm to select the most promising candidates\n",
    "\n",
    "Imagine you are working for Moogle, a well-known tech company that receives tens of thousands of job applications from graduating seniors every year. Since the company receives too many job applications for Human Resources (HR) to individually assess in a reasonable amount of time, you are asked to create a program that algorithmically analyzes applications and selects the ones most worth passing onto HR.\n",
    "\n",
    "Since it’s difficult to create these first-pass cuts, Moogle designs their application forms to get some numerical data about their applicants’ education in Computer Science specifically and stores this information in a large [comma-separated value (csv) file](https://en.wikipedia.org/wiki/Comma-separated_values).\n",
    "\n",
    "\n",
    "### Applicant data\n",
    "\n",
    "Applicants to a developer position must enter the grades they received in 6 core Computer Science (CS) courses, as well as their overall GPA.  \n",
    "For example, a student who received the following grades...\n",
    "\n",
    "> __Intro to CS__: 100  \n",
    "> __Data Structures__: 95  \n",
    "> __Software Engineering__: 80  \n",
    "> __Algorithms__: 89  \n",
    "> __Computer Organization__: 91  \n",
    "> __Operating Systems__: 75  \n",
    "> __Overall GPA__: 83\n",
    "\n",
    "will appear in the csv file as follows: `cs0001, 100, 95, 80, 89, 91, 75, 83`, where the first index (or attribute), `csc0001` corresponds to the applicant id automatically generated by the system.\n",
    "\n",
    "The data for 5000 applicants is available in a .csv format, at [CS-apps.csv](CS-apps.csv)."
   ]
  },
  {
   "cell_type": "markdown",
   "metadata": {},
   "source": [
    "***\n",
    "## Part 1 - Selecting the best applicants\n",
    "***\n",
    "\n",
    "### Loading data from a file\n",
    "\n",
    "There are several options to choose from to load data from a csv file into a Python data structure. We list two common approaches here:\n",
    "\n",
    "*Option 1:* Use the python csv library.  \n",
    "See the documentation on how to read and write csv files using this library [here](https://docs.python.org/3/library/csv.html). A starter code is provided below. \n",
    "\n",
    "Here is an example of a basic .csv file:"
   ]
  },
  {
   "cell_type": "code",
   "execution_count": 1,
   "metadata": {},
   "outputs": [
    {
     "name": "stdout",
     "output_type": "stream",
     "text": [
      "1/2/2014,5,8,red\n",
      "1/3/2014,5,2,green\n",
      "1/4/2014,9,1,blue\n",
      "\u001b[K\u001b[7m(END)\u001b[m\u001b[K\u001b[m\u001b[K\u0007"
     ]
    }
   ],
   "source": [
    "!less data.csv"
   ]
  },
  {
   "cell_type": "markdown",
   "metadata": {},
   "source": [
    "The code below is an example of how you can read data from the `data.csv` file using the python csv library, and display the first and last indexes of each row."
   ]
  },
  {
   "cell_type": "code",
   "execution_count": 1,
   "metadata": {},
   "outputs": [
    {
     "name": "stdout",
     "output_type": "stream",
     "text": [
      "1/2/2014 red\n",
      "1/3/2014 green\n",
      "1/4/2014 blue\n"
     ]
    }
   ],
   "source": [
    "import csv\n",
    "with open('data.csv', 'r') as csvfile:\n",
    "     datareader = csv.reader(csvfile, delimiter=',')\n",
    "     for row in datareader:\n",
    "         print(row[0], row[3]) #or row[-1] for the last index"
   ]
  },
  {
   "cell_type": "markdown",
   "metadata": {},
   "source": [
    "*Option 2:* Another option (recommended for this tutorial) is to use the built-in csv reader of pandas (see [pandas documentation](https://pandas.pydata.org/) ).\n",
    "\n",
    "<br>\n",
    "\n",
    "**$\\Diamond$ Question 1:** Read the csv file [`CS-apps.csv`](CS-apps.csv) into Python."
   ]
  },
  {
   "cell_type": "code",
   "execution_count": 1,
   "metadata": {},
   "outputs": [],
   "source": [
    "# Enter your answer for Question 1 into this cell"
   ]
  },
  {
   "cell_type": "markdown",
   "metadata": {},
   "source": [
    "### Write Python code to select the most promising candidates\n",
    "\n",
    "**$\\Diamond$ Question 2.a:** Select applicants whose overall GPA is at least 85.  "
   ]
  },
  {
   "cell_type": "code",
   "execution_count": 12,
   "metadata": {},
   "outputs": [],
   "source": [
    "# Enter your answer for Question 2.a into this cell"
   ]
  },
  {
   "cell_type": "markdown",
   "metadata": {},
   "source": [
    "**$\\Diamond$ Question 2.b:** Select applicants who have no grade below 65.  "
   ]
  },
  {
   "cell_type": "code",
   "execution_count": 13,
   "metadata": {},
   "outputs": [],
   "source": [
    "# Enter your answer for Question 2.b into this cell"
   ]
  },
  {
   "cell_type": "markdown",
   "metadata": {},
   "source": [
    "**$\\Diamond$ Question 2.c:** Select applicants who have at least 4 grades strictly above 85.  "
   ]
  },
  {
   "cell_type": "code",
   "execution_count": 14,
   "metadata": {},
   "outputs": [],
   "source": [
    "# Enter your answer for Question 2.c into this cell"
   ]
  },
  {
   "cell_type": "markdown",
   "metadata": {},
   "source": [
    "**$\\Diamond$ Question 2.d:** Select applicants who have an average of CS grades strictly above 75."
   ]
  },
  {
   "cell_type": "code",
   "execution_count": 15,
   "metadata": {},
   "outputs": [],
   "source": [
    "# Enter your answer for Question 2.d into this cell"
   ]
  },
  {
   "cell_type": "markdown",
   "metadata": {},
   "source": [
    "**$\\Diamond$ Question 3:** For each of the above algorithms, answer the following questions:\n",
    "* The criteria in questions 2.a - 2.d define the \"cut\".  How many applicants made the cut?  What percentage of the application pool made the cut?\n",
    "* Were applicants 'cs0270' and 'cs2537' selected?\n",
    "* Explain your answer in a few sentences."
   ]
  },
  {
   "cell_type": "code",
   "execution_count": 16,
   "metadata": {},
   "outputs": [],
   "source": [
    "# Code cell for question 3"
   ]
  },
  {
   "cell_type": "markdown",
   "metadata": {},
   "source": [
    "# Answer for question 3\n",
    "\n",
    "- Enter your answer in this cell.\n",
    "- You may remove this text."
   ]
  },
  {
   "cell_type": "markdown",
   "metadata": {},
   "source": [
    "### Are we doing things right?  — Creating numerical and visual summaries of the data\n",
    "\n",
    "The above algorithms are pretty naive. Let's see if we can do better. First, let's have a look at what our data looks like. To do so, we are going to analyse our data more closely.  \n",
    "\n",
    "*Visual summaries*: Visualize distributions of grades using [matplotlib](https://matplotlib.org/).\n",
    "\n",
    "**$\\Diamond$ Question 4.a:** Plot the distribution of grades in the \"Intro to CS\" course. What do you observe?  "
   ]
  },
  {
   "cell_type": "code",
   "execution_count": 17,
   "metadata": {},
   "outputs": [],
   "source": [
    "#code for 4.a."
   ]
  },
  {
   "cell_type": "markdown",
   "metadata": {},
   "source": [
    "# Answer for question 4.a \n",
    "\n",
    "- Enter your answer in this cell.\n",
    "- You may remove this text."
   ]
  },
  {
   "cell_type": "markdown",
   "metadata": {},
   "source": [
    "**$\\Diamond$ Question 4.b:** Plot the distribution of grades in the \"Operating systems\" course. What do you observe?  "
   ]
  },
  {
   "cell_type": "code",
   "execution_count": 18,
   "metadata": {},
   "outputs": [],
   "source": [
    "# code for 4.b."
   ]
  },
  {
   "cell_type": "markdown",
   "metadata": {},
   "source": [
    "# Answer for question 4.b.\n",
    "\n",
    "- Enter your answer in this cell.\n",
    "- You may remove this text."
   ]
  },
  {
   "cell_type": "markdown",
   "metadata": {},
   "source": [
    "**$\\Diamond$ Question 4.c:** Repeat 4.b. for the remaining courses. What can you conclude?"
   ]
  },
  {
   "cell_type": "code",
   "execution_count": 19,
   "metadata": {},
   "outputs": [],
   "source": [
    "# code for 4.c."
   ]
  },
  {
   "cell_type": "markdown",
   "metadata": {},
   "source": [
    "# Answer for question 4.c.\n",
    "\n",
    "- Enter your answer in this cell.\n",
    "- You may remove this text."
   ]
  },
  {
   "cell_type": "markdown",
   "metadata": {},
   "source": [
    "*Numerical summaries*: Calculate simple statistics.\n",
    "\n",
    "* See documentatation for `pandas` [descriptive statistics functions](http://pandas.pydata.org/pandas-docs/stable/api.html#api-dataframe-stats)\n",
    "* See documentation for `numpy` [descriptive statistics functions](https://docs.scipy.org/doc/numpy/reference/routines.statistics.html#averages-and-variances)\n",
    "\n",
    "**$\\Diamond$ Question 5.a:** Using the pandas method [`describe`](http://pandas.pydata.org/pandas-docs/stable/generated/pandas.Series.describe.html), generate statistical summaries for each course.  "
   ]
  },
  {
   "cell_type": "code",
   "execution_count": 20,
   "metadata": {},
   "outputs": [],
   "source": [
    "# enter code for question 5.a."
   ]
  },
  {
   "cell_type": "markdown",
   "metadata": {},
   "source": [
    "**$\\Diamond$ Question 5.b:** Generate the `min`, `max`, `mean`, `std`, `lower quartile`, `second quartile (median)`, `upper quartile`, `10% percentile` values for \"Operating systems\" and \"Overall GPA\". For this question, you must use the dedicated function for each value (i.e., don't use `describe`). "
   ]
  },
  {
   "cell_type": "code",
   "execution_count": 21,
   "metadata": {},
   "outputs": [],
   "source": [
    "# enter code for question 5.b."
   ]
  },
  {
   "cell_type": "markdown",
   "metadata": {},
   "source": [
    "### Improved algorithm\n",
    "\n",
    "**$\\Diamond$ Question 6:** Use your data analyses in questions 4 and 5 to develop a new criteria (i.e., different from the criteria given in question 2) to select to select the top applicants.  Describe the reasoning behind your new criteria and why your new criteria improves the selection process."
   ]
  },
  {
   "cell_type": "markdown",
   "metadata": {},
   "source": [
    "# Answer for question 6\n",
    "\n",
    "- Enter your answer in this cell.\n",
    "- You may remove this text."
   ]
  },
  {
   "cell_type": "markdown",
   "metadata": {},
   "source": [
    "**$\\Diamond$ Question 7:** Write a program using Python that returns a new list of worthwhile candidates.  How different is your list compared to the list using the criteria in question 2?  "
   ]
  },
  {
   "cell_type": "code",
   "execution_count": 23,
   "metadata": {},
   "outputs": [],
   "source": [
    "# code for question 7"
   ]
  },
  {
   "cell_type": "markdown",
   "metadata": {},
   "source": [
    "# Answer for question 7\n",
    "\n",
    "- Enter your answer in this cell.\n",
    "- You may remove this text."
   ]
  },
  {
   "cell_type": "markdown",
   "metadata": {},
   "source": [
    "**$\\Diamond$ Question 8:** Briefly describe the tradeoffs of your selection criteria versus the criteria in question 2."
   ]
  },
  {
   "cell_type": "markdown",
   "metadata": {},
   "source": [
    "# Answer for question 8\n",
    "\n",
    "- Enter your answer in this cell.\n",
    "- You may remove this text."
   ]
  },
  {
   "cell_type": "markdown",
   "metadata": {},
   "source": [
    "***\n",
    "## Part 2 - Generate a synthetic dataset\n",
    "***\n",
    "\n",
    "Before adopting your algorithm, HR wants to test your proposed algorithm, and compare it against a third-party solution on different, larger datasets. To do so, they ask you to write code for them to generate synthetic data with the following properties.\n",
    "\n",
    "* **Introduction to CS:**  \n",
    "  * normal distribution $N(90, 5^2)$\n",
    "\n",
    "* **Data structures:**\n",
    "  * normal distribution $N(85,10^2)$\n",
    "\n",
    "* **Software engineering** (renowned as either you're good at it, either you're weak):\n",
    "  * typically  $30\\%$ of the population has strong results: normal distribution  $N(90,5^2)$ \n",
    "  * the rest is weaker: normal distribution $N(65,5^2)$ \n",
    "\n",
    "* **Algorithms:**\n",
    "  * strong correlation with data structures, typically within the same (10 points) range\n",
    "\n",
    "* **Computer organization:**\n",
    "  * normal distribution  $N(75,15^2)$ \n",
    "  * some exceptional grades (3% of the population):  $N(95,2^2)$ \n",
    "  * some very low grades (10% of the population):  $N(60,15^2)$ \n",
    "\n",
    "* **Operating systems:**\n",
    "  * [skew normal distribution](https://en.wikipedia.org/wiki/Skew_normal_distribution) $\\alpha=10$, $\\xi=80$ , $\\omega=5$ \n",
    "\n",
    "* **GPA**\n",
    "  * about half of the population is \"average\": normal distribution  $N(75,10^2)$  \n",
    "  * the other half is \"strong\": normal distribution $N(90,10^2)$\n",
    "\n",
    "### Simulate data and replicate workflow\n",
    "\n",
    "**$\\Diamond$ Question 9:** Write a program using Python to simulate grades and GPA with the above properties.  \n",
    "*Advice: you are strongly encouraged to define reusable functions for this exercise.* Here is an example of a function that returns the absolute value of a number: \n",
    "\n",
    "```python\n",
    "    def absolute(x):\n",
    "        if x < 0:\n",
    "            return -x\n",
    "        else:\n",
    "            return x\n",
    "```"
   ]
  },
  {
   "cell_type": "code",
   "execution_count": 24,
   "metadata": {},
   "outputs": [],
   "source": [
    "# enter code for question 9"
   ]
  },
  {
   "cell_type": "markdown",
   "metadata": {},
   "source": [
    "**$\\Diamond$ Question 10:** Generate a random sample of 10000 applicants, and save these grades into a new csv file, prefixing each applicant with their id (e.g. `'cs09320'`). Run the algorithms of Part 1 on this new dataset.  "
   ]
  },
  {
   "cell_type": "code",
   "execution_count": 25,
   "metadata": {},
   "outputs": [],
   "source": [
    "# enter code for question 10"
   ]
  },
  {
   "cell_type": "markdown",
   "metadata": {},
   "source": [
    "### Limitations \n",
    "**$\\Diamond$ Question 11:** Comment on the potential limitations of the above approach to generating synthetic data.\n",
    "\n",
    "<br>\n",
    "<br>"
   ]
  },
  {
   "cell_type": "markdown",
   "metadata": {},
   "source": [
    "# Answer for question 11\n",
    "\n",
    "- Enter your answer in this cell.\n",
    "- You may remove this text.\n",
    "\n",
    "<br>"
   ]
  },
  {
   "cell_type": "markdown",
   "metadata": {},
   "source": [
    "*** \n",
    "## Part 3. Reflections\n",
    "\n",
    "Now that you feel good about your algorithm, let's highlight some of those applicants and reveal the stories between them. \n",
    "\n",
    "> **Story 1: Misread the Instructions**  \n",
    "What if an excellent applicant thinks they should put in letter grades?\n",
    ">\n",
    "> `[‘A’, ‘A’, ‘A’, ‘A’, ‘A’, ‘A’, ‘A’]`\n",
    ">\n",
    "> … or how about their grades on 4-point scale?\n",
    ">\n",
    "> `[4, 3.9, 4, 4, 3.95, 4, 3.9]`\n",
    "\n",
    "> **Story 2: Bad Assumptions**  \n",
    "> What if one of your applicants skipped Intro to Computer Science? When they saw your form, they froze, and decided that putting -1 in the input field would make it obvious…\n",
    ">\n",
    "> `[-1, 95, 99, 94, 96, 98, 95]`\n",
    "\n",
    "> **Story 3: Mistake in the Input**  \n",
    "> What if one of your applicants accidentally put in a number > 100?\n",
    ">\n",
    "> `[681, 68, 73, 70, 81, 91, 59]`\n",
    ">\n",
    "> That might seem easy enough for a program to catch, but what if they accidentally dropped a 0?\n",
    ">\n",
    "> `[100, 100, 100, 100, 100, 100, 10]`\n",
    ">\n",
    "> A person would catch that mistake easily, does your algorithm?\n",
    "\n",
    "> **Story 4: The Awful Semester**  \n",
    "> What if your applicant had a medical emergency one semester? Or a personal tragedy?\n",
    ">\n",
    "> `[95, 93, 50, 91, 98, 90, 90]`\n",
    "\n",
    "> **Story 5: Inverse Trajectories**  \n",
    "> What if one of your applicants came from an underprivileged background and really struggled at the beginning of college… but showed extraordinary growth by the end?\n",
    "> \n",
    "> `[65, 75, 85, 95, 100, 100, 80]`\n",
    "> \n",
    "> What if one of your applicants came to college with extraordinary potential? They easily aced their first few classes and then gradually grew apathetic about their education - getting nothing but barely-passing grades by the time they were a senior?\n",
    "> \n",
    "> `[100, 100, 95, 85, 75, 65, 80]`\n",
    "> \n",
    "> Does your algorithm treat them equally? \n",
    "\n",
    "<br>\n",
    "\n",
    "\n",
    "**$\\Diamond$ Question 12:**  For each of the above stories, reflect on whether you think that your algorithm does the right thing. If not, how could you improve it? Explain what you would change in a few sentences.   "
   ]
  },
  {
   "cell_type": "markdown",
   "metadata": {},
   "source": [
    "# Answer for question 12\n",
    "\n",
    "- Enter your answer in this cell.\n",
    "- You may remove this text."
   ]
  },
  {
   "cell_type": "markdown",
   "metadata": {},
   "source": [
    "**$\\Diamond$ Question 13:** Explain what precautions for writing such an automated selection algorithm should be taken in a real setting and why."
   ]
  },
  {
   "cell_type": "markdown",
   "metadata": {},
   "source": [
    "# Answer for question 13\n",
    "\n",
    "- Enter your answer in this cell.\n",
    "- You may remove this text."
   ]
  },
  {
   "cell_type": "markdown",
   "metadata": {},
   "source": [
    "### Bonus Question (worth up to 2 extra points)\n",
    "\n",
    "**$\\Diamond$ Question 14:** Implement the changes to your algorithm to properly account for the different stories above. To put your solution to test, tweak the csv file manually to introduce some cases above, and make sure you take note of what participant has what story for validation.\n",
    "<br>\n",
    "<br>"
   ]
  },
  {
   "cell_type": "code",
   "execution_count": 26,
   "metadata": {},
   "outputs": [],
   "source": [
    "# code for bonus question "
   ]
  },
  {
   "cell_type": "markdown",
   "metadata": {},
   "source": [
    "# Answer for bonus question\n",
    "\n",
    "- Enter your answer in this cell.\n",
    "- You may remove this text."
   ]
  }
 ],
 "metadata": {
  "hide_input": false,
  "kernelspec": {
   "display_name": "Python 3",
   "language": "python",
   "name": "python3"
  },
  "language_info": {
   "codemirror_mode": {
    "name": "ipython",
    "version": 3
   },
   "file_extension": ".py",
   "mimetype": "text/x-python",
   "name": "python",
   "nbconvert_exporter": "python",
   "pygments_lexer": "ipython3",
   "version": "3.6.4"
  }
 },
 "nbformat": 4,
 "nbformat_minor": 2
}
