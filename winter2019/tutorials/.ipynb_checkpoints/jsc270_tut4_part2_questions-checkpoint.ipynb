{
 "cells": [
  {
   "cell_type": "markdown",
   "metadata": {},
   "source": [
    "# JSC270S - Tutorial \\#4 - Part 2: Statistical Inference\n",
    "\n",
    "## Profs. F. Chevalier and N. Taback\n",
    "\n",
    "\n",
    "## Due date: Sunday February 17, 2019. 11:59pm.\n",
    "\n",
    "\n",
    "****\n",
    "## Instructions\n",
    "\n",
    "- This Part 2 of Tutorial #4 is individual.\n",
    "- Answer the questions below.\n",
    "\n",
    "### What should be submitted?\n",
    "\n",
    "- A *Jupyter notebook* using Python that contains all the data analyses. Make sure to comment your code in the code cells.\n",
    "\n",
    "- Additional files that your notebook requires to compile properly (e.g. a data file).\n",
    "\n",
    "- A pdf of your Jupyter notebook exported as a pdf file.  This can be done using [`nbconvert`](https://nbconvert.readthedocs.io/en/latest/install.html).\n",
    "\n",
    "\n",
    "### When should it be submitted?\n",
    "\n",
    "- Upload your answers by 11:59pm on Sunday February 17, 2019. \n",
    "\n",
    "\n",
    "### Where should the assignment be submitted?\n",
    "\n",
    "Push your finished notebook and any other files to <https://classroom.github.com/a/T9jzDN-r>\n",
    "\n",
    "Upload the pdf of your answer notebook to the JSC270 course page on Quercus.\n",
    "\n",
    "***\n",
    "\n",
    "## Tutorial Grading\n",
    "\n",
    "Tutorials will be graded according to the following marking scheme.\n",
    "\n",
    "<table>\n",
    "  <tr>\n",
    "    <th></th>\n",
    "    <th>Marks</th>\n",
    "  </tr>\n",
    "  <tr>\n",
    "    <td>Tutorial Participation</td>\n",
    "    <td>5</td>\n",
    "  </tr>\n",
    "  <tr>\n",
    "    <td>Attendance for entire tutorial</td>\n",
    "    <td>5</td>\n",
    "  </tr>\n",
    "  <tr>\n",
    "    <td>In-lab tutorial assignment</td>\n",
    "    <td>20</td>\n",
    "  </tr>\n",
    "  <tr>\n",
    "    <td>Tutorial assignment completion</td>\n",
    "    <td>20</td>\n",
    "  </tr>\n",
    "</table>\n"
   ]
  },
  {
   "cell_type": "markdown",
   "metadata": {},
   "source": [
    "# Question 1\n",
    "\n",
    "Use the influenza data from tutorial 2 to answer the following questions.\n",
    "\n",
    "Is the proportion of influenza cases in Manitoba different compared to New Bruswick?\n",
    "\n",
    "(a) Conduct a permutation test to evaluate this question. What are the assumptions behind this test? What is the p-value?  What do you conclude?"
   ]
  },
  {
   "cell_type": "code",
   "execution_count": 6,
   "metadata": {},
   "outputs": [],
   "source": [
    "# Answer for Question 1a)"
   ]
  },
  {
   "cell_type": "markdown",
   "metadata": {},
   "source": [
    "(b) Conduct a Z-test to evaluate this question.  What are the assumptions behind this test? What is the p-value?  What do you conclude?"
   ]
  },
  {
   "cell_type": "code",
   "execution_count": 7,
   "metadata": {},
   "outputs": [],
   "source": [
    "# Answer for Question 1b) "
   ]
  },
  {
   "cell_type": "markdown",
   "metadata": {},
   "source": [
    "# Question 2\n",
    "\n",
    "In class 5 we discussed this example.\n",
    "\n",
    "$$\\begin{align*}\n",
    "H_0 &: \\text{region and and subtype of influenza are independent,} \\\\ \n",
    "H_a &: \\text{region and subtype of influenza are dependent}.\n",
    "\\end{align*}$$\n",
    "\n",
    "\n",
    "(a) Write a Python program to calculate the permutation distribution to test of independence of region and subtype of influenza. Create an appropriate vizualization of this distribution."
   ]
  },
  {
   "cell_type": "code",
   "execution_count": 8,
   "metadata": {},
   "outputs": [],
   "source": [
    "# answer for Q2a"
   ]
  },
  {
   "cell_type": "markdown",
   "metadata": {},
   "source": [
    "(b) Use the permutation distribution in (a) calculate the p-value of the test."
   ]
  },
  {
   "cell_type": "code",
   "execution_count": 9,
   "metadata": {},
   "outputs": [],
   "source": [
    "# answer for Q2b"
   ]
  },
  {
   "cell_type": "markdown",
   "metadata": {},
   "source": [
    "(c) What can you conclude about region and subtype of influenza based on the results in part (b)?  "
   ]
  },
  {
   "cell_type": "markdown",
   "metadata": {},
   "source": [
    "### Answer for Q2c\n",
    "\n",
    "- place answer in this cell"
   ]
  },
  {
   "cell_type": "markdown",
   "metadata": {},
   "source": [
    "# Question 3\n",
    "\n",
    "This question involves investigating type I and II error rates for testing two proportions.  \n",
    "\n",
    "(a) Explain how to simulate the type I error rate for a Z-test of two proportions."
   ]
  },
  {
   "cell_type": "markdown",
   "metadata": {},
   "source": [
    "### Answer for Q3a\n",
    "\n",
    "- place answer in this cell"
   ]
  },
  {
   "cell_type": "markdown",
   "metadata": {},
   "source": [
    "(b) Write a program in Python to simulate the type I error rate of the Z-test for two proportions.  What is your type I error rate for your simulation?  Assume the sample size in each group is 200 and $\\alpha=0.05$."
   ]
  },
  {
   "cell_type": "code",
   "execution_count": 10,
   "metadata": {},
   "outputs": [],
   "source": [
    "# code for Q3a"
   ]
  },
  {
   "cell_type": "markdown",
   "metadata": {},
   "source": [
    "(c) Explain how to simulate the power for testing two proportions."
   ]
  },
  {
   "cell_type": "markdown",
   "metadata": {},
   "source": [
    "### Answer for Q3c\n",
    "\n",
    "- place answer in this cell"
   ]
  },
  {
   "cell_type": "markdown",
   "metadata": {},
   "source": [
    "(d) Write a program in Python to simulate the type I error rate of the Z-test for two proportions.  What is your type I error rate for your simulation?  Assume the sample size in each group is 200, $\\alpha=0.05$, and the true proportion in one group is 0.45 and the true proportion in the other group is 0.57."
   ]
  },
  {
   "cell_type": "code",
   "execution_count": 11,
   "metadata": {},
   "outputs": [],
   "source": [
    "# code for Q3d"
   ]
  },
  {
   "cell_type": "markdown",
   "metadata": {},
   "source": [
    "# Question 4\n",
    "\n",
    "Let $X$ be the number of purchases from and $n$ the number of visitors to the website.  The website owner is testing two versions of a web page on her site.  In a one-week period: 1874 visitors were randomized to page A, and 52 visitors made a purchase; and 1871 visitors were randomized to page B and 55 made a purchase. \n",
    "\n",
    "\n",
    "(a) Assume that the probability of a purchase is uniformly distributed.  Calculate the probability that the proportion of visitors to page B that make a purchase is greater than the proportion of visitors to page A.  Explain how you arrived at your answer."
   ]
  },
  {
   "cell_type": "code",
   "execution_count": 4,
   "metadata": {},
   "outputs": [],
   "source": [
    "# Codefor Q4a"
   ]
  },
  {
   "cell_type": "markdown",
   "metadata": {},
   "source": [
    "### Answer for Q4a\n",
    "\n",
    "- place answer in this cell"
   ]
  },
  {
   "cell_type": "markdown",
   "metadata": {},
   "source": [
    "(b) Compare your result in (a) to a statistical hypothesis test.  Which test is more informative? Briefly explain.  "
   ]
  },
  {
   "cell_type": "code",
   "execution_count": 3,
   "metadata": {},
   "outputs": [],
   "source": [
    "# Answer for Q4b"
   ]
  },
  {
   "cell_type": "markdown",
   "metadata": {},
   "source": [
    "### Answer for Q4b\n",
    "\n",
    "- place answer in this cell"
   ]
  }
 ],
 "metadata": {
  "kernelspec": {
   "display_name": "Python 3",
   "language": "python",
   "name": "python3"
  },
  "language_info": {
   "codemirror_mode": {
    "name": "ipython",
    "version": 3
   },
   "file_extension": ".py",
   "mimetype": "text/x-python",
   "name": "python",
   "nbconvert_exporter": "python",
   "pygments_lexer": "ipython3",
   "version": "3.6.8"
  }
 },
 "nbformat": 4,
 "nbformat_minor": 2
}
