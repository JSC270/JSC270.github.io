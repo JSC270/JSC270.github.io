{
 "cells": [
  {
   "cell_type": "markdown",
   "metadata": {},
   "source": [
    "# JSC270S - Tutorial \\#2 : Influenza Survelliance in Canada\n",
    "\n",
    "## Profs. F. Chevalier and N. Taback\n",
    "\n",
    "\n",
    "## Lab Date: January 23, 2019\n",
    "## Time: 12:00 - 14:00\n",
    "## Location: BA 3175\n",
    "\n",
    "\n",
    "****\n",
    "## Instructions\n",
    "\n",
    "- Make a copy of this notebook.\n",
    "\n",
    "- The notebook should be named: jsc270_tut2_answers_lastname_studentnumber, where \"lastname\" is your last name, and \"studentnumber\" is your UofT student number.\n",
    "\n",
    "- Answer the questions in the cells that indicate where your answers should be placed. Leave the initial comment in the code cell and heading (indicated by `# Answer for qustion XX`).  For example, place your code for Question 1 in the code cell with comment `# Enter your answer for Question 1 into this cell` (remember not to delete this comment).\n",
    "\n",
    "- Make sure that you explain your solutions when asked and comment your code. \n",
    "\n",
    "- Commit and push changes to the Github classroom repository that we has been provided (more details below).\n",
    "\n",
    "\n",
    "### What should be submitted?\n",
    "\n",
    "- A *Jupyter notebook* using Python that contains all the data analyses. Make sure to comment your code in the code cells.\n",
    "\n",
    "- Additional files that your notebook requires to compile properly (e.g. a data file).\n",
    "\n",
    "- A pdf of your Jupyter notebook exported as a pdf file.  This can be done using [`nbconvert`](https://nbconvert.readthedocs.io/en/latest/install.html).\n",
    "\n",
    "\n",
    "### When should it be submitted?\n",
    "\n",
    "*This tutorial consists of a 2-step submission as follows:*\n",
    "\n",
    "- **At the end of the tutorial (in-lab tutorial assignment)**: Commit and push your notebook to the Github classroom repository that contains your answers (i.e., the file named: jsc270_tut2_answers_lastname_studentnumber.ipynb) before 14:10 on the day of the tutorial, January 23.\n",
    "\n",
    "- In between January 23, 14:10 p.m. and January 28, 11:30 you should commit and push your answer notebook as you work on the assignment during the week. Commiting and pushing often is good practice (and as a bonus you will have a backup and be able to revisit previous version).\n",
    "\n",
    "- [`nbdime`](https://nbdime.readthedocs.io/en/latest/) is a Python package that allows you (and the teaching team) to the changes you have made to your assignment. \n",
    "\n",
    "- **Homework (tutorial assignment completion)**: Push your completed tutorial by 11:30, Monday, January 28.  Your last commit closest to 11:30 will be considered your final assignment.\n",
    "\n",
    "### Where should the assignment be submitted?\n",
    "\n",
    "Push your finished notebook and any other files on Github, through the following link: <https://classroom.github.com/a/gH0AsH-r>\n",
    "\n",
    "Upload the pdf of your answer notebook to the JSC270 course page on Quercus.\n",
    "\n",
    "***\n",
    "\n",
    "## Tutorial Grading\n",
    "\n",
    "Tutorials will be graded according to the following marking scheme.\n",
    "\n",
    "<table>\n",
    "  <tr>\n",
    "    <th></th>\n",
    "    <th>Marks</th>\n",
    "  </tr>\n",
    "  <tr>\n",
    "    <td>Tutorial Participation</td>\n",
    "    <td>5</td>\n",
    "  </tr>\n",
    "  <tr>\n",
    "    <td>Attendance for entire tutorial</td>\n",
    "    <td>5</td>\n",
    "  </tr>\n",
    "  <tr>\n",
    "    <td>In-lab tutorial assignment</td>\n",
    "    <td>20</td>\n",
    "  </tr>\n",
    "  <tr>\n",
    "    <td>Tutorial assignment completion</td>\n",
    "    <td>20</td>\n",
    "  </tr>\n",
    "</table>\n",
    "\n",
    "\n",
    "### Grading Rubric for Tutorial Assignments\n",
    "\n",
    "Tutorial grading rubric is available [here](https://jsc270.github.io/tut_docs.html#tutorial_grading).\n",
    "\n",
    "\n",
    "***\n",
    "\n",
    "## Tutorial objectives\n",
    "The goal of this tutorial is to explore questions related to the distribution of influenza in Canada."
   ]
  },
  {
   "cell_type": "markdown",
   "metadata": {},
   "source": [
    "# Question 1\n",
    "\n",
    "[FluWatch](https://www.canada.ca/en/public-health/services/diseases/flu-influenza/influenza-surveillance.html) is Canada's national surveillance system that monitors the spread of flu and flu-like illnesses.\n",
    "\n",
    "(a) Write a Python program to scrape (read in) the data in [Table 2](https://www.canada.ca/en/public-health/services/surveillance/respiratory-virus-detections-canada/2018-2019/respiratory-virus-detections-isolations-week-01-ending-january-5-2019.html) into a pandas data frame. Use the table to create a dataframe that contains one row for each province or territory."
   ]
  },
  {
   "cell_type": "code",
   "execution_count": 1,
   "metadata": {},
   "outputs": [],
   "source": [
    "# code for question 1 (a)\n"
   ]
  },
  {
   "cell_type": "markdown",
   "metadata": {},
   "source": [
    "(b) \"The geographical regions of Canada are groupings of provinces and territories established for the purpose of statistical reporting\" (see [Statistics Canada](https://www150.statcan.gc.ca/n1/pub/92-195-x/2011001/geo/region/region-eng.htm)).  Wikipedia has a table with the provinces and territories classified by the six-regions used by Statistics Canada.  \n",
    "\n",
    "(i) Write a Python program to scrape the [table under National regions](https://en.wikipedia.org/wiki/List_of_regions_of_Canada#National_regions) into a pandas dataframe using Python.\n",
    "\n",
    "(ii) Write Python code to create a data frame that contains two columns: provinces/territories and regions. \n",
    "\n",
    "(iii) Write Python code to create another dataframe that contains the following data for each province/territory: \n",
    "\n",
    "- Flu Tested; \n",
    "- A(H1N1)pdm09 Positive; \n",
    "- A(H3) Positive; \n",
    "- A(UnS) Positive; \n",
    "- Total Flu A Positive;\n",
    "- Proportion of Flu A Positive (defined as the ratio of Total Flu A Positive to Flu Tested);\n",
    "- Geographical region of Canada (using the Statistics Canada definition) (this variable should be added to your data frame using Python code).\n",
    "\n",
    "<br>\n",
    "\n",
    "Statistical note:  The dataframes that you create in this question are often referred to as a **contingency table** in statistics.  In general: let $X$ be a categorical random variable that has $I$ levels, and $Y$ a categorical random variable having $J$ levels. A table displaying the $IJ$ possible frequency counts of outcomes is called a *contingency table*."
   ]
  },
  {
   "cell_type": "code",
   "execution_count": 2,
   "metadata": {},
   "outputs": [],
   "source": [
    "# code for question 1 (b)\n"
   ]
  },
  {
   "cell_type": "markdown",
   "metadata": {},
   "source": [
    "***\n",
    "A categorical variable is one for which the measurement scale consists of a set of categories. Categorical variables for which levels do not have a natural ordering are called *nominal variables*.  Categorical variables that have ordered levels are called *ordinal variables*. Categorical variables that have numerical distances between two levels of the scale are often called *interval variables*. \n",
    "\n",
    "Categorical variables can attain a discrete number of values while a continuous variable can attain values that are a subset of the real numbers.\n",
    "\n",
    "***\n",
    "\n",
    "(c) Classify the variables in the data frame in Question 1(b)(iii) as either nominal, ordinal, interval, or continuous. Briefly explain your reasoning.  "
   ]
  },
  {
   "cell_type": "markdown",
   "metadata": {},
   "source": [
    "# Answer for Question 1 (c)\n",
    "\n",
    "- Place your answer in this cell.\n",
    "- You may remove this text.\n"
   ]
  },
  {
   "cell_type": "markdown",
   "metadata": {},
   "source": [
    "# Question 2\n",
    "\n",
    "(a) Create *appropriate* numerical summaries and visualizations for each of the variables in the data frame in Question 1 (b)(iii). Briefly describe the distributions of each variable.  "
   ]
  },
  {
   "cell_type": "code",
   "execution_count": 3,
   "metadata": {},
   "outputs": [],
   "source": [
    "# code for question 2 (a)"
   ]
  },
  {
   "cell_type": "markdown",
   "metadata": {},
   "source": [
    "# Answer for Question 2 (a)\n",
    "\n",
    "- Place your answer in this cell.\n",
    "- You may remove this text."
   ]
  },
  {
   "cell_type": "markdown",
   "metadata": {},
   "source": [
    "(b) Create two visualizations to explore the relationship between the proportion of Flu A Positive, the number tested, and geographical region.  Describe the relationships you observe.  Which visualization do prefer?  Why?  "
   ]
  },
  {
   "cell_type": "code",
   "execution_count": 4,
   "metadata": {},
   "outputs": [],
   "source": [
    "# code for question 2 (b)"
   ]
  },
  {
   "cell_type": "markdown",
   "metadata": {},
   "source": [
    "# Answer for Question 2 (b)\n",
    "\n",
    "- Place your answer in this cell.\n",
    "- You may remove this text."
   ]
  },
  {
   "cell_type": "markdown",
   "metadata": {},
   "source": [
    "# Question 3\n",
    "\n",
    ">In August 2010, the World Health Organization declared the pandemic over. Since that time, scientists have changed the way they name viruses. The H1N1 virus is now known as H1N1v. The v stands for variant and indicates that the virus normally circulates in animals but has been detected in humans. Since 2011, another strain, H3N2v, has been circulating in humans and also causes the flu. Both strains are included in the flu vaccine for 2018-19. ([see Mayo Clinic Swine Flu](https://www.mayoclinic.org/diseases-conditions/swine-flu/symptoms-causes/syc-20378103)) \n",
    "\n",
    "The dataframe in Question 1(b)(iii) contains data on the subtype of influenza A: H1N1; H3N2; and unsubtyped (i.e., neither H1N1 or H3N2).  Is the distribution of influenza A subtype the same in each province and territory?\n",
    "\n",
    "(a) Create two dataframes that display the distribution of influenza subtype for each province and territory: \n",
    "\n",
    "(i)  The first dataframe should contain the counts of the numbers of positive cases for each subtype.\n",
    "(ii) The second dataframe should contain the proportion of cases for each subtype within each province and territory. \n",
    "\n",
    "Does the distribution of subtype of influenza A differ by province/territory? Explain."
   ]
  },
  {
   "cell_type": "code",
   "execution_count": 5,
   "metadata": {},
   "outputs": [],
   "source": [
    "# code for question 3(a)"
   ]
  },
  {
   "cell_type": "markdown",
   "metadata": {},
   "source": [
    "# Answer for Question 3 (a)\n",
    "\n",
    "- Place your answer in this cell.\n",
    "- You may remove this text."
   ]
  },
  {
   "cell_type": "markdown",
   "metadata": {},
   "source": [
    "(b) Write Python code to calculate the proportion of postive cases in all provinces/territories that are H1N1, H3N2, and unsubtyped? "
   ]
  },
  {
   "cell_type": "code",
   "execution_count": null,
   "metadata": {},
   "outputs": [],
   "source": []
  },
  {
   "cell_type": "markdown",
   "metadata": {},
   "source": [
    "(c) If the distribution of influenza A subtype is independent of province/territory then we would expect the proportion of each influenza A subtype within each province/territory to be the same as the proportion of influenza A subtype in the entire sample.  Create an appropriate plot to investigate if influenza A and province/territory are independent.  Is there evidence that influenza A and province/territory are independent? Briefly explain.  "
   ]
  },
  {
   "cell_type": "code",
   "execution_count": null,
   "metadata": {},
   "outputs": [],
   "source": []
  },
  {
   "cell_type": "markdown",
   "metadata": {},
   "source": [
    "# Answer for Question 3 (c)\n",
    "\n",
    "- Place your answer in this cell.\n",
    "- You may remove this text.\n"
   ]
  },
  {
   "cell_type": "markdown",
   "metadata": {},
   "source": [
    "# Question 4\n",
    "\n",
    "One formal statistical test of independence for two categorical variables is called the chi-square test of independence.  The main implementation of this test in Python is in [scipy.stats](https://docs.scipy.org/doc/scipy/reference/generated/scipy.stats.chi2_contingency.html#scipy.stats.chi2_contingency).  The references in the documentation provide explanations of this test. Another good basic reference for the chi-square test of independence is available in section 3.3 of [Intro Stat with Randomization and Simulation](https://www.openintro.org/stat/textbook.php?stat_book=isrs).\n",
    "\n",
    "We will study statistical testing later in the course, but for now use the resources above or other resources, to answer the following questions. \n",
    "\n",
    "(a) Create a contingency table of region and influenza A subtype."
   ]
  },
  {
   "cell_type": "code",
   "execution_count": 6,
   "metadata": {},
   "outputs": [],
   "source": [
    "# code for question 4a"
   ]
  },
  {
   "cell_type": "markdown",
   "metadata": {},
   "source": [
    "(b) Create a table that displays the conditional distribution of influenza A subtype given region. "
   ]
  },
  {
   "cell_type": "code",
   "execution_count": 7,
   "metadata": {},
   "outputs": [],
   "source": [
    "# code for question 4b"
   ]
  },
  {
   "cell_type": "markdown",
   "metadata": {},
   "source": [
    "(c) Use the `chi2_contingency` function to compute the chi-square test statistic and expected frequencies for testing if region is independent of influenza A subtype. "
   ]
  },
  {
   "cell_type": "code",
   "execution_count": 8,
   "metadata": {},
   "outputs": [],
   "source": [
    "# code for question 4c"
   ]
  },
  {
   "cell_type": "markdown",
   "metadata": {},
   "source": [
    "(d) Describe in words the the null and alternative hypotheses being tested.  "
   ]
  },
  {
   "cell_type": "markdown",
   "metadata": {},
   "source": [
    "# Answer for Question 4 (d)\n",
    "\n",
    "- Place your answer in this cell.\n",
    "- You may remove this text.\n"
   ]
  },
  {
   "cell_type": "markdown",
   "metadata": {},
   "source": [
    "(e) What is the p-value of test?  Is the p-value calculated using `chi2_contingency` valid? Is there statistical evidence that the distribution of influenza A subtype depends on the region of Canada?  "
   ]
  },
  {
   "cell_type": "code",
   "execution_count": 9,
   "metadata": {},
   "outputs": [],
   "source": [
    "# code for question 4e"
   ]
  },
  {
   "cell_type": "markdown",
   "metadata": {},
   "source": [
    "# Answer for Question 4 (e)\n",
    "\n",
    "- Place your answer in this cell.\n",
    "- You may remove this text.\n"
   ]
  }
 ],
 "metadata": {
  "kernelspec": {
   "display_name": "Python 3",
   "language": "python",
   "name": "python3"
  },
  "language_info": {
   "codemirror_mode": {
    "name": "ipython",
    "version": 3
   },
   "file_extension": ".py",
   "mimetype": "text/x-python",
   "name": "python",
   "nbconvert_exporter": "python",
   "pygments_lexer": "ipython3",
   "version": "3.6.5"
  }
 },
 "nbformat": 4,
 "nbformat_minor": 2
}
