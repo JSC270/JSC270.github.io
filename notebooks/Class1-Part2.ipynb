{
 "cells": [
  {
   "cell_type": "markdown",
   "metadata": {
    "hideCode": false,
    "hidePrompt": false,
    "slideshow": {
     "slide_type": "slide"
    }
   },
   "source": [
    "# Data Analysis in a Jupyter Notebook\n",
    "\n",
    " \n"
   ]
  },
  {
   "cell_type": "markdown",
   "metadata": {
    "slideshow": {
     "slide_type": "slide"
    }
   },
   "source": [
    "## Social media data"
   ]
  },
  {
   "cell_type": "markdown",
   "metadata": {
    "slideshow": {
     "slide_type": "fragment"
    }
   },
   "source": [
    "<center>![okcupid](img/okcupid-logo.jpg)</center>"
   ]
  },
  {
   "cell_type": "markdown",
   "metadata": {
    "slideshow": {
     "slide_type": "slide"
    }
   },
   "source": [
    "<img src=\"img/okcupid-book.jpg\" width=\"30%\" align=\"left\"/>\n",
    "<img src=\"img/keystroke1.png\" width=\"60%\" align=\"right\"/>"
   ]
  },
  {
   "cell_type": "markdown",
   "metadata": {
    "slideshow": {
     "slide_type": "notes"
    }
   },
   "source": [
    "In the chart, the message A took 76minutes to author (source: dataclysm book)"
   ]
  },
  {
   "cell_type": "markdown",
   "metadata": {
    "slideshow": {
     "slide_type": "subslide"
    }
   },
   "source": [
    "<img src=\"img/okcupid-book.jpg\" width=\"30%\" align=\"left\"/>\n",
    "<img src=\"img/keystroke2.png\" width=\"60%\" align=\"right\"/>"
   ]
  },
  {
   "cell_type": "markdown",
   "metadata": {
    "slideshow": {
     "slide_type": "notes"
    }
   },
   "source": [
    "The previous graph suffers from overplotting, making it difficult to appreciate how many datapoints share the same property. A nice way to make such information visible is to have semi-transparent data points, so we see where several points are overlaid."
   ]
  },
  {
   "cell_type": "markdown",
   "metadata": {
    "hideCode": false,
    "hidePrompt": false,
    "slideshow": {
     "slide_type": "slide"
    }
   },
   "source": [
    "# Exploratory Data Analysis\n",
    "\n",
    "> \"To show \\[a certain\\] finding, we'll have to go on a short mathematical journey. These kinds of exercises are\n",
    "what make data science work. To put together puzzles, you have to lay out all the pieces and then just start trying things. In the absence of careful sifting, reduction, and parsimony, **very little just “jumps out at you from terabytes of raw data.**\" \n",
    "\n",
    "<center>— Christian Rudder, *Dataclysm*</center>"
   ]
  },
  {
   "cell_type": "markdown",
   "metadata": {
    "hideCode": false,
    "hidePrompt": false,
    "slideshow": {
     "slide_type": "slide"
    }
   },
   "source": [
    "<center>![](img/tukey.png)</center>"
   ]
  },
  {
   "cell_type": "markdown",
   "metadata": {
    "hideCode": false,
    "hidePrompt": false,
    "slideshow": {
     "slide_type": "slide"
    }
   },
   "source": [
    "# Exploratory Data Analysis (Tukey, 1977)\n",
    "\n",
    "* Detective activity: search of clues.\n",
    "* Some clues will be misleading, but some will lead to discoveries\n",
    "* Highly visual: relies heavily on graphical display\n",
    "* Does **not** replace confirmatory analysis *but* it is necessary to first discover facts, before they are confirmed."
   ]
  },
  {
   "cell_type": "markdown",
   "metadata": {
    "slideshow": {
     "slide_type": "slide"
    }
   },
   "source": [
    "# Let's investigate!"
   ]
  },
  {
   "cell_type": "markdown",
   "metadata": {
    "slideshow": {
     "slide_type": "notes"
    }
   },
   "source": [
    "## Live demonstration\n",
    "1. Can we use the data? \n",
    "> We need to check the terms online. See OkCupid terms page. See the details of the available data (R package, github repo) \n",
    "\n",
    "2. Create a new jupyter notebook for performing exploratory data analysis\n",
    "> See [the notebook](https://github.com/JSC270/JSC270.github.io/blob/master/notebooks/Class1-EDA_OkCupid.ipynb) created in class with additional comments"
   ]
  },
  {
   "cell_type": "markdown",
   "metadata": {
    "slideshow": {
     "slide_type": "slide"
    }
   },
   "source": [
    "# Can we use the data?\n",
    "\n",
    "![](img/okc_terms2.png)\n",
    "![](img/okc_terms1.png)\n",
    "\n",
    "Source: [Ok Cupid Terms and conditions](https://www.okcupid.com/legal/terms)"
   ]
  },
  {
   "cell_type": "markdown",
   "metadata": {
    "slideshow": {
     "slide_type": "slide"
    }
   },
   "source": [
    "# Can we use the data?\n",
    "\n",
    "![](img/okc_terms3.png)\n",
    "\n",
    "Source: [Ok Cupid Terms and conditions](https://www.okcupid.com/legal/terms)"
   ]
  },
  {
   "cell_type": "markdown",
   "metadata": {
    "slideshow": {
     "slide_type": "slide"
    }
   },
   "source": [
    "# Can we use the data?\n",
    "\n",
    "![](img/okc_paper1.png)\n",
    "![](img/okc_paper2.png)\n",
    "\n",
    "Source: [OkCupid Data for Introductory Statistics and Data\n",
    "Science Courses (A. Kim, A. Escobedo-Land)](https://amstat.tandfonline.com/doi/abs/10.1080/10691898.2015.11889737#.XDVg_s9KjGJ)"
   ]
  },
  {
   "cell_type": "markdown",
   "metadata": {
    "slideshow": {
     "slide_type": "slide"
    }
   },
   "source": [
    "# Are the data collection methods documented?\n",
    "\n",
    "![](img/okc_doc.png)\n",
    "\n",
    "Source: [Github companion repository](https://github.com/rudeboybert/JSE_OkCupid/blob/master/okcupid_codebook.txt)"
   ]
  },
  {
   "cell_type": "markdown",
   "metadata": {
    "slideshow": {
     "slide_type": "slide"
    }
   },
   "source": [
    "# Lessons learned: data is noisy\n",
    "\n",
    "* anomalies and artificats (can be identified and corrected for)\n",
    "* sincerity, subjectivity (data can be biased: e.g: \"Are you brushing your teeth every morning?\": very few people would admit they don't even if they don't)\n",
    "* controlled input (e.g. \"What transportations do you use to go to your classes? (TTC, car, walk)\": what if none of the categories work, and I am forced to pick one?)  \n",
    "\n",
    "In the following example, is the data about this OkCupid profile truthful or dubious?"
   ]
  },
  {
   "cell_type": "code",
   "execution_count": 11,
   "metadata": {
    "slideshow": {
     "slide_type": "fragment"
    }
   },
   "outputs": [
    {
     "data": {
      "text/html": [
       "<div>\n",
       "<style scoped>\n",
       "    .dataframe tbody tr th:only-of-type {\n",
       "        vertical-align: middle;\n",
       "    }\n",
       "\n",
       "    .dataframe tbody tr th {\n",
       "        vertical-align: top;\n",
       "    }\n",
       "\n",
       "    .dataframe thead th {\n",
       "        text-align: right;\n",
       "    }\n",
       "</style>\n",
       "<table border=\"1\" class=\"dataframe\">\n",
       "  <thead>\n",
       "    <tr style=\"text-align: right;\">\n",
       "      <th></th>\n",
       "      <th>age</th>\n",
       "      <th>body_type</th>\n",
       "      <th>diet</th>\n",
       "      <th>drinks</th>\n",
       "      <th>drugs</th>\n",
       "      <th>education</th>\n",
       "      <th>essay0</th>\n",
       "      <th>essay1</th>\n",
       "      <th>essay2</th>\n",
       "      <th>essay3</th>\n",
       "      <th>...</th>\n",
       "      <th>location</th>\n",
       "      <th>offspring</th>\n",
       "      <th>orientation</th>\n",
       "      <th>pets</th>\n",
       "      <th>religion</th>\n",
       "      <th>sex</th>\n",
       "      <th>sign</th>\n",
       "      <th>smokes</th>\n",
       "      <th>speaks</th>\n",
       "      <th>status</th>\n",
       "    </tr>\n",
       "  </thead>\n",
       "  <tbody>\n",
       "    <tr>\n",
       "      <th>25324</th>\n",
       "      <td>109</td>\n",
       "      <td>athletic</td>\n",
       "      <td>mostly other</td>\n",
       "      <td>NaN</td>\n",
       "      <td>never</td>\n",
       "      <td>working on masters program</td>\n",
       "      <td>NaN</td>\n",
       "      <td>NaN</td>\n",
       "      <td>NaN</td>\n",
       "      <td>nothing</td>\n",
       "      <td>...</td>\n",
       "      <td>san francisco, california</td>\n",
       "      <td>might want kids</td>\n",
       "      <td>straight</td>\n",
       "      <td>NaN</td>\n",
       "      <td>other and somewhat serious about it</td>\n",
       "      <td>m</td>\n",
       "      <td>aquarius but it doesn&amp;rsquo;t matter</td>\n",
       "      <td>when drinking</td>\n",
       "      <td>english (okay)</td>\n",
       "      <td>available</td>\n",
       "    </tr>\n",
       "  </tbody>\n",
       "</table>\n",
       "<p>1 rows × 31 columns</p>\n",
       "</div>"
      ],
      "text/plain": [
       "       age body_type          diet drinks  drugs                   education  \\\n",
       "25324  109  athletic  mostly other    NaN  never  working on masters program   \n",
       "\n",
       "      essay0 essay1 essay2   essay3    ...                       location  \\\n",
       "25324    NaN    NaN    NaN  nothing    ...      san francisco, california   \n",
       "\n",
       "             offspring orientation pets                             religion  \\\n",
       "25324  might want kids    straight  NaN  other and somewhat serious about it   \n",
       "\n",
       "      sex                                  sign         smokes  \\\n",
       "25324   m  aquarius but it doesn&rsquo;t matter  when drinking   \n",
       "\n",
       "               speaks     status  \n",
       "25324  english (okay)  available  \n",
       "\n",
       "[1 rows x 31 columns]"
      ]
     },
     "execution_count": 11,
     "metadata": {},
     "output_type": "execute_result"
    }
   ],
   "source": [
    "df = pd.read_csv('data/profiles.csv')\n",
    "df.loc[df['age'] == 109]"
   ]
  },
  {
   "cell_type": "markdown",
   "metadata": {
    "slideshow": {
     "slide_type": "slide"
    }
   },
   "source": [
    "# Lessons learned: Data is only partial\n",
    "\n",
    "* completeness, timeliness are impossible to achieve fully\n",
    "* only what we *decide*, and *are able to* collect\n",
    "\n",
    "In the following example, the profile is incomplete, resulting in data missing for analysis:"
   ]
  },
  {
   "cell_type": "code",
   "execution_count": 14,
   "metadata": {
    "slideshow": {
     "slide_type": "fragment"
    }
   },
   "outputs": [
    {
     "data": {
      "text/html": [
       "<div>\n",
       "<style scoped>\n",
       "    .dataframe tbody tr th:only-of-type {\n",
       "        vertical-align: middle;\n",
       "    }\n",
       "\n",
       "    .dataframe tbody tr th {\n",
       "        vertical-align: top;\n",
       "    }\n",
       "\n",
       "    .dataframe thead th {\n",
       "        text-align: right;\n",
       "    }\n",
       "</style>\n",
       "<table border=\"1\" class=\"dataframe\">\n",
       "  <thead>\n",
       "    <tr style=\"text-align: right;\">\n",
       "      <th></th>\n",
       "      <th>age</th>\n",
       "      <th>body_type</th>\n",
       "      <th>diet</th>\n",
       "      <th>drinks</th>\n",
       "      <th>drugs</th>\n",
       "      <th>education</th>\n",
       "      <th>essay0</th>\n",
       "      <th>essay1</th>\n",
       "      <th>essay2</th>\n",
       "      <th>essay3</th>\n",
       "      <th>...</th>\n",
       "      <th>location</th>\n",
       "      <th>offspring</th>\n",
       "      <th>orientation</th>\n",
       "      <th>pets</th>\n",
       "      <th>religion</th>\n",
       "      <th>sex</th>\n",
       "      <th>sign</th>\n",
       "      <th>smokes</th>\n",
       "      <th>speaks</th>\n",
       "      <th>status</th>\n",
       "    </tr>\n",
       "  </thead>\n",
       "  <tbody>\n",
       "    <tr>\n",
       "      <th>2512</th>\n",
       "      <td>110</td>\n",
       "      <td>NaN</td>\n",
       "      <td>NaN</td>\n",
       "      <td>NaN</td>\n",
       "      <td>NaN</td>\n",
       "      <td>NaN</td>\n",
       "      <td>NaN</td>\n",
       "      <td>NaN</td>\n",
       "      <td>NaN</td>\n",
       "      <td>NaN</td>\n",
       "      <td>...</td>\n",
       "      <td>daly city, california</td>\n",
       "      <td>NaN</td>\n",
       "      <td>straight</td>\n",
       "      <td>NaN</td>\n",
       "      <td>NaN</td>\n",
       "      <td>f</td>\n",
       "      <td>NaN</td>\n",
       "      <td>NaN</td>\n",
       "      <td>english</td>\n",
       "      <td>single</td>\n",
       "    </tr>\n",
       "  </tbody>\n",
       "</table>\n",
       "<p>1 rows × 31 columns</p>\n",
       "</div>"
      ],
      "text/plain": [
       "      age body_type diet drinks drugs education essay0 essay1 essay2 essay3  \\\n",
       "2512  110       NaN  NaN    NaN   NaN       NaN    NaN    NaN    NaN    NaN   \n",
       "\n",
       "       ...                 location offspring orientation pets religion sex  \\\n",
       "2512   ...    daly city, california       NaN    straight  NaN      NaN   f   \n",
       "\n",
       "     sign  smokes   speaks  status  \n",
       "2512  NaN     NaN  english  single  \n",
       "\n",
       "[1 rows x 31 columns]"
      ]
     },
     "execution_count": 14,
     "metadata": {},
     "output_type": "execute_result"
    }
   ],
   "source": [
    "df.loc[df['age'] == 110]"
   ]
  },
  {
   "cell_type": "markdown",
   "metadata": {
    "slideshow": {
     "slide_type": "slide"
    }
   },
   "source": [
    "# Exercise: What is a typical female and male user?\n",
    "\n",
    "We can do an interesting thought-experiment by asking “what is the hybrid of the most frequent value (i.e. mode) of each user-variable?” \n",
    "\n",
    "*Hint: Compute, for each column, the value corresponding the most frequencly occurring (mode) of that set.*\n"
   ]
  },
  {
   "cell_type": "markdown",
   "metadata": {
    "slideshow": {
     "slide_type": "slide"
    }
   },
   "source": [
    "# From data to insights\n",
    "\n",
    "* Not trivial\n",
    "* Requires a lot of exploring (finding clues) and failures \n",
    "* Requires creativity: Find intereting questions to ask\n",
    "* Requires discernment (beware of confirmatory bias!)\n",
    "* Requires critical thinking\n",
    "* Requires rigor and ethics"
   ]
  },
  {
   "cell_type": "code",
   "execution_count": null,
   "metadata": {},
   "outputs": [],
   "source": []
  }
 ],
 "metadata": {
  "celltoolbar": "Slideshow",
  "hide_code_all_hidden": false,
  "kernelspec": {
   "display_name": "Python 3",
   "language": "python",
   "name": "python3"
  },
  "language_info": {
   "codemirror_mode": {
    "name": "ipython",
    "version": 3
   },
   "file_extension": ".py",
   "mimetype": "text/x-python",
   "name": "python",
   "nbconvert_exporter": "python",
   "pygments_lexer": "ipython3",
   "version": "3.6.5"
  }
 },
 "nbformat": 4,
 "nbformat_minor": 2
}
