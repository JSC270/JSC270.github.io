{
 "cells": [
  {
   "cell_type": "markdown",
   "metadata": {
    "slideshow": {
     "slide_type": "slide"
    }
   },
   "source": [
    "# JSC 270  \n",
    "\n",
    "## Prof. Taback\n",
    "\n",
    "## February 4, 2019\n"
   ]
  },
  {
   "cell_type": "markdown",
   "metadata": {},
   "source": [
    "# Today's class\n",
    "\n",
    "- Two-sample t-test and two-sample test of proportions\n",
    "- Test of independence: permutation and chi-square\n",
    "- Statistical inference: Frequentist and Bayesian"
   ]
  },
  {
   "cell_type": "code",
   "execution_count": 1,
   "metadata": {},
   "outputs": [],
   "source": [
    "#import libs\n",
    "import numpy as np\n",
    "import pandas as pd\n",
    "import matplotlib.pyplot as plt\n",
    "from scipy import stats\n",
    "from statsmodels.distributions.empirical_distribution import ECDF"
   ]
  },
  {
   "cell_type": "markdown",
   "metadata": {
    "slideshow": {
     "slide_type": "slide"
    }
   },
   "source": [
    "# Basic (Frequentist) Decision Theory\n",
    "\n",
    "\n",
    "<table style=\"font-size: 25px;\">\n",
    "  <tr>\n",
    "    <th></th>\n",
    "    <th>$H_0$ True</th>\n",
    "    <th>$H_0$ False</th>\n",
    "  </tr>\n",
    "  <tr>\n",
    "    <td>Accept $H_0$</td>\n",
    "    <td>correct</td>\n",
    "    <td>type II error</td>\n",
    "  </tr>\n",
    "  <tr>\n",
    "    <td>Reject $H_0$</td>\n",
    "    <td>type I error</td>\n",
    "    <td>correct</td>\n",
    "  </tr>\n",
    "</table>\n",
    "\n",
    "\n",
    "$$\\begin{align*} \n",
    "P(\\text{type I error}) &= \\alpha \\\\\n",
    "P(\\text{type II error}) &= \\beta \\\\\n",
    "\\text{P-value} &= P\\left(\\text{test statistic} \\ge \\text{observed value of test statistic} \\right) \\\\\n",
    "\\text{Power} &= 1- \\beta \n",
    "\\end{align*}\n",
    "$$\n",
    "\n",
    "A hypothesis test is *statistically significant* if $\\text{P-value} \\le \\alpha$."
   ]
  },
  {
   "cell_type": "markdown",
   "metadata": {},
   "source": [
    "What is the interpretation of $\\alpha$, and $\\beta$?"
   ]
  },
  {
   "cell_type": "markdown",
   "metadata": {
    "slideshow": {
     "slide_type": "slide"
    }
   },
   "source": [
    "# Choosing a Test Statistic\n",
    "\n",
    "A test statistic should be able to differentiate between $H_0$ and $H_a$ in ways that are scientifically relevant.\n",
    "\n",
    "- Other test statistics could be used instead of $T={\\bar Y}_A-{\\bar Y}_B$ to measure the effectiveness of fertilizer A. \n",
    "\n",
    "- The difference in group medians \n",
    "\n",
    "$$median(Y_A)-median(Y_B) $$\n",
    "\n",
    "or trimmed means are examples of other test statistics."
   ]
  },
  {
   "cell_type": "markdown",
   "metadata": {
    "slideshow": {
     "slide_type": "slide"
    }
   },
   "source": [
    "# The two-sample t-test\n",
    "\n",
    "If the two wheat yield samples are independent random samples from a normal distribution with means $\\mu_A$ and $\\mu_B$ but the same variance then the statistic\n",
    "\n",
    "$$ {\\bar y}_A - {\\bar y}_b \\sim N\\left(\\mu_A-\\mu_B,\\sigma^2(1/n_A+1/n_B) \\right).$$\n",
    "\n",
    "So,\n",
    "\n",
    "$$ \\frac {{\\bar y}_A - {\\bar y}_b- \\delta}{\\sigma \\sqrt{(1/n_A+1/n_B)}} \\sim N(0,1),$$\n",
    "\n",
    "where $\\delta=\\mu_A-\\mu_B$.\n",
    "\n",
    "If we substitute \n",
    "\n",
    "$$S^2=\\frac{\\sum_{i=1}^{n_A}(y_{iA}-{\\bar y}_A)^2+\\sum_{i=1}^{n_B}(y_{iB}-{\\bar y}_B)^2}{n_A+n_B-2}$$ \n",
    "\n",
    "for $\\sigma^2$ then \n",
    "\n",
    "$$ \\frac {{\\bar y}_A - {\\bar y}_b - \\delta}{s \\sqrt{(1/n_A+1/n_B)}} \\sim t_{n_A+n_B-2},$$\n",
    "\n",
    "is called the two sample t-statistic."
   ]
  },
  {
   "cell_type": "markdown",
   "metadata": {
    "slideshow": {
     "slide_type": "-"
    }
   },
   "source": [
    "# The two-sample t-test\n",
    "\n",
    "In the wheat yield example $H_0:\\mu_A=\\mu_B$ and suppose that $H_1: \\mu_A < \\mu_B.$  The p-value of the test is obtained by calculating the observed value of the two sample t-statistic under $H_0$.\n",
    "\n",
    "$$ t^{*}= \\frac {{\\bar y}_A - {\\bar y}_b}{s \\sqrt{(1/n_A+1/n_B)}} = \\frac {18.37 - 24.3}{4.72 \\sqrt{(1/6+1/6)}}=-2.18$$\n",
    "\n",
    "The p-value is $P(t_{18}<-2.18)$.\n"
   ]
  },
  {
   "cell_type": "markdown",
   "metadata": {
    "slideshow": {
     "slide_type": "slide"
    }
   },
   "source": [
    "# Wheat Yield Example"
   ]
  },
  {
   "cell_type": "code",
   "execution_count": 2,
   "metadata": {
    "slideshow": {
     "slide_type": "slide"
    }
   },
   "outputs": [
    {
     "name": "stdout",
     "output_type": "stream",
     "text": [
      "The t-statistic is: -2.179 \n",
      " The P-value is: 0.027\n"
     ]
    },
    {
     "data": {
      "image/png": "[encoded data removed]",
      "text/plain": [
       "<Figure size 432x288 with 1 Axes>"
      ]
     },
     "metadata": {
      "needs_background": "light"
     },
     "output_type": "display_data"
    }
   ],
   "source": [
    "# wheat yield example\n",
    "d = {'yA': [11.4,23.7,17.9,16.5,21.1,19.6],\n",
    "     'yB': [26.9,26.6,25.3,28.5,14.2,24.3]}\n",
    "df = pd.DataFrame(d)\n",
    "\n",
    "x = df.values[:,0] # yA\n",
    "y = df.values[:,1] # yB\n",
    "\n",
    "\n",
    "tstat, pvalue = stats.ttest_ind(x,y)\n",
    "print('The t-statistic is:', np.round(tstat,3), '\\n', 'The P-value is:', np.round(pvalue/2,3))\n",
    "\n",
    "trv = stats.t(df=18, loc=0, scale=1)\n",
    "x = np.linspace(trv.ppf(0.0001), trv.ppf(0.9999), 100)\n",
    "y = trv.pdf(x) \n",
    "\n",
    "plt.xlim(-5,5)\n",
    "plt.plot(x,y)\n",
    "plt.axvline(x = -2.18,ymax =0.15, color = '#a1d76a', linewidth = 3)\n",
    "fill_section = np.arange(-5, -2.18, 1/20)\n",
    "plt.fill_between(fill_section, trv.pdf(fill_section), color = 'blue', alpha = 0.5)\n",
    "plt.title('Null Distribution ' r'$t_{18}$', fontsize=20);"
   ]
  },
  {
   "cell_type": "markdown",
   "metadata": {
    "slideshow": {
     "slide_type": "slide"
    }
   },
   "source": [
    "# Statistical power\n",
    "\n",
    "- Consider planning a randomized study where subjects are randomized into two groups.  \n",
    "\n",
    "- It is desired to detect an effect size $d = (\\mu_1-\\mu_2)/\\sigma = 0.5$ at the 5% significance level with 80% power.  How many subjects are required per group?"
   ]
  },
  {
   "cell_type": "code",
   "execution_count": 46,
   "metadata": {
    "slideshow": {
     "slide_type": "slide"
    }
   },
   "outputs": [
    {
     "data": {
      "text/plain": [
       "63.765611775409525"
      ]
     },
     "execution_count": 46,
     "metadata": {},
     "output_type": "execute_result"
    }
   ],
   "source": [
    "import statsmodels.stats.power as power\n",
    "\n",
    "# Number of subjects per group for 80% power at the 5% significance level\n",
    "power.tt_ind_solve_power(effect_size = 0.5, alpha = 0.05, \n",
    "                         power = 0.8, ratio = 1, alternative = 'two-sided')"
   ]
  },
  {
   "cell_type": "code",
   "execution_count": 48,
   "metadata": {},
   "outputs": [
    {
     "data": {
      "image/png": "[encoded data removed]",
      "text/plain": [
       "<Figure size 432x288 with 1 Axes>"
      ]
     },
     "metadata": {
      "needs_background": "light"
     },
     "output_type": "display_data"
    }
   ],
   "source": [
    "def plotpow(d):\n",
    "    return(power.tt_ind_solve_power(effect_size = d, alpha = 0.05, \n",
    "                         power = 0.8, ratio = 1, alternative = 'two-sided'))\n",
    "\n",
    "x = np.linspace(.1,2,50)\n",
    "y = [plotpow(x) for x in x]\n",
    "plt.plot(x, y, 'r-');\n",
    "plt.xlabel('effect size');\n",
    "plt.ylabel('sample size per group');\n",
    "plt.title('Sample size as a function of effect size \\n two-sample t-test 80% power, .05 alpha');"
   ]
  },
  {
   "cell_type": "code",
   "execution_count": 3,
   "metadata": {
    "slideshow": {
     "slide_type": "skip"
    }
   },
   "outputs": [],
   "source": [
    "import pandas as pd\n",
    "webpage = 'https://www.canada.ca/en/public-health/services/surveillance/respiratory-virus-detections-canada/2018-2019/respiratory-virus-detections-isolations-week-01-ending-january-5-2019.html'\n",
    "\n",
    "df = pd.read_html(webpage) # returns a list of tables \n",
    "df[1] # by inspection we see that Table 2 is the first table\n",
    "\n",
    " # select. rows corresponding to prov and territory\n",
    "fludat = df[0].iloc[[0, 1, 2, 3, 11, 28, 29, 32, 33, 35, 36, 37, 38]]\n",
    "url = 'https://en.wikipedia.org/wiki/List_of_regions_of_Canada#National_regions'\n",
    "df = pd.read_html(url, header=0, attrs = {\"class\":\"wikitable\"})\n",
    "Regions = df[0][['All provinces and territories', 'Six-region model[1]']]\n",
    "\n",
    "Regions = (Regions\n",
    "           # propogate non-null values forward\n",
    "           .fillna(method = 'ffill', axis = 0) \n",
    "           # rename columns\n",
    "           .rename(columns={\"All provinces and territories\": \"prov\", \n",
    "                            \"Six-region model[1]\": \"region\"})\n",
    "           .replace(['Newfoundland and Labrador'], ['Newfoundland']))  \n",
    "\n",
    "# Change province names so they match in both data sets\n",
    "\n",
    "fludat = (fludat\n",
    "          .replace('Province of', '', regex = True)\n",
    "          .replace('Québec', 'Quebec', regex = True)\n",
    "          .rename(columns={\"Reporting Laboratory\": \"prov\"}))\n",
    "\n",
    "#Alberta, Ontario, Quebec, Sask have extra white space in their names so remove\n",
    "\n",
    "fludat['prov'] = fludat['prov'].str.strip()\n",
    "\n",
    "# Merge regions with flu data and only keep required columns\n",
    "\n",
    "fludat1 = pd.merge(fludat, Regions, on = 'prov').iloc[0:,[0,1,2,3,4,5,23]]\n",
    "fludat1['Flu Tested'] = fludat1['Flu Tested'].astype(float)\n",
    "\n",
    "# create Proportion of Flu A Positive (defined as the ratio of \n",
    "# Total Flu A Positive to Flu Tested)\n",
    "\n",
    "fludat1['propfluA'] = (fludat1\n",
    "                       .apply(lambda x: x['Total Flu A Positive']/x['Flu Tested'],axis=1))\n",
    "\n",
    "fludat2 = fludat1[[list(fludat1)[0],list(fludat1)[1], list(fludat1)[5], list(fludat1)[6],list(fludat1)[7] ]]"
   ]
  },
  {
   "cell_type": "markdown",
   "metadata": {
    "slideshow": {
     "slide_type": "slide"
    }
   },
   "source": [
    "# Comparing Influenza Rates \n",
    "\n",
    "Is the proportion of influenza A cases in New Brunswick and Quebec are 0.24 and 0.26 respectively.  Could the difference be due to chance?"
   ]
  },
  {
   "cell_type": "code",
   "execution_count": 4,
   "metadata": {
    "slideshow": {
     "slide_type": "-"
    }
   },
   "outputs": [
    {
     "data": {
      "text/html": [
       "<div>\n",
       "<style scoped>\n",
       "    .dataframe tbody tr th:only-of-type {\n",
       "        vertical-align: middle;\n",
       "    }\n",
       "\n",
       "    .dataframe tbody tr th {\n",
       "        vertical-align: top;\n",
       "    }\n",
       "\n",
       "    .dataframe thead th {\n",
       "        text-align: right;\n",
       "    }\n",
       "</style>\n",
       "<table border=\"1\" class=\"dataframe\">\n",
       "  <thead>\n",
       "    <tr style=\"text-align: right;\">\n",
       "      <th></th>\n",
       "      <th>prov</th>\n",
       "      <th>Flu Tested</th>\n",
       "      <th>Total Flu A Positive</th>\n",
       "      <th>region</th>\n",
       "      <th>propfluA</th>\n",
       "    </tr>\n",
       "  </thead>\n",
       "  <tbody>\n",
       "    <tr>\n",
       "      <th>0</th>\n",
       "      <td>Newfoundland</td>\n",
       "      <td>171.0</td>\n",
       "      <td>34.0</td>\n",
       "      <td>Atlantic</td>\n",
       "      <td>0.198830</td>\n",
       "    </tr>\n",
       "    <tr>\n",
       "      <th>1</th>\n",
       "      <td>Prince Edward Island</td>\n",
       "      <td>46.0</td>\n",
       "      <td>17.0</td>\n",
       "      <td>Atlantic</td>\n",
       "      <td>0.369565</td>\n",
       "    </tr>\n",
       "    <tr>\n",
       "      <th>2</th>\n",
       "      <td>Nova Scotia</td>\n",
       "      <td>138.0</td>\n",
       "      <td>20.0</td>\n",
       "      <td>Atlantic</td>\n",
       "      <td>0.144928</td>\n",
       "    </tr>\n",
       "    <tr>\n",
       "      <th>3</th>\n",
       "      <td>New Brunswick</td>\n",
       "      <td>875.0</td>\n",
       "      <td>211.0</td>\n",
       "      <td>Atlantic</td>\n",
       "      <td>0.241143</td>\n",
       "    </tr>\n",
       "    <tr>\n",
       "      <th>4</th>\n",
       "      <td>Quebec</td>\n",
       "      <td>6253.0</td>\n",
       "      <td>1627.0</td>\n",
       "      <td>Quebec</td>\n",
       "      <td>0.260195</td>\n",
       "    </tr>\n",
       "    <tr>\n",
       "      <th>5</th>\n",
       "      <td>Ontario</td>\n",
       "      <td>2546.0</td>\n",
       "      <td>445.0</td>\n",
       "      <td>Ontario</td>\n",
       "      <td>0.174784</td>\n",
       "    </tr>\n",
       "    <tr>\n",
       "      <th>6</th>\n",
       "      <td>Manitoba</td>\n",
       "      <td>455.0</td>\n",
       "      <td>121.0</td>\n",
       "      <td>Prairies</td>\n",
       "      <td>0.265934</td>\n",
       "    </tr>\n",
       "    <tr>\n",
       "      <th>7</th>\n",
       "      <td>Saskatchewan</td>\n",
       "      <td>787.0</td>\n",
       "      <td>268.0</td>\n",
       "      <td>Prairies</td>\n",
       "      <td>0.340534</td>\n",
       "    </tr>\n",
       "    <tr>\n",
       "      <th>8</th>\n",
       "      <td>Alberta</td>\n",
       "      <td>1279.0</td>\n",
       "      <td>226.0</td>\n",
       "      <td>Prairies</td>\n",
       "      <td>0.176701</td>\n",
       "    </tr>\n",
       "    <tr>\n",
       "      <th>9</th>\n",
       "      <td>British Columbia</td>\n",
       "      <td>861.0</td>\n",
       "      <td>407.0</td>\n",
       "      <td>British Columbia</td>\n",
       "      <td>0.472706</td>\n",
       "    </tr>\n",
       "    <tr>\n",
       "      <th>10</th>\n",
       "      <td>Yukon</td>\n",
       "      <td>21.0</td>\n",
       "      <td>14.0</td>\n",
       "      <td>Territories</td>\n",
       "      <td>0.666667</td>\n",
       "    </tr>\n",
       "    <tr>\n",
       "      <th>11</th>\n",
       "      <td>Northwest Territories</td>\n",
       "      <td>19.0</td>\n",
       "      <td>5.0</td>\n",
       "      <td>Territories</td>\n",
       "      <td>0.263158</td>\n",
       "    </tr>\n",
       "    <tr>\n",
       "      <th>12</th>\n",
       "      <td>Nunavut</td>\n",
       "      <td>1.0</td>\n",
       "      <td>1.0</td>\n",
       "      <td>Territories</td>\n",
       "      <td>1.000000</td>\n",
       "    </tr>\n",
       "  </tbody>\n",
       "</table>\n",
       "</div>"
      ],
      "text/plain": [
       "                     prov  Flu Tested  Total Flu A Positive            region  \\\n",
       "0            Newfoundland       171.0                  34.0          Atlantic   \n",
       "1    Prince Edward Island        46.0                  17.0          Atlantic   \n",
       "2             Nova Scotia       138.0                  20.0          Atlantic   \n",
       "3           New Brunswick       875.0                 211.0          Atlantic   \n",
       "4                  Quebec      6253.0                1627.0            Quebec   \n",
       "5                 Ontario      2546.0                 445.0           Ontario   \n",
       "6                Manitoba       455.0                 121.0          Prairies   \n",
       "7            Saskatchewan       787.0                 268.0          Prairies   \n",
       "8                 Alberta      1279.0                 226.0          Prairies   \n",
       "9        British Columbia       861.0                 407.0  British Columbia   \n",
       "10                  Yukon        21.0                  14.0       Territories   \n",
       "11  Northwest Territories        19.0                   5.0       Territories   \n",
       "12                Nunavut         1.0                   1.0       Territories   \n",
       "\n",
       "    propfluA  \n",
       "0   0.198830  \n",
       "1   0.369565  \n",
       "2   0.144928  \n",
       "3   0.241143  \n",
       "4   0.260195  \n",
       "5   0.174784  \n",
       "6   0.265934  \n",
       "7   0.340534  \n",
       "8   0.176701  \n",
       "9   0.472706  \n",
       "10  0.666667  \n",
       "11  0.263158  \n",
       "12  1.000000  "
      ]
     },
     "execution_count": 4,
     "metadata": {},
     "output_type": "execute_result"
    }
   ],
   "source": [
    "fludat2"
   ]
  },
  {
   "cell_type": "markdown",
   "metadata": {
    "slideshow": {
     "slide_type": "slide"
    }
   },
   "source": [
    "Let $p_{NB},p_{Qu}$ be the true proportions in New Brunswick and Quebec. \n",
    "\n",
    "The null hypothesis is ____________________?\n",
    "\n",
    "The alternative hypothesis is ____________________?\n",
    "\n",
    "How can conduct a randomization test to compare the two proportions?"
   ]
  },
  {
   "cell_type": "code",
   "execution_count": 5,
   "metadata": {
    "slideshow": {
     "slide_type": "slide"
    }
   },
   "outputs": [
    {
     "name": "stdout",
     "output_type": "stream",
     "text": [
      "NB sample prop: 0.24114285714285713 \n",
      " Qu sample prop: 0.2601951063489525 \n",
      " Observed diff: -0.019052249206095356\n"
     ]
    }
   ],
   "source": [
    "NB_cases = np.concatenate((np.repeat(1, 211), np.repeat(0, 875-211)))\n",
    "Qu_cases = np.concatenate((np.repeat(1, 1627), np.repeat(0, 6253-1627)))\n",
    "cases = np.concatenate((NB_cases, Qu_cases))\n",
    "prov1 = np.concatenate((np.repeat('NB',875),np.repeat('Qu',6253)))\n",
    "\n",
    "# sanity check (-:\n",
    "NB_obs_p = sum(cases[prov1=='NB']==1)/875\n",
    "Qu_obs_p = sum(cases[prov1=='Qu']==1)/6253\n",
    "diff = NB_obs_p - Qu_obs_p\n",
    "\n",
    "print('NB sample prop:',NB_obs_p, '\\n', \n",
    "      'Qu sample prop:',Qu_obs_p, '\\n',\n",
    "      'Observed diff:', diff)"
   ]
  },
  {
   "cell_type": "code",
   "execution_count": 6,
   "metadata": {
    "slideshow": {
     "slide_type": "slide"
    }
   },
   "outputs": [
    {
     "name": "stdout",
     "output_type": "stream",
     "text": [
      "The P-value is: 0.117\n"
     ]
    },
    {
     "data": {
      "image/png": "[encoded data removed]",
      "text/plain": [
       "<Figure size 432x288 with 1 Axes>"
      ]
     },
     "metadata": {
      "needs_background": "light"
     },
     "output_type": "display_data"
    }
   ],
   "source": [
    "def prop_perm_test(data):\n",
    "    np.random.shuffle(data) # randomly shuffle place\n",
    "    prop_NB = data[prov1=='NB']\n",
    "    prop_Qu = data[prov1 == 'Qu']\n",
    "    return prop_NB.mean() - prop_Qu.mean()\n",
    "\n",
    "N = 1000\n",
    "null_dist = [prop_perm_test(cases) for x in range(N)] \n",
    "\n",
    "p_value = (sum(null_dist <= diff)+1)/(N+1)\n",
    "print('The P-value is:', np.round(p_value,3))\n",
    "\n",
    "plt.hist(null_dist,edgecolor = 'black', bins = 20, color = '#e9a3c9')\n",
    "plt.xlabel('Difference in Proportions')\n",
    "plt.title('Randomization Distribution of Proportion Differences');\n",
    "plt.axvline(x = diff, color = '#a1d76a', linewidth = 4);"
   ]
  },
  {
   "cell_type": "markdown",
   "metadata": {},
   "source": [
    "Is there statistical evidence that there is a significant difference in influenza rates? "
   ]
  },
  {
   "cell_type": "markdown",
   "metadata": {
    "slideshow": {
     "slide_type": "slide"
    }
   },
   "source": [
    "# Z-test for two proportions\n",
    "\n",
    "$X_1 \\sim Bin(n_1,p_1), X_2 \\sim Bin(n_2,p_2)$.  Then the distributions can be approximated using the normal (why?):\n",
    "\n",
    "\n",
    "$$X_1 \\sim N(n_1p_1,n_1p_1(1-p_1)), X_2 \\sim N(n_2p_2,n_2p_2(1-p_2)).$$\n",
    "\n",
    "The normal approximation is accurate if $np, npq \\ge 5$"
   ]
  },
  {
   "cell_type": "markdown",
   "metadata": {
    "slideshow": {
     "slide_type": "fragment"
    }
   },
   "source": [
    "This implies $\\hat p_i = X_i/n_i,$,\n",
    "\n",
    "$$\\hat p_i \\sim N(p_i,p_i(1-p_i)/n_i), i=1,2.$$"
   ]
  },
  {
   "cell_type": "markdown",
   "metadata": {
    "slideshow": {
     "slide_type": "fragment"
    }
   },
   "source": [
    "Therefore,\n",
    "\n",
    "$$\\hat p_1 - \\hat p_2 \\sim N(p_1-p_2,p_1(1-p_1)/n_1 + p_2(1-p_2)/n_2), i=1,2.$$\n",
    "\n",
    "$$Z = ((\\hat p_1 - \\hat p_2) - (p_1-p_2))/\\sqrt{p_1(1-p_1)/n_1 + p_2(1-p_2)/n_2} \\sim N(0,1)$$\n",
    "\n",
    "\n",
    "A test of $H_0: p_1=p_2$ versus $H_a:p_1 < p_2$ has P-value: $P(Z < Z^{obs})$, where $Z^{obs}$ is the observed value of $Z$.\n",
    "\n",
    "NB: Compare these assumptions to to the permutation test"
   ]
  },
  {
   "cell_type": "code",
   "execution_count": 7,
   "metadata": {
    "slideshow": {
     "slide_type": "subslide"
    }
   },
   "outputs": [
    {
     "data": {
      "text/plain": [
       "(-1.2066400897238174, 0.1138)"
      ]
     },
     "execution_count": 7,
     "metadata": {},
     "output_type": "execute_result"
    }
   ],
   "source": [
    "# z-test for two prop\n",
    "\n",
    "from statsmodels.stats.proportion import proportions_ztest\n",
    "\n",
    "nobs = np.array([875, 6253]) #n_1, n_2\n",
    "count = np.array([211, 1627]) #X_1, X_2\n",
    "\n",
    "obsZ, pval = proportions_ztest(count, nobs, alternative='smaller')\n",
    "obsZ, np.round(pval,4)"
   ]
  },
  {
   "cell_type": "markdown",
   "metadata": {},
   "source": [
    "Have a look at the source code for `proportions_ztest` by issuing `proportions_ztest??`"
   ]
  },
  {
   "cell_type": "markdown",
   "metadata": {
    "slideshow": {
     "slide_type": "slide"
    }
   },
   "source": [
    "# Regional Influenza Distributions "
   ]
  },
  {
   "cell_type": "markdown",
   "metadata": {
    "slideshow": {
     "slide_type": "-"
    }
   },
   "source": [
    "We see that 54% and 47% of the influenza A cases in Ontario and the British Columbia are H1N1. There are also other large differences.  Can these differences be explained by chance variation or do the data suggest that the proportion of H1N1 cases depends on the region of Canada? "
   ]
  },
  {
   "cell_type": "code",
   "execution_count": 8,
   "metadata": {
    "slideshow": {
     "slide_type": "slide"
    }
   },
   "outputs": [
    {
     "data": {
      "text/plain": [
       "region\n",
       "Atlantic            0.060284\n",
       "British Columbia    0.471744\n",
       "Ontario             0.543820\n",
       "Prairies            0.616260\n",
       "Quebec              0.000000\n",
       "Territories         0.850000\n",
       "dtype: float64"
      ]
     },
     "execution_count": 8,
     "metadata": {},
     "output_type": "execute_result"
    }
   ],
   "source": [
    "fludat_region1 = fludat1.iloc[:, [2,3,4,6]]\n",
    "\n",
    "fludat_region1.groupby('region').sum().apply(lambda x: x['A(H1N1)pdm09 Positive']/x.sum(),axis=1)"
   ]
  },
  {
   "cell_type": "markdown",
   "metadata": {
    "slideshow": {
     "slide_type": "slide"
    }
   },
   "source": [
    "The table below is called a $6 \\times 3$ contingency table."
   ]
  },
  {
   "cell_type": "code",
   "execution_count": 9,
   "metadata": {
    "slideshow": {
     "slide_type": "-"
    }
   },
   "outputs": [
    {
     "data": {
      "text/html": [
       "<div>\n",
       "<style scoped>\n",
       "    .dataframe tbody tr th:only-of-type {\n",
       "        vertical-align: middle;\n",
       "    }\n",
       "\n",
       "    .dataframe tbody tr th {\n",
       "        vertical-align: top;\n",
       "    }\n",
       "\n",
       "    .dataframe thead th {\n",
       "        text-align: right;\n",
       "    }\n",
       "</style>\n",
       "<table border=\"1\" class=\"dataframe\">\n",
       "  <thead>\n",
       "    <tr style=\"text-align: right;\">\n",
       "      <th></th>\n",
       "      <th>A(H1N1)pdm09 Positive</th>\n",
       "      <th>A(H3) Positive</th>\n",
       "      <th>A(UnS) Positive</th>\n",
       "    </tr>\n",
       "    <tr>\n",
       "      <th>region</th>\n",
       "      <th></th>\n",
       "      <th></th>\n",
       "      <th></th>\n",
       "    </tr>\n",
       "  </thead>\n",
       "  <tbody>\n",
       "    <tr>\n",
       "      <th>Atlantic</th>\n",
       "      <td>17.0</td>\n",
       "      <td>0.0</td>\n",
       "      <td>265.0</td>\n",
       "    </tr>\n",
       "    <tr>\n",
       "      <th>British Columbia</th>\n",
       "      <td>192.0</td>\n",
       "      <td>8.0</td>\n",
       "      <td>207.0</td>\n",
       "    </tr>\n",
       "    <tr>\n",
       "      <th>Ontario</th>\n",
       "      <td>242.0</td>\n",
       "      <td>36.0</td>\n",
       "      <td>167.0</td>\n",
       "    </tr>\n",
       "    <tr>\n",
       "      <th>Prairies</th>\n",
       "      <td>379.0</td>\n",
       "      <td>10.0</td>\n",
       "      <td>226.0</td>\n",
       "    </tr>\n",
       "    <tr>\n",
       "      <th>Quebec</th>\n",
       "      <td>0.0</td>\n",
       "      <td>0.0</td>\n",
       "      <td>1627.0</td>\n",
       "    </tr>\n",
       "    <tr>\n",
       "      <th>Territories</th>\n",
       "      <td>17.0</td>\n",
       "      <td>1.0</td>\n",
       "      <td>2.0</td>\n",
       "    </tr>\n",
       "  </tbody>\n",
       "</table>\n",
       "</div>"
      ],
      "text/plain": [
       "                  A(H1N1)pdm09 Positive  A(H3) Positive  A(UnS) Positive\n",
       "region                                                                  \n",
       "Atlantic                           17.0             0.0            265.0\n",
       "British Columbia                  192.0             8.0            207.0\n",
       "Ontario                           242.0            36.0            167.0\n",
       "Prairies                          379.0            10.0            226.0\n",
       "Quebec                              0.0             0.0           1627.0\n",
       "Territories                        17.0             1.0              2.0"
      ]
     },
     "execution_count": 9,
     "metadata": {},
     "output_type": "execute_result"
    }
   ],
   "source": [
    "fludat_region = fludat_region1.groupby('region').sum()\n",
    "fludat_region"
   ]
  },
  {
   "cell_type": "markdown",
   "metadata": {
    "slideshow": {
     "slide_type": "slide"
    }
   },
   "source": [
    "- To test if the data suggest that the proportion of H1N1 cases depends on the region of Canada we need a statistic and reference distribution.\n",
    "\n",
    "- If region and subtype are independent then we should expect 24.9% H1N1, 1.6% H3N2, and 73.4% UnS in Atlantic region, the same proportions as the whole sample.  The same is true for other regions.\n",
    "\n",
    "- Let $N_{ij}$ be the number of people in row $i$ column $j$, $R_j$ and $C_j$ be the row and column totals, and $N$ the overall total.  The expected count for any cell is:\n",
    "\n",
    "$$E_{ij} = \\frac{R_iC_j}{N}.$$"
   ]
  },
  {
   "cell_type": "code",
   "execution_count": 10,
   "metadata": {},
   "outputs": [
    {
     "name": "stdout",
     "output_type": "stream",
     "text": [
      "H1N1: (Total); 847.0 (Prop) 0.847 \n",
      " H3N2: (Total) 55.0 (Prop) 0.055 \n",
      " UnS: (Total) 2494.0 (Prop) 2.494\n"
     ]
    }
   ],
   "source": [
    "H1N1_Tot = fludat_region['A(H1N1)pdm09 Positive'].sum(axis=0) #C_1\n",
    "H3N2_Tot = fludat_region['A(H3) Positive'].sum(axis=0) #C_2\n",
    "UNS_Tot = fludat_region['A(UnS) Positive'].sum(axis=0) #C_3\n",
    "\n",
    "print('H1N1: (Total);',H1N1_Tot,'(Prop)',np.round(H1N1_Tot/N,3) ,'\\n',\n",
    "      'H3N2: (Total)',H3N2_Tot, '(Prop)',np.round(H3N2_Tot/N,3) , '\\n',\n",
    "      'UnS: (Total)',UNS_Tot, '(Prop)',np.round(UNS_Tot/N,3))\n"
   ]
  },
  {
   "cell_type": "code",
   "execution_count": 11,
   "metadata": {
    "slideshow": {
     "slide_type": "slide"
    }
   },
   "outputs": [
    {
     "data": {
      "text/plain": [
       "array([[  70.,    5.,  207.],\n",
       "       [ 102.,    7.,  299.],\n",
       "       [ 111.,    7.,  327.],\n",
       "       [ 153.,   10.,  452.],\n",
       "       [ 406.,   26., 1195.],\n",
       "       [   5.,    0.,   15.]])"
      ]
     },
     "execution_count": 11,
     "metadata": {},
     "output_type": "execute_result"
    }
   ],
   "source": [
    "from scipy.stats.contingency import expected_freq\n",
    "\n",
    "np.rint(expected_freq(fludat_region.iloc[:,[0,1,2]]))"
   ]
  },
  {
   "cell_type": "markdown",
   "metadata": {
    "slideshow": {
     "slide_type": "slide"
    }
   },
   "source": [
    "A statistic that measures the difference between observed and expected cell counts while accounting for the expected size of the cell is:\n",
    "\n",
    "$$C = \\sum_{\\text{all cells}}\\frac{(\\text{observed - expected})^2}{\\text{expected}} $$\n",
    "\n",
    "$C$ is known as the Chi-Square test statistic."
   ]
  },
  {
   "cell_type": "code",
   "execution_count": 12,
   "metadata": {},
   "outputs": [
    {
     "data": {
      "text/plain": [
       "1592.5568918283873"
      ]
     },
     "execution_count": 12,
     "metadata": {},
     "output_type": "execute_result"
    }
   ],
   "source": [
    "# the summand for each cell\n",
    "sum_i = (pow((np.array(fludat_region.iloc[:,[0,1,2]]) - expected_freq(fludat_region.iloc[:,[0,1,2]])),2)/\n",
    "         expected_freq(fludat_region.iloc[:,[0,1,2]]))\n",
    "#sum over cells\n",
    "obs_chisq = np.sum(sum_i)\n",
    "obs_chisq"
   ]
  },
  {
   "cell_type": "markdown",
   "metadata": {
    "hide_input": false,
    "slideshow": {
     "slide_type": "slide"
    }
   },
   "source": [
    "Now we need a reference distribution to compare the observed value.\n",
    "\n",
    "$$H_0: \\text{region and and subtype of influenza are independent,} \\\\ H_a: \\text{region and subtype of influenza are dependent}.$$\n",
    "\n",
    "- If $H_0$ is true then we could permute region (or influenza subtype) values, and any other permutation would be equally as likely. \n",
    "\n",
    "- For each permutation resample we can cross-tabulate to obtain a table of observed values and compute the chi-square statistic for the resample.\n",
    "\n",
    "- <mark> Exercise: write a program to calculate the permutation distribution for test of independence </mark>"
   ]
  },
  {
   "cell_type": "code",
   "execution_count": 18,
   "metadata": {
    "hide_input": false
   },
   "outputs": [],
   "source": [
    "%run indep_perm.py"
   ]
  },
  {
   "cell_type": "code",
   "execution_count": 19,
   "metadata": {},
   "outputs": [
    {
     "name": "stdout",
     "output_type": "stream",
     "text": [
      "The observed value of the chi-square statistic is 1593.0\n"
     ]
    },
    {
     "data": {
      "image/png": "[encoded data removed]",
      "text/plain": [
       "<Figure size 432x288 with 1 Axes>"
      ]
     },
     "metadata": {
      "needs_background": "light"
     },
     "output_type": "display_data"
    }
   ],
   "source": [
    "plt.hist(permdist,edgecolor = 'black', bins = 20, color = '#e9a3c9')\n",
    "plt.xlabel('Chi-square Statistic')\n",
    "plt.title('Permutation Distribution of Region and Influenza Test of Independence');\n",
    "print('The observed value of the chi-square statistic is', np.round(obs_chisq))"
   ]
  },
  {
   "cell_type": "markdown",
   "metadata": {
    "slideshow": {
     "slide_type": "slide"
    }
   },
   "source": [
    "# The parametric chi-square test\n",
    "\n",
    "- Karl Pearson proposed the chi-square statistic in the 1920s.\n",
    "- The permutation test approach was not easy to implement on large data sets.\n",
    "- Pearson and R.A. Fisher developed a shortcut - if the expected counts are reasonably large then the null distribution is _approximately_ chi-square with $(I-1)(J-1)$ degrees of freedom, where $I$ and $J$ are the numbers of rows and columns.\n",
    "- The pdf of the chi-square distribution on $m$ degrees of freedom is:  $$f(x)=\\frac{x^{m/2-1} e^{-x/2}}{2^{m/2}\\Gamma(m/2)}, x>0. $$\n",
    "\n",
    "- A random variable $X$ that follows a Chi-square distribution is often denoted as $ X \\sim \\chi^2_m$"
   ]
  },
  {
   "cell_type": "markdown",
   "metadata": {
    "slideshow": {
     "slide_type": "slide"
    }
   },
   "source": [
    "- The influenza example has a null distribution with $(6-1)(3-1)=10$ degrees of freedom.\n",
    "- `chi2` in [`scipy.stats`](https://docs.scipy.org/doc/scipy/reference/generated/scipy.stats.chi2.html) has methods available for calculations involving the $\\chi^2_m$."
   ]
  },
  {
   "cell_type": "code",
   "execution_count": 34,
   "metadata": {
    "slideshow": {
     "slide_type": "-"
    }
   },
   "outputs": [
    {
     "data": {
      "image/png": "[encoded data removed]",
      "text/plain": [
       "<Figure size 432x288 with 1 Axes>"
      ]
     },
     "metadata": {
      "needs_background": "light"
     },
     "output_type": "display_data"
    }
   ],
   "source": [
    "from scipy.stats import chi2\n",
    "\n",
    "df = 10\n",
    "x = np.linspace(chi2.ppf(0.001, df), chi2.ppf(0.999, df), 100)\n",
    "plt.plot(x, chi2.pdf(x, df),'r-', lw=5, alpha=2.0, label= r'$\\chi^2_{10}$ density', color = 'black')\n",
    "plt.hist(permdist,edgecolor = 'black', bins = 20, color = '#7fbf7b', density = True);\n",
    "plt.title('Null Distribution of Permutation Test for' '\\n' 'Independence of Region and Influenza Test')\n",
    "plt.xlabel(r'$x$')\n",
    "plt.ylabel(r'$f(x)$')\n",
    "plt.legend();"
   ]
  },
  {
   "cell_type": "markdown",
   "metadata": {
    "slideshow": {
     "slide_type": "slide"
    }
   },
   "source": [
    "The permutation p-value is: $$\\text{p-value} = \\frac{\\#\\{\\chi^2_{sim_i} > \\text{obs_chisq}\\}}{N},$$\n",
    "\n",
    "where $N$ is the number of simulations, $\\chi^2_{sim_i}$ is the value of the chi-square statistic in the $i^{th}$ simulation $i=1,\\ldots,N$, and $\\text{obs_chisq}$ is the observed value of the chi-square statistic.\n",
    "\n",
    "The chi-square test p-value is:\n",
    "\n",
    "$$ \\text{p-value} = P(X> \\text{obs_chisq}) = \\int_{0}^{\\text{obs_chisq}}\\frac{x^{m/2-1} e^{-x/2}}{2^{m/2}\\Gamma(m/2)}dx $$\n",
    "\n",
    "The observed chi-square statistic, p-value, degrees of freedom, expected counts can be calculated using `chi2_contingency` in the `scipy.stats` library. "
   ]
  },
  {
   "cell_type": "code",
   "execution_count": 50,
   "metadata": {},
   "outputs": [
    {
     "name": "stdout",
     "output_type": "stream",
     "text": [
      " The observed chi-square statistic is: 1592.56 \n",
      " The p-value is: 0.0 \n",
      " The expected counts are: \n",
      " [[  70.    5.  207.]\n",
      " [ 102.    7.  299.]\n",
      " [ 111.    7.  327.]\n",
      " [ 153.   10.  452.]\n",
      " [ 406.   26. 1195.]\n",
      " [   5.    0.   15.]]\n"
     ]
    }
   ],
   "source": [
    "from scipy.stats import chi2_contingency\n",
    "\n",
    "chisq, p, df, expect = chi2_contingency(fludat_region.iloc[:,[0,1,2]])\n",
    "print(' The observed chi-square statistic is:', np.round(chisq,2), '\\n',\n",
    "      'The p-value is:', np.round(p,2), '\\n',\n",
    "      'The expected counts are: \\n', np.rint(expect))"
   ]
  },
  {
   "cell_type": "markdown",
   "metadata": {},
   "source": [
    "- Permutation tests are based on the idea of hypothetically repeating the study many times.\n",
    "- We imagine hypothetical data sets generated by the same mechanism as the observed data.\n",
    "- The accuracy of the observed value of the parameter is based on the accuracy of the ensemble of parameters in the hypothetical repetitions."
   ]
  },
  {
   "cell_type": "markdown",
   "metadata": {
    "slideshow": {
     "slide_type": "slide"
    }
   },
   "source": [
    "# Bayesian Inference\n",
    "\n",
    "## Example\n",
    "\n",
    "### Prior\n",
    "\n",
    "- Human males have both an X and Y chromosome and females have two X chromosomes.  Each chromosome is inherited from one parent.\n",
    "\n",
    "- Hemophilia is a disease where a male who inherits the gene that causes the disease on the X-chromosome is affected whereas a female carrying the gene on only one of her two X-chromosomes is not affected. \n",
    "\n",
    "- Consider a woman who has an affected brother and unaffected father.  This implies her mother must be a carrier of the hemophilia gene. Thus, the woman has a fifty-fifty chance of having the gene.\n",
    "\n",
    "- Let $\\theta=1$ if the woman is a carrier and $\\theta=0$ if the woman is not a carrier. \n",
    "\n",
    "- The prior distribution is: $P(\\theta=1)=P(\\theta=0)=1/2$."
   ]
  },
  {
   "cell_type": "markdown",
   "metadata": {
    "slideshow": {
     "slide_type": "subslide"
    }
   },
   "source": [
    "### Model and likelihood\n",
    "\n",
    "- The data used to update are the affected status of the woman's sons (they are not identical twins).\n",
    "- Let $y_i=1$ or $0$ if the son is affected or not respectively.\n",
    "- The outcomes of the two sons are exchangeable and, conditional on $\\theta$ independent.   \n",
    "\n",
    "$$\\begin{align*}\n",
    "P(y_1=0,y_2=0|\\theta=1)&=(0.5)(0.5)=0.25 \\\\\n",
    "  P(y_1=0,y_2=0|\\theta=0)&=(1)(1)=1.\n",
    "  \\end{align*}$$\n"
   ]
  },
  {
   "cell_type": "markdown",
   "metadata": {
    "slideshow": {
     "slide_type": "subslide"
    }
   },
   "source": [
    "## Posterior\n",
    "\n",
    "Let ${\\bf y} = (y_1,y_2)$\n",
    "\n",
    "$$ \\begin{align*}\n",
    "P(\\theta=1|{\\bf y}) &= \\frac{P({\\bf y}|\\theta=1) P(\\theta=1)}{P({\\bf y}|\\theta=1) P(\\theta=1)+P({\\bf y}|\\theta=0) P(\\theta=0)} \\\\\n",
    "                    &= \\frac{(0.25)(0.5)}{(0.25)(0.5) + (1.0)(0.5)}=0.20.\n",
    "\\end{align*}$$\n",
    "\n",
    "Interpretation:  If a woman has unaffected children, it is less probable that she is a carrier.  The prior odds that the woman is affected is $0.5/0.5 = 1$.  The likelihood ratio based on the two unaffected sons is $0.25/1=0.25$.  So, the posterior odds are $1 \\times 0.25=0.25.$ "
   ]
  },
  {
   "cell_type": "markdown",
   "metadata": {
    "slideshow": {
     "slide_type": "subslide"
    }
   },
   "source": [
    "- A key aspect of Bayesian analysis is the ease with which sequential analysis can be performed.\n",
    "- Suppose that a woman has a third son, who is also unaffected. The previous posterior distribution can be used as the new prior distribution (<mark> Exercise: show this is true </mark>, to obtain:\n",
    "\n",
    "\n",
    "Let ${\\bf y} = (y_1,y_2,y_3)$\n",
    "\n",
    "$$ \\begin{align*}\n",
    "P(\\theta=1|{\\bf y}) &= \\frac{P({\\bf y}|\\theta=1) P(\\theta=1)}{P({\\bf y}|\\theta=1) P(\\theta=1)+P({\\bf y}|\\theta=0) P(\\theta=0)} \\\\\n",
    "                    &= \\frac{(0.50)(0.20)}{(0.5)(0.20) + (1.0)(0.8)}=0.111.\n",
    "\\end{align*}$$\n",
    "\n",
    "<mark> Exercise: </mark> Alternatively, if the third son is affected then the posterior probability of the woman being a carrier is 1. "
   ]
  },
  {
   "cell_type": "markdown",
   "metadata": {},
   "source": [
    "# Bayesian Inference \n",
    "\n",
    "- Bayesian statistical conclusions about a parameter $\\theta$, or unobserved data $\\tilde y$, are made in terms of probability statements.\n",
    "- Probability statements are conditional on observed value of $y$. $p(\\theta|y), p({\\tilde y}|y).$\n",
    "- Conditioning on the observed data instead of retrospective evaluation of the procedure to estimate $\\theta$ over the distribution of possible $y$ values conditional on the true unknown value of $\\theta$ defines Bayesian inference."
   ]
  },
  {
   "cell_type": "markdown",
   "metadata": {},
   "source": [
    "# Bayes' rule\n",
    "\n",
    "To make probability statements about $\\theta$ given $y$ we need: \n",
    "\n",
    "- a sampling distribution $p(y|\\theta)$ - either a probability mass function or density function.\n",
    "\n",
    "- a prior distribution for $p(\\theta)$\n",
    "\n",
    "$$\\begin{align*}\n",
    "p(\\theta,y) &= p(\\theta)p(y|\\theta) \\\\\n",
    "\\Rightarrow p(\\theta|y)&= \\frac{p(\\theta,y)}{p(y)} \\\\\n",
    "                       &= \\frac{p(\\theta)p(y|\\theta)}{p(y)}.\n",
    "\\end{align*}$$\n"
   ]
  },
  {
   "cell_type": "markdown",
   "metadata": {
    "slideshow": {
     "slide_type": "slide"
    }
   },
   "source": [
    "# Estimating the probability of a female birth\n",
    "\n",
    "- In a binomial model the aim is to estimate an unknown population proportion from the results of a sequence of 'Bernoulli' trials.\n",
    "- Data $y_1,\\ldots, y_n$ each of which is either 0 or 1.\n",
    "- The binomial sampling model states that: $p(y|\\theta)= {n \\choose y}\\theta^y(1-\\theta)^{n-y}$.\n",
    "- The left hand side doesn't depend on $n$ because it's regarded as part of the design and considered fixed."
   ]
  },
  {
   "cell_type": "markdown",
   "metadata": {},
   "source": [
    "- 200 years ago it was established that the proportion of female births in European populations was less than 0.5.  The currently accepted value is 0.485.\n",
    "- Let $y$ be the number of girls recorded in $n$ births.\n",
    "- Applying the binomial model we are assuming that the $n$ births are conditionally independent given $\\theta$, with the probability of a female birth equal to $\\theta$ for all cases. \n",
    "- To perform Bayesian analysis in the binomial model we need to specify a prior distribution for $\\theta$.\n",
    "- Assume that the prior is uniform on $[0,1].$"
   ]
  },
  {
   "cell_type": "markdown",
   "metadata": {},
   "source": [
    "Bayes' rule can be used to derive the posterior distribution of $\\theta$:\n",
    "\n",
    "$$p(\\theta|y) \\propto \\theta^y(1-\\theta)^{n-y}.$$\n",
    "\n",
    "The constant of proportionality is obtained by integration:\n",
    "\n",
    "$$\\int_{0}^{1}\\theta^y(1-\\theta)^{n-y}d\\theta.$$\n",
    "\n",
    "Therefore, the posterior distribution is: $$\\theta|y \\sim Beta(y+1,n-y+1) $$"
   ]
  },
  {
   "cell_type": "code",
   "execution_count": 51,
   "metadata": {
    "hide_input": true,
    "slideshow": {
     "slide_type": "slide"
    }
   },
   "outputs": [
    {
     "data": {
      "image/png": "[encoded data removed]",
      "text/plain": [
       "<Figure size 576x648 with 4 Axes>"
      ]
     },
     "metadata": {
      "needs_background": "light"
     },
     "output_type": "display_data"
    }
   ],
   "source": [
    "from scipy.stats import beta\n",
    "\n",
    "def params(y,n):\n",
    "    return(y+1, n-y+1)\n",
    "\n",
    "plt.figure(num=None, figsize=(8, 9))\n",
    "\n",
    "ax1 = plt.subplot(221)\n",
    "a = params(3,5)[0]\n",
    "b = params(3,5)[1]\n",
    "x = np.linspace(beta.ppf(0.01, a, b), beta.ppf(0.99, a, b), 100)\n",
    "plt.plot(x, beta.pdf(x, a, b),'r-', lw=5, alpha=0.6, label='n=5 \\n y=3')\n",
    "plt.legend(loc='upper right')\n",
    "plt.title('Posterior for Binomal - uniform prior');\n",
    "\n",
    "plt.subplot(222, sharex=ax1)\n",
    "a = params(12,20)[0]\n",
    "b = params(12,20)[1]\n",
    "x = np.linspace(beta.ppf(0.01, a, b), beta.ppf(0.99, a, b), 100)\n",
    "plt.plot(x, beta.pdf(x, a, b),'r-', lw=5, alpha=0.6, label='n=12 \\n y=20')\n",
    "plt.legend(loc='upper right')\n",
    "plt.title('Posterior for Binomal - uniform prior');\n",
    "\n",
    "plt.subplot(223, sharex=ax1)\n",
    "a = params(60,100)[0]\n",
    "b = params(60,100)[1]\n",
    "x = np.linspace(beta.ppf(0.01, a, b), beta.ppf(0.99, a, b), 100)\n",
    "plt.plot(x, beta.pdf(x, a, b),'r-', lw=5, alpha=0.6, label='n=60 \\n y=100')\n",
    "plt.legend(loc='upper right')\n",
    "plt.title('Posterior for Binomal - uniform prior');\n",
    "\n",
    "plt.subplot(224, sharex=ax1)\n",
    "a = params(600,1000)[0]\n",
    "b = params(600,1000)[1]\n",
    "x = np.linspace(beta.ppf(0.01, a, b), beta.ppf(0.99, a, b), 100)\n",
    "plt.plot(x, beta.pdf(x, a, b),'r-', lw=5, alpha=0.6, label='n=600 \\n y=1000')\n",
    "plt.legend(loc='upper right')\n",
    "plt.title('Posterior for Binomal - uniform prior');"
   ]
  },
  {
   "cell_type": "markdown",
   "metadata": {},
   "source": [
    "- Laplace used the uniform prior in analyzing the binomial model.\n",
    "- His first serious application was to estimate the proportion of female births in a population.\n",
    "- A total of 241,945 girls and 251,527 boys were born in Paris from 1745 to 1770.\n",
    "- Laplace calculated:\n",
    "\n",
    "$$ P(\\theta \\ge 0.5 | y = 241,945, n = 241,945 + 251,527).$$"
   ]
  },
  {
   "cell_type": "code",
   "execution_count": 52,
   "metadata": {},
   "outputs": [
    {
     "data": {
      "text/plain": [
       "1.1102230246251565e-16"
      ]
     },
     "execution_count": 52,
     "metadata": {},
     "output_type": "execute_result"
    }
   ],
   "source": [
    "1- beta.cdf(x = 0.5, a = 241945+1, b = 241945+251527-241945+1)"
   ]
  },
  {
   "cell_type": "markdown",
   "metadata": {},
   "source": [
    "## Posterior predictive distribution \n",
    "\n",
    "Let $\\tilde y$ denote the result of a new trial and $y$ the result of a previous trial.\n",
    "\n",
    "$$\\begin{align*}\n",
    "P({\\tilde y}=1|y) &= \\int_0^1 P({\\tilde y}=1|\\theta, y)p(\\theta|y)d\\theta \\\\\n",
    "                  &= \\int_0^1 \\theta p(\\theta|y)d\\theta \\\\\n",
    "                  &= E(\\theta|y) = \\frac{y+1}{n+2}.\n",
    "\\end{align*}$$ "
   ]
  },
  {
   "cell_type": "markdown",
   "metadata": {},
   "source": [
    "# Summarizing Posterior Inference\n",
    "\n",
    "- Commonly used summaries of location are mean, median, and mode(s), and summaries of variation include sd, IQR, and other quartiles.\n",
    "- Posterior intervals can be used to summarize uncertainty similar to confidence intervals.\n"
   ]
  },
  {
   "cell_type": "markdown",
   "metadata": {
    "slideshow": {
     "slide_type": "slide"
    }
   },
   "source": [
    "## Example: estinating the probability of a female birth given placenta previa\n",
    "\n",
    "- The maternal condition placenta previa is an unusual condition of pregnancy where the placenta is implanted very low in the uterus, obstructing the fetus from normal vaginal delivery.\n",
    "\n",
    "- An early study concerning sex of plancenta previa in Germany found that of a total of 980 births, 437 were female.\n",
    "\n",
    "- How much evidence does this provide for the claim that the proportion of female births in the population of placenta previa births is less than 0.485 - the proportion of female births in the population?\n"
   ]
  },
  {
   "cell_type": "markdown",
   "metadata": {
    "slideshow": {
     "slide_type": "slide"
    }
   },
   "source": [
    "- Assuming a uniform prior for the probability of female birth, the posterior is $Beta(437+1,980-437+1)=Beta(438,544)$.\n",
    "- In many situations it's not feasible to perform calculations on the posterior density function directly. \n",
    "- Simulation can be used to obtain inferences from the posterior."
   ]
  },
  {
   "cell_type": "code",
   "execution_count": 53,
   "metadata": {
    "slideshow": {
     "slide_type": "slide"
    }
   },
   "outputs": [
    {
     "name": "stdout",
     "output_type": "stream",
     "text": [
      "95% posterior interval:[ 0.415 , 0.476 ]\n",
      "mean: 0.4461479856283683 \n",
      " median: 0.4458912450031788 \n",
      " sd: 0.015730496894942755 \n",
      " iqr: 0.021766487988258143\n"
     ]
    },
    {
     "data": {
      "image/png": "[encoded data removed]",
      "text/plain": [
       "<Figure size 432x288 with 1 Axes>"
      ]
     },
     "metadata": {
      "needs_background": "light"
     },
     "output_type": "display_data"
    }
   ],
   "source": [
    "# 1000 draws from the posterior dist.\n",
    "post_dist = beta.rvs(438,544,size=1000)\n",
    "plt.hist(post_dist,edgecolor = 'black', bins = 20, color = '#7fbf7b', density = True);\n",
    "print('95% posterior interval:[',np.round(np.quantile(post_dist, q = 0.05/2),3), ',',np.round(np.quantile(post_dist, q = 1-0.05/2),3),']')\n",
    "print('mean:', np.mean(post_dist), '\\n','median:', np.median(post_dist),'\\n','sd:', np.std(post_dist), '\\n','iqr:', stats.iqr(post_dist))"
   ]
  },
  {
   "cell_type": "markdown",
   "metadata": {},
   "source": [
    "Is there evidence that the proportion of female births in the population of placenta previa births is less than 0.485?"
   ]
  }
 ],
 "metadata": {
  "celltoolbar": "Slideshow",
  "kernelspec": {
   "display_name": "Python 3",
   "language": "python",
   "name": "python3"
  },
  "language_info": {
   "codemirror_mode": {
    "name": "ipython",
    "version": 3
   },
   "file_extension": ".py",
   "mimetype": "text/x-python",
   "name": "python",
   "nbconvert_exporter": "python",
   "pygments_lexer": "ipython3",
   "version": "3.6.4"
  },
  "rise": {
   "scroll": true,
   "theme": "serif",
   "transition": "linear"
  }
 },
 "nbformat": 4,
 "nbformat_minor": 2
}
