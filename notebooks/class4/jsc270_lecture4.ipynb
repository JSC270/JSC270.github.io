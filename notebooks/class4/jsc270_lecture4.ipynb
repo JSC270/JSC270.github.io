{
 "cells": [
  {
   "cell_type": "markdown",
   "metadata": {
    "slideshow": {
     "slide_type": "slide"
    }
   },
   "source": [
    "# JSC 270  \n",
    "\n",
    "## Prof. Taback\n",
    "\n",
    "## January 28, 2019\n"
   ]
  },
  {
   "cell_type": "markdown",
   "metadata": {},
   "source": [
    "# Today's class\n",
    "\n",
    "- Overview of data science\n",
    "\n",
    "- Introduction to causal inference and experimental design\n",
    "\n",
    "- Experiments versus observational studies\n",
    "\n",
    "- Randomization test to compare two means and proportions\n",
    "\n",
    "- Two-sample t-test and two-sample test of proportions"
   ]
  },
  {
   "cell_type": "markdown",
   "metadata": {
    "slideshow": {
     "slide_type": "slide"
    }
   },
   "source": [
    "# Data Science\n",
    "\n",
    "What is data science?\n",
    "\n",
    "> learning from data\n",
    "\n",
    "> Person who is better at statistics than any software engineer and better at software engineering than any statistician.\n",
    "\n",
    "(Donoho, 2017) "
   ]
  },
  {
   "cell_type": "markdown",
   "metadata": {
    "slideshow": {
     "slide_type": "slide"
    }
   },
   "source": [
    "# Greater Data Science\n",
    "\n",
    "> 1. Data Gathering,Preparation,and Exploration (e.g., scraping, prep, wrangling)\n",
    "> 2. Data Representation and Transformation (e.g., different types of data formats such as HTML, CSV, SQL)\n",
    "> 3. Computing with Data (e.g., using Python or R)\n",
    "> 4. Data Modeling (e.g., traditional statistical modeling + machine learning algorithms)\n",
    "> 5. Data Visualization and Presentation \n",
    "> 6. Science about Data Science (e.g., effectiveness of work flows)\n",
    "\n",
    "(Donoho, 2017) \n",
    "\n",
    "**JSC270 is an introduction to 1-5.**"
   ]
  },
  {
   "cell_type": "markdown",
   "metadata": {
    "slideshow": {
     "slide_type": "slide"
    }
   },
   "source": [
    "# The Data Science Venn Diagram\n",
    "\n",
    "Today's consensus data science ... what's missing?\n",
    "\n",
    "![](conway_venn.png)\n",
    "\n",
    "(see [Drew Conway](http://drewconway.com/zia/2013/3/26/the-data-science-venn-diagram))"
   ]
  },
  {
   "cell_type": "markdown",
   "metadata": {
    "slideshow": {
     "slide_type": "slide"
    }
   },
   "source": [
    "# A/B Testing\n",
    "\n",
    "<img src=\"abtest.png\" height=\"1000\" width=\"1100\"></img>\n",
    "\n",
    "Ref: [AdEspresso](https://adespresso.com/blog/dynamic-creative-facebook/)"
   ]
  },
  {
   "cell_type": "markdown",
   "metadata": {
    "slideshow": {
     "slide_type": "slide"
    }
   },
   "source": [
    "# Randomized Clinical Trials\n",
    "\n",
    "<img src=\"clinicaltrial.png\" height=\"400\" width=\"500\" align=\"middle\"></img>"
   ]
  },
  {
   "cell_type": "markdown",
   "metadata": {
    "slideshow": {
     "slide_type": "slide"
    }
   },
   "source": [
    "# Introduction to causal inference - Bob's headache\n",
    "\n",
    "- Suppose Bob, at a particular point in time, is contemplating whether or not to take an aspirin for a headache. "
   ]
  },
  {
   "cell_type": "markdown",
   "metadata": {
    "slideshow": {
     "slide_type": "fragment"
    }
   },
   "source": [
    "- There are two treatment levels, taking an aspirin, and not taking an aspirin. "
   ]
  },
  {
   "cell_type": "markdown",
   "metadata": {
    "slideshow": {
     "slide_type": "fragment"
    }
   },
   "source": [
    "- If Bob takes the aspirin, his headache may be gone, or it may remain, say, an hour later; we denote this outcome, which can be either “Headache” or “No Headache,” by $Y(\\text{Aspirin})$.  "
   ]
  },
  {
   "cell_type": "markdown",
   "metadata": {
    "slideshow": {
     "slide_type": "fragment"
    }
   },
   "source": [
    "- Similarly, if Bob does not take the aspirin, his headache may remain an hour later, or it may not; we denote this potential outcome by $Y(\\text{No Aspirin})$, which also can be either “Headache,” or “No Headache.” "
   ]
  },
  {
   "cell_type": "markdown",
   "metadata": {
    "slideshow": {
     "slide_type": "subslide"
    }
   },
   "source": [
    "# Introduction to causal inference - Bob's headache\n",
    "\n",
    "\n",
    "- There are therefore two potential outcomes, $Y(\\text{Aspirin})$ and $Y(\\text{No Aspirin})$, one for each level of the treatment. The causal effect of the treatment involves the comparison of these two potential outcomes."
   ]
  },
  {
   "cell_type": "markdown",
   "metadata": {
    "slideshow": {
     "slide_type": "subslide"
    }
   },
   "source": [
    "Because in this example each potential outcome can take on only two values, the unit- level causal effect – the comparison of these two outcomes for the same unit – involves one of four (two by two) possibilities:\n",
    "\n",
    "\n",
    "1. Headache gone only with aspirin:\n",
    " Y(Aspirin) = No Headache, Y(No Aspirin) = Headache\n",
    "2. No effect of aspirin, with a headache in both cases: \n",
    "Y(Aspirin) = Headache, Y(No Aspirin) = Headache\n",
    "3. No effect of aspirin, with the headache gone in both cases: Y(Aspirin) = No Headache, Y(No Aspirin) = No Headache\n",
    "4. Headache gone only without aspirin:\n",
    "Y(Aspirin) = Headache, Y(No Aspirin) = No Headache"
   ]
  },
  {
   "cell_type": "markdown",
   "metadata": {
    "slideshow": {
     "slide_type": "subslide"
    }
   },
   "source": [
    "# Introduction to causal inference - Bob's headache\n",
    "\n",
    "\n",
    "There are two important aspects of this definition of a causal effect. \n",
    "\n",
    "1. The definition of the causal effect depends on the potential outcomes, but it does not depend on which outcome is actually observed. \n",
    "\n",
    "2. The causal effect is the comparison of potential outcomes, for the same unit, at the same moment in time post-treatment. \n",
    "\n",
    "- The causal effect is not defined in terms of comparisons of outcomes at different times, as in a before-and-after comparison of my headache before and after deciding to take or not to take the aspirin. "
   ]
  },
  {
   "cell_type": "markdown",
   "metadata": {
    "slideshow": {
     "slide_type": "slide"
    }
   },
   "source": [
    "# The fundemental problem of causal inference\n",
    "\n",
    "“The fundamental problem of causal inference” (Holland, 1986, p. 947) is the problem that at most one of the potential outcomes can be realized and thus observed. \n",
    "\n",
    "- If the action you take is Aspirin, you observe $Y(\\text{Aspirin})$ and will never know the value of $Y(\\text{No Aspirin})$ because you cannot go back in time. \n",
    "\n",
    "- Similarly, if your action is No Aspirin, you observe $Y(\\text{No Aspirin})$ but cannot know the value of $Y(\\text{Aspirin})$.  \n",
    "\n",
    "- In general, therefore, even though the unit-level causal effect (the comparison of the two potential outcomes) may be well defined, by definition we cannot learn its value from just the single realized potential outcome. "
   ]
  },
  {
   "cell_type": "markdown",
   "metadata": {
    "slideshow": {
     "slide_type": "subslide"
    }
   },
   "source": [
    "# The fundemental problem of causal inference\n",
    "\n",
    "\n",
    "The outcomes that would be observed under control and treatment conditions are often called **counterfactuals** or **potential outcomes**.\n",
    "\n",
    "- If Bob took asprin for his headache then he would be assigned to the treatment condition so $T_i = 1$. \n",
    "\n",
    "- Then $Y(\\text{Aspirin})$ is observed and $Y(\\text{No Aspirin})$ is the unobserved counterfactual outcome—it represents what would have happened to Bob if he had not taken aspirin. \n",
    "\n",
    "- Conversely, if Bob had not taken aspirin then $Y(\\text{No Aspirin})$ is observed and $Y(\\text{Aspirin})$ is counterfactual. \n",
    "\n",
    "- In either case, a simple treatment effect for Bob can be defined as\n",
    "$$ \\mbox{treatment effect for Bob }= Y(\\text{Aspirin})-Y(\\text{No Aspirin}).$$\n",
    "\n",
    "- The problem is that we can only observe one outcome."
   ]
  },
  {
   "cell_type": "markdown",
   "metadata": {
    "slideshow": {
     "slide_type": "slide"
    }
   },
   "source": [
    "# The assignment mechanism\n",
    "\n",
    "- **Assignment mechanism:** The process for deciding which units receive treatment and which receive control. \n",
    "- **Ignorable Assignment Mechanism:** The assignment of treatment or control for all units is independent of the unobserved potential outcomes (“nonignorable” means not ignorable)"
   ]
  },
  {
   "cell_type": "markdown",
   "metadata": {
    "slideshow": {
     "slide_type": "subslide"
    }
   },
   "source": [
    "# The assignment mechanism\n",
    "\n",
    "- Suppose that a doctor prescribes surgery (labeled 1) or drug (labeled 0) for a certain condition.  \n",
    "- The doctor knows enough about the potential outcomes of the patients so assigns each patient the treatment that is more beneficial to that patient."
   ]
  },
  {
   "cell_type": "markdown",
   "metadata": {
    "slideshow": {
     "slide_type": "-"
    }
   },
   "source": [
    "<table style=\"font-size: 25px;\">\n",
    "  <tr>\n",
    "    <th>unit</th>\n",
    "    <th>Y(0)</th>\n",
    "    <th>Y(1)</th>\n",
    "    <th>Y(1)- Y(0)</th>\n",
    "  </tr>\n",
    "  <tr>\n",
    "    <td>patient #1</td>\n",
    "    <td>1</td>\n",
    "    <td>7</td>\n",
    "    <td>6</td>\n",
    "  </tr>\n",
    "  <tr>\n",
    "    <td>patient #2</td>\n",
    "    <td>6</td>\n",
    "    <td>5</td>\n",
    "    <td>-1</td>\n",
    "  </tr>\n",
    "  <tr>\n",
    "    <td>patient #3</td>\n",
    "    <td>1</td>\n",
    "    <td>5</td>\n",
    "    <td>4</td>\n",
    "  </tr>\n",
    "  <tr>\n",
    "    <td>patient #4</td>\n",
    "    <td>8</td>\n",
    "    <td>7</td>\n",
    "    <td>-1</td>\n",
    "  </tr>\n",
    "  <tr>\n",
    "    <td>Average</td>\n",
    "    <td>4</td>\n",
    "    <td>6</td>\n",
    "    <td>2</td>\n",
    "  </tr>\n",
    "</table>\n",
    "</font>\n",
    "\n",
    "$Y$ is years of post-treatment survival. "
   ]
  },
  {
   "cell_type": "markdown",
   "metadata": {
    "slideshow": {
     "slide_type": "subslide"
    }
   },
   "source": [
    "# The assignment mechanism\n",
    "\n",
    "- Patients 1 and 3 will receive surgery and patients 2 and 4 will receive drug treatment.\n",
    "- The observed treatments and outcomes are in this table.\n",
    "\n",
    "unit         |   T    | Y(obs) | Y(1)   |Y(0) \n",
    "-------------|----------|-------------|------------|--------\n",
    "patient #1   |      1   |  7                               \n",
    "patient #2   |      0   |  6          \n",
    "patient #3   |      1   |  5         \n",
    "patient #4   |      0   |  8         \n",
    "**Average Drug** |   &nbsp;         |  **7**\n",
    "**Average Surg** |   &nbsp;         |  **6**\n",
    "\n",
    "- This shows that we can reach invalid conclusions if we look at the observed values of potential outcomes without considering how the treatments were assigned.\n",
    "- The assignment mechanism depended on the potential outcomes and was therefore nonignorable.\n",
    "\n",
    "$$P(T=1|Y(1),Y(0)) \\ne P(T=1)$$"
   ]
  },
  {
   "cell_type": "markdown",
   "metadata": {
    "slideshow": {
     "slide_type": "subslide"
    }
   },
   "source": [
    "# The assignment mechanism\n",
    "\n",
    "The observed difference in means is entirely misleading in this situation. The biggest problem when using the difference of sample means here is that we have effectively pretended that we had an ignorable treatment assignment when in fact we did not. This example demonstrates the importance of finding a statistic that is appropriate for the actual assignment mechanism."
   ]
  },
  {
   "cell_type": "markdown",
   "metadata": {
    "slideshow": {
     "slide_type": "slide"
    }
   },
   "source": [
    "# Does University Residence Food Affect Males and Females Differently?\n",
    "\n",
    "- A large university is interested in investigating the effects on the students of the diet provided in the university dining halls/campus food and any differences between males and females in these effects. \n",
    "\n",
    "- Various types of data are gathered. In particular, the weight of each student at the time of their arrival in September and before their departure in May are recorded.  \n",
    "\n",
    "- What can be concluded about the effect of diet provided by campus food on students?"
   ]
  },
  {
   "cell_type": "code",
   "execution_count": 1,
   "metadata": {
    "slideshow": {
     "slide_type": "skip"
    }
   },
   "outputs": [],
   "source": [
    "import numpy as np\n",
    "import pandas as pd\n",
    "import matplotlib.pyplot as plt\n",
    "\n",
    "np.random.seed(1)\n",
    "\n",
    "#males\n",
    "male_wt = np.random.normal(180, 15, 200)\n",
    "time_M = np.repeat(['Sept', 'May'],100)\n",
    "sex_M = np.repeat(\"Male\",200)\n",
    "#females\n",
    "fem_wt = np.random.normal(130, 15, 200)\n",
    "time_F = np.repeat(['Sept', 'May'],100)\n",
    "sex_F = np.repeat(\"Female\",200)\n",
    "\n",
    "#store in long dataframe\n",
    "wt = np.concatenate((male_wt, fem_wt))\n",
    "sex = np.concatenate((sex_M,sex_F))\n",
    "time = np.concatenate((time_M, time_F))\n",
    "\n",
    "weightdf = pd.DataFrame({'wt': np.round(wt,2), \n",
    "                         'time': time, \n",
    "                         'sex': sex})"
   ]
  },
  {
   "cell_type": "code",
   "execution_count": 2,
   "metadata": {
    "hide_input": true,
    "slideshow": {
     "slide_type": "slide"
    }
   },
   "outputs": [
    {
     "data": {
      "image/png": "[encoded data removed]",
      "text/plain": [
       "<Figure size 504x360 with 1 Axes>"
      ]
     },
     "metadata": {},
     "output_type": "display_data"
    }
   ],
   "source": [
    "from scipy import stats\n",
    "\n",
    "plt.figure(figsize=(7,5))\n",
    "\n",
    "slope1, intercept1, r_value1, p_value1, std_err1 = stats.linregress(male_wt[time_M == 'Sept'], male_wt[time_M == 'May'])\n",
    "slope2, intercept2, r_value2, p_value2, std_err2 = stats.linregress(fem_wt[time_M == 'Sept'], fem_wt[time_M == 'May'])\n",
    "\n",
    "line_M = slope1*male_wt[time_M == 'Sept'] + intercept1\n",
    "line_F = slope2*fem_wt[time_M == 'Sept'] + intercept2\n",
    "\n",
    "plt.style.use('ggplot')\n",
    "plt.plot(male_wt[time_M == 'Sept'], male_wt[time_M == 'May'], 'bo', label = \"Male\" )\n",
    "plt.plot(male_wt[time_M == 'Sept'], line_M, 'darkblue')\n",
    "plt.plot(fem_wt[time_M == 'Sept'], fem_wt[time_M == 'May'], 'r^', label = 'Female')\n",
    "plt.plot(fem_wt[time_F == 'Sept'], line_F, 'darkred')\n",
    "plt.title('Student Weight: May versus September')\n",
    "plt.xlabel('Weight September (lb)')\n",
    "plt.ylabel('Weight May (lb)')\n",
    "plt.legend();"
   ]
  },
  {
   "cell_type": "markdown",
   "metadata": {
    "slideshow": {
     "slide_type": "fragment"
    }
   },
   "source": [
    "- Does the university diet have an effect on the students and are there any differences between males and females in these effects?\n",
    "- What should be compared?"
   ]
  },
  {
   "cell_type": "markdown",
   "metadata": {
    "slideshow": {
     "slide_type": "fragment"
    }
   },
   "source": [
    "- Statistician #1: Compare the change in weight gain from May to September.  There is no difference therefore the diet doesn't have an effect.\n",
    "- Statistician #2: Compare the weights of males and females in May.  There is a difference therefore the diet has an effect.\n",
    "- Which statistician is correct?"
   ]
  },
  {
   "cell_type": "markdown",
   "metadata": {
    "slideshow": {
     "slide_type": "slide"
    }
   },
   "source": [
    "Let $T=1$ if a student receives the university diet and $T=0$ if a student does not receive the university diet.  Then in this example: \n",
    "\n",
    "$$P(T=1)=1.$$\n",
    "\n",
    "Causal inference is only possible if $0<P(T)<1$."
   ]
  },
  {
   "cell_type": "markdown",
   "metadata": {
    "slideshow": {
     "slide_type": "slide"
    }
   },
   "source": [
    "# Randomization\n",
    "\n",
    "Two major applications of randomization in statistics are: \n",
    "\n",
    "(1) selecting random samples; and \n",
    "\n",
    "(2) assigning treatments (e.g., two versions of the same web page) to experimental units (e.g., users accessing web page).\n",
    "\n",
    "This class is about (2)."
   ]
  },
  {
   "cell_type": "markdown",
   "metadata": {
    "slideshow": {
     "slide_type": "subslide"
    }
   },
   "source": [
    "# Treatement Assignment\n",
    "\n",
    "Suppose, for example, that we have two breast cancer patients and we want to randomly assign these two patients to two treatments (A and B). Then how many ways can this be done?\n",
    "\n",
    "1. patient 1 receives A and patient 2 receives A\n",
    "2. patient 1 receives A and patient 2 receives B\n",
    "3. patient 1 receives B and patient 2 receives A\n",
    "4. patient 1 receives B and patient 2 receives B\n",
    "\n",
    "\n",
    "- There are 4 possible treatment assignments.\n",
    "- The probability of selecting a particular treatment assignment is 1/4,\n",
    "- The probability that an individual patient receives treatment A (or B) is 1/2.\n",
    "- In general, if there are N experimental units then there are $2^N$ possible treatment assignments (provided there are two treatments)."
   ]
  },
  {
   "cell_type": "markdown",
   "metadata": {
    "slideshow": {
     "slide_type": "subslide"
    }
   },
   "source": [
    "# Treatement Assignment\n",
    "\n",
    "- It wouldn’t be a very imformative expriment if both patients received A or both received B.\n",
    "- Therefore, it makes sense to rule out this scenario.\n",
    "- We want to assign treatments to patients such that one patient receives A and the other receives B.\n",
    "- The possibile treatment assignments are: \n",
    "\n",
    "patient 1 receives A and patient 2 receives B or\n",
    "\n",
    "patient 1 receives B and patient 2 receives A \n",
    "\n",
    "- In this case the probability of selecting a particular treatment assignment is 1/2, and the probability that an individual patient receives treatment A (or B) is still 1/2."
   ]
  },
  {
   "cell_type": "markdown",
   "metadata": {
    "slideshow": {
     "slide_type": "slide"
    }
   },
   "source": [
    "# Causal Inference\n",
    "\n",
    "In general causal inference requires:\n",
    "\n",
    "- Replication: At least one unit receives treatment and at least one unit receives control\n",
    "\n",
    "- Stable Unit-Treatment-Value Assumption (“SUTVA): Two parts: (a) there is only one form of the treatment and one form of the control, and (b) there is no interference among units\n",
    "\n",
    "- Assignment Mechanism: Knowing the process for deciding which units receive treatment and which receive control"
   ]
  },
  {
   "cell_type": "markdown",
   "metadata": {
    "slideshow": {
     "slide_type": "slide"
    }
   },
   "source": [
    "# Randomized Experiments and Observational Studies\n",
    "\n",
    "In randomized experiments (pg. 20, Imbens and Rubin, 2015): “. . . the assignment mechanism is under the control of the experimenter, and the probability of any assignment of treatments across the units in the experiment is entirely knowable before the experiment begins.”\n",
    "\n"
   ]
  },
  {
   "cell_type": "markdown",
   "metadata": {
    "slideshow": {
     "slide_type": "slide"
    }
   },
   "source": [
    "# Observational Studies\n",
    "\n",
    "- The university residence food study is an example of an observational study.\n",
    "- The treatment is diet, but everyone in the study received the same diet (treatment).\n",
    "- In this example the probability that a subject receives the treatment is one.\n",
    "- It's usually not possible to draw causal conclusions from observational studies."
   ]
  },
  {
   "cell_type": "markdown",
   "metadata": {
    "slideshow": {
     "slide_type": "slide"
    }
   },
   "source": [
    "# Randomization\n",
    "\n",
    "\n",
    "- The primary objective in the design of experiments is the avoidance of bias or systematic error (Cox and Reid, 2005).\n",
    "\n",
    "- One way to avoid bias is to use randomization."
   ]
  },
  {
   "cell_type": "markdown",
   "metadata": {
    "slideshow": {
     "slide_type": "subslide"
    }
   },
   "source": [
    "# Randomization\n",
    "\n",
    "- Applied to the allocation of experimental units to treatments.\n",
    "- Provides protection to experimenter against variables unknown to experimenter but may impact the response.\n",
    "- Reduces influence of subjective judgement in treatment allocation."
   ]
  },
  {
   "cell_type": "markdown",
   "metadata": {
    "slideshow": {
     "slide_type": "slide"
    }
   },
   "source": [
    "# NSW Study\n",
    "\n",
    "- National supported work demonstration program (NSW) included a randomized experiment to evaluate the effect of on the job training on unemployment. (Ref: Rosenbaum, pg. 22- 28)\n",
    "- Treatment: work experience in form of subsidized employment then individuals transitioned to unsubsidized employment.\n",
    "- Control: standard social programs\n"
   ]
  },
  {
   "cell_type": "markdown",
   "metadata": {
    "slideshow": {
     "slide_type": "fragment"
    }
   },
   "source": [
    "- The response was earnings ($) in 1978.\n",
    "- So participants were matched on pre-treatment covariates/factors.\n",
    "- Results in 185 treated men matched to 185 treated controls."
   ]
  },
  {
   "cell_type": "markdown",
   "metadata": {
    "slideshow": {
     "slide_type": "slide"
    }
   },
   "source": [
    "# NSW Study - Table 1 \n",
    "\n",
    "<table style=\"font-size: 25px;\">\n",
    "  <tr>\n",
    "    <th>Covariate</th>\n",
    "    <th>Group</th>\n",
    "    <th>Earnings ($)</th>\n",
    "  </tr>\n",
    "  <tr>\n",
    "    <td>Age (Mean)</td>\n",
    "    <td>Treated</td>\n",
    "    <td>25.82</td>\n",
    "  </tr>\n",
    "  <tr>\n",
    "    <td></td>\n",
    "    <td>Control</td>\n",
    "    <td>25.70</td>\n",
    "  </tr>\n",
    "  <tr>\n",
    "    <td></td>\n",
    "    <td></td>\n",
    "    <td></td>\n",
    "  </tr>\n",
    "  <tr>\n",
    "    <td>Years of education (Mean)</td>\n",
    "    <td>Treated</td>\n",
    "    <td>10.35</td>\n",
    "  </tr>\n",
    "  <tr>\n",
    "    <td></td>\n",
    "    <td>Control</td>\n",
    "    <td>10.19</td>\n",
    "  </tr>\n",
    "  <tr>\n",
    "    <td></td>\n",
    "    <td></td>\n",
    "    <td></td>\n",
    "  </tr>\n",
    "  <tr>\n",
    "    <td>Black (%)</td>\n",
    "    <td>Treated</td>\n",
    "    <td>84%</td>\n",
    "  </tr>\n",
    "  <tr>\n",
    "    <td></td>\n",
    "    <td>Control</td>\n",
    "    <td>85%</td>\n",
    "  </tr>\n",
    "  <tr>\n",
    "    <td></td>\n",
    "    <td></td>\n",
    "    <td></td>\n",
    "  </tr>\n",
    "  <tr>\n",
    "    <td>Married (%)</td>\n",
    "    <td>Treated</td>\n",
    "    <td>19%</td>\n",
    "  </tr>\n",
    "  <tr>\n",
    "    <td></td>\n",
    "    <td>Control</td>\n",
    "    <td>20%</td>\n",
    "  </tr>\n",
    "  <tr>\n",
    "    <td></td>\n",
    "    <td></td>\n",
    "    <td></td>\n",
    "  </tr>\n",
    "  <tr>\n",
    "    <td>Earnings in 1974 \\$  (Mean)</td>\n",
    "    <td>Treated</td>\n",
    "    <td>2096</td>\n",
    "  </tr>\n",
    "  <tr>\n",
    "    <td></td>\n",
    "    <td>Control</td>\n",
    "    <td>2009</td>\n",
    "  </tr>\n",
    "</table>\n",
    "\n",
    "(A nice tool to create markdown/html/$\\LaTeX$ tables is [here](http://www.tablesgenerator.com))"
   ]
  },
  {
   "cell_type": "markdown",
   "metadata": {
    "slideshow": {
     "slide_type": "slide"
    }
   },
   "source": [
    "# Observational Studies\n",
    "\n",
    "- Studies of smoking and lung cancer are necessarily observational.  Why?\n",
    "- Studies of social policies such as the effect of neighbourhood on health are usually observational.  Why?\n",
    "- It's usually not possible to draw causal conclusions from observational studies."
   ]
  },
  {
   "cell_type": "markdown",
   "metadata": {
    "slideshow": {
     "slide_type": "fragment"
    }
   },
   "source": [
    "A well conducted observational study can provide a good basis for drawing causal inferences, provided that it:\n",
    "\n",
    "1. controls well for background differences between units exposed to different treatments;\n",
    "2. has enough units exposed to different treatments;\n",
    "3. the study is designed without reference to the outcome of the analysis;\n",
    "4. attrition, dropout, and other forms of missing data are minimized;\n",
    "5. the analysis takes account of the information used in the design.\n",
    "\n",
    "(Gelman, Carlin, Stern,and Rubin. Bayesian Data Analysis, Chapman Hall, 2004)"
   ]
  },
  {
   "cell_type": "markdown",
   "metadata": {
    "slideshow": {
     "slide_type": "slide"
    }
   },
   "source": [
    "# Example: Wheat Yield\n",
    "\n",
    "Is one fertilizer better than another in terms of yield?\n",
    "\n",
    "- What is the outcome variable?  \n",
    "\n",
    "- What are factor of interest?"
   ]
  },
  {
   "cell_type": "markdown",
   "metadata": {
    "slideshow": {
     "slide_type": "subslide"
    }
   },
   "source": [
    "# Example: Wheat Yield\n",
    "\n",
    "Experimental material?\n",
    "\n",
    "<img src=\"img_6433.jpg\" width=\"300\" height=\"300\"></src>\n",
    "\n",
    "\n",
    "<table style=\"font-size: 25px;\">\n",
    "  <tr>\n",
    "    <th>Plot 1</th>\n",
    "    <th>Plot 2</th>\n",
    "    <th>Plot 3</th>\n",
    "    <th>Plot 4</th>\n",
    "    <th>Plot 5</th>\n",
    "    <th>Plot 6</th>\n",
    "  </tr>\n",
    "  <tr>\n",
    "    <td>Plot 7</td>\n",
    "    <td>Plot 8</td>\n",
    "    <td>Plot 9</td>\n",
    "    <td>Plot 10</td>\n",
    "    <td>Plot 11</td>\n",
    "    <td>Plot 12</td>\n",
    "  </tr>\n",
    "</table>"
   ]
  },
  {
   "cell_type": "markdown",
   "metadata": {
    "slideshow": {
     "slide_type": "fragment"
    }
   },
   "source": [
    "How should we assign treatments/factor levels to plots?\n",
    "\n",
    "- We want to make sure that we can identify the treatment effect in the presence of other sources of variation.\n",
    "\n",
    "- What other (besides fertilizer) potential sources could cause variation in wheat yield?\n"
   ]
  },
  {
   "cell_type": "markdown",
   "metadata": {
    "slideshow": {
     "slide_type": "subslide"
    }
   },
   "source": [
    "# Example: Wheat Yield\n",
    "\n",
    "- Assigning treatments randomly avoids any pre-experimental bias.\n",
    "\n",
    "- 12 playing cards, 6 red, 6 black were shuffled (7 times??) and dealt\n",
    "\n",
    "- 1st card black $\\rightarrow$ $1^{st}$ plot gets B\n",
    "\n",
    "- 2nd card red $\\rightarrow$ $2^{nd}$ plot gets A\n",
    "\n",
    "- 3rd card black $\\rightarrow$ $3^{rd}$ plot gets B\n",
    "\n",
    "- Completely randomized design.\n",
    "\n",
    "- How many different randomizations are possible?"
   ]
  },
  {
   "cell_type": "markdown",
   "metadata": {
    "slideshow": {
     "slide_type": "subslide"
    }
   },
   "source": [
    "<table style=\"font-size: 25px;\">\n",
    "  <tr>\n",
    "    <th>B 26.9</th>\n",
    "    <th>A 11.4</th>\n",
    "    <th>B 26.6</th>\n",
    "    <th>A 23.7</th>\n",
    "    <th>B 25.3</th>\n",
    "    <th>B 28.5</th>\n",
    "  </tr>\n",
    "  <tr>\n",
    "    <td>B 14.2</td>\n",
    "    <td>A 17.9</td>\n",
    "    <td>A 16.5</td>\n",
    "    <td>A 21.1</td>\n",
    "    <td>B 24.3</td>\n",
    "    <td>A&nbsp;&nbsp;19.6</td>\n",
    "  </tr>\n",
    "</table>\n",
    "\n",
    "- Evidence that fertilizer type is a source of yield variation?\n",
    "- Evidence about differences between two populations is generally measured by comparing summary statistics across two sample populations.\n",
    "- A statistic is any computable function of the observed data."
   ]
  },
  {
   "cell_type": "markdown",
   "metadata": {
    "slideshow": {
     "slide_type": "subslide"
    }
   },
   "source": [
    "# Summarizing a Distribution\n",
    "\n",
    "The cumulative distribution function of a random variable $Y$ is defined as: $$F_y(y) = P(Y \\le y).$$\n",
    "\n",
    "The empirical cumulative distribution function is:\n",
    "\n",
    "$${\\hat F}(y)=\\frac{\\#(y_i \\le y)}{n}.$$"
   ]
  },
  {
   "cell_type": "code",
   "execution_count": 4,
   "metadata": {},
   "outputs": [
    {
     "data": {
      "image/png": "[encoded data removed]",
      "text/plain": [
       "<Figure size 432x288 with 1 Axes>"
      ]
     },
     "metadata": {},
     "output_type": "display_data"
    }
   ],
   "source": [
    "import pandas as pd\n",
    "import numpy as np\n",
    "import matplotlib.pyplot as plt\n",
    "from statsmodels.distributions.empirical_distribution import ECDF\n",
    "\n",
    "d = {'yA': [11.4,23.7,17.9,16.5,21.1,19.6],\n",
    "     'yB': [26.9,26.6,25.3,28.5,14.2,24.3]}\n",
    "df = pd.DataFrame(d)\n",
    "ecdfA = ECDF(df.yA)\n",
    "ecdfB = ECDF(df.yB)\n",
    "plt.step(ecdfA.x,ecdfA.y, \"ro\", label=\"Fertilizer A\")\n",
    "plt.step(ecdfB.x, ecdfB.y, \"bo\", label=\"Fertilizer B\")\n",
    "plt.xlabel('Fertilizer Yield')\n",
    "plt.ylabel('Proportion of Sample')\n",
    "plt.title(\"Empirical CDF\")\n",
    "plt.legend();\n"
   ]
  },
  {
   "cell_type": "code",
   "execution_count": 5,
   "metadata": {
    "slideshow": {
     "slide_type": "slide"
    }
   },
   "outputs": [
    {
     "data": {
      "text/plain": [
       "-5.933333333333337"
      ]
     },
     "execution_count": 5,
     "metadata": {},
     "output_type": "execute_result"
    }
   ],
   "source": [
    "df.yA.mean()-df.yB.mean()"
   ]
  },
  {
   "cell_type": "markdown",
   "metadata": {},
   "source": [
    "- So there is a moderate/large difference in mean yield for these fertilizers.\n",
    "- Would you recommend B over A for future plantings?\n",
    "- Do you think these results generalize to a larger population?\n",
    "- Could the result be due to chance?"
   ]
  },
  {
   "cell_type": "markdown",
   "metadata": {
    "slideshow": {
     "slide_type": "slide"
    }
   },
   "source": [
    "# Hypothesis Testing Via Randomization\n",
    "\n",
    "- Are the observed differences in yield due to fertilizer type?\n",
    "- Are the observed differences in yield due to plot-to-plot variation?"
   ]
  },
  {
   "cell_type": "markdown",
   "metadata": {
    "slideshow": {
     "slide_type": "subslide"
    }
   },
   "source": [
    "# Hypothesis Testing Via Randomization\n",
    "\n",
    "Hypothesis tests:\n",
    "\n",
    "- $H_0$ (null hypothesis): Fertilizer type does not affect yield.\n",
    "\n",
    "- $H_1$ (alternative hypothesis): Fertilizer type does affect yield.\n",
    "\n",
    "- A statistical hypothesis evaluates the compatibility of $H_0$ with the data"
   ]
  },
  {
   "cell_type": "markdown",
   "metadata": {
    "slideshow": {
     "slide_type": "subslide"
    }
   },
   "source": [
    "# Test Statistics and Null Distributions\n",
    "\n",
    "We can evaluate $H_0$ by answering:\n",
    "\n",
    "- Is a mean difference of -5.93 plausible/probable if H0 true?\n",
    "\n",
    "- Is a mean difference of -5.93 large compared to experimental noise?\n"
   ]
  },
  {
   "cell_type": "markdown",
   "metadata": {
    "slideshow": {
     "slide_type": "subslide"
    }
   },
   "source": [
    "# Test Statistics and Null Distributions\n",
    "\n",
    "- Compare ${\\bar y}_a-{\\bar y}_b$=-5.93 (observed difference in the experiment) to values of ${\\bar y}_a-{\\bar y}_b$ that could have been observed if $H_0$ were true.\n",
    "\n",
    "- Hypothetical values of ${\\bar y}_a-{\\bar y}_b$ that could have been observed under $H_0$ are referred to as samples from the null distribution.\n"
   ]
  },
  {
   "cell_type": "markdown",
   "metadata": {
    "slideshow": {
     "slide_type": "subslide"
    }
   },
   "source": [
    "# Test Statistics and Null Distributions\n",
    "\n",
    "- ${\\bar y}_a-{\\bar y}_b$ is a function of the outcome of the experiment.\n",
    "\n",
    "- If a different experiment were performed then we would obtain a diffrent value of ${\\bar y}_a-{\\bar y}_b$."
   ]
  },
  {
   "cell_type": "markdown",
   "metadata": {
    "slideshow": {
     "slide_type": "subslide"
    }
   },
   "source": [
    "# Test Statistics and Null Distributions\n",
    "\n",
    "- In this experiment we observed ${\\bar y}_a-{\\bar y}_b$=-5.93.\n",
    "- If there was no difference between fertilizers then what other possible values of ${\\bar y}_a-{\\bar y}_b$ could have been observed?"
   ]
  },
  {
   "cell_type": "markdown",
   "metadata": {
    "slideshow": {
     "slide_type": "subslide"
    }
   },
   "source": [
    "# Experimental Procedure and Potential Outcomes\n",
    "\n",
    "The cards were shuffled and we were dealt B, R, B, R, ...\n",
    "\n",
    "\n",
    "<table style=\"font-size: 20px;\">\n",
    "  <tr>\n",
    "    <th>B</th>\n",
    "    <th>A</th>\n",
    "    <th>B</th>\n",
    "    <th>A</th>\n",
    "    <th>B</th>\n",
    "    <th>B</th>\n",
    "  </tr>\n",
    "  <tr>\n",
    "    <td>B</td>\n",
    "    <td>A</td>\n",
    "    <td>A</td>\n",
    "    <td>A</td>\n",
    "    <td>B</td>\n",
    "    <td>A</td>\n",
    "  </tr>\n",
    "</table>\n",
    "\n",
    "Under this treatment assignment then the yields of the different plots would be:\n",
    "\n",
    "\n",
    "<table style=\"font-size: 20px;\">\n",
    "  <tr>\n",
    "    <th>B 26.9</th>\n",
    "    <th>A 11.4</th>\n",
    "    <th>B 26.6</th>\n",
    "    <th>A 23.7</th>\n",
    "    <th>B 25.3</th>\n",
    "    <th>B 28.5</th>\n",
    "  </tr>\n",
    "  <tr>\n",
    "    <td>B 14.2</td>\n",
    "    <td>A 17.9</td>\n",
    "    <td>A 16.5</td>\n",
    "    <td>A 21.1</td>\n",
    "    <td>B 24.3</td>\n",
    "    <td>A 19.6</td>\n",
    "  </tr>\n",
    "</table>"
   ]
  },
  {
   "cell_type": "markdown",
   "metadata": {
    "slideshow": {
     "slide_type": "fragment"
    }
   },
   "source": [
    "Another potential treatment assignment under $H_0$ is: \n",
    "\n",
    "\n",
    "<table style=\"font-size: 20px;\">\n",
    "  <tr>\n",
    "    <th>B</th>\n",
    "    <th>A</th>\n",
    "    <th>B</th>\n",
    "    <th>B</th>\n",
    "    <th>A</th>\n",
    "    <th>A</th>\n",
    "  </tr>\n",
    "  <tr>\n",
    "    <td>A</td>\n",
    "    <td>B</td>\n",
    "    <td>B</td>\n",
    "    <td>A</td>\n",
    "    <td>A</td>\n",
    "    <td>B</td>\n",
    "  </tr>\n",
    "</table>\n",
    "\n",
    "The yields obtained under this assignment are:\n",
    "\n",
    "\n",
    "<table style=\"font-size: 20px;\">\n",
    "  <tr>\n",
    "    <th>B 26.9</th>\n",
    "    <th>A 11.4</th>\n",
    "    <th>B 26.6</th>\n",
    "    <th>B 23.7</th>\n",
    "    <th>A 25.3</th>\n",
    "    <th>A 28.5</th>\n",
    "  </tr>\n",
    "  <tr>\n",
    "    <td>A 14.2</td>\n",
    "    <td>B 17.9</td>\n",
    "    <td>B 16.5</td>\n",
    "    <td>A 21.1</td>\n",
    "    <td>A 24.3</td>\n",
    "    <td>B 19.6</td>\n",
    "  </tr>\n",
    "</table>"
   ]
  },
  {
   "cell_type": "markdown",
   "metadata": {
    "slideshow": {
     "slide_type": "slide"
    }
   },
   "source": [
    "# Experimental Procedure and Potential Outcomes\n",
    "\n",
    "Under this hypothetical assignment the mean difference is:"
   ]
  },
  {
   "cell_type": "code",
   "execution_count": 6,
   "metadata": {},
   "outputs": [
    {
     "data": {
      "text/plain": [
       "-1.0666666666666629"
      ]
     },
     "execution_count": 6,
     "metadata": {},
     "output_type": "execute_result"
    }
   ],
   "source": [
    "d = {'yA': [11.4,25.3,28.5,14.2,21.1,24.3],\n",
    "     'yB': [26.9,26.6,23.7,17.9,16.5,19.6]}\n",
    "df = pd.DataFrame(d)\n",
    "df.yA.mean()-df.yB.mean()"
   ]
  },
  {
   "cell_type": "markdown",
   "metadata": {},
   "source": [
    "This represents an outcome of the experiment in a universe where:\n",
    "\n",
    "1. The treatment assignment is B, A, B, B, A, A, A, B, B, A, A, B\n",
    "\n",
    "2. $H_0$ is true (i.e., $\\mu_A=\\mu_B$, where $\\mu_A,\\mu_B$ are the mean yields of fertilizers A and B).\n"
   ]
  },
  {
   "cell_type": "markdown",
   "metadata": {
    "slideshow": {
     "slide_type": "slide"
    }
   },
   "source": [
    "# The Null distribution\n",
    "\n",
    "- What potential outcomes would we see if $H_0$ is true?\n",
    "- For each treatment assignment compute $$\\delta_i={\\bar y}_a-{\\bar y}_b, i=1,2,\\ldots,924.$$\n",
    "- $\\left\\{\\delta_1, \\delta_2, \\ldots, \\delta_{924}\\right\\}$ enumerates all pre-randomisation outcomes assuming no treatment effect.\n",
    "- Since each treatment assignment is equally likely under the null distribution, a probability distribution of experimental results if $H_0$ is true can be described as\n",
    "\n",
    "as\n",
    "\n",
    "$$\\begin{aligned} \n",
    "{\\hat F}(y) &= \\frac{\\#(\\delta_i \\le y)}{924} \\\\\n",
    "            &= \\frac{\\sum_{k=1}^{{\\binom{12}{6}}}I({\\delta_k \\le y})}{\\binom{12}{6}}\n",
    "\\end{aligned},$$\n",
    "\n",
    "where \n",
    "\n",
    "$$I(x \\in A) =\n",
    "\\left\\{\n",
    "\t\\begin{array}{ll}\n",
    "\t\t1  & \\mbox{if } x \\in A\\\\\n",
    "\t\t0 & \\mbox{if } x \\not\\in A.\n",
    "\t\\end{array}\n",
    "\\right. $$\n",
    "\n",
    "\n",
    "\n",
    "This is called the randomisation distribution."
   ]
  },
  {
   "cell_type": "code",
   "execution_count": 7,
   "metadata": {
    "slideshow": {
     "slide_type": "slide"
    }
   },
   "outputs": [],
   "source": [
    "from scipy.special import comb\n",
    "from itertools import combinations\n",
    "\n",
    "d = {'yA': [11.4,23.7,17.9,16.5,21.1,19.6],\n",
    "     'yB': [26.9,26.6,25.3,28.5,14.2,24.3]}\n",
    "df = pd.DataFrame(d)\n",
    "\n",
    "x = df.values[:,0] # yA\n",
    "y = df.values[:,1] # yB\n",
    "\n",
    "obsdiff = x.mean()- y.mean()\n",
    "\n",
    "# list containing 0-11 \n",
    "a = np.arange(12).tolist()\n",
    "# all sequences of size 6 from 0 - 11\n",
    "index = list(combinations(a,6))\n",
    "\n",
    "N = comb(12, 6, exact = True) #total number of combinations\n",
    "\n",
    "pooled = np.concatenate((x,y)) \n",
    "\n",
    "rand_dist = np.zeros(N) #numpy array to store values\n",
    "\n",
    "for i in range(N):\n",
    "    x1 = [pooled[j] for j in index[i]]\n",
    "    x2 = [pooled[j] for j in a if j not in index[i]]\n",
    "    d = np.mean(x1)-np.mean(x2)\n",
    "    rand_dist[i] = d"
   ]
  },
  {
   "cell_type": "code",
   "execution_count": 8,
   "metadata": {
    "slideshow": {
     "slide_type": "slide"
    }
   },
   "outputs": [
    {
     "data": {
      "image/png": "[encoded data removed]",
      "text/plain": [
       "<Figure size 432x288 with 1 Axes>"
      ]
     },
     "metadata": {},
     "output_type": "display_data"
    }
   ],
   "source": [
    "plt.hist(rand_dist,edgecolor = 'black', bins = 20, color = '#e9a3c9')\n",
    "plt.xlabel('Mean Difference in Fertilizers')\n",
    "plt.title('Randomization Distribution of Mean Difference');\n",
    "plt.axvline(x = obsdiff, color = '#a1d76a', linewidth = 4);"
   ]
  },
  {
   "cell_type": "markdown",
   "metadata": {
    "slideshow": {
     "slide_type": "slide"
    }
   },
   "source": [
    "# Hypothesis Testing\n",
    "\n",
    "- Is there any contradiction between $H_0$ and the observed data?\n",
    "- Calculate \n",
    "\n",
    "$${\\hat F}(-5.93)=\\frac{\\#(\\delta_i \\le -5.93)}{924}.$$ \n"
   ]
  },
  {
   "cell_type": "markdown",
   "metadata": {
    "slideshow": {
     "slide_type": "fragment"
    }
   },
   "source": [
    "# Hypothesis Testing\n",
    "\n",
    "- A P-value is the probability, under the null hypothesis of obtaining a more extreme than the observed result.\n",
    "\n",
    "$$ \\text{P-value}=P\\left(\\delta \\le -5.93 \\right)$$\n",
    "\n",
    "- A small P-value implies evidence **against** null hypothesis.\n",
    "\n",
    "- If the P-value is large does this imply that the null is true?\n"
   ]
  },
  {
   "cell_type": "code",
   "execution_count": 9,
   "metadata": {},
   "outputs": [
    {
     "name": "stdout",
     "output_type": "stream",
     "text": [
      "The P-value is: 0.028\n"
     ]
    }
   ],
   "source": [
    "p_value = sum(rand_dist <= obsdiff)/N\n",
    "print('The P-value is:', np.round(p_value,3))"
   ]
  },
  {
   "cell_type": "markdown",
   "metadata": {
    "slideshow": {
     "slide_type": "slide"
    }
   },
   "source": [
    "# Interpretation of P-value\n",
    "\n",
    "- A p-value of 0.028 can be interpreted as: assume there is no difference in yield between fertilizers A and B then the proportion of randomizations that would produce an observed mean difference between A and B of at most -5.93 is 0.028. \n",
    "\n",
    "- In other words, under the assumption that there is no difference between A and B only 3% of randomizations would produce an extreme or more extreme difference than the observed mean difference.  \n",
    "\n",
    "- Therefore it's unlikely (if we consider 3% unlikely) that an observed mean difference as extreme or more extreme than 0.028 would be observed if $\\mu_A=\\mu_B$."
   ]
  },
  {
   "cell_type": "markdown",
   "metadata": {
    "slideshow": {
     "slide_type": "slide"
    }
   },
   "source": [
    "# Randomization Test\n",
    "\n",
    "- Assume $H_0$ is true.\n",
    "\n",
    "- Calculate the difference in means for every possible way to split the data into two samples of size 6.\n",
    "\n",
    "- This would result in ${{12}\\choose{6}}=924$ differences.\n",
    "\n",
    "- Calculate the probability of observing a value as extreme of more extreme than the observed value of the test statistic (*P-value*)."
   ]
  },
  {
   "cell_type": "markdown",
   "metadata": {
    "slideshow": {
     "slide_type": "fragment"
    }
   },
   "source": [
    "If the P-value is small then there are two possible explanations:\n",
    "\n",
    "1. An unlikely value of the statistic has occurred, or\n",
    "\n",
    "2. The assumption that $H_0$ is true is incorrect.\n",
    "\n",
    "If the P-value is large then the hypothesis test is inconclusive.  "
   ]
  },
  {
   "cell_type": "markdown",
   "metadata": {
    "slideshow": {
     "slide_type": "slide"
    }
   },
   "source": [
    "# Two-Sided Randomization P value\n",
    "\n",
    "- If we are using a two-sided alternative then how do we calculate a p-value?  \n",
    "\n",
    "- The randomization distribution may not be symmetric so there is no justifcation for simply doubling the probability in one tail.\n",
    "\n",
    "Let $N=N_A+N_B$, where $N_A, N_B$ are the number of observations in groups $A$ and $B$,\n",
    "\n",
    "$${\\bar t}=\\left({N \\choose N_A}\\right)^{-1} {\\sum_{i=1}^{N \\choose N_A} t_i}$$\n",
    "\n",
    "be the mean of the randomization distribution then we can define the two-sided p-value as \n",
    "\n",
    "$$P(\\left|T-{\\bar t}\\right| \\ge \\left|t^{*}-{\\bar t}\\right||H_0) = \\sum_{i=1}^{N \\choose N_A} \\frac{I(\\left|t_i-{\\bar t}\\right| \\ge \\left|t^{*}-{\\bar t}\\right|)}{{N \\choose N_A}},$$\n",
    "\n",
    "\n",
    "The probability of obtaining an observed value of the test statistic as far, or farther, from the mean of the randomization distribution.  \n"
   ]
  },
  {
   "cell_type": "code",
   "execution_count": 19,
   "metadata": {
    "slideshow": {
     "slide_type": "fragment"
    }
   },
   "outputs": [
    {
     "name": "stdout",
     "output_type": "stream",
     "text": [
      "The two-sided p-value is: 0.052\n"
     ]
    }
   ],
   "source": [
    "tbar = rand_dist.mean()\n",
    "p_value2 = (sum(np.absolute(rand_dist - tbar) >= \n",
    "                np.absolute(obsdiff - tbar))/N)\n",
    "print('The two-sided p-value is:', np.round(p_value2,3))"
   ]
  },
  {
   "cell_type": "markdown",
   "metadata": {
    "slideshow": {
     "slide_type": "slide"
    }
   },
   "source": [
    "# Estimate P-value via Monte Carlo Sampling\n",
    "## Two-Sample Permutation Test\n",
    "\n",
    "If $M$ test statistics, $t_i$, $i=1,...,M$ are randomly sampled without replacement from the permutation distribution, a one-sided Monte Carlo P-value for a test of $H_0: \\mu_T=0$ versus $H_1: \\mu_T > 0$ is\n",
    "\n",
    "$$ {\\hat p} = \\frac {1+\\sum_{i=1}^M I(t_i \\ge t^{*})}{M+1},$$\n",
    "\n",
    "where $\\mu_T=\\mu_1-\\mu_2$."
   ]
  },
  {
   "cell_type": "code",
   "execution_count": 20,
   "metadata": {},
   "outputs": [],
   "source": [
    "np.random.seed(20)\n",
    "\n",
    "N = 1000 #total number of combinations\n",
    "\n",
    "pooled = np.concatenate((x,y)) \n",
    "\n",
    "rand_dist_mc = np.zeros(N) #numpy array to store values\n",
    "\n",
    "for i in range(N):\n",
    "    index = np.random.choice(np.arange(12), 6, replace = False).tolist()\n",
    "    x1 = [pooled[j] for j in index]\n",
    "    x2 = [pooled[j] for j in a if j not in index]\n",
    "    d = np.mean(x1)-np.mean(x2)\n",
    "    rand_dist_mc[i] = d"
   ]
  },
  {
   "cell_type": "code",
   "execution_count": 12,
   "metadata": {},
   "outputs": [
    {
     "name": "stdout",
     "output_type": "stream",
     "text": [
      "The P-value is: 0.027\n"
     ]
    },
    {
     "data": {
      "image/png": "[encoded data removed]",
      "text/plain": [
       "<Figure size 432x288 with 1 Axes>"
      ]
     },
     "metadata": {},
     "output_type": "display_data"
    }
   ],
   "source": [
    "plt.hist(rand_dist_mc,edgecolor = 'black', bins = 20, color = '#e9a3c9')\n",
    "plt.xlabel('Mean Difference in Fertilizers')\n",
    "plt.title('Randomization Distribution of Mean Difference');\n",
    "plt.axvline(x = obsdiff, color = '#a1d76a', linewidth = 4);\n",
    "\n",
    "p_value = (sum(rand_dist_mc <= obsdiff)+1)/(N+1)\n",
    "print('The P-value is:', np.round(p_value,3))"
   ]
  },
  {
   "cell_type": "markdown",
   "metadata": {
    "slideshow": {
     "slide_type": "slide"
    }
   },
   "source": [
    "# Summary of Two-Sample Permutation Test\n",
    "\n",
    "Assume there are $m$ observations in group 1 and $n$ observations in group 2. \n",
    "\n",
    "Pool the $m+n$ values.\n",
    "\n",
    "**repeat**\n",
    "\n",
    "  1. Draw a resample of size $m$ without replacement.\n",
    "   \n",
    "  2. Use the remaining $n$ observations for the other sample.\n",
    "   \n",
    "  3. Calculate the difference in means or another statistic that compares samples.\n",
    "   \n",
    "**until** we have enough samples\n",
    "\n",
    "If the test is one-sided then calculate the P-value as the fraction of times the random statistics exceed the original statistic.  \n",
    "\n",
    "If the test is two-sided then calculate the P-value as the fraction of times the absolute value of difference between the random statistics and the mean of the random statistics exceed the absolute value of the difference of the observed and the mean of the random statistics. \n",
    "\n",
    "\n"
   ]
  },
  {
   "cell_type": "markdown",
   "metadata": {
    "slideshow": {
     "slide_type": "slide"
    }
   },
   "source": [
    "# Basic Decision Theory\n",
    "\n",
    "\n",
    "| &nbsp;       | $H_0$ True   | $H_0$ False   |\n",
    "|--------------|--------------|---------------|\n",
    "| Accept $H_0$ | correct      | type II error |\n",
    "| Reject $H_0$ | type I error | correct       |\n",
    "\n",
    "\n",
    "\n",
    "$$\\begin{align*} \n",
    "P(\\text{type I error}) &= \\alpha \\\\\n",
    "P(\\text{type II error}) &= \\beta \\\\\n",
    "\\text{P-value} &= P\\left(\\text{test statistic} \\ge \\text{observed value of test statistic} \\right) \\\\\n",
    "\\text{Power} &= 1- \\beta \n",
    "\\end{align*}\n",
    "$$\n",
    "\n",
    "A hypothesis test is *statistically significant* if $\\text{P-value} \\le \\alpha$."
   ]
  },
  {
   "cell_type": "markdown",
   "metadata": {
    "slideshow": {
     "slide_type": "slide"
    }
   },
   "source": [
    "# Choosing a Test Statistic\n",
    "\n",
    "A test statistic should be able to differentiate between $H_0$ and $H_a$ in ways that are scientifically relevant.\n",
    "\n",
    "- Other test statistics could be used instead of $T={\\bar Y}_A-{\\bar Y}_B$ to measure the effectiveness of fertilizer A. \n",
    "\n",
    "- The difference in group medians \n",
    "\n",
    "$$median(Y_A)-median(Y_B) $$\n",
    "\n",
    "or trimmed means are examples of other test statistics."
   ]
  },
  {
   "cell_type": "markdown",
   "metadata": {
    "slideshow": {
     "slide_type": "slide"
    }
   },
   "source": [
    "# The two-sample t-test\n",
    "\n",
    "If the two wheat yield samples are independent random samples from a normal distribution with means $\\mu_A$ and $\\mu_B$ but the same variance then the statistic\n",
    "\n",
    "$$ {\\bar y}_A - {\\bar y}_b \\sim N\\left(\\mu_A-\\mu_B,\\sigma^2(1/n_A+1/n_B) \\right).$$\n",
    "\n",
    "So,\n",
    "\n",
    "$$ \\frac {{\\bar y}_A - {\\bar y}_b- \\delta}{\\sigma \\sqrt{(1/n_A+1/n_B)}} \\sim N(0,1),$$\n",
    "\n",
    "where $\\delta=\\mu_A-\\mu_B$.\n",
    "\n",
    "If we substitute \n",
    "\n",
    "$$s_p^2=\\frac{\\sum_{i=1}^{n_A}(y_{iA}-{\\bar y}_A)^2+\\sum_{i=1}^{n_B}(y_{iB}-{\\bar y}_B)^2}{n_A+n_B-2}$$ \n",
    "\n",
    "for $\\sigma^2$ then \n",
    "\n",
    "$$ \\frac {{\\bar y}_A - {\\bar y}_b - \\delta}{s_p \\sqrt{(1/n_A+1/n_B)}} \\sim t_{n_A+n_B-2},$$\n",
    "\n",
    "is called the two sample t-statistic."
   ]
  },
  {
   "cell_type": "markdown",
   "metadata": {
    "slideshow": {
     "slide_type": "-"
    }
   },
   "source": [
    "# The two-sample t-test\n",
    "\n",
    "In the wheat yield example $H_0:\\mu_A=\\mu_B$ and suppose that $H_1: \\mu_A < \\mu_B.$  The p-value of the test is obtained by calculating the observed value of the two sample t-statistic under $H_0$.\n",
    "\n",
    "$$ t^{*}= \\frac {{\\bar y}_A - {\\bar y}_b}{s \\sqrt{(1/n_A+1/n_B)}} = \\frac {18.37 - 24.3}{4.72 \\sqrt{(1/6+1/6)}}=-2.18$$\n",
    "\n",
    "The p-value is $P(t_{18}<-2.18)$.\n"
   ]
  },
  {
   "cell_type": "code",
   "execution_count": 13,
   "metadata": {
    "slideshow": {
     "slide_type": "slide"
    }
   },
   "outputs": [
    {
     "name": "stdout",
     "output_type": "stream",
     "text": [
      "The t-statistic is: -2.179 \n",
      " The P-value is: 0.027\n"
     ]
    },
    {
     "data": {
      "image/png": "[encoded data removed]",
      "text/plain": [
       "<Figure size 432x288 with 1 Axes>"
      ]
     },
     "metadata": {},
     "output_type": "display_data"
    }
   ],
   "source": [
    "from scipy import stats\n",
    "\n",
    "tstat, pvalue = stats.ttest_ind(x,y)\n",
    "print('The t-statistic is:', np.round(tstat,3), '\\n', 'The P-value is:', np.round(pvalue/2,3))\n",
    "\n",
    "trv = stats.t(df=18, loc=0, scale=1)\n",
    "x = np.linspace(trv.ppf(0.0001), trv.ppf(0.9999), 100)\n",
    "y = trv.pdf(x) \n",
    "\n",
    "plt.xlim(-5,5)\n",
    "plt.plot(x,y)\n",
    "plt.axvline(x = -2.18,ymax =0.15, color = '#a1d76a', linewidth = 3)\n",
    "fill_section = np.arange(-5, -2.18, 1/20)\n",
    "plt.fill_between(fill_section, trv.pdf(fill_section), color = 'blue', alpha = 0.5)\n",
    "plt.title('Null Distribution ' r'$t_{18}$', fontsize=20);"
   ]
  },
  {
   "cell_type": "code",
   "execution_count": 14,
   "metadata": {
    "slideshow": {
     "slide_type": "skip"
    }
   },
   "outputs": [],
   "source": [
    "import pandas as pd\n",
    "webpage = 'https://www.canada.ca/en/public-health/services/surveillance/respiratory-virus-detections-canada/2018-2019/respiratory-virus-detections-isolations-week-01-ending-january-5-2019.html'\n",
    "\n",
    "df = pd.read_html(webpage) # returns a list of tables \n",
    "df[1] # by inspection we see that Table 2 is the first table\n",
    "\n",
    " # select. rows corresponding to prov and territory\n",
    "fludat = df[0].iloc[[0, 1, 2, 3, 11, 28, 29, 32, 33, 35, 36, 37, 38]]\n",
    "url = 'https://en.wikipedia.org/wiki/List_of_regions_of_Canada#National_regions'\n",
    "df = pd.read_html(url, header=0, attrs = {\"class\":\"wikitable\"})\n",
    "Regions = df[0][['All provinces and territories', 'Six-region model[1]']]\n",
    "\n",
    "Regions = (Regions\n",
    "           # propogate non-null values forward\n",
    "           .fillna(method = 'ffill', axis = 0) \n",
    "           # rename columns\n",
    "           .rename(columns={\"All provinces and territories\": \"prov\", \n",
    "                            \"Six-region model[1]\": \"region\"})\n",
    "           .replace(['Newfoundland and Labrador'], ['Newfoundland']))  \n",
    "\n",
    "# Change province names so they match in both data sets\n",
    "\n",
    "fludat = (fludat\n",
    "          .replace('Province of', '', regex = True)\n",
    "          .replace('Québec', 'Quebec', regex = True)\n",
    "          .rename(columns={\"Reporting Laboratory\": \"prov\"}))\n",
    "\n",
    "#Alberta, Ontario, Quebec, Sask have extra white space in their names so remove\n",
    "\n",
    "fludat['prov'] = fludat['prov'].str.strip()\n",
    "\n",
    "# Merge regions with flu data and only keep required columns\n",
    "\n",
    "fludat1 = pd.merge(fludat, Regions, on = 'prov').iloc[0:,[0,1,2,3,4,5,23]]\n",
    "fludat1['Flu Tested'] = fludat1['Flu Tested'].astype(float)\n",
    "\n",
    "# create Proportion of Flu A Positive (defined as the ratio of \n",
    "# Total Flu A Positive to Flu Tested)\n",
    "\n",
    "fludat1['propfluA'] = (fludat1\n",
    "                       .apply(lambda x: x['Total Flu A Positive']/x['Flu Tested'],axis=1))\n",
    "\n",
    "fludat2 = fludat1[[list(fludat1)[0],list(fludat1)[1], list(fludat1)[5], list(fludat1)[6],list(fludat1)[7] ]]"
   ]
  },
  {
   "cell_type": "markdown",
   "metadata": {
    "slideshow": {
     "slide_type": "slide"
    }
   },
   "source": [
    "# Comparing Influenza Rates \n",
    "\n",
    "Is the proportion of influenza A cases in New Brunswick and Quebec are 0.24 and 0.26 respectively.  Could the difference be due to chance?"
   ]
  },
  {
   "cell_type": "code",
   "execution_count": 15,
   "metadata": {
    "slideshow": {
     "slide_type": "-"
    }
   },
   "outputs": [
    {
     "data": {
      "text/html": [
       "<div>\n",
       "<style scoped>\n",
       "    .dataframe tbody tr th:only-of-type {\n",
       "        vertical-align: middle;\n",
       "    }\n",
       "\n",
       "    .dataframe tbody tr th {\n",
       "        vertical-align: top;\n",
       "    }\n",
       "\n",
       "    .dataframe thead th {\n",
       "        text-align: right;\n",
       "    }\n",
       "</style>\n",
       "<table border=\"1\" class=\"dataframe\">\n",
       "  <thead>\n",
       "    <tr style=\"text-align: right;\">\n",
       "      <th></th>\n",
       "      <th>prov</th>\n",
       "      <th>Flu Tested</th>\n",
       "      <th>Total Flu A Positive</th>\n",
       "      <th>region</th>\n",
       "      <th>propfluA</th>\n",
       "    </tr>\n",
       "  </thead>\n",
       "  <tbody>\n",
       "    <tr>\n",
       "      <th>0</th>\n",
       "      <td>Newfoundland</td>\n",
       "      <td>171.0</td>\n",
       "      <td>34.0</td>\n",
       "      <td>Atlantic</td>\n",
       "      <td>0.198830</td>\n",
       "    </tr>\n",
       "    <tr>\n",
       "      <th>1</th>\n",
       "      <td>Prince Edward Island</td>\n",
       "      <td>46.0</td>\n",
       "      <td>17.0</td>\n",
       "      <td>Atlantic</td>\n",
       "      <td>0.369565</td>\n",
       "    </tr>\n",
       "    <tr>\n",
       "      <th>2</th>\n",
       "      <td>Nova Scotia</td>\n",
       "      <td>138.0</td>\n",
       "      <td>20.0</td>\n",
       "      <td>Atlantic</td>\n",
       "      <td>0.144928</td>\n",
       "    </tr>\n",
       "    <tr>\n",
       "      <th>3</th>\n",
       "      <td>New Brunswick</td>\n",
       "      <td>875.0</td>\n",
       "      <td>211.0</td>\n",
       "      <td>Atlantic</td>\n",
       "      <td>0.241143</td>\n",
       "    </tr>\n",
       "    <tr>\n",
       "      <th>4</th>\n",
       "      <td>Quebec</td>\n",
       "      <td>6253.0</td>\n",
       "      <td>1627.0</td>\n",
       "      <td>Quebec</td>\n",
       "      <td>0.260195</td>\n",
       "    </tr>\n",
       "    <tr>\n",
       "      <th>5</th>\n",
       "      <td>Ontario</td>\n",
       "      <td>2546.0</td>\n",
       "      <td>445.0</td>\n",
       "      <td>Ontario</td>\n",
       "      <td>0.174784</td>\n",
       "    </tr>\n",
       "    <tr>\n",
       "      <th>6</th>\n",
       "      <td>Manitoba</td>\n",
       "      <td>455.0</td>\n",
       "      <td>121.0</td>\n",
       "      <td>Prairies</td>\n",
       "      <td>0.265934</td>\n",
       "    </tr>\n",
       "    <tr>\n",
       "      <th>7</th>\n",
       "      <td>Saskatchewan</td>\n",
       "      <td>787.0</td>\n",
       "      <td>268.0</td>\n",
       "      <td>Prairies</td>\n",
       "      <td>0.340534</td>\n",
       "    </tr>\n",
       "    <tr>\n",
       "      <th>8</th>\n",
       "      <td>Alberta</td>\n",
       "      <td>1279.0</td>\n",
       "      <td>226.0</td>\n",
       "      <td>Prairies</td>\n",
       "      <td>0.176701</td>\n",
       "    </tr>\n",
       "    <tr>\n",
       "      <th>9</th>\n",
       "      <td>British Columbia</td>\n",
       "      <td>861.0</td>\n",
       "      <td>407.0</td>\n",
       "      <td>British Columbia</td>\n",
       "      <td>0.472706</td>\n",
       "    </tr>\n",
       "    <tr>\n",
       "      <th>10</th>\n",
       "      <td>Yukon</td>\n",
       "      <td>21.0</td>\n",
       "      <td>14.0</td>\n",
       "      <td>Territories</td>\n",
       "      <td>0.666667</td>\n",
       "    </tr>\n",
       "    <tr>\n",
       "      <th>11</th>\n",
       "      <td>Northwest Territories</td>\n",
       "      <td>19.0</td>\n",
       "      <td>5.0</td>\n",
       "      <td>Territories</td>\n",
       "      <td>0.263158</td>\n",
       "    </tr>\n",
       "    <tr>\n",
       "      <th>12</th>\n",
       "      <td>Nunavut</td>\n",
       "      <td>1.0</td>\n",
       "      <td>1.0</td>\n",
       "      <td>Territories</td>\n",
       "      <td>1.000000</td>\n",
       "    </tr>\n",
       "  </tbody>\n",
       "</table>\n",
       "</div>"
      ],
      "text/plain": [
       "                     prov  Flu Tested  Total Flu A Positive            region  \\\n",
       "0            Newfoundland       171.0                  34.0          Atlantic   \n",
       "1    Prince Edward Island        46.0                  17.0          Atlantic   \n",
       "2             Nova Scotia       138.0                  20.0          Atlantic   \n",
       "3           New Brunswick       875.0                 211.0          Atlantic   \n",
       "4                  Quebec      6253.0                1627.0            Quebec   \n",
       "5                 Ontario      2546.0                 445.0           Ontario   \n",
       "6                Manitoba       455.0                 121.0          Prairies   \n",
       "7            Saskatchewan       787.0                 268.0          Prairies   \n",
       "8                 Alberta      1279.0                 226.0          Prairies   \n",
       "9        British Columbia       861.0                 407.0  British Columbia   \n",
       "10                  Yukon        21.0                  14.0       Territories   \n",
       "11  Northwest Territories        19.0                   5.0       Territories   \n",
       "12                Nunavut         1.0                   1.0       Territories   \n",
       "\n",
       "    propfluA  \n",
       "0   0.198830  \n",
       "1   0.369565  \n",
       "2   0.144928  \n",
       "3   0.241143  \n",
       "4   0.260195  \n",
       "5   0.174784  \n",
       "6   0.265934  \n",
       "7   0.340534  \n",
       "8   0.176701  \n",
       "9   0.472706  \n",
       "10  0.666667  \n",
       "11  0.263158  \n",
       "12  1.000000  "
      ]
     },
     "execution_count": 15,
     "metadata": {},
     "output_type": "execute_result"
    }
   ],
   "source": [
    "fludat2"
   ]
  },
  {
   "cell_type": "markdown",
   "metadata": {
    "slideshow": {
     "slide_type": "slide"
    }
   },
   "source": [
    "Let $p_{NB},p_{Qu}$ be the true proportions in New Brunswick and Quebec. \n",
    "\n",
    "The null hypothesis is ____________________?\n",
    "\n",
    "The alternative hypothesis is ____________________?\n",
    "\n",
    "How can conduct a randomization test to compare the two proportions?"
   ]
  },
  {
   "cell_type": "code",
   "execution_count": 16,
   "metadata": {
    "slideshow": {
     "slide_type": "slide"
    }
   },
   "outputs": [
    {
     "name": "stdout",
     "output_type": "stream",
     "text": [
      "NB sample prop: 0.24114285714285713 \n",
      " Qu sample prop: 0.2601951063489525 \n",
      " Observed diff: -0.019052249206095356\n"
     ]
    }
   ],
   "source": [
    "NB_cases = np.concatenate((np.repeat(1, 211), np.repeat(0, 875-211)))\n",
    "Qu_cases = np.concatenate((np.repeat(1, 1627), np.repeat(0, 6253-1627)))\n",
    "cases = np.concatenate((NB_cases, Qu_cases))\n",
    "prov1 = np.concatenate((np.repeat('NB',875),np.repeat('Qu',6253)))\n",
    "\n",
    "# sanity check (-:\n",
    "NB_obs_p = sum(cases[prov1=='NB']==1)/875\n",
    "Qu_obs_p = sum(cases[prov1=='Qu']==1)/6253\n",
    "diff = NB_obs_p - Qu_obs_p\n",
    "\n",
    "print('NB sample prop:',NB_obs_p, '\\n', \n",
    "      'Qu sample prop:',Qu_obs_p, '\\n',\n",
    "      'Observed diff:', diff)"
   ]
  },
  {
   "cell_type": "code",
   "execution_count": 17,
   "metadata": {
    "slideshow": {
     "slide_type": "slide"
    }
   },
   "outputs": [
    {
     "name": "stdout",
     "output_type": "stream",
     "text": [
      "The P-value is: 0.122\n"
     ]
    },
    {
     "data": {
      "image/png": "[encoded data removed]",
      "text/plain": [
       "<Figure size 432x288 with 1 Axes>"
      ]
     },
     "metadata": {},
     "output_type": "display_data"
    }
   ],
   "source": [
    "def prop_perm_test(data):\n",
    "    np.random.shuffle(data) # randomly shuffle place\n",
    "    prop_NB = data[prov1=='NB']\n",
    "    prop_Qu = data[prov1 == 'Qu']\n",
    "    return prop_NB.mean() - prop_Qu.mean()\n",
    "\n",
    "N = 1000\n",
    "null_dist = [prop_perm_test(cases) for x in range(N)] \n",
    "\n",
    "p_value = (sum(null_dist <= diff)+1)/(N+1)\n",
    "print('The P-value is:', np.round(p_value,3))\n",
    "\n",
    "plt.hist(null_dist,edgecolor = 'black', bins = 20, color = '#e9a3c9')\n",
    "plt.xlabel('Difference in Proportions')\n",
    "plt.title('Randomization Distribution of Proportion Differences');\n",
    "plt.axvline(x = diff, color = '#a1d76a', linewidth = 4);"
   ]
  },
  {
   "cell_type": "markdown",
   "metadata": {},
   "source": [
    "Is there statistical evidence that there is a significant difference in influenza rates? "
   ]
  },
  {
   "cell_type": "markdown",
   "metadata": {
    "slideshow": {
     "slide_type": "slide"
    }
   },
   "source": [
    "# Z-test for two proportions\n",
    "\n",
    "$X_1 \\sim Bin(n_1,p_1), X_2 \\sim Bin(n_2,p_2)$.  Then the distributions can be approximated using the normal (why?):\n",
    "\n",
    "\n",
    "$$X_1 \\sim N(n_1p_1,n_1p_1(1-p_1)), X_2 \\sim N(n_2p_2,n_2p_2(1-p_2)).$$\n",
    "\n",
    "The normal approximation is accurate if $np, npq \\ge 5$"
   ]
  },
  {
   "cell_type": "markdown",
   "metadata": {
    "slideshow": {
     "slide_type": "fragment"
    }
   },
   "source": [
    "This implies $\\hat p_i = X_i/n_i,$,\n",
    "\n",
    "$$\\hat p_i \\sim N(p_i,p_i(1-p_i)/n_i), i=1,2.$$"
   ]
  },
  {
   "cell_type": "markdown",
   "metadata": {
    "slideshow": {
     "slide_type": "fragment"
    }
   },
   "source": [
    "Therefore,\n",
    "\n",
    "$$\\hat p_1 - \\hat p_2 \\sim N(p_1-p_2,p_1(1-p_1)/n_1 + p_2(1-p_2)/n_2), i=1,2.$$\n",
    "\n",
    "$$Z = ((\\hat p_1 - \\hat p_2) - (p_1-p_2))/\\sqrt{p_1(1-p_1)/n_1 + p_2(1-p_2)/n_2} \\sim N(0,1)$$\n",
    "\n",
    "\n",
    "A test of $H_0: p_1=p_2$ versus $H_a:p_1 < p_2$ has P-value: $P(Z < Z^{obs})$, where $Z^{obs}$ is the observed value of $Z$.\n",
    "\n",
    "NB: Compare these assumptions to to the permutation test"
   ]
  },
  {
   "cell_type": "code",
   "execution_count": 18,
   "metadata": {
    "slideshow": {
     "slide_type": "subslide"
    }
   },
   "outputs": [
    {
     "data": {
      "text/plain": [
       "(-1.2066400897238174, 0.1138)"
      ]
     },
     "execution_count": 18,
     "metadata": {},
     "output_type": "execute_result"
    }
   ],
   "source": [
    "# z-test for two prop\n",
    "\n",
    "from statsmodels.stats.proportion import proportions_ztest\n",
    "\n",
    "nobs = np.array([875, 6253]) #n_1, n_2\n",
    "count = np.array([211, 1627]) #X_1, X_2\n",
    "\n",
    "obsZ, pval = proportions_ztest(count, nobs, alternative='smaller')\n",
    "obsZ, np.round(pval,4)"
   ]
  },
  {
   "cell_type": "markdown",
   "metadata": {},
   "source": [
    "Have a look at the source code for `proportions_ztest` by issuing `proportions_ztest??`"
   ]
  }
 ],
 "metadata": {
  "celltoolbar": "Slideshow",
  "kernelspec": {
   "display_name": "Python 3",
   "language": "python",
   "name": "python3"
  },
  "language_info": {
   "codemirror_mode": {
    "name": "ipython",
    "version": 3
   },
   "file_extension": ".py",
   "mimetype": "text/x-python",
   "name": "python",
   "nbconvert_exporter": "python",
   "pygments_lexer": "ipython3",
   "version": "3.6.5"
  },
  "rise": {
   "scroll": true,
   "theme": "serif",
   "transition": "linear"
  }
 },
 "nbformat": 4,
 "nbformat_minor": 2
}
