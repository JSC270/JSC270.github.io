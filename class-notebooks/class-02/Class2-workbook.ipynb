{
 "cells": [
  {
   "cell_type": "markdown",
   "metadata": {
    "hideCode": false,
    "hidePrompt": false,
    "slideshow": {
     "slide_type": "slide"
    }
   },
   "source": [
    "# JSC270 - Class \\#2\n",
    "## Prof. Chevalier\n",
    "\n",
    "### Today's Class\n",
    "\n",
    "- Reporting & Storytelling in Data Science\n",
    "- Asking Research Questions\n",
    "- Data scraping and wrangling"
   ]
  },
  {
   "cell_type": "markdown",
   "metadata": {
    "slideshow": {
     "slide_type": "slide"
    }
   },
   "source": [
    "# Reporting & Storytelling in Data Science\n",
    "\n",
    "Examine the data science report about [Nike shoes](https://jsc270.github.io/docs/report-nike.pdf).\n",
    "\n",
    "**Question** What are the strengths of this report? What are the weaknesses of this report?"
   ]
  },
  {
   "cell_type": "markdown",
   "metadata": {
    "slideshow": {
     "slide_type": "slide"
    }
   },
   "source": [
    "<br>\n",
    "<br>\n",
    "\n",
    "# What is Data Science?\n",
    "\n",
    "<br>\n",
    "\n",
    "<center> <h3><i>The science of learning from data. </i></h2></center>"
   ]
  },
  {
   "cell_type": "markdown",
   "metadata": {
    "slideshow": {
     "slide_type": "slide"
    }
   },
   "source": [
    "# Formulating Research Questions\n",
    "\n",
    "- Ask a lot of questions, be critical\n",
    "- Think about the problem: who? what? how? why? where? when?\n",
    "- Use answers and findings to ask interesting follow-up questions"
   ]
  },
  {
   "cell_type": "markdown",
   "metadata": {
    "slideshow": {
     "slide_type": "slide"
    }
   },
   "source": [
    "\n",
    "> Think about something that you do for yourself that is healthy.\n"
   ]
  },
  {
   "cell_type": "markdown",
   "metadata": {
    "slideshow": {
     "slide_type": "slide"
    }
   },
   "source": [
    "> A shoe company you work for gave out customer coupons and had a one-day sale event at the end of the year. Was the coupon operation profitable?"
   ]
  },
  {
   "cell_type": "code",
   "execution_count": 186,
   "metadata": {
    "slideshow": {
     "slide_type": "fragment"
    }
   },
   "outputs": [
    {
     "data": {
      "text/html": [
       "<div>\n",
       "<style scoped>\n",
       "    .dataframe tbody tr th:only-of-type {\n",
       "        vertical-align: middle;\n",
       "    }\n",
       "\n",
       "    .dataframe tbody tr th {\n",
       "        vertical-align: top;\n",
       "    }\n",
       "\n",
       "    .dataframe thead th {\n",
       "        text-align: right;\n",
       "    }\n",
       "</style>\n",
       "<table border=\"1\" class=\"dataframe\">\n",
       "  <thead>\n",
       "    <tr style=\"text-align: right;\">\n",
       "      <th></th>\n",
       "      <th>id</th>\n",
       "      <th>coupon_code</th>\n",
       "      <th>discount</th>\n",
       "      <th>sku</th>\n",
       "      <th>quantity</th>\n",
       "    </tr>\n",
       "  </thead>\n",
       "  <tbody>\n",
       "    <tr>\n",
       "      <th>0</th>\n",
       "      <td>0</td>\n",
       "      <td>None</td>\n",
       "      <td>1.0</td>\n",
       "      <td>9</td>\n",
       "      <td>3</td>\n",
       "    </tr>\n",
       "    <tr>\n",
       "      <th>1</th>\n",
       "      <td>1</td>\n",
       "      <td>coupon80</td>\n",
       "      <td>0.8</td>\n",
       "      <td>9</td>\n",
       "      <td>2</td>\n",
       "    </tr>\n",
       "    <tr>\n",
       "      <th>2</th>\n",
       "      <td>2</td>\n",
       "      <td>xmas70</td>\n",
       "      <td>0.7</td>\n",
       "      <td>1</td>\n",
       "      <td>3</td>\n",
       "    </tr>\n",
       "    <tr>\n",
       "      <th>3</th>\n",
       "      <td>3</td>\n",
       "      <td>coupon80</td>\n",
       "      <td>0.8</td>\n",
       "      <td>14</td>\n",
       "      <td>3</td>\n",
       "    </tr>\n",
       "    <tr>\n",
       "      <th>4</th>\n",
       "      <td>4</td>\n",
       "      <td>None</td>\n",
       "      <td>1.0</td>\n",
       "      <td>4</td>\n",
       "      <td>4</td>\n",
       "    </tr>\n",
       "  </tbody>\n",
       "</table>\n",
       "</div>"
      ],
      "text/plain": [
       "   id coupon_code  discount  sku  quantity\n",
       "0   0        None       1.0    9         3\n",
       "1   1    coupon80       0.8    9         2\n",
       "2   2      xmas70       0.7    1         3\n",
       "3   3    coupon80       0.8   14         3\n",
       "4   4        None       1.0    4         4"
      ]
     },
     "execution_count": 186,
     "metadata": {},
     "output_type": "execute_result"
    }
   ],
   "source": [
    "import csv\n",
    "\n",
    "df = pd.read_csv('coupons.csv')\n",
    "df.head()"
   ]
  },
  {
   "cell_type": "markdown",
   "metadata": {
    "slideshow": {
     "slide_type": "slide"
    }
   },
   "source": [
    "# Asking Good Research Questions: Challenge the conclusions\n"
   ]
  },
  {
   "cell_type": "markdown",
   "metadata": {
    "slideshow": {
     "slide_type": "slide"
    }
   },
   "source": [
    "# Asking Good Research Questions: Clarify key terms\n",
    "\n",
    "<br>\n",
    "\n",
    "> Do people run often because it makes them happier?"
   ]
  },
  {
   "cell_type": "markdown",
   "metadata": {
    "slideshow": {
     "slide_type": "slide"
    }
   },
   "source": [
    "# Asking Good Research Questions: Root out assumptions\n",
    "\n",
    "<br>\n",
    "\n",
    "> After examination of customer service data, a company's analysts realize that the company has a high percentage of people calling in to order products. The company wants to encourage customer to use the web site or mobile app."
   ]
  },
  {
   "cell_type": "markdown",
   "metadata": {
    "slideshow": {
     "slide_type": "slide"
    }
   },
   "source": [
    "# Critical Reasoning\n"
   ]
  },
  {
   "cell_type": "code",
   "execution_count": 15,
   "metadata": {
    "slideshow": {
     "slide_type": "fragment"
    }
   },
   "outputs": [
    {
     "data": {
      "text/plain": [
       "Index(['gender', 'couple', 'babies', 'job'], dtype='object')"
      ]
     },
     "execution_count": 15,
     "metadata": {},
     "output_type": "execute_result"
    }
   ],
   "source": [
    "import pandas as pd\n",
    "\n",
    "df = pd.read_csv('babies.csv', sep=\";\")\n",
    "df.columns"
   ]
  },
  {
   "cell_type": "code",
   "execution_count": 16,
   "metadata": {
    "slideshow": {
     "slide_type": "fragment"
    }
   },
   "outputs": [
    {
     "data": {
      "text/plain": [
       "1.7083333333333333"
      ]
     },
     "execution_count": 16,
     "metadata": {},
     "output_type": "execute_result"
    }
   ],
   "source": [
    "df[\"babies\"].mean()"
   ]
  },
  {
   "cell_type": "code",
   "execution_count": 17,
   "metadata": {
    "slideshow": {
     "slide_type": "fragment"
    }
   },
   "outputs": [
    {
     "data": {
      "text/html": [
       "<div>\n",
       "<style scoped>\n",
       "    .dataframe tbody tr th:only-of-type {\n",
       "        vertical-align: middle;\n",
       "    }\n",
       "\n",
       "    .dataframe tbody tr th {\n",
       "        vertical-align: top;\n",
       "    }\n",
       "\n",
       "    .dataframe thead th {\n",
       "        text-align: right;\n",
       "    }\n",
       "</style>\n",
       "<table border=\"1\" class=\"dataframe\">\n",
       "  <thead>\n",
       "    <tr style=\"text-align: right;\">\n",
       "      <th></th>\n",
       "      <th>gender</th>\n",
       "      <th>couple</th>\n",
       "      <th>babies</th>\n",
       "      <th>job</th>\n",
       "    </tr>\n",
       "  </thead>\n",
       "  <tbody>\n",
       "    <tr>\n",
       "      <th>0</th>\n",
       "      <td>female</td>\n",
       "      <td>1</td>\n",
       "      <td>2</td>\n",
       "      <td>secretary</td>\n",
       "    </tr>\n",
       "    <tr>\n",
       "      <th>1</th>\n",
       "      <td>male</td>\n",
       "      <td>1</td>\n",
       "      <td>2</td>\n",
       "      <td>stewart</td>\n",
       "    </tr>\n",
       "    <tr>\n",
       "      <th>2</th>\n",
       "      <td>female</td>\n",
       "      <td>2</td>\n",
       "      <td>1</td>\n",
       "      <td>professor</td>\n",
       "    </tr>\n",
       "    <tr>\n",
       "      <th>3</th>\n",
       "      <td>male</td>\n",
       "      <td>2</td>\n",
       "      <td>1</td>\n",
       "      <td>none</td>\n",
       "    </tr>\n",
       "    <tr>\n",
       "      <th>4</th>\n",
       "      <td>female</td>\n",
       "      <td>3</td>\n",
       "      <td>2</td>\n",
       "      <td>lawyer</td>\n",
       "    </tr>\n",
       "  </tbody>\n",
       "</table>\n",
       "</div>"
      ],
      "text/plain": [
       "   gender  couple  babies        job\n",
       "0  female       1       2  secretary\n",
       "1    male       1       2    stewart\n",
       "2  female       2       1  professor\n",
       "3    male       2       1       none\n",
       "4  female       3       2     lawyer"
      ]
     },
     "execution_count": 17,
     "metadata": {},
     "output_type": "execute_result"
    }
   ],
   "source": [
    "df.head()"
   ]
  },
  {
   "cell_type": "markdown",
   "metadata": {
    "slideshow": {
     "slide_type": "slide"
    }
   },
   "source": [
    "# Data Wrangling\n",
    "\n",
    "- Data wrangling/manipulation/transformation has a large impact on the data used to answer questions with data.\n",
    "\n",
    "- Statistical and machine learning models are meaningful only if the data is meaningful.\n",
    "\n",
    "- Data wrangling/manipulation is one point in the data analysis process where decisions can introduce bias into the data.  Examples?"
   ]
  },
  {
   "cell_type": "markdown",
   "metadata": {
    "slideshow": {
     "slide_type": "slide"
    }
   },
   "source": [
    "<a href='https://www.nytimes.com/interactive/2019/01/11/us/politics/trump-border-crisis-reality.html'> <img src='nyttrump.png'> </img> </a>"
   ]
  },
  {
   "cell_type": "markdown",
   "metadata": {
    "slideshow": {
     "slide_type": "slide"
    }
   },
   "source": [
    "<img src=\"legal-immigration.png\" style=\"width: 70%;\"></img>"
   ]
  },
  {
   "cell_type": "markdown",
   "metadata": {
    "hideCode": false,
    "hidePrompt": false,
    "slideshow": {
     "slide_type": "slide"
    }
   },
   "source": [
    "# Top 10 Lists from criterion.com\n",
    "\n",
    "The following list contains all top 10 lists from criterion.com, extracted computationnally with beautifulsoup (see Class 1)\n",
    "\n"
   ]
  },
  {
   "cell_type": "code",
   "execution_count": 207,
   "metadata": {
    "hideCode": false,
    "hidePrompt": false,
    "slideshow": {
     "slide_type": "fragment"
    }
   },
   "outputs": [
    {
     "data": {
      "text/html": [
       "<div>\n",
       "<style scoped>\n",
       "    .dataframe tbody tr th:only-of-type {\n",
       "        vertical-align: middle;\n",
       "    }\n",
       "\n",
       "    .dataframe tbody tr th {\n",
       "        vertical-align: top;\n",
       "    }\n",
       "\n",
       "    .dataframe thead th {\n",
       "        text-align: right;\n",
       "    }\n",
       "</style>\n",
       "<table border=\"1\" class=\"dataframe\">\n",
       "  <thead>\n",
       "    <tr style=\"text-align: right;\">\n",
       "      <th></th>\n",
       "      <th>author</th>\n",
       "      <th>director</th>\n",
       "      <th>ranks</th>\n",
       "      <th>title</th>\n",
       "    </tr>\n",
       "  </thead>\n",
       "  <tbody>\n",
       "    <tr>\n",
       "      <th>273</th>\n",
       "      <td>Ari Aster’s Top10</td>\n",
       "      <td>Michael Powell and Emeric Pressburger</td>\n",
       "      <td>6</td>\n",
       "      <td>The Red Shoes</td>\n",
       "    </tr>\n",
       "    <tr>\n",
       "      <th>274</th>\n",
       "      <td>Ari Aster’s Top10</td>\n",
       "      <td>Michael Powell and Emeric Pressburger</td>\n",
       "      <td>6</td>\n",
       "      <td>The Life and Death of Colonel Blimp</td>\n",
       "    </tr>\n",
       "    <tr>\n",
       "      <th>275</th>\n",
       "      <td>Ari Aster’s Top10</td>\n",
       "      <td>Michael Powell and Emeric Pressburger</td>\n",
       "      <td>6</td>\n",
       "      <td>A Matter of Life and Death</td>\n",
       "    </tr>\n",
       "    <tr>\n",
       "      <th>276</th>\n",
       "      <td>Ari Aster’s Top10</td>\n",
       "      <td>Michael Powell and Emeric Pressburger</td>\n",
       "      <td>6</td>\n",
       "      <td>Black Narcissus</td>\n",
       "    </tr>\n",
       "    <tr>\n",
       "      <th>277</th>\n",
       "      <td>Ari Aster’s Top10</td>\n",
       "      <td>Michael Powell and Emeric Pressburger</td>\n",
       "      <td>6</td>\n",
       "      <td>I Know Where I’m Going!</td>\n",
       "    </tr>\n",
       "    <tr>\n",
       "      <th>278</th>\n",
       "      <td>Ari Aster’s Top10</td>\n",
       "      <td>Edward Yang</td>\n",
       "      <td>7</td>\n",
       "      <td>Yi Yi</td>\n",
       "    </tr>\n",
       "    <tr>\n",
       "      <th>279</th>\n",
       "      <td>Ari Aster’s Top10</td>\n",
       "      <td>Edward Yang</td>\n",
       "      <td>7</td>\n",
       "      <td>A Brighter Summer Day</td>\n",
       "    </tr>\n",
       "    <tr>\n",
       "      <th>280</th>\n",
       "      <td>Ari Aster’s Top10</td>\n",
       "      <td>Michael Haneke</td>\n",
       "      <td>8</td>\n",
       "      <td>The Piano Teacher</td>\n",
       "    </tr>\n",
       "    <tr>\n",
       "      <th>281</th>\n",
       "      <td>Ari Aster’s Top10</td>\n",
       "      <td>Roman Polanski</td>\n",
       "      <td>9</td>\n",
       "      <td>Cul-de-sac</td>\n",
       "    </tr>\n",
       "    <tr>\n",
       "      <th>282</th>\n",
       "      <td>Ari Aster’s Top10</td>\n",
       "      <td>Roman Polanski</td>\n",
       "      <td>9</td>\n",
       "      <td>Repulsion</td>\n",
       "    </tr>\n",
       "    <tr>\n",
       "      <th>283</th>\n",
       "      <td>Ari Aster’s Top10</td>\n",
       "      <td>Roman Polanski</td>\n",
       "      <td>9</td>\n",
       "      <td>Rosemary’s Baby</td>\n",
       "    </tr>\n",
       "    <tr>\n",
       "      <th>284</th>\n",
       "      <td>Ari Aster’s Top10</td>\n",
       "      <td>Roman Polanski</td>\n",
       "      <td>9</td>\n",
       "      <td>Macbeth</td>\n",
       "    </tr>\n",
       "    <tr>\n",
       "      <th>285</th>\n",
       "      <td>Ari Aster’s Top10</td>\n",
       "      <td>Satyajit Ray</td>\n",
       "      <td>10</td>\n",
       "      <td>Pather Panchali</td>\n",
       "    </tr>\n",
       "    <tr>\n",
       "      <th>286</th>\n",
       "      <td>Ari Aster’s Top10</td>\n",
       "      <td>Satyajit Ray</td>\n",
       "      <td>10</td>\n",
       "      <td>Aparajito</td>\n",
       "    </tr>\n",
       "    <tr>\n",
       "      <th>287</th>\n",
       "      <td>Ari Aster’s Top10</td>\n",
       "      <td>Satyajit Ray</td>\n",
       "      <td>10</td>\n",
       "      <td>Apur Sansar</td>\n",
       "    </tr>\n",
       "    <tr>\n",
       "      <th>288</th>\n",
       "      <td>Sloane Crosley’s Top10</td>\n",
       "      <td>Stanley Kubrick</td>\n",
       "      <td>1</td>\n",
       "      <td>Dr. Strangelove, or: How I Learned to Stop Wor...</td>\n",
       "    </tr>\n",
       "    <tr>\n",
       "      <th>289</th>\n",
       "      <td>Sloane Crosley’s Top10</td>\n",
       "      <td>Ingmar Bergman</td>\n",
       "      <td>2</td>\n",
       "      <td>Fanny and Alexander: Theatrical Version</td>\n",
       "    </tr>\n",
       "    <tr>\n",
       "      <th>290</th>\n",
       "      <td>Sloane Crosley’s Top10</td>\n",
       "      <td>Michael Powell and Emeric Pressburger</td>\n",
       "      <td>3</td>\n",
       "      <td>The Red Shoes</td>\n",
       "    </tr>\n",
       "    <tr>\n",
       "      <th>291</th>\n",
       "      <td>Sloane Crosley’s Top10</td>\n",
       "      <td>Spike Lee</td>\n",
       "      <td>4</td>\n",
       "      <td>Do the Right Thing</td>\n",
       "    </tr>\n",
       "    <tr>\n",
       "      <th>292</th>\n",
       "      <td>Sloane Crosley’s Top10</td>\n",
       "      <td>James L. Brooks</td>\n",
       "      <td>5</td>\n",
       "      <td>Broadcast News</td>\n",
       "    </tr>\n",
       "    <tr>\n",
       "      <th>293</th>\n",
       "      <td>Sloane Crosley’s Top10</td>\n",
       "      <td>Sydney Pollack</td>\n",
       "      <td>5</td>\n",
       "      <td>Tootsie</td>\n",
       "    </tr>\n",
       "    <tr>\n",
       "      <th>294</th>\n",
       "      <td>Sloane Crosley’s Top10</td>\n",
       "      <td>Alexander Mackendrick</td>\n",
       "      <td>5</td>\n",
       "      <td>Sweet Smell of Success</td>\n",
       "    </tr>\n",
       "    <tr>\n",
       "      <th>295</th>\n",
       "      <td>Sloane Crosley’s Top10</td>\n",
       "      <td>Richard Linklater</td>\n",
       "      <td>6</td>\n",
       "      <td>Dazed and Confused</td>\n",
       "    </tr>\n",
       "    <tr>\n",
       "      <th>296</th>\n",
       "      <td>Sloane Crosley’s Top10</td>\n",
       "      <td>Whit Stillman</td>\n",
       "      <td>6</td>\n",
       "      <td>Metropolitan</td>\n",
       "    </tr>\n",
       "    <tr>\n",
       "      <th>297</th>\n",
       "      <td>Sloane Crosley’s Top10</td>\n",
       "      <td>Whit Stillman</td>\n",
       "      <td>6</td>\n",
       "      <td>Barcelona</td>\n",
       "    </tr>\n",
       "    <tr>\n",
       "      <th>298</th>\n",
       "      <td>Sloane Crosley’s Top10</td>\n",
       "      <td>Noah Baumbach</td>\n",
       "      <td>6</td>\n",
       "      <td>Kicking and Screaming</td>\n",
       "    </tr>\n",
       "    <tr>\n",
       "      <th>299</th>\n",
       "      <td>Sloane Crosley’s Top10</td>\n",
       "      <td>Hal Ashby</td>\n",
       "      <td>7</td>\n",
       "      <td>Harold and Maude</td>\n",
       "    </tr>\n",
       "    <tr>\n",
       "      <th>300</th>\n",
       "      <td>Sloane Crosley’s Top10</td>\n",
       "      <td>John Cassavetes</td>\n",
       "      <td>8</td>\n",
       "      <td>A Woman Under the Influence</td>\n",
       "    </tr>\n",
       "    <tr>\n",
       "      <th>301</th>\n",
       "      <td>Sloane Crosley’s Top10</td>\n",
       "      <td>Terrence Malick</td>\n",
       "      <td>9</td>\n",
       "      <td>Days of Heaven</td>\n",
       "    </tr>\n",
       "    <tr>\n",
       "      <th>302</th>\n",
       "      <td>Sloane Crosley’s Top10</td>\n",
       "      <td>Rob Reiner</td>\n",
       "      <td>10</td>\n",
       "      <td>This Is Spinal Tap</td>\n",
       "    </tr>\n",
       "  </tbody>\n",
       "</table>\n",
       "</div>"
      ],
      "text/plain": [
       "                     author                               director  ranks  \\\n",
       "273       Ari Aster’s Top10  Michael Powell and Emeric Pressburger      6   \n",
       "274       Ari Aster’s Top10  Michael Powell and Emeric Pressburger      6   \n",
       "275       Ari Aster’s Top10  Michael Powell and Emeric Pressburger      6   \n",
       "276       Ari Aster’s Top10  Michael Powell and Emeric Pressburger      6   \n",
       "277       Ari Aster’s Top10  Michael Powell and Emeric Pressburger      6   \n",
       "278       Ari Aster’s Top10                            Edward Yang      7   \n",
       "279       Ari Aster’s Top10                            Edward Yang      7   \n",
       "280       Ari Aster’s Top10                         Michael Haneke      8   \n",
       "281       Ari Aster’s Top10                         Roman Polanski      9   \n",
       "282       Ari Aster’s Top10                         Roman Polanski      9   \n",
       "283       Ari Aster’s Top10                         Roman Polanski      9   \n",
       "284       Ari Aster’s Top10                         Roman Polanski      9   \n",
       "285       Ari Aster’s Top10                           Satyajit Ray     10   \n",
       "286       Ari Aster’s Top10                           Satyajit Ray     10   \n",
       "287       Ari Aster’s Top10                           Satyajit Ray     10   \n",
       "288  Sloane Crosley’s Top10                        Stanley Kubrick      1   \n",
       "289  Sloane Crosley’s Top10                         Ingmar Bergman      2   \n",
       "290  Sloane Crosley’s Top10  Michael Powell and Emeric Pressburger      3   \n",
       "291  Sloane Crosley’s Top10                              Spike Lee      4   \n",
       "292  Sloane Crosley’s Top10                        James L. Brooks      5   \n",
       "293  Sloane Crosley’s Top10                         Sydney Pollack      5   \n",
       "294  Sloane Crosley’s Top10                  Alexander Mackendrick      5   \n",
       "295  Sloane Crosley’s Top10                      Richard Linklater      6   \n",
       "296  Sloane Crosley’s Top10                          Whit Stillman      6   \n",
       "297  Sloane Crosley’s Top10                          Whit Stillman      6   \n",
       "298  Sloane Crosley’s Top10                          Noah Baumbach      6   \n",
       "299  Sloane Crosley’s Top10                              Hal Ashby      7   \n",
       "300  Sloane Crosley’s Top10                        John Cassavetes      8   \n",
       "301  Sloane Crosley’s Top10                        Terrence Malick      9   \n",
       "302  Sloane Crosley’s Top10                             Rob Reiner     10   \n",
       "\n",
       "                                                 title  \n",
       "273                                      The Red Shoes  \n",
       "274                The Life and Death of Colonel Blimp  \n",
       "275                         A Matter of Life and Death  \n",
       "276                                    Black Narcissus  \n",
       "277                            I Know Where I’m Going!  \n",
       "278                                              Yi Yi  \n",
       "279                              A Brighter Summer Day  \n",
       "280                                  The Piano Teacher  \n",
       "281                                         Cul-de-sac  \n",
       "282                                          Repulsion  \n",
       "283                                    Rosemary’s Baby  \n",
       "284                                            Macbeth  \n",
       "285                                    Pather Panchali  \n",
       "286                                          Aparajito  \n",
       "287                                        Apur Sansar  \n",
       "288  Dr. Strangelove, or: How I Learned to Stop Wor...  \n",
       "289            Fanny and Alexander: Theatrical Version  \n",
       "290                                      The Red Shoes  \n",
       "291                                 Do the Right Thing  \n",
       "292                                     Broadcast News  \n",
       "293                                            Tootsie  \n",
       "294                             Sweet Smell of Success  \n",
       "295                                 Dazed and Confused  \n",
       "296                                       Metropolitan  \n",
       "297                                          Barcelona  \n",
       "298                              Kicking and Screaming  \n",
       "299                                   Harold and Maude  \n",
       "300                        A Woman Under the Influence  \n",
       "301                                     Days of Heaven  \n",
       "302                                 This Is Spinal Tap  "
      ]
     },
     "execution_count": 207,
     "metadata": {},
     "output_type": "execute_result"
    }
   ],
   "source": [
    "import pandas as pd\n",
    "\n",
    "df = pd.read_csv('top10-lists.csv')\n",
    "df.shape\n",
    "df.tail(30)"
   ]
  },
  {
   "cell_type": "markdown",
   "metadata": {
    "slideshow": {
     "slide_type": "fragment"
    }
   },
   "source": [
    "Is the data usable as is?"
   ]
  },
  {
   "cell_type": "markdown",
   "metadata": {
    "slideshow": {
     "slide_type": "slide"
    }
   },
   "source": [
    "# pandas"
   ]
  },
  {
   "cell_type": "markdown",
   "metadata": {
    "slideshow": {
     "slide_type": "slide"
    }
   },
   "source": [
    "# Series\n",
    "\n",
    "A Series is a one-dimensional array-like object containing a sequence of values (of similar types to NumPy types) and an associated array of data labels, called its index. The simplest Series is formed from only an array of data."
   ]
  },
  {
   "cell_type": "code",
   "execution_count": 209,
   "metadata": {
    "slideshow": {
     "slide_type": "fragment"
    }
   },
   "outputs": [
    {
     "name": "stdout",
     "output_type": "stream",
     "text": [
      "0     8.40\n",
      "1     6.11\n",
      "2    53.40\n",
      "3    20.10\n",
      "dtype: float64\n"
     ]
    },
    {
     "data": {
      "text/plain": [
       "All About Eve                   8.40\n",
       "A Woman Under the Influence     6.11\n",
       "RoboCop                        53.40\n",
       "Mulholland Dr.                 20.10\n",
       "dtype: float64"
      ]
     },
     "execution_count": 209,
     "metadata": {},
     "output_type": "execute_result"
    }
   ],
   "source": [
    "import pandas as pd\n",
    "\n",
    "myseries = pd.Series([8.4, 6.11, 53.4, 20.1])\n",
    "print(myseries)\n",
    "movies = ['All About Eve', 'A Woman Under the Influence', 'RoboCop', 'Mulholland Dr.']\n",
    "myseries.index = movies\n",
    "myseries"
   ]
  },
  {
   "cell_type": "markdown",
   "metadata": {
    "slideshow": {
     "slide_type": "slide"
    }
   },
   "source": [
    "# pandas DataFrame\n",
    "\n",
    "- A DataFrame represents a rectangular table of data and contains an ordered collection of columns, each of which can be a different value type (numeric, string, boolean, etc.). \n",
    "\n",
    "- The DataFrame has both a row and column index; it can be thought of as a dict of Series all sharing the same index.\n",
    "\n",
    "- Under the hood, the data is stored as one or more two-dimensional blocks rather than a list, dict, or some other collection of one-dimensional arrays. \n",
    "\n",
    "(McKinney, 2018 and [pandas ref](https://pandas.pydata.org))"
   ]
  },
  {
   "cell_type": "code",
   "execution_count": 19,
   "metadata": {
    "slideshow": {
     "slide_type": "subslide"
    }
   },
   "outputs": [
    {
     "data": {
      "text/html": [
       "<div>\n",
       "<style scoped>\n",
       "    .dataframe tbody tr th:only-of-type {\n",
       "        vertical-align: middle;\n",
       "    }\n",
       "\n",
       "    .dataframe tbody tr th {\n",
       "        vertical-align: top;\n",
       "    }\n",
       "\n",
       "    .dataframe thead th {\n",
       "        text-align: right;\n",
       "    }\n",
       "</style>\n",
       "<table border=\"1\" class=\"dataframe\">\n",
       "  <thead>\n",
       "    <tr style=\"text-align: right;\">\n",
       "      <th></th>\n",
       "      <th>movie</th>\n",
       "      <th>box_office</th>\n",
       "      <th>year</th>\n",
       "    </tr>\n",
       "  </thead>\n",
       "  <tbody>\n",
       "    <tr>\n",
       "      <th>0</th>\n",
       "      <td>All About Eve</td>\n",
       "      <td>8.40</td>\n",
       "      <td>1950</td>\n",
       "    </tr>\n",
       "    <tr>\n",
       "      <th>1</th>\n",
       "      <td>A Woman Under the Influence</td>\n",
       "      <td>6.11</td>\n",
       "      <td>1974</td>\n",
       "    </tr>\n",
       "    <tr>\n",
       "      <th>2</th>\n",
       "      <td>RoboCop</td>\n",
       "      <td>53.40</td>\n",
       "      <td>1987</td>\n",
       "    </tr>\n",
       "    <tr>\n",
       "      <th>3</th>\n",
       "      <td>Mulholland Dr.</td>\n",
       "      <td>20.10</td>\n",
       "      <td>2001</td>\n",
       "    </tr>\n",
       "  </tbody>\n",
       "</table>\n",
       "</div>"
      ],
      "text/plain": [
       "                         movie  box_office  year\n",
       "0                All About Eve        8.40  1950\n",
       "1  A Woman Under the Influence        6.11  1974\n",
       "2                      RoboCop       53.40  1987\n",
       "3               Mulholland Dr.       20.10  2001"
      ]
     },
     "execution_count": 19,
     "metadata": {},
     "output_type": "execute_result"
    }
   ],
   "source": [
    "# a dict of equal length lists\n",
    "movies = {'movie':['All About Eve', 'A Woman Under the Influence', 'RoboCop', 'Mulholland Dr.'], \n",
    "          'box_office': [8.4, 6.11, 53.4, 20.1],\n",
    "         'year': [1950, 1974, 1987, 2001]}\n",
    "df = pd.DataFrame(movies)\n",
    "df"
   ]
  },
  {
   "cell_type": "markdown",
   "metadata": {
    "slideshow": {
     "slide_type": "subslide"
    }
   },
   "source": [
    "- pandas can read and write data in many types of formats (text, binary, SQL) that are stored as csv, json, html, etc.  (see [IO tools](http://pandas.pydata.org/pandas-docs/stable/io.html) )\n",
    "\n",
    "- For example, `read_html` accepts an HTML string/file/URL and will parse an HTML tables into a list of pandas DataFrames."
   ]
  },
  {
   "cell_type": "code",
   "execution_count": 20,
   "metadata": {
    "slideshow": {
     "slide_type": "fragment"
    }
   },
   "outputs": [
    {
     "data": {
      "text/html": [
       "<div>\n",
       "<style scoped>\n",
       "    .dataframe tbody tr th:only-of-type {\n",
       "        vertical-align: middle;\n",
       "    }\n",
       "\n",
       "    .dataframe tbody tr th {\n",
       "        vertical-align: top;\n",
       "    }\n",
       "\n",
       "    .dataframe thead th {\n",
       "        text-align: right;\n",
       "    }\n",
       "</style>\n",
       "<table border=\"1\" class=\"dataframe\">\n",
       "  <thead>\n",
       "    <tr style=\"text-align: right;\">\n",
       "      <th></th>\n",
       "      <th>Rank</th>\n",
       "      <th>Title</th>\n",
       "      <th>Worldwide gross (2019 $)</th>\n",
       "      <th>Year</th>\n",
       "    </tr>\n",
       "  </thead>\n",
       "  <tbody>\n",
       "    <tr>\n",
       "      <th>0</th>\n",
       "      <td>1</td>\n",
       "      <td>Gone with the Wind</td>\n",
       "      <td>$3,713,000,000</td>\n",
       "      <td>1939</td>\n",
       "    </tr>\n",
       "    <tr>\n",
       "      <th>1</th>\n",
       "      <td>2</td>\n",
       "      <td>Avatar</td>\n",
       "      <td>$3,263,000,000</td>\n",
       "      <td>2009</td>\n",
       "    </tr>\n",
       "    <tr>\n",
       "      <th>2</th>\n",
       "      <td>3</td>\n",
       "      <td>Titanic</td>\n",
       "      <td>T$3,087,000,000</td>\n",
       "      <td>1997</td>\n",
       "    </tr>\n",
       "    <tr>\n",
       "      <th>3</th>\n",
       "      <td>4</td>\n",
       "      <td>Star Wars</td>\n",
       "      <td>$3,049,000,000</td>\n",
       "      <td>1977</td>\n",
       "    </tr>\n",
       "    <tr>\n",
       "      <th>4</th>\n",
       "      <td>5</td>\n",
       "      <td>Avengers: Endgame</td>\n",
       "      <td>AE$2,798,000,000</td>\n",
       "      <td>2019</td>\n",
       "    </tr>\n",
       "  </tbody>\n",
       "</table>\n",
       "</div>"
      ],
      "text/plain": [
       "   Rank               Title Worldwide gross (2019 $)  Year\n",
       "0     1  Gone with the Wind           $3,713,000,000  1939\n",
       "1     2              Avatar           $3,263,000,000  2009\n",
       "2     3             Titanic          T$3,087,000,000  1997\n",
       "3     4           Star Wars           $3,049,000,000  1977\n",
       "4     5   Avengers: Endgame         AE$2,798,000,000  2019"
      ]
     },
     "execution_count": 20,
     "metadata": {},
     "output_type": "execute_result"
    }
   ],
   "source": [
    "url = 'https://en.wikipedia.org/wiki/List_of_highest-grossing_films'\n",
    "df = pd.read_html(url, header=0)\n",
    "movies = df[1]  # select table of movies\n",
    "movies.head()"
   ]
  },
  {
   "cell_type": "markdown",
   "metadata": {
    "slideshow": {
     "slide_type": "slide"
    }
   },
   "source": [
    "# Filtering rows (observations)\n",
    "\n",
    "- Select the top 10 movies.\n",
    "\n",
    "- `movies[0:10]` retains only the top 10 rows.\n",
    "\n",
    "- This uses the \"slice\" syntax."
   ]
  },
  {
   "cell_type": "code",
   "execution_count": 21,
   "metadata": {
    "scrolled": true,
    "slideshow": {
     "slide_type": "fragment"
    }
   },
   "outputs": [
    {
     "data": {
      "text/html": [
       "<div>\n",
       "<style scoped>\n",
       "    .dataframe tbody tr th:only-of-type {\n",
       "        vertical-align: middle;\n",
       "    }\n",
       "\n",
       "    .dataframe tbody tr th {\n",
       "        vertical-align: top;\n",
       "    }\n",
       "\n",
       "    .dataframe thead th {\n",
       "        text-align: right;\n",
       "    }\n",
       "</style>\n",
       "<table border=\"1\" class=\"dataframe\">\n",
       "  <thead>\n",
       "    <tr style=\"text-align: right;\">\n",
       "      <th></th>\n",
       "      <th>Rank</th>\n",
       "      <th>Title</th>\n",
       "      <th>Worldwide gross (2019 $)</th>\n",
       "      <th>Year</th>\n",
       "    </tr>\n",
       "  </thead>\n",
       "  <tbody>\n",
       "    <tr>\n",
       "      <th>0</th>\n",
       "      <td>1</td>\n",
       "      <td>Gone with the Wind</td>\n",
       "      <td>$3,713,000,000</td>\n",
       "      <td>1939</td>\n",
       "    </tr>\n",
       "    <tr>\n",
       "      <th>1</th>\n",
       "      <td>2</td>\n",
       "      <td>Avatar</td>\n",
       "      <td>$3,263,000,000</td>\n",
       "      <td>2009</td>\n",
       "    </tr>\n",
       "    <tr>\n",
       "      <th>2</th>\n",
       "      <td>3</td>\n",
       "      <td>Titanic</td>\n",
       "      <td>T$3,087,000,000</td>\n",
       "      <td>1997</td>\n",
       "    </tr>\n",
       "    <tr>\n",
       "      <th>3</th>\n",
       "      <td>4</td>\n",
       "      <td>Star Wars</td>\n",
       "      <td>$3,049,000,000</td>\n",
       "      <td>1977</td>\n",
       "    </tr>\n",
       "    <tr>\n",
       "      <th>4</th>\n",
       "      <td>5</td>\n",
       "      <td>Avengers: Endgame</td>\n",
       "      <td>AE$2,798,000,000</td>\n",
       "      <td>2019</td>\n",
       "    </tr>\n",
       "    <tr>\n",
       "      <th>5</th>\n",
       "      <td>6</td>\n",
       "      <td>The Sound of Music</td>\n",
       "      <td>$2,554,000,000</td>\n",
       "      <td>1965</td>\n",
       "    </tr>\n",
       "    <tr>\n",
       "      <th>6</th>\n",
       "      <td>7</td>\n",
       "      <td>E.T. the Extra-Terrestrial</td>\n",
       "      <td>$2,493,000,000</td>\n",
       "      <td>1982</td>\n",
       "    </tr>\n",
       "    <tr>\n",
       "      <th>7</th>\n",
       "      <td>8</td>\n",
       "      <td>The Ten Commandments</td>\n",
       "      <td>$2,361,000,000</td>\n",
       "      <td>1956</td>\n",
       "    </tr>\n",
       "    <tr>\n",
       "      <th>8</th>\n",
       "      <td>9</td>\n",
       "      <td>Doctor Zhivago</td>\n",
       "      <td>$2,238,000,000</td>\n",
       "      <td>1965</td>\n",
       "    </tr>\n",
       "    <tr>\n",
       "      <th>9</th>\n",
       "      <td>10</td>\n",
       "      <td>Star Wars: The Force Awakens</td>\n",
       "      <td>$2,206,000,000</td>\n",
       "      <td>2015</td>\n",
       "    </tr>\n",
       "  </tbody>\n",
       "</table>\n",
       "</div>"
      ],
      "text/plain": [
       "   Rank                         Title Worldwide gross (2019 $)  Year\n",
       "0     1            Gone with the Wind           $3,713,000,000  1939\n",
       "1     2                        Avatar           $3,263,000,000  2009\n",
       "2     3                       Titanic          T$3,087,000,000  1997\n",
       "3     4                     Star Wars           $3,049,000,000  1977\n",
       "4     5             Avengers: Endgame         AE$2,798,000,000  2019\n",
       "5     6            The Sound of Music           $2,554,000,000  1965\n",
       "6     7    E.T. the Extra-Terrestrial           $2,493,000,000  1982\n",
       "7     8          The Ten Commandments           $2,361,000,000  1956\n",
       "8     9                Doctor Zhivago           $2,238,000,000  1965\n",
       "9    10  Star Wars: The Force Awakens           $2,206,000,000  2015"
      ]
     },
     "execution_count": 21,
     "metadata": {},
     "output_type": "execute_result"
    }
   ],
   "source": [
    "movies[0:10]"
   ]
  },
  {
   "cell_type": "markdown",
   "metadata": {
    "slideshow": {
     "slide_type": "subslide"
    }
   },
   "source": [
    "**Exercise:** \n",
    "- Remove the top row using the \"slice\" syntax\n",
    "- Retain the movies ranked between 5 and 10 only using the \"slice\" syntax"
   ]
  },
  {
   "cell_type": "markdown",
   "metadata": {
    "slideshow": {
     "slide_type": "slide"
    }
   },
   "source": [
    "Use `.loc` to select by row index and column name.  What is the title of the movie of rank 10?"
   ]
  },
  {
   "cell_type": "code",
   "execution_count": 22,
   "metadata": {
    "slideshow": {
     "slide_type": "fragment"
    }
   },
   "outputs": [
    {
     "data": {
      "text/plain": [
       "'Star Wars: The Force Awakens'"
      ]
     },
     "execution_count": 22,
     "metadata": {},
     "output_type": "execute_result"
    }
   ],
   "source": [
    "movies.loc[9, 'Title']"
   ]
  },
  {
   "cell_type": "markdown",
   "metadata": {
    "slideshow": {
     "slide_type": "slide"
    }
   },
   "source": [
    "Modify values in place using `.loc`."
   ]
  },
  {
   "cell_type": "code",
   "execution_count": 23,
   "metadata": {
    "slideshow": {
     "slide_type": "fragment"
    }
   },
   "outputs": [],
   "source": [
    "## Write the code to replace the title of the movie at row index 9 with \"Star Wars VII\""
   ]
  },
  {
   "cell_type": "markdown",
   "metadata": {
    "slideshow": {
     "slide_type": "slide"
    }
   },
   "source": [
    "We can also select rows using integers with `iloc`.  The 2nd column has index value 1."
   ]
  },
  {
   "cell_type": "code",
   "execution_count": 24,
   "metadata": {
    "slideshow": {
     "slide_type": "fragment"
    }
   },
   "outputs": [],
   "source": [
    "## Write the code to access row index 9 and column title, using indexes only"
   ]
  },
  {
   "cell_type": "markdown",
   "metadata": {
    "slideshow": {
     "slide_type": "slide"
    }
   },
   "source": [
    "We can also use boolean logic to select rows."
   ]
  },
  {
   "cell_type": "code",
   "execution_count": 25,
   "metadata": {},
   "outputs": [
    {
     "data": {
      "text/html": [
       "<div>\n",
       "<style scoped>\n",
       "    .dataframe tbody tr th:only-of-type {\n",
       "        vertical-align: middle;\n",
       "    }\n",
       "\n",
       "    .dataframe tbody tr th {\n",
       "        vertical-align: top;\n",
       "    }\n",
       "\n",
       "    .dataframe thead th {\n",
       "        text-align: right;\n",
       "    }\n",
       "</style>\n",
       "<table border=\"1\" class=\"dataframe\">\n",
       "  <thead>\n",
       "    <tr style=\"text-align: right;\">\n",
       "      <th></th>\n",
       "      <th>Rank</th>\n",
       "      <th>Title</th>\n",
       "      <th>Worldwide gross (2019 $)</th>\n",
       "      <th>Year</th>\n",
       "    </tr>\n",
       "  </thead>\n",
       "  <tbody>\n",
       "    <tr>\n",
       "      <th>1</th>\n",
       "      <td>2</td>\n",
       "      <td>Avatar</td>\n",
       "      <td>$3,263,000,000</td>\n",
       "      <td>2009</td>\n",
       "    </tr>\n",
       "    <tr>\n",
       "      <th>2</th>\n",
       "      <td>3</td>\n",
       "      <td>Titanic</td>\n",
       "      <td>T$3,087,000,000</td>\n",
       "      <td>1997</td>\n",
       "    </tr>\n",
       "    <tr>\n",
       "      <th>3</th>\n",
       "      <td>4</td>\n",
       "      <td>Star Wars</td>\n",
       "      <td>$3,049,000,000</td>\n",
       "      <td>1977</td>\n",
       "    </tr>\n",
       "    <tr>\n",
       "      <th>4</th>\n",
       "      <td>5</td>\n",
       "      <td>Avengers: Endgame</td>\n",
       "      <td>AE$2,798,000,000</td>\n",
       "      <td>2019</td>\n",
       "    </tr>\n",
       "    <tr>\n",
       "      <th>5</th>\n",
       "      <td>6</td>\n",
       "      <td>The Sound of Music</td>\n",
       "      <td>$2,554,000,000</td>\n",
       "      <td>1965</td>\n",
       "    </tr>\n",
       "    <tr>\n",
       "      <th>6</th>\n",
       "      <td>7</td>\n",
       "      <td>E.T. the Extra-Terrestrial</td>\n",
       "      <td>$2,493,000,000</td>\n",
       "      <td>1982</td>\n",
       "    </tr>\n",
       "    <tr>\n",
       "      <th>7</th>\n",
       "      <td>8</td>\n",
       "      <td>The Ten Commandments</td>\n",
       "      <td>$2,361,000,000</td>\n",
       "      <td>1956</td>\n",
       "    </tr>\n",
       "    <tr>\n",
       "      <th>8</th>\n",
       "      <td>9</td>\n",
       "      <td>Doctor Zhivago</td>\n",
       "      <td>$2,238,000,000</td>\n",
       "      <td>1965</td>\n",
       "    </tr>\n",
       "    <tr>\n",
       "      <th>9</th>\n",
       "      <td>10</td>\n",
       "      <td>Star Wars: The Force Awakens</td>\n",
       "      <td>$2,206,000,000</td>\n",
       "      <td>2015</td>\n",
       "    </tr>\n",
       "  </tbody>\n",
       "</table>\n",
       "</div>"
      ],
      "text/plain": [
       "   Rank                         Title Worldwide gross (2019 $)  Year\n",
       "1     2                        Avatar           $3,263,000,000  2009\n",
       "2     3                       Titanic          T$3,087,000,000  1997\n",
       "3     4                     Star Wars           $3,049,000,000  1977\n",
       "4     5             Avengers: Endgame         AE$2,798,000,000  2019\n",
       "5     6            The Sound of Music           $2,554,000,000  1965\n",
       "6     7    E.T. the Extra-Terrestrial           $2,493,000,000  1982\n",
       "7     8          The Ten Commandments           $2,361,000,000  1956\n",
       "8     9                Doctor Zhivago           $2,238,000,000  1965\n",
       "9    10  Star Wars: The Force Awakens           $2,206,000,000  2015"
      ]
     },
     "execution_count": 25,
     "metadata": {},
     "output_type": "execute_result"
    }
   ],
   "source": [
    "# Extend the code to keep only movies whose year is also before 2000.\n",
    "\n",
    "movies[0:10][pd.to_numeric(movies['Year'][0:10]) >= 1950]"
   ]
  },
  {
   "cell_type": "markdown",
   "metadata": {
    "slideshow": {
     "slide_type": "slide"
    }
   },
   "source": [
    "# Selecting variables (columns)\n",
    "\n",
    "\n",
    "- `movies['Title']` returns a pandas series (i.e., data frame with one column)."
   ]
  },
  {
   "cell_type": "code",
   "execution_count": 26,
   "metadata": {},
   "outputs": [
    {
     "data": {
      "text/plain": [
       "0    Gone with the Wind\n",
       "1                Avatar\n",
       "2               Titanic\n",
       "3             Star Wars\n",
       "4     Avengers: Endgame\n",
       "Name: Title, dtype: object"
      ]
     },
     "execution_count": 26,
     "metadata": {},
     "output_type": "execute_result"
    }
   ],
   "source": [
    "movies['Title'].head()"
   ]
  },
  {
   "cell_type": "markdown",
   "metadata": {
    "slideshow": {
     "slide_type": "slide"
    }
   },
   "source": [
    "# Creating New Variables\n",
    "\n",
    "Suppose we want to add a new variable to the data frame to indicate if a movie's gross is over $2.5 millions."
   ]
  },
  {
   "cell_type": "code",
   "execution_count": 28,
   "metadata": {
    "slideshow": {
     "slide_type": "fragment"
    }
   },
   "outputs": [
    {
     "data": {
      "text/plain": [
       "Index(['Rank', 'Title', 'Gross', 'Year'], dtype='object')"
      ]
     },
     "execution_count": 28,
     "metadata": {},
     "output_type": "execute_result"
    }
   ],
   "source": [
    "# We start by renaming the coloum\n",
    "movies.rename(columns={'Worldwide gross (2019 $)':'Gross'}, \n",
    "                 inplace=True)\n",
    "movies.columns"
   ]
  },
  {
   "cell_type": "code",
   "execution_count": 29,
   "metadata": {
    "slideshow": {
     "slide_type": "fragment"
    }
   },
   "outputs": [
    {
     "data": {
      "text/plain": [
       "count                 10\n",
       "unique                10\n",
       "top       $2,206,000,000\n",
       "freq                   1\n",
       "Name: Gross, dtype: object"
      ]
     },
     "execution_count": 29,
     "metadata": {},
     "output_type": "execute_result"
    }
   ],
   "source": [
    "movies['Gross'].describe()"
   ]
  },
  {
   "cell_type": "code",
   "execution_count": 31,
   "metadata": {
    "slideshow": {
     "slide_type": "slide"
    }
   },
   "outputs": [
    {
     "data": {
      "text/plain": [
       "0    3,713,000,000\n",
       "1    3,263,000,000\n",
       "Name: Gross, dtype: object"
      ]
     },
     "execution_count": 31,
     "metadata": {},
     "output_type": "execute_result"
    }
   ],
   "source": [
    "# Extend and modify this code to clean up all of the values in the 'gross' column\n",
    "\n",
    "(movies['Gross']\n",
    " .replace('\\$','', regex = True))[0:2]"
   ]
  },
  {
   "cell_type": "markdown",
   "metadata": {
    "slideshow": {
     "slide_type": "slide"
    }
   },
   "source": [
    "# Movies in 2019\n",
    "\n",
    "**Questions:** \n",
    "\n",
    "- What is the distribution of box office revenue in 2019 for American Movies?\n",
    "- What are the genres generating the most revenue?\n",
    "- Is there a relationship between the ratings from imdb and metacritic? \n",
    "\n",
    "The Wikipedia page [American films of 2019](https://en.wikipedia.org/wiki/List_of_American_films_of_2019) lists American films in 2019.\n",
    "\n",
    "<img src='film-2019.png' height=\"500\" width=\"600\" ></img>\n"
   ]
  },
  {
   "cell_type": "code",
   "execution_count": 154,
   "metadata": {
    "slideshow": {
     "slide_type": "slide"
    }
   },
   "outputs": [
    {
     "data": {
      "text/html": [
       "<div>\n",
       "<style scoped>\n",
       "    .dataframe tbody tr th:only-of-type {\n",
       "        vertical-align: middle;\n",
       "    }\n",
       "\n",
       "    .dataframe tbody tr th {\n",
       "        vertical-align: top;\n",
       "    }\n",
       "\n",
       "    .dataframe thead th {\n",
       "        text-align: right;\n",
       "    }\n",
       "</style>\n",
       "<table border=\"1\" class=\"dataframe\">\n",
       "  <thead>\n",
       "    <tr style=\"text-align: right;\">\n",
       "      <th></th>\n",
       "      <th>Opening</th>\n",
       "      <th>Opening.1</th>\n",
       "      <th>Title</th>\n",
       "      <th>Production company</th>\n",
       "      <th>Cast and crew</th>\n",
       "      <th>Genre</th>\n",
       "      <th>Ref.</th>\n",
       "    </tr>\n",
       "  </thead>\n",
       "  <tbody>\n",
       "    <tr>\n",
       "      <th>0</th>\n",
       "      <td>JANUARY</td>\n",
       "      <td>4</td>\n",
       "      <td>Escape Room</td>\n",
       "      <td>Columbia Pictures</td>\n",
       "      <td>Adam Robitel (director); Bragi F. Schut, Maria...</td>\n",
       "      <td>Horror, Thriller, Mystery</td>\n",
       "      <td>[2]</td>\n",
       "    </tr>\n",
       "    <tr>\n",
       "      <th>1</th>\n",
       "      <td>JANUARY</td>\n",
       "      <td>4</td>\n",
       "      <td>Rust Creek</td>\n",
       "      <td>IFC Films</td>\n",
       "      <td>Jen McGowan (director); Julie Lipson (screenpl...</td>\n",
       "      <td>Drama, Thriller, Horror</td>\n",
       "      <td>[3]</td>\n",
       "    </tr>\n",
       "    <tr>\n",
       "      <th>2</th>\n",
       "      <td>JANUARY</td>\n",
       "      <td>4</td>\n",
       "      <td>American Hangman</td>\n",
       "      <td>Hangman Justice Productions</td>\n",
       "      <td>Wilson Coneybeare (director/screenplay); Donal...</td>\n",
       "      <td>Thriller</td>\n",
       "      <td>[4]</td>\n",
       "    </tr>\n",
       "    <tr>\n",
       "      <th>3</th>\n",
       "      <td>JANUARY</td>\n",
       "      <td>11</td>\n",
       "      <td>A Dog's Way Home</td>\n",
       "      <td>Columbia Pictures</td>\n",
       "      <td>Charles Martin Smith (director); W. Bruce Came...</td>\n",
       "      <td>Drama, Family</td>\n",
       "      <td>[5]</td>\n",
       "    </tr>\n",
       "    <tr>\n",
       "      <th>4</th>\n",
       "      <td>JANUARY</td>\n",
       "      <td>11</td>\n",
       "      <td>The Upside</td>\n",
       "      <td>STX Entertainment</td>\n",
       "      <td>Neil Burger (director); Jon Hartmere (screenpl...</td>\n",
       "      <td>Comedy, Drama</td>\n",
       "      <td>[6]</td>\n",
       "    </tr>\n",
       "  </tbody>\n",
       "</table>\n",
       "</div>"
      ],
      "text/plain": [
       "   Opening  Opening.1             Title           Production company  \\\n",
       "0  JANUARY          4       Escape Room            Columbia Pictures   \n",
       "1  JANUARY          4        Rust Creek                    IFC Films   \n",
       "2  JANUARY          4  American Hangman  Hangman Justice Productions   \n",
       "3  JANUARY         11  A Dog's Way Home            Columbia Pictures   \n",
       "4  JANUARY         11        The Upside            STX Entertainment   \n",
       "\n",
       "                                       Cast and crew  \\\n",
       "0  Adam Robitel (director); Bragi F. Schut, Maria...   \n",
       "1  Jen McGowan (director); Julie Lipson (screenpl...   \n",
       "2  Wilson Coneybeare (director/screenplay); Donal...   \n",
       "3  Charles Martin Smith (director); W. Bruce Came...   \n",
       "4  Neil Burger (director); Jon Hartmere (screenpl...   \n",
       "\n",
       "                       Genre Ref.  \n",
       "0  Horror, Thriller, Mystery  [2]  \n",
       "1    Drama, Thriller, Horror  [3]  \n",
       "2                   Thriller  [4]  \n",
       "3              Drama, Family  [5]  \n",
       "4              Comedy, Drama  [6]  "
      ]
     },
     "execution_count": 154,
     "metadata": {},
     "output_type": "execute_result"
    }
   ],
   "source": [
    "import pandas as pd\n",
    "url = 'https://en.wikipedia.org/wiki/List_of_American_films_of_2019'\n",
    "df = pd.read_html(url, attrs = {\"class\":\"wikitable sortable\"})\n",
    "df[0].head()"
   ]
  },
  {
   "cell_type": "markdown",
   "metadata": {
    "slideshow": {
     "slide_type": "subslide"
    }
   },
   "source": [
    "**Exercise:** Extract all of the unique genres listed in the table."
   ]
  },
  {
   "cell_type": "markdown",
   "metadata": {
    "slideshow": {
     "slide_type": "slide"
    }
   },
   "source": [
    "# Movies awarded the Palme d'Or\n",
    "\n",
    "The Wikipedia Page [Palme d'Or](https://en.wikipedia.org/wiki/Palme_d%27Or) lists Palme d'Or-winning films.\n",
    "\n",
    "<img src='plamedor.png' height=\"500\" width=\"600\" ></img>"
   ]
  },
  {
   "cell_type": "code",
   "execution_count": 222,
   "metadata": {
    "slideshow": {
     "slide_type": "slide"
    }
   },
   "outputs": [
    {
     "data": {
      "text/html": [
       "<div>\n",
       "<style scoped>\n",
       "    .dataframe tbody tr th:only-of-type {\n",
       "        vertical-align: middle;\n",
       "    }\n",
       "\n",
       "    .dataframe tbody tr th {\n",
       "        vertical-align: top;\n",
       "    }\n",
       "\n",
       "    .dataframe thead th {\n",
       "        text-align: right;\n",
       "    }\n",
       "</style>\n",
       "<table border=\"1\" class=\"dataframe\">\n",
       "  <thead>\n",
       "    <tr style=\"text-align: right;\">\n",
       "      <th></th>\n",
       "      <th>Year</th>\n",
       "      <th>Film</th>\n",
       "      <th>Original title</th>\n",
       "      <th>Director(s)</th>\n",
       "      <th>Country</th>\n",
       "    </tr>\n",
       "  </thead>\n",
       "  <tbody>\n",
       "    <tr>\n",
       "      <th>0</th>\n",
       "      <td>1930s</td>\n",
       "      <td>1930s</td>\n",
       "      <td>1930s</td>\n",
       "      <td>1930s</td>\n",
       "      <td>1930s</td>\n",
       "    </tr>\n",
       "    <tr>\n",
       "      <th>1</th>\n",
       "      <td>Awarded as \"Grand Prix du Festival Internation...</td>\n",
       "      <td>Awarded as \"Grand Prix du Festival Internation...</td>\n",
       "      <td>Awarded as \"Grand Prix du Festival Internation...</td>\n",
       "      <td>Awarded as \"Grand Prix du Festival Internation...</td>\n",
       "      <td>Awarded as \"Grand Prix du Festival Internation...</td>\n",
       "    </tr>\n",
       "    <tr>\n",
       "      <th>2</th>\n",
       "      <td>1939 ‡</td>\n",
       "      <td>Union Pacific</td>\n",
       "      <td>Union Pacific</td>\n",
       "      <td>Cecil B. DeMille</td>\n",
       "      <td>USA</td>\n",
       "    </tr>\n",
       "    <tr>\n",
       "      <th>3</th>\n",
       "      <td>1940s</td>\n",
       "      <td>1940s</td>\n",
       "      <td>1940s</td>\n",
       "      <td>1940s</td>\n",
       "      <td>1940s</td>\n",
       "    </tr>\n",
       "    <tr>\n",
       "      <th>4</th>\n",
       "      <td>1940–1945</td>\n",
       "      <td>No awards due to World War II.</td>\n",
       "      <td>No awards due to World War II.</td>\n",
       "      <td>No awards due to World War II.</td>\n",
       "      <td>No awards due to World War II.</td>\n",
       "    </tr>\n",
       "    <tr>\n",
       "      <th>5</th>\n",
       "      <td>1946</td>\n",
       "      <td>The Turning Point</td>\n",
       "      <td>Velikij perelom / Великий перелом</td>\n",
       "      <td>Fridrikh Ermler</td>\n",
       "      <td>USSR</td>\n",
       "    </tr>\n",
       "    <tr>\n",
       "      <th>6</th>\n",
       "      <td>1946</td>\n",
       "      <td>Men Without Wings</td>\n",
       "      <td>Muži bez křídel</td>\n",
       "      <td>František Čáp</td>\n",
       "      <td>Czechoslovakia</td>\n",
       "    </tr>\n",
       "    <tr>\n",
       "      <th>7</th>\n",
       "      <td>1946</td>\n",
       "      <td>The Last Chance</td>\n",
       "      <td>Die Letzte Chance</td>\n",
       "      <td>Leopold Lindtberg</td>\n",
       "      <td>Switzerland</td>\n",
       "    </tr>\n",
       "    <tr>\n",
       "      <th>8</th>\n",
       "      <td>1946</td>\n",
       "      <td>Torment</td>\n",
       "      <td>Hets</td>\n",
       "      <td>Alf Sjöberg</td>\n",
       "      <td>Sweden</td>\n",
       "    </tr>\n",
       "    <tr>\n",
       "      <th>9</th>\n",
       "      <td>1946</td>\n",
       "      <td>Portrait of Maria</td>\n",
       "      <td>María Candelaria</td>\n",
       "      <td>Emilio Fernández</td>\n",
       "      <td>Mexico</td>\n",
       "    </tr>\n",
       "    <tr>\n",
       "      <th>10</th>\n",
       "      <td>1946</td>\n",
       "      <td>Rome, Open City</td>\n",
       "      <td>Roma, città aperta</td>\n",
       "      <td>Roberto Rossellini</td>\n",
       "      <td>Italy</td>\n",
       "    </tr>\n",
       "    <tr>\n",
       "      <th>11</th>\n",
       "      <td>1946</td>\n",
       "      <td>Neecha Nagar (Lowly City)</td>\n",
       "      <td>Nīcā nagar / नीचा नगर</td>\n",
       "      <td>Chetan Anand</td>\n",
       "      <td>India</td>\n",
       "    </tr>\n",
       "    <tr>\n",
       "      <th>12</th>\n",
       "      <td>1946</td>\n",
       "      <td>Brief Encounter</td>\n",
       "      <td>Brief Encounter</td>\n",
       "      <td>David Lean</td>\n",
       "      <td>United Kingdom</td>\n",
       "    </tr>\n",
       "    <tr>\n",
       "      <th>13</th>\n",
       "      <td>1946</td>\n",
       "      <td>Pastoral Symphony</td>\n",
       "      <td>La symphonie pastorale</td>\n",
       "      <td>Jean Delannoy</td>\n",
       "      <td>France</td>\n",
       "    </tr>\n",
       "    <tr>\n",
       "      <th>14</th>\n",
       "      <td>1946</td>\n",
       "      <td>The Lost Weekend</td>\n",
       "      <td>The Lost Weekend</td>\n",
       "      <td>Billy Wilder</td>\n",
       "      <td>USA</td>\n",
       "    </tr>\n",
       "    <tr>\n",
       "      <th>15</th>\n",
       "      <td>1946</td>\n",
       "      <td>The Red Meadows</td>\n",
       "      <td>De røde enge</td>\n",
       "      <td>Bodil Ipsen and Lau Lauritzen, Jr.</td>\n",
       "      <td>Denmark</td>\n",
       "    </tr>\n",
       "    <tr>\n",
       "      <th>16</th>\n",
       "      <td>1949</td>\n",
       "      <td>The Third Man</td>\n",
       "      <td>The Third Man</td>\n",
       "      <td>Carol Reed</td>\n",
       "      <td>United Kingdom</td>\n",
       "    </tr>\n",
       "    <tr>\n",
       "      <th>17</th>\n",
       "      <td>1950s</td>\n",
       "      <td>1950s</td>\n",
       "      <td>1950s</td>\n",
       "      <td>1950s</td>\n",
       "      <td>1950s</td>\n",
       "    </tr>\n",
       "    <tr>\n",
       "      <th>18</th>\n",
       "      <td>1951</td>\n",
       "      <td>Miss Julie</td>\n",
       "      <td>Fröken Julie</td>\n",
       "      <td>Alf Sjöberg</td>\n",
       "      <td>Sweden</td>\n",
       "    </tr>\n",
       "    <tr>\n",
       "      <th>19</th>\n",
       "      <td>1951</td>\n",
       "      <td>Miracle in Milan</td>\n",
       "      <td>Miracolo a Milano</td>\n",
       "      <td>Vittorio De Sica</td>\n",
       "      <td>Italy</td>\n",
       "    </tr>\n",
       "  </tbody>\n",
       "</table>\n",
       "</div>"
      ],
      "text/plain": [
       "                                                 Year  \\\n",
       "0                                               1930s   \n",
       "1   Awarded as \"Grand Prix du Festival Internation...   \n",
       "2                                              1939 ‡   \n",
       "3                                               1940s   \n",
       "4                                           1940–1945   \n",
       "5                                                1946   \n",
       "6                                                1946   \n",
       "7                                                1946   \n",
       "8                                                1946   \n",
       "9                                                1946   \n",
       "10                                               1946   \n",
       "11                                               1946   \n",
       "12                                               1946   \n",
       "13                                               1946   \n",
       "14                                               1946   \n",
       "15                                               1946   \n",
       "16                                               1949   \n",
       "17                                              1950s   \n",
       "18                                               1951   \n",
       "19                                               1951   \n",
       "\n",
       "                                                 Film  \\\n",
       "0                                               1930s   \n",
       "1   Awarded as \"Grand Prix du Festival Internation...   \n",
       "2                                       Union Pacific   \n",
       "3                                               1940s   \n",
       "4                      No awards due to World War II.   \n",
       "5                                   The Turning Point   \n",
       "6                                   Men Without Wings   \n",
       "7                                     The Last Chance   \n",
       "8                                             Torment   \n",
       "9                                   Portrait of Maria   \n",
       "10                                    Rome, Open City   \n",
       "11                          Neecha Nagar (Lowly City)   \n",
       "12                                    Brief Encounter   \n",
       "13                                  Pastoral Symphony   \n",
       "14                                   The Lost Weekend   \n",
       "15                                    The Red Meadows   \n",
       "16                                      The Third Man   \n",
       "17                                              1950s   \n",
       "18                                         Miss Julie   \n",
       "19                                   Miracle in Milan   \n",
       "\n",
       "                                       Original title  \\\n",
       "0                                               1930s   \n",
       "1   Awarded as \"Grand Prix du Festival Internation...   \n",
       "2                                       Union Pacific   \n",
       "3                                               1940s   \n",
       "4                      No awards due to World War II.   \n",
       "5                   Velikij perelom / Великий перелом   \n",
       "6                                     Muži bez křídel   \n",
       "7                                   Die Letzte Chance   \n",
       "8                                                Hets   \n",
       "9                                    María Candelaria   \n",
       "10                                 Roma, città aperta   \n",
       "11                              Nīcā nagar / नीचा नगर   \n",
       "12                                    Brief Encounter   \n",
       "13                             La symphonie pastorale   \n",
       "14                                   The Lost Weekend   \n",
       "15                                       De røde enge   \n",
       "16                                      The Third Man   \n",
       "17                                              1950s   \n",
       "18                                       Fröken Julie   \n",
       "19                                  Miracolo a Milano   \n",
       "\n",
       "                                          Director(s)  \\\n",
       "0                                               1930s   \n",
       "1   Awarded as \"Grand Prix du Festival Internation...   \n",
       "2                                    Cecil B. DeMille   \n",
       "3                                               1940s   \n",
       "4                      No awards due to World War II.   \n",
       "5                                     Fridrikh Ermler   \n",
       "6                                       František Čáp   \n",
       "7                                   Leopold Lindtberg   \n",
       "8                                         Alf Sjöberg   \n",
       "9                                    Emilio Fernández   \n",
       "10                                 Roberto Rossellini   \n",
       "11                                       Chetan Anand   \n",
       "12                                         David Lean   \n",
       "13                                      Jean Delannoy   \n",
       "14                                       Billy Wilder   \n",
       "15                 Bodil Ipsen and Lau Lauritzen, Jr.   \n",
       "16                                         Carol Reed   \n",
       "17                                              1950s   \n",
       "18                                        Alf Sjöberg   \n",
       "19                                   Vittorio De Sica   \n",
       "\n",
       "                                              Country  \n",
       "0                                               1930s  \n",
       "1   Awarded as \"Grand Prix du Festival Internation...  \n",
       "2                                                 USA  \n",
       "3                                               1940s  \n",
       "4                      No awards due to World War II.  \n",
       "5                                                USSR  \n",
       "6                                      Czechoslovakia  \n",
       "7                                         Switzerland  \n",
       "8                                              Sweden  \n",
       "9                                              Mexico  \n",
       "10                                              Italy  \n",
       "11                                              India  \n",
       "12                                     United Kingdom  \n",
       "13                                             France  \n",
       "14                                                USA  \n",
       "15                                            Denmark  \n",
       "16                                     United Kingdom  \n",
       "17                                              1950s  \n",
       "18                                             Sweden  \n",
       "19                                              Italy  "
      ]
     },
     "execution_count": 222,
     "metadata": {},
     "output_type": "execute_result"
    }
   ],
   "source": [
    "url = 'https://en.wikipedia.org/wiki/Palme_d%27Or'\n",
    "df = pd.read_html(url, header=0)\n",
    "movies = df[1]  # select table of movies\n",
    "movies.head(20)"
   ]
  },
  {
   "cell_type": "markdown",
   "metadata": {
    "slideshow": {
     "slide_type": "subslide"
    }
   },
   "source": [
    "- `read_html` didn't parse the table properly.\n",
    "\n",
    ">Expect to do some cleanup after you call this function. For example, you might need to manually assign column names if the column names are converted to NaN when you pass the header=0 argument. We try to assume as little as possible about the structure of the table and push the idiosyncrasies of the HTML contained in the table to the user (see `pandas.read_html` [API ref](https://pandas.pydata.org/pandas-docs/stable/reference/api/pandas.read_html.html)).\n",
    "\n",
    "- Cleaning this table requires selecting rows manually. "
   ]
  },
  {
   "cell_type": "code",
   "execution_count": 11,
   "metadata": {
    "slideshow": {
     "slide_type": "slide"
    }
   },
   "outputs": [],
   "source": [
    "# Write the code to remove the first row"
   ]
  },
  {
   "cell_type": "code",
   "execution_count": 13,
   "metadata": {
    "slideshow": {
     "slide_type": "slide"
    }
   },
   "outputs": [],
   "source": [
    "# Write the code to clean up the rows"
   ]
  },
  {
   "cell_type": "markdown",
   "metadata": {
    "slideshow": {
     "slide_type": "slide"
    }
   },
   "source": [
    "# Award-winning movies\n",
    "\n",
    "The Wikipedia Page [Cannes Film Festival Award for Best Director](https://en.wikipedia.org/wiki/Cannes_Film_Festival_Award_for_Best_Director) lists award-winning movies for best director.\n",
    "\n",
    "<img src='cannes.png' height=\"500\" width=\"600\" ></img>"
   ]
  },
  {
   "cell_type": "code",
   "execution_count": 151,
   "metadata": {
    "slideshow": {
     "slide_type": "fragment"
    }
   },
   "outputs": [
    {
     "data": {
      "text/html": [
       "<div>\n",
       "<style scoped>\n",
       "    .dataframe tbody tr th:only-of-type {\n",
       "        vertical-align: middle;\n",
       "    }\n",
       "\n",
       "    .dataframe tbody tr th {\n",
       "        vertical-align: top;\n",
       "    }\n",
       "\n",
       "    .dataframe thead th {\n",
       "        text-align: right;\n",
       "    }\n",
       "</style>\n",
       "<table border=\"1\" class=\"dataframe\">\n",
       "  <thead>\n",
       "    <tr style=\"text-align: right;\">\n",
       "      <th></th>\n",
       "      <th>Year</th>\n",
       "      <th>Director</th>\n",
       "      <th>Film</th>\n",
       "      <th>Original Title</th>\n",
       "      <th>Country</th>\n",
       "    </tr>\n",
       "  </thead>\n",
       "  <tbody>\n",
       "    <tr>\n",
       "      <th>0</th>\n",
       "      <td>1940s</td>\n",
       "      <td>1940s</td>\n",
       "      <td>1940s</td>\n",
       "      <td>1940s</td>\n",
       "      <td>1940s</td>\n",
       "    </tr>\n",
       "    <tr>\n",
       "      <th>1</th>\n",
       "      <td>1946</td>\n",
       "      <td>René Clément</td>\n",
       "      <td>The Battle of the Rails</td>\n",
       "      <td>La Bataille du rail</td>\n",
       "      <td>France</td>\n",
       "    </tr>\n",
       "    <tr>\n",
       "      <th>2</th>\n",
       "      <td>1947</td>\n",
       "      <td>no award</td>\n",
       "      <td>no award</td>\n",
       "      <td>no award</td>\n",
       "      <td>no award</td>\n",
       "    </tr>\n",
       "    <tr>\n",
       "      <th>3</th>\n",
       "      <td>1949</td>\n",
       "      <td>René Clément</td>\n",
       "      <td>The Walls of Malapaga</td>\n",
       "      <td>Au-delà des grilles</td>\n",
       "      <td>France</td>\n",
       "    </tr>\n",
       "    <tr>\n",
       "      <th>4</th>\n",
       "      <td>1950s</td>\n",
       "      <td>1950s</td>\n",
       "      <td>1950s</td>\n",
       "      <td>1950s</td>\n",
       "      <td>1950s</td>\n",
       "    </tr>\n",
       "  </tbody>\n",
       "</table>\n",
       "</div>"
      ],
      "text/plain": [
       "    Year      Director                     Film       Original Title   Country\n",
       "0  1940s         1940s                    1940s                1940s     1940s\n",
       "1   1946  René Clément  The Battle of the Rails  La Bataille du rail    France\n",
       "2   1947      no award                 no award             no award  no award\n",
       "3   1949  René Clément    The Walls of Malapaga  Au-delà des grilles    France\n",
       "4  1950s         1950s                    1950s                1950s     1950s"
      ]
     },
     "execution_count": 151,
     "metadata": {},
     "output_type": "execute_result"
    }
   ],
   "source": [
    "url = 'https://en.wikipedia.org/wiki/Cannes_Film_Festival_Award_for_Best_Director'\n",
    "df = pd.read_html(url, header=0)\n",
    "awards = df[0]  # select table of movies\n",
    "awards.head()"
   ]
  },
  {
   "cell_type": "code",
   "execution_count": 146,
   "metadata": {
    "slideshow": {
     "slide_type": "slide"
    }
   },
   "outputs": [
    {
     "data": {
      "text/plain": [
       "['The Battle of the Rails',\n",
       " 'La Bataille du rail',\n",
       " 'The Walls of Malapaga',\n",
       " 'Au-delà des grilles',\n",
       " 'The Young and the Damned',\n",
       " 'Los Olvidados',\n",
       " 'Fanfan la Tulipe',\n",
       " 'Rififi',\n",
       " 'Du rififi chez les hommes',\n",
       " 'Heroes of Shipka',\n",
       " '(Geroi Shipki)',\n",
       " 'Othello',\n",
       " 'Отелло',\n",
       " 'A Man Escaped or: The Wind Bloweth Where It Listeth',\n",
       " \"Un condamné à mort s'est échappé ou Le vent souffle où il veut\",\n",
       " 'Brink of Life',\n",
       " 'Nära livet',\n",
       " 'The 400 Blows',\n",
       " 'Les Quatre Cents Coups',\n",
       " 'The Story of the Flaming Years',\n",
       " '(Povest plamennykh let)',\n",
       " 'Forest of the Hanged',\n",
       " 'Pădurea spânzuraților',\n",
       " 'Lenin in Poland',\n",
       " '(Lenin v Polshe)',\n",
       " 'Ten Thousand Days',\n",
       " 'Tízezer nap',\n",
       " 'Antonio das Mortes',\n",
       " 'O Dragão da Maldade contra o Santo Guerreiro',\n",
       " 'All My Compatriots',\n",
       " 'Všichni dobří rodáci',\n",
       " 'Leo the Last',\n",
       " 'Red Psalm',\n",
       " 'Még kér a nép',\n",
       " 'Orderers',\n",
       " 'Les Ordres',\n",
       " 'Special Section',\n",
       " 'Section spéciale',\n",
       " 'Down and Dirty',\n",
       " 'Brutti, sporchi e cattivi',\n",
       " 'Empire of Passion',\n",
       " 'Ai no Bōrei',\n",
       " 'Days of Heaven',\n",
       " 'Fitzcarraldo',\n",
       " 'Money',\n",
       " \"L'Argent\",\n",
       " 'Nostalgia',\n",
       " 'Nostalghia',\n",
       " 'A Sunday in the Country',\n",
       " 'Un dimanche à la campagne',\n",
       " 'Rendez-vous',\n",
       " 'After Hours',\n",
       " 'Wings of Desire',\n",
       " 'Der Himmel über Berlin',\n",
       " 'South',\n",
       " 'Sur',\n",
       " 'Time of the Gypsies',\n",
       " 'Dom za vešanje)',\n",
       " 'Taxi Blues',\n",
       " '(Taksi-Blyuz)',\n",
       " 'Barton Fink',\n",
       " 'The Player',\n",
       " 'Naked',\n",
       " 'Dear Diary',\n",
       " 'Caro diario',\n",
       " 'Hate',\n",
       " 'La Haine',\n",
       " 'Fargo',\n",
       " 'Happy Together',\n",
       " '(Ceon gwong za sit)',\n",
       " 'The General',\n",
       " 'All About My Mother',\n",
       " 'Todo sobre mi madre',\n",
       " 'A One and a Two',\n",
       " 'Yi Yi)',\n",
       " \"The Man Who Wasn't There\",\n",
       " 'Mulholland Drive',\n",
       " 'Painted Fire',\n",
       " 'Chi-hwa-seon)',\n",
       " 'Punch-Drunk Love',\n",
       " 'Elephant',\n",
       " 'Exiles',\n",
       " 'Hidden',\n",
       " 'Caché',\n",
       " 'Babel',\n",
       " 'The Diving Bell and the Butterfly',\n",
       " 'Le Scaphandre et le Papillon',\n",
       " 'Three Monkeys',\n",
       " 'Üç Maymun',\n",
       " 'Butchered',\n",
       " 'Kinatay',\n",
       " 'On Tour',\n",
       " 'Tournée',\n",
       " 'Drive',\n",
       " 'Post Tenebras Lux',\n",
       " 'Heli',\n",
       " 'Foxcatcher',\n",
       " 'The Assassin',\n",
       " 'Cìkè Niè Yǐnniáng)',\n",
       " 'Graduation',\n",
       " 'Bacalaureat',\n",
       " 'Personal Shopper',\n",
       " 'The Beguiled',\n",
       " 'Cold War',\n",
       " 'Zimna wojna',\n",
       " 'Young Ahmed',\n",
       " 'Le Jeune Ahmed',\n",
       " \"Palme d'Or\",\n",
       " \"Palme d'Or\"]"
      ]
     },
     "execution_count": 146,
     "metadata": {},
     "output_type": "execute_result"
    }
   ],
   "source": [
    "# we just want the movie names\n",
    "from urllib.request import urlopen\n",
    "from bs4 import BeautifulSoup\n",
    "\n",
    "webpage = 'https://en.wikipedia.org/wiki/Cannes_Film_Festival_Award_for_Best_Director'\n",
    "page = urlopen(webpage)\n",
    "soup = BeautifulSoup(page, 'html.parser')\n",
    "\n",
    "# css selection \n",
    "# select all <i> tag elements within <td> within <tr> elements \n",
    "# within <tbody> elements see \n",
    "# https://www.w3schools.com/cssref/css_selectors.asp \n",
    "\n",
    "movie=soup.select('tbody tr td i') \n",
    "type(movie) # returns a list of <i> tag elements on the page\n",
    "\n",
    "# extract text part of tag using \n",
    "# list comprehension\n",
    "names = [m.get_text() for m in movie] \n",
    "\n",
    "# by inspection we see rows 25:291\n",
    "# correspond to movie names\n",
    "\n",
    "names"
   ]
  },
  {
   "cell_type": "markdown",
   "metadata": {
    "slideshow": {
     "slide_type": "slide"
    }
   },
   "source": [
    "<a href=\"https://pypi.org/project/omdb/\"><img src=\"omdb.png\" style=\"width:75%;\"> </img></a>"
   ]
  },
  {
   "cell_type": "markdown",
   "metadata": {
    "slideshow": {
     "slide_type": "slide"
    }
   },
   "source": [
    "Install Python package [omdb](https://pypi.org/project/omdb/) using `pip` or access the API directly."
   ]
  },
  {
   "cell_type": "code",
   "execution_count": 168,
   "metadata": {
    "slideshow": {
     "slide_type": "fragment"
    }
   },
   "outputs": [
    {
     "name": "stdout",
     "output_type": "stream",
     "text": [
      "Requirement already satisfied: omdb in /usr/local/lib/python3.7/site-packages (0.10.1)\n",
      "Requirement already satisfied: requests>=2.0.1 in /usr/local/lib/python3.7/site-packages (from omdb) (2.22.0)\n",
      "Requirement already satisfied: chardet<3.1.0,>=3.0.2 in /usr/local/lib/python3.7/site-packages (from requests>=2.0.1->omdb) (3.0.4)\n",
      "Requirement already satisfied: idna<2.9,>=2.5 in /usr/local/lib/python3.7/site-packages (from requests>=2.0.1->omdb) (2.8)\n",
      "Requirement already satisfied: certifi>=2017.4.17 in /usr/local/lib/python3.7/site-packages (from requests>=2.0.1->omdb) (2019.6.16)\n",
      "Requirement already satisfied: urllib3!=1.25.0,!=1.25.1,<1.26,>=1.21.1 in /usr/local/lib/python3.7/site-packages (from requests>=2.0.1->omdb) (1.25.3)\n"
     ]
    }
   ],
   "source": [
    "!pip install omdb"
   ]
  },
  {
   "cell_type": "code",
   "execution_count": 14,
   "metadata": {},
   "outputs": [
    {
     "ename": "HTTPError",
     "evalue": "401 Client Error: Unauthorized for url: http://www.omdbapi.com/?t=Robocop&page=1&plot=short&apikey=",
     "output_type": "error",
     "traceback": [
      "\u001b[0;31m---------------------------------------------------------------------------\u001b[0m",
      "\u001b[0;31mHTTPError\u001b[0m                                 Traceback (most recent call last)",
      "\u001b[0;32m<ipython-input-14-840aec0c5bb8>\u001b[0m in \u001b[0;36m<module>\u001b[0;34m\u001b[0m\n\u001b[1;32m      6\u001b[0m \u001b[0;34m\u001b[0m\u001b[0m\n\u001b[1;32m      7\u001b[0m \u001b[0momdb\u001b[0m\u001b[0;34m.\u001b[0m\u001b[0mset_default\u001b[0m\u001b[0;34m(\u001b[0m\u001b[0;34m'apikey'\u001b[0m\u001b[0;34m,\u001b[0m \u001b[0mAPI_KEY\u001b[0m\u001b[0;34m)\u001b[0m\u001b[0;34m\u001b[0m\u001b[0;34m\u001b[0m\u001b[0m\n\u001b[0;32m----> 8\u001b[0;31m \u001b[0mmovie1\u001b[0m \u001b[0;34m=\u001b[0m \u001b[0momdb\u001b[0m\u001b[0;34m.\u001b[0m\u001b[0mtitle\u001b[0m\u001b[0;34m(\u001b[0m\u001b[0;34m'Robocop'\u001b[0m\u001b[0;34m)\u001b[0m\u001b[0;34m\u001b[0m\u001b[0;34m\u001b[0m\u001b[0m\n\u001b[0m\u001b[1;32m      9\u001b[0m \u001b[0mmovie1\u001b[0m \u001b[0;31m#returns a dict\u001b[0m\u001b[0;34m\u001b[0m\u001b[0;34m\u001b[0m\u001b[0m\n",
      "\u001b[0;32m/usr/local/lib/python3.7/site-packages/omdb/api.py\u001b[0m in \u001b[0;36mtitle\u001b[0;34m(string, **params)\u001b[0m\n\u001b[1;32m     51\u001b[0m \u001b[0;32mdef\u001b[0m \u001b[0mtitle\u001b[0m\u001b[0;34m(\u001b[0m\u001b[0mstring\u001b[0m\u001b[0;34m,\u001b[0m \u001b[0;34m**\u001b[0m\u001b[0mparams\u001b[0m\u001b[0;34m)\u001b[0m\u001b[0;34m:\u001b[0m\u001b[0;34m\u001b[0m\u001b[0;34m\u001b[0m\u001b[0m\n\u001b[1;32m     52\u001b[0m     \u001b[0;34m\"\"\"Get by title.\"\"\"\u001b[0m\u001b[0;34m\u001b[0m\u001b[0;34m\u001b[0m\u001b[0m\n\u001b[0;32m---> 53\u001b[0;31m     \u001b[0;32mreturn\u001b[0m \u001b[0m_client\u001b[0m\u001b[0;34m.\u001b[0m\u001b[0mtitle\u001b[0m\u001b[0;34m(\u001b[0m\u001b[0mstring\u001b[0m\u001b[0;34m,\u001b[0m \u001b[0;34m**\u001b[0m\u001b[0mparams\u001b[0m\u001b[0;34m)\u001b[0m\u001b[0;34m\u001b[0m\u001b[0;34m\u001b[0m\u001b[0m\n\u001b[0m\u001b[1;32m     54\u001b[0m \u001b[0;34m\u001b[0m\u001b[0m\n\u001b[1;32m     55\u001b[0m \u001b[0;34m\u001b[0m\u001b[0m\n",
      "\u001b[0;32m/usr/local/lib/python3.7/site-packages/omdb/client.py\u001b[0m in \u001b[0;36mtitle\u001b[0;34m(self, string, **params)\u001b[0m\n\u001b[1;32m    133\u001b[0m     \u001b[0;32mdef\u001b[0m \u001b[0mtitle\u001b[0m\u001b[0;34m(\u001b[0m\u001b[0mself\u001b[0m\u001b[0;34m,\u001b[0m \u001b[0mstring\u001b[0m\u001b[0;34m,\u001b[0m \u001b[0;34m**\u001b[0m\u001b[0mparams\u001b[0m\u001b[0;34m)\u001b[0m\u001b[0;34m:\u001b[0m\u001b[0;34m\u001b[0m\u001b[0;34m\u001b[0m\u001b[0m\n\u001b[1;32m    134\u001b[0m         \u001b[0;34m\"\"\"Get by title.\"\"\"\u001b[0m\u001b[0;34m\u001b[0m\u001b[0;34m\u001b[0m\u001b[0m\n\u001b[0;32m--> 135\u001b[0;31m         \u001b[0;32mreturn\u001b[0m \u001b[0mself\u001b[0m\u001b[0;34m.\u001b[0m\u001b[0mget\u001b[0m\u001b[0;34m(\u001b[0m\u001b[0mtitle\u001b[0m\u001b[0;34m=\u001b[0m\u001b[0mstring\u001b[0m\u001b[0;34m,\u001b[0m \u001b[0;34m**\u001b[0m\u001b[0mparams\u001b[0m\u001b[0;34m)\u001b[0m\u001b[0;34m\u001b[0m\u001b[0;34m\u001b[0m\u001b[0m\n\u001b[0m\u001b[1;32m    136\u001b[0m \u001b[0;34m\u001b[0m\u001b[0m\n\u001b[1;32m    137\u001b[0m     \u001b[0;32mdef\u001b[0m \u001b[0mformat_params\u001b[0m\u001b[0;34m(\u001b[0m\u001b[0mself\u001b[0m\u001b[0;34m,\u001b[0m \u001b[0mparams\u001b[0m\u001b[0;34m)\u001b[0m\u001b[0;34m:\u001b[0m\u001b[0;34m\u001b[0m\u001b[0;34m\u001b[0m\u001b[0m\n",
      "\u001b[0;32m/usr/local/lib/python3.7/site-packages/omdb/client.py\u001b[0m in \u001b[0;36mget\u001b[0;34m(self, search, title, imdbid, year, page, fullplot, tomatoes, media_type, season, episode, timeout)\u001b[0m\n\u001b[1;32m    104\u001b[0m         \u001b[0mparams\u001b[0m \u001b[0;34m=\u001b[0m \u001b[0mself\u001b[0m\u001b[0;34m.\u001b[0m\u001b[0mformat_params\u001b[0m\u001b[0;34m(\u001b[0m\u001b[0mparams\u001b[0m\u001b[0;34m)\u001b[0m\u001b[0;34m\u001b[0m\u001b[0;34m\u001b[0m\u001b[0m\n\u001b[1;32m    105\u001b[0m \u001b[0;34m\u001b[0m\u001b[0m\n\u001b[0;32m--> 106\u001b[0;31m         \u001b[0mdata\u001b[0m \u001b[0;34m=\u001b[0m \u001b[0mself\u001b[0m\u001b[0;34m.\u001b[0m\u001b[0mrequest\u001b[0m\u001b[0;34m(\u001b[0m\u001b[0mtimeout\u001b[0m\u001b[0;34m=\u001b[0m\u001b[0mtimeout\u001b[0m\u001b[0;34m,\u001b[0m \u001b[0;34m**\u001b[0m\u001b[0mparams\u001b[0m\u001b[0;34m)\u001b[0m\u001b[0;34m.\u001b[0m\u001b[0mjson\u001b[0m\u001b[0;34m(\u001b[0m\u001b[0;34m)\u001b[0m\u001b[0;34m\u001b[0m\u001b[0;34m\u001b[0m\u001b[0m\n\u001b[0m\u001b[1;32m    107\u001b[0m \u001b[0;34m\u001b[0m\u001b[0m\n\u001b[1;32m    108\u001b[0m         \u001b[0;32mreturn\u001b[0m \u001b[0mself\u001b[0m\u001b[0;34m.\u001b[0m\u001b[0mformat_search_results\u001b[0m\u001b[0;34m(\u001b[0m\u001b[0mdata\u001b[0m\u001b[0;34m,\u001b[0m \u001b[0mparams\u001b[0m\u001b[0;34m)\u001b[0m\u001b[0;34m\u001b[0m\u001b[0;34m\u001b[0m\u001b[0m\n",
      "\u001b[0;32m/usr/local/lib/python3.7/site-packages/omdb/client.py\u001b[0m in \u001b[0;36mrequest\u001b[0;34m(self, **params)\u001b[0m\n\u001b[1;32m     53\u001b[0m         \u001b[0;31m# raise HTTP status code exception if status code != 200\u001b[0m\u001b[0;34m\u001b[0m\u001b[0;34m\u001b[0m\u001b[0;34m\u001b[0m\u001b[0m\n\u001b[1;32m     54\u001b[0m         \u001b[0;31m# if status_code == 200, then no exception raised\u001b[0m\u001b[0;34m\u001b[0m\u001b[0;34m\u001b[0m\u001b[0;34m\u001b[0m\u001b[0m\n\u001b[0;32m---> 55\u001b[0;31m         \u001b[0mres\u001b[0m\u001b[0;34m.\u001b[0m\u001b[0mraise_for_status\u001b[0m\u001b[0;34m(\u001b[0m\u001b[0;34m)\u001b[0m\u001b[0;34m\u001b[0m\u001b[0;34m\u001b[0m\u001b[0m\n\u001b[0m\u001b[1;32m     56\u001b[0m \u001b[0;34m\u001b[0m\u001b[0m\n\u001b[1;32m     57\u001b[0m         \u001b[0;32mreturn\u001b[0m \u001b[0mres\u001b[0m\u001b[0;34m\u001b[0m\u001b[0;34m\u001b[0m\u001b[0m\n",
      "\u001b[0;32m/usr/local/lib/python3.7/site-packages/requests/models.py\u001b[0m in \u001b[0;36mraise_for_status\u001b[0;34m(self)\u001b[0m\n\u001b[1;32m    938\u001b[0m \u001b[0;34m\u001b[0m\u001b[0m\n\u001b[1;32m    939\u001b[0m         \u001b[0;32mif\u001b[0m \u001b[0mhttp_error_msg\u001b[0m\u001b[0;34m:\u001b[0m\u001b[0;34m\u001b[0m\u001b[0;34m\u001b[0m\u001b[0m\n\u001b[0;32m--> 940\u001b[0;31m             \u001b[0;32mraise\u001b[0m \u001b[0mHTTPError\u001b[0m\u001b[0;34m(\u001b[0m\u001b[0mhttp_error_msg\u001b[0m\u001b[0;34m,\u001b[0m \u001b[0mresponse\u001b[0m\u001b[0;34m=\u001b[0m\u001b[0mself\u001b[0m\u001b[0;34m)\u001b[0m\u001b[0;34m\u001b[0m\u001b[0;34m\u001b[0m\u001b[0m\n\u001b[0m\u001b[1;32m    941\u001b[0m \u001b[0;34m\u001b[0m\u001b[0m\n\u001b[1;32m    942\u001b[0m     \u001b[0;32mdef\u001b[0m \u001b[0mclose\u001b[0m\u001b[0;34m(\u001b[0m\u001b[0mself\u001b[0m\u001b[0;34m)\u001b[0m\u001b[0;34m:\u001b[0m\u001b[0;34m\u001b[0m\u001b[0;34m\u001b[0m\u001b[0m\n",
      "\u001b[0;31mHTTPError\u001b[0m: 401 Client Error: Unauthorized for url: http://www.omdbapi.com/?t=Robocop&page=1&plot=short&apikey="
     ]
    }
   ],
   "source": [
    "#install omdb using pip\n",
    "\n",
    "import omdb\n",
    "\n",
    "API_KEY = '' #fill in your key here\n",
    "\n",
    "omdb.set_default('apikey', API_KEY)\n",
    "movie1 = omdb.title('Robocop')\n",
    "movie1 #returns a dict"
   ]
  },
  {
   "cell_type": "code",
   "execution_count": 176,
   "metadata": {
    "slideshow": {
     "slide_type": "slide"
    }
   },
   "outputs": [
    {
     "name": "stdout",
     "output_type": "stream",
     "text": [
      "Peter Weller, Nancy Allen, Dan O'Herlihy, Ronny Cox \n",
      " \n",
      " N/A\n"
     ]
    }
   ],
   "source": [
    "print(movie1['actors'], '\\n \\n', movie1['box_office'])"
   ]
  },
  {
   "cell_type": "code",
   "execution_count": 177,
   "metadata": {
    "slideshow": {
     "slide_type": "slide"
    }
   },
   "outputs": [
    {
     "data": {
      "text/html": [
       "<div>\n",
       "<style scoped>\n",
       "    .dataframe tbody tr th:only-of-type {\n",
       "        vertical-align: middle;\n",
       "    }\n",
       "\n",
       "    .dataframe tbody tr th {\n",
       "        vertical-align: top;\n",
       "    }\n",
       "\n",
       "    .dataframe thead th {\n",
       "        text-align: right;\n",
       "    }\n",
       "</style>\n",
       "<table border=\"1\" class=\"dataframe\">\n",
       "  <thead>\n",
       "    <tr style=\"text-align: right;\">\n",
       "      <th></th>\n",
       "      <th>title</th>\n",
       "      <th>year</th>\n",
       "      <th>rated</th>\n",
       "      <th>released</th>\n",
       "      <th>runtime</th>\n",
       "      <th>genre</th>\n",
       "      <th>director</th>\n",
       "      <th>writer</th>\n",
       "      <th>actors</th>\n",
       "      <th>plot</th>\n",
       "      <th>...</th>\n",
       "      <th>metascore</th>\n",
       "      <th>imdb_rating</th>\n",
       "      <th>imdb_votes</th>\n",
       "      <th>imdb_id</th>\n",
       "      <th>type</th>\n",
       "      <th>dvd</th>\n",
       "      <th>box_office</th>\n",
       "      <th>production</th>\n",
       "      <th>website</th>\n",
       "      <th>response</th>\n",
       "    </tr>\n",
       "  </thead>\n",
       "  <tbody>\n",
       "    <tr>\n",
       "      <th>0</th>\n",
       "      <td>RoboCop</td>\n",
       "      <td>1987</td>\n",
       "      <td>R</td>\n",
       "      <td>17 Jul 1987</td>\n",
       "      <td>102 min</td>\n",
       "      <td>Action, Crime, Sci-Fi, Thriller</td>\n",
       "      <td>Paul Verhoeven</td>\n",
       "      <td>Edward Neumeier, Michael Miner</td>\n",
       "      <td>Peter Weller, Nancy Allen, Dan O'Herlihy, Ronn...</td>\n",
       "      <td>In a dystopic and crime-ridden Detroit, a term...</td>\n",
       "      <td>...</td>\n",
       "      <td>67</td>\n",
       "      <td>7.5</td>\n",
       "      <td>219,592</td>\n",
       "      <td>tt0093870</td>\n",
       "      <td>movie</td>\n",
       "      <td>02 Oct 2001</td>\n",
       "      <td>N/A</td>\n",
       "      <td>Orion Pictures Corporation</td>\n",
       "      <td>N/A</td>\n",
       "      <td>True</td>\n",
       "    </tr>\n",
       "    <tr>\n",
       "      <th>1</th>\n",
       "      <td>RoboCop</td>\n",
       "      <td>1987</td>\n",
       "      <td>R</td>\n",
       "      <td>17 Jul 1987</td>\n",
       "      <td>102 min</td>\n",
       "      <td>Action, Crime, Sci-Fi, Thriller</td>\n",
       "      <td>Paul Verhoeven</td>\n",
       "      <td>Edward Neumeier, Michael Miner</td>\n",
       "      <td>Peter Weller, Nancy Allen, Dan O'Herlihy, Ronn...</td>\n",
       "      <td>In a dystopic and crime-ridden Detroit, a term...</td>\n",
       "      <td>...</td>\n",
       "      <td>67</td>\n",
       "      <td>7.5</td>\n",
       "      <td>219,592</td>\n",
       "      <td>tt0093870</td>\n",
       "      <td>movie</td>\n",
       "      <td>02 Oct 2001</td>\n",
       "      <td>N/A</td>\n",
       "      <td>Orion Pictures Corporation</td>\n",
       "      <td>N/A</td>\n",
       "      <td>True</td>\n",
       "    </tr>\n",
       "    <tr>\n",
       "      <th>2</th>\n",
       "      <td>RoboCop</td>\n",
       "      <td>1987</td>\n",
       "      <td>R</td>\n",
       "      <td>17 Jul 1987</td>\n",
       "      <td>102 min</td>\n",
       "      <td>Action, Crime, Sci-Fi, Thriller</td>\n",
       "      <td>Paul Verhoeven</td>\n",
       "      <td>Edward Neumeier, Michael Miner</td>\n",
       "      <td>Peter Weller, Nancy Allen, Dan O'Herlihy, Ronn...</td>\n",
       "      <td>In a dystopic and crime-ridden Detroit, a term...</td>\n",
       "      <td>...</td>\n",
       "      <td>67</td>\n",
       "      <td>7.5</td>\n",
       "      <td>219,592</td>\n",
       "      <td>tt0093870</td>\n",
       "      <td>movie</td>\n",
       "      <td>02 Oct 2001</td>\n",
       "      <td>N/A</td>\n",
       "      <td>Orion Pictures Corporation</td>\n",
       "      <td>N/A</td>\n",
       "      <td>True</td>\n",
       "    </tr>\n",
       "  </tbody>\n",
       "</table>\n",
       "<p>3 rows × 25 columns</p>\n",
       "</div>"
      ],
      "text/plain": [
       "     title  year rated     released  runtime                            genre  \\\n",
       "0  RoboCop  1987     R  17 Jul 1987  102 min  Action, Crime, Sci-Fi, Thriller   \n",
       "1  RoboCop  1987     R  17 Jul 1987  102 min  Action, Crime, Sci-Fi, Thriller   \n",
       "2  RoboCop  1987     R  17 Jul 1987  102 min  Action, Crime, Sci-Fi, Thriller   \n",
       "\n",
       "         director                          writer  \\\n",
       "0  Paul Verhoeven  Edward Neumeier, Michael Miner   \n",
       "1  Paul Verhoeven  Edward Neumeier, Michael Miner   \n",
       "2  Paul Verhoeven  Edward Neumeier, Michael Miner   \n",
       "\n",
       "                                              actors  \\\n",
       "0  Peter Weller, Nancy Allen, Dan O'Herlihy, Ronn...   \n",
       "1  Peter Weller, Nancy Allen, Dan O'Herlihy, Ronn...   \n",
       "2  Peter Weller, Nancy Allen, Dan O'Herlihy, Ronn...   \n",
       "\n",
       "                                                plot  ... metascore  \\\n",
       "0  In a dystopic and crime-ridden Detroit, a term...  ...        67   \n",
       "1  In a dystopic and crime-ridden Detroit, a term...  ...        67   \n",
       "2  In a dystopic and crime-ridden Detroit, a term...  ...        67   \n",
       "\n",
       "  imdb_rating imdb_votes    imdb_id   type          dvd box_office  \\\n",
       "0         7.5    219,592  tt0093870  movie  02 Oct 2001        N/A   \n",
       "1         7.5    219,592  tt0093870  movie  02 Oct 2001        N/A   \n",
       "2         7.5    219,592  tt0093870  movie  02 Oct 2001        N/A   \n",
       "\n",
       "                   production website response  \n",
       "0  Orion Pictures Corporation     N/A     True  \n",
       "1  Orion Pictures Corporation     N/A     True  \n",
       "2  Orion Pictures Corporation     N/A     True  \n",
       "\n",
       "[3 rows x 25 columns]"
      ]
     },
     "execution_count": 177,
     "metadata": {},
     "output_type": "execute_result"
    }
   ],
   "source": [
    "# easy to import directly into pandas\n",
    "import pandas as pd\n",
    "pd.DataFrame(movie1)"
   ]
  }
 ],
 "metadata": {
  "celltoolbar": "Slideshow",
  "hide_code_all_hidden": false,
  "kernelspec": {
   "display_name": "Python 3",
   "language": "python",
   "name": "python3"
  },
  "language_info": {
   "codemirror_mode": {
    "name": "ipython",
    "version": 3
   },
   "file_extension": ".py",
   "mimetype": "text/x-python",
   "name": "python",
   "nbconvert_exporter": "python",
   "pygments_lexer": "ipython3",
   "version": "3.7.6"
  }
 },
 "nbformat": 4,
 "nbformat_minor": 2
}
