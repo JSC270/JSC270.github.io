{
 "cells": [
  {
   "cell_type": "code",
   "execution_count": 7,
   "metadata": {
    "hideCode": false,
    "hidePrompt": false,
    "slideshow": {
     "slide_type": "skip"
    }
   },
   "outputs": [],
   "source": [
    "from IPython.core.interactiveshell import InteractiveShell\n",
    "InteractiveShell.ast_node_interactivity = \"all\""
   ]
  },
  {
   "cell_type": "markdown",
   "metadata": {
    "hideCode": false,
    "hidePrompt": false,
    "slideshow": {
     "slide_type": "slide"
    }
   },
   "source": [
    "# JSC270 - Class \\#2\n",
    "## Prof. Chevalier\n",
    "### 13 Jan. 2020"
   ]
  },
  {
   "cell_type": "markdown",
   "metadata": {
    "slideshow": {
     "slide_type": "slide"
    }
   },
   "source": [
    "# Today's Class\n",
    "\n",
    "- Reporting & Storytelling in Data Science\n",
    "- Asking Research Questions\n",
    "- Data wrangling\n",
    "- APIs"
   ]
  },
  {
   "cell_type": "markdown",
   "metadata": {
    "slideshow": {
     "slide_type": "slide"
    }
   },
   "source": [
    "# Reporting & Storytelling in Data Science\n",
    "\n",
    "<br>\n",
    "\n",
    "<div style=\"display: table; clear: both;\">\n",
    "  <div style=\"float: left; width: 50%; padding: 10px; height: 350px;\">\n",
    "    <p><img src='kaggle.png'></td></tr></p>\n",
    "  </div>\n",
    "  <div style=\"float: left; width: 50%; padding: 10px; height: 350px;\">\n",
    "    <p><img src='nyt.png'></p>\n",
    "  </div>\n",
    "  \n",
    "</div>"
   ]
  },
  {
   "cell_type": "markdown",
   "metadata": {
    "slideshow": {
     "slide_type": "slide"
    }
   },
   "source": [
    "<br>\n",
    "<br>\n",
    "\n",
    "# What is Data Science?\n",
    "\n",
    "<br>\n",
    "\n",
    "<center> <h3><i>The science of learning from data. </i></h2></center>"
   ]
  },
  {
   "cell_type": "markdown",
   "metadata": {
    "slideshow": {
     "slide_type": "slide"
    }
   },
   "source": [
    "# Formulating Research Questions\n",
    "\n",
    "- Ask a lot of questions, be critical\n",
    "- Think about the problem: who? what? how? why? where? when?\n",
    "- Use answers and findings to ask interesting follow-up questions"
   ]
  },
  {
   "cell_type": "markdown",
   "metadata": {
    "slideshow": {
     "slide_type": "slide"
    }
   },
   "source": [
    "\n",
    "> Think about something that you do for yourself that is healthy.\n"
   ]
  },
  {
   "cell_type": "markdown",
   "metadata": {
    "slideshow": {
     "slide_type": "notes"
    }
   },
   "source": [
    "How do you know it's healthy? Is it because somone told you or because of how you feel? If it's because someone told you, how do you know that person is right? Many experts disagree on what's healthy. Which experts are right?"
   ]
  },
  {
   "cell_type": "markdown",
   "metadata": {
    "slideshow": {
     "slide_type": "slide"
    }
   },
   "source": [
    "> A shoe company you work for gave out customer coupons and had a one-day sale event at the end of the year. Was the coupon operation profitable?"
   ]
  },
  {
   "cell_type": "code",
   "execution_count": 14,
   "metadata": {
    "slideshow": {
     "slide_type": "subslide"
    }
   },
   "outputs": [
    {
     "data": {
      "text/html": [
       "<div>\n",
       "<style scoped>\n",
       "    .dataframe tbody tr th:only-of-type {\n",
       "        vertical-align: middle;\n",
       "    }\n",
       "\n",
       "    .dataframe tbody tr th {\n",
       "        vertical-align: top;\n",
       "    }\n",
       "\n",
       "    .dataframe thead th {\n",
       "        text-align: right;\n",
       "    }\n",
       "</style>\n",
       "<table border=\"1\" class=\"dataframe\">\n",
       "  <thead>\n",
       "    <tr style=\"text-align: right;\">\n",
       "      <th></th>\n",
       "      <th>id</th>\n",
       "      <th>coupon_code</th>\n",
       "      <th>discount</th>\n",
       "      <th>sku</th>\n",
       "      <th>quantity</th>\n",
       "    </tr>\n",
       "  </thead>\n",
       "  <tbody>\n",
       "    <tr>\n",
       "      <th>0</th>\n",
       "      <td>0</td>\n",
       "      <td>None</td>\n",
       "      <td>1.0</td>\n",
       "      <td>9</td>\n",
       "      <td>3</td>\n",
       "    </tr>\n",
       "    <tr>\n",
       "      <th>1</th>\n",
       "      <td>1</td>\n",
       "      <td>coupon80</td>\n",
       "      <td>0.8</td>\n",
       "      <td>9</td>\n",
       "      <td>2</td>\n",
       "    </tr>\n",
       "    <tr>\n",
       "      <th>2</th>\n",
       "      <td>2</td>\n",
       "      <td>xmas70</td>\n",
       "      <td>0.7</td>\n",
       "      <td>1</td>\n",
       "      <td>3</td>\n",
       "    </tr>\n",
       "    <tr>\n",
       "      <th>3</th>\n",
       "      <td>3</td>\n",
       "      <td>coupon80</td>\n",
       "      <td>0.8</td>\n",
       "      <td>14</td>\n",
       "      <td>3</td>\n",
       "    </tr>\n",
       "    <tr>\n",
       "      <th>4</th>\n",
       "      <td>4</td>\n",
       "      <td>None</td>\n",
       "      <td>1.0</td>\n",
       "      <td>4</td>\n",
       "      <td>4</td>\n",
       "    </tr>\n",
       "  </tbody>\n",
       "</table>\n",
       "</div>"
      ],
      "text/plain": [
       "   id coupon_code  discount  sku  quantity\n",
       "0   0        None       1.0    9         3\n",
       "1   1    coupon80       0.8    9         2\n",
       "2   2      xmas70       0.7    1         3\n",
       "3   3    coupon80       0.8   14         3\n",
       "4   4        None       1.0    4         4"
      ]
     },
     "execution_count": 14,
     "metadata": {},
     "output_type": "execute_result"
    }
   ],
   "source": [
    "import csv\n",
    "\n",
    "df = pd.read_csv('coupons.csv')\n",
    "df.head()"
   ]
  },
  {
   "cell_type": "code",
   "execution_count": 18,
   "metadata": {
    "slideshow": {
     "slide_type": "slide"
    }
   },
   "outputs": [
    {
     "data": {
      "text/plain": [
       "<matplotlib.axes._subplots.AxesSubplot at 0x117741850>"
      ]
     },
     "execution_count": 18,
     "metadata": {},
     "output_type": "execute_result"
    },
    {
     "data": {
      "image/png": "[encoded data removed]",
      "text/plain": [
       "<Figure size 432x288 with 1 Axes>"
      ]
     },
     "metadata": {
      "needs_background": "light"
     },
     "output_type": "display_data"
    },
    {
     "data": {
      "image/png": "[encoded data removed]",
      "text/plain": [
       "<Figure size 432x288 with 1 Axes>"
      ]
     },
     "metadata": {
      "needs_background": "light"
     },
     "output_type": "display_data"
    }
   ],
   "source": [
    "none = df[df.coupon_code == 'None']\n",
    "none_count = none.groupby('sku').sum()[['quantity']]\n",
    "\n",
    "coupon80 = df[df.coupon_code != 'None']\n",
    "coupon80_count = coupon80.groupby('sku').sum()[['quantity']]\n",
    "\n",
    "none_count.plot(kind='bar') \n",
    "coupon80_count.plot(kind='bar') "
   ]
  },
  {
   "cell_type": "code",
   "execution_count": 16,
   "metadata": {
    "slideshow": {
     "slide_type": "fragment"
    }
   },
   "outputs": [
    {
     "data": {
      "text/plain": [
       "array(['None', 'coupon80', 'xmas70', 'freeshipping', 'happynewyear60',\n",
       "       'family75'], dtype=object)"
      ]
     },
     "execution_count": 16,
     "metadata": {},
     "output_type": "execute_result"
    }
   ],
   "source": [
    "df.coupon_code.unique()"
   ]
  },
  {
   "cell_type": "code",
   "execution_count": 11,
   "metadata": {
    "slideshow": {
     "slide_type": "slide"
    }
   },
   "outputs": [
    {
     "data": {
      "text/plain": [
       "<BarContainer object of 5 artists>"
      ]
     },
     "execution_count": 11,
     "metadata": {},
     "output_type": "execute_result"
    },
    {
     "data": {
      "text/plain": [
       "[<matplotlib.axis.XTick at 0x117d5ffd0>,\n",
       " <matplotlib.axis.XTick at 0x12201e510>,\n",
       " <matplotlib.axis.XTick at 0x12201e090>,\n",
       " <matplotlib.axis.XTick at 0x122124e90>,\n",
       " <matplotlib.axis.XTick at 0x1180244d0>]"
      ]
     },
     "execution_count": 11,
     "metadata": {},
     "output_type": "execute_result"
    },
    {
     "data": {
      "text/plain": [
       "[Text(0, 0, 'coupon80'),\n",
       " Text(0, 0, 'family75'),\n",
       " Text(0, 0, 'freeshipping'),\n",
       " Text(0, 0, 'happynewyear60'),\n",
       " Text(0, 0, 'xmas70')]"
      ]
     },
     "execution_count": 11,
     "metadata": {},
     "output_type": "execute_result"
    },
    {
     "data": {
      "text/plain": [
       "Text(0.5, 1.0, 'average sales quantity comparing with no coupon code')"
      ]
     },
     "execution_count": 11,
     "metadata": {},
     "output_type": "execute_result"
    },
    {
     "data": {
      "image/png": "[encoded data removed]",
      "text/plain": [
       "<Figure size 576x432 with 1 Axes>"
      ]
     },
     "metadata": {
      "needs_background": "light"
     },
     "output_type": "display_data"
    }
   ],
   "source": [
    "import matplotlib\n",
    "import seaborn as sns\n",
    "import numpy as np\n",
    "\n",
    "f, ax = plt.subplots(1, figsize=(8,6))\n",
    "\n",
    "pvt = df.pivot_table(index='sku', columns='coupon_code', values='quantity', aggfunc=np.mean)\n",
    "df2 = pd.DataFrame((pvt.values - pvt.values[:,0:1])[:,1:], columns=pvt.columns[1:])\n",
    "ax.bar(x=np.arange(5), height=df2.mean())\n",
    "ax.set_xticks(np.arange(5));\n",
    "ax.set_xticklabels(df2.columns);\n",
    "\n",
    "ax.set_title('average sales quantity comparing with no coupon code')"
   ]
  },
  {
   "cell_type": "markdown",
   "metadata": {
    "slideshow": {
     "slide_type": "-"
    }
   },
   "source": [
    "Example from Doug Brose. [MIT Licence](https://github.com/dougbrose/data-science/blob/master/LICENSE)."
   ]
  },
  {
   "cell_type": "markdown",
   "metadata": {
    "slideshow": {
     "slide_type": "slide"
    }
   },
   "source": [
    "# Asking Research Questions: Challenge the conclusions\n",
    "\n",
    "- How do we know that the jump in revenue was related to the promotion? \n",
    "- What data would show a strong connection between the promotion and sales?\n",
    "- Do the promotions work?"
   ]
  },
  {
   "cell_type": "markdown",
   "metadata": {
    "slideshow": {
     "slide_type": "fragment"
    }
   },
   "source": [
    "- Did customer buy things that were on sale?\n",
    "- Was it simply a matter of bringing more people to the web site?"
   ]
  },
  {
   "cell_type": "markdown",
   "metadata": {
    "slideshow": {
     "slide_type": "slide"
    }
   },
   "source": [
    "# Asking Good Research Questions: Clarify key terms\n",
    "\n",
    "<br>\n",
    "\n",
    "> Do people run often because it makes them happier?"
   ]
  },
  {
   "cell_type": "markdown",
   "metadata": {
    "slideshow": {
     "slide_type": "slide"
    }
   },
   "source": [
    "# Asking Good Research Questions: Root out assumptions\n",
    "\n",
    "<br>\n",
    "\n",
    "> After examination of customer service data, a company's analysts realize that the company has a high percentage of people calling in to order products. The company wants to encourage customer to use the web site or mobile app."
   ]
  },
  {
   "cell_type": "markdown",
   "metadata": {
    "slideshow": {
     "slide_type": "fragment"
    }
   },
   "source": [
    "> * Why are people calling in?\n",
    "> * What can we do to make the website easier for customer to use? \n",
    "> * How do we get more customers to use our mobile application?\n",
    "> * Why do customer prefer to talk to a person?\n",
    "\n"
   ]
  },
  {
   "cell_type": "markdown",
   "metadata": {
    "slideshow": {
     "slide_type": "slide"
    }
   },
   "source": [
    "<center>\n",
    "<div style=\"display: table; clear: both;\">\n",
    "  <div style=\"float: left; width: 50%; padding: 10px; \">\n",
    "    <p><img src='ask-question.jpg'></td></tr></p>\n",
    "  </div>\n",
    "  <div style=\"float: left; width: 50%; padding: 10px; \">\n",
    "    <p><img src='think-like-a-freak.jpg'></p>\n",
    "  </div>\n",
    "</div>\n",
    "</center>"
   ]
  },
  {
   "cell_type": "markdown",
   "metadata": {
    "slideshow": {
     "slide_type": "slide"
    }
   },
   "source": [
    "# Critical Reasoning\n"
   ]
  },
  {
   "cell_type": "code",
   "execution_count": 1,
   "metadata": {
    "slideshow": {
     "slide_type": "-"
    }
   },
   "outputs": [
    {
     "data": {
      "text/plain": [
       "Index(['gender', 'couple', 'babies', 'job'], dtype='object')"
      ]
     },
     "execution_count": 1,
     "metadata": {},
     "output_type": "execute_result"
    }
   ],
   "source": [
    "import pandas as pd\n",
    "\n",
    "df = pd.read_csv('babies.csv', sep=\";\")\n",
    "df.columns"
   ]
  },
  {
   "cell_type": "code",
   "execution_count": 2,
   "metadata": {
    "slideshow": {
     "slide_type": "-"
    }
   },
   "outputs": [
    {
     "data": {
      "text/plain": [
       "1.7083333333333333"
      ]
     },
     "execution_count": 2,
     "metadata": {},
     "output_type": "execute_result"
    }
   ],
   "source": [
    "df[\"babies\"].mean()"
   ]
  },
  {
   "cell_type": "code",
   "execution_count": 3,
   "metadata": {
    "slideshow": {
     "slide_type": "-"
    }
   },
   "outputs": [
    {
     "data": {
      "text/plain": [
       "1.5"
      ]
     },
     "execution_count": 3,
     "metadata": {},
     "output_type": "execute_result"
    }
   ],
   "source": [
    "df[\"babies\"].median()"
   ]
  },
  {
   "cell_type": "code",
   "execution_count": 4,
   "metadata": {
    "slideshow": {
     "slide_type": "slide"
    }
   },
   "outputs": [
    {
     "data": {
      "text/html": [
       "<div>\n",
       "<style scoped>\n",
       "    .dataframe tbody tr th:only-of-type {\n",
       "        vertical-align: middle;\n",
       "    }\n",
       "\n",
       "    .dataframe tbody tr th {\n",
       "        vertical-align: top;\n",
       "    }\n",
       "\n",
       "    .dataframe thead th {\n",
       "        text-align: right;\n",
       "    }\n",
       "</style>\n",
       "<table border=\"1\" class=\"dataframe\">\n",
       "  <thead>\n",
       "    <tr style=\"text-align: right;\">\n",
       "      <th></th>\n",
       "      <th>gender</th>\n",
       "      <th>couple</th>\n",
       "      <th>babies</th>\n",
       "      <th>job</th>\n",
       "    </tr>\n",
       "  </thead>\n",
       "  <tbody>\n",
       "    <tr>\n",
       "      <th>0</th>\n",
       "      <td>female</td>\n",
       "      <td>1</td>\n",
       "      <td>2</td>\n",
       "      <td>secretary</td>\n",
       "    </tr>\n",
       "    <tr>\n",
       "      <th>1</th>\n",
       "      <td>male</td>\n",
       "      <td>1</td>\n",
       "      <td>2</td>\n",
       "      <td>stewart</td>\n",
       "    </tr>\n",
       "    <tr>\n",
       "      <th>2</th>\n",
       "      <td>female</td>\n",
       "      <td>2</td>\n",
       "      <td>1</td>\n",
       "      <td>professor</td>\n",
       "    </tr>\n",
       "    <tr>\n",
       "      <th>3</th>\n",
       "      <td>male</td>\n",
       "      <td>2</td>\n",
       "      <td>1</td>\n",
       "      <td>none</td>\n",
       "    </tr>\n",
       "    <tr>\n",
       "      <th>4</th>\n",
       "      <td>female</td>\n",
       "      <td>3</td>\n",
       "      <td>2</td>\n",
       "      <td>lawyer</td>\n",
       "    </tr>\n",
       "  </tbody>\n",
       "</table>\n",
       "</div>"
      ],
      "text/plain": [
       "   gender  couple  babies        job\n",
       "0  female       1       2  secretary\n",
       "1    male       1       2    stewart\n",
       "2  female       2       1  professor\n",
       "3    male       2       1       none\n",
       "4  female       3       2     lawyer"
      ]
     },
     "execution_count": 4,
     "metadata": {},
     "output_type": "execute_result"
    }
   ],
   "source": [
    "df.head()"
   ]
  },
  {
   "cell_type": "markdown",
   "metadata": {
    "slideshow": {
     "slide_type": "slide"
    }
   },
   "source": [
    "<center>\n",
    "<div style=\"display: table; clear: both;\">\n",
    "  <div style=\"float: left; width: 57%; padding: 10px;\">\n",
    "    <p><img src='field-guide.jpg'></td></tr></p>\n",
    "  </div>\n",
    "  <div style=\"float: left; width: 43%; padding: 10px;\">\n",
    "    <p><img src='stats-done-wrong.png'></p>\n",
    "  </div>\n",
    "</div>\n",
    "</center>"
   ]
  },
  {
   "cell_type": "markdown",
   "metadata": {
    "slideshow": {
     "slide_type": "slide"
    }
   },
   "source": [
    "# Data Wrangling\n",
    "\n",
    "- Data wrangling/manipulation/transformation has a large impact on the data used to answer questions with data.\n",
    "\n",
    "- Statistical and machine learning models are meaningful only if the data is meaningful.\n",
    "\n",
    "- Data wrangling/manipulation is one point in the data analysis process where decisions can introduce bias into the data.  Examples?"
   ]
  },
  {
   "cell_type": "markdown",
   "metadata": {
    "slideshow": {
     "slide_type": "slide"
    }
   },
   "source": [
    "<a href='https://www.nytimes.com/interactive/2019/01/11/us/politics/trump-border-crisis-reality.html'> <img src='nyttrump.png'> </img> </a>"
   ]
  },
  {
   "cell_type": "markdown",
   "metadata": {
    "slideshow": {
     "slide_type": "slide"
    }
   },
   "source": [
    "<img src=\"legal-immigration.png\" style=\"width: 70%;\"></img>"
   ]
  },
  {
   "cell_type": "markdown",
   "metadata": {
    "slideshow": {
     "slide_type": "slide"
    }
   },
   "source": [
    "<img src=\"nyttrumpfull.png\" style=\"width: 60%;\"></img>"
   ]
  },
  {
   "cell_type": "markdown",
   "metadata": {
    "hideCode": false,
    "hidePrompt": false,
    "slideshow": {
     "slide_type": "slide"
    }
   },
   "source": [
    "# Top 10 Lists from criterion.com\n",
    "\n",
    "The following list contains all top 10 lists from criterion.com, extracted computationnally with beautifulsoup (see Class 1)\n",
    "\n"
   ]
  },
  {
   "cell_type": "code",
   "execution_count": 11,
   "metadata": {
    "hideCode": false,
    "hidePrompt": false,
    "slideshow": {
     "slide_type": "-"
    }
   },
   "outputs": [
    {
     "data": {
      "text/html": [
       "<div>\n",
       "<style scoped>\n",
       "    .dataframe tbody tr th:only-of-type {\n",
       "        vertical-align: middle;\n",
       "    }\n",
       "\n",
       "    .dataframe tbody tr th {\n",
       "        vertical-align: top;\n",
       "    }\n",
       "\n",
       "    .dataframe thead th {\n",
       "        text-align: right;\n",
       "    }\n",
       "</style>\n",
       "<table border=\"1\" class=\"dataframe\">\n",
       "  <thead>\n",
       "    <tr style=\"text-align: right;\">\n",
       "      <th></th>\n",
       "      <th>author</th>\n",
       "      <th>director</th>\n",
       "      <th>ranks</th>\n",
       "      <th>title</th>\n",
       "    </tr>\n",
       "  </thead>\n",
       "  <tbody>\n",
       "    <tr>\n",
       "      <th>265</th>\n",
       "      <td>Ari Aster’s Top10</td>\n",
       "      <td>Kenji Mizoguchi</td>\n",
       "      <td>2</td>\n",
       "      <td>Ugetsu</td>\n",
       "    </tr>\n",
       "    <tr>\n",
       "      <th>266</th>\n",
       "      <td>Ari Aster’s Top10</td>\n",
       "      <td>Kenji Mizoguchi</td>\n",
       "      <td>2</td>\n",
       "      <td>Sansho the Bailiff</td>\n",
       "    </tr>\n",
       "    <tr>\n",
       "      <th>267</th>\n",
       "      <td>Ari Aster’s Top10</td>\n",
       "      <td>Kenji Mizoguchi</td>\n",
       "      <td>2</td>\n",
       "      <td>The Life of Oharu</td>\n",
       "    </tr>\n",
       "    <tr>\n",
       "      <th>268</th>\n",
       "      <td>Ari Aster’s Top10</td>\n",
       "      <td>Martin Scorsese</td>\n",
       "      <td>3</td>\n",
       "      <td>The Age of Innocence</td>\n",
       "    </tr>\n",
       "    <tr>\n",
       "      <th>269</th>\n",
       "      <td>Ari Aster’s Top10</td>\n",
       "      <td>Andrew Haigh</td>\n",
       "      <td>3</td>\n",
       "      <td>45 Years</td>\n",
       "    </tr>\n",
       "    <tr>\n",
       "      <th>270</th>\n",
       "      <td>Ari Aster’s Top10</td>\n",
       "      <td>Federico Fellini</td>\n",
       "      <td>4</td>\n",
       "      <td>8½</td>\n",
       "    </tr>\n",
       "    <tr>\n",
       "      <th>271</th>\n",
       "      <td>Ari Aster’s Top10</td>\n",
       "      <td>Mike Leigh</td>\n",
       "      <td>5</td>\n",
       "      <td>Topsy-Turvy</td>\n",
       "    </tr>\n",
       "    <tr>\n",
       "      <th>272</th>\n",
       "      <td>Ari Aster’s Top10</td>\n",
       "      <td>Mike Leigh</td>\n",
       "      <td>5</td>\n",
       "      <td>Naked</td>\n",
       "    </tr>\n",
       "    <tr>\n",
       "      <th>273</th>\n",
       "      <td>Ari Aster’s Top10</td>\n",
       "      <td>Michael Powell and Emeric Pressburger</td>\n",
       "      <td>6</td>\n",
       "      <td>The Red Shoes</td>\n",
       "    </tr>\n",
       "    <tr>\n",
       "      <th>274</th>\n",
       "      <td>Ari Aster’s Top10</td>\n",
       "      <td>Michael Powell and Emeric Pressburger</td>\n",
       "      <td>6</td>\n",
       "      <td>The Life and Death of Colonel Blimp</td>\n",
       "    </tr>\n",
       "  </tbody>\n",
       "</table>\n",
       "</div>"
      ],
      "text/plain": [
       "                author                               director  ranks  \\\n",
       "265  Ari Aster’s Top10                        Kenji Mizoguchi      2   \n",
       "266  Ari Aster’s Top10                        Kenji Mizoguchi      2   \n",
       "267  Ari Aster’s Top10                        Kenji Mizoguchi      2   \n",
       "268  Ari Aster’s Top10                        Martin Scorsese      3   \n",
       "269  Ari Aster’s Top10                           Andrew Haigh      3   \n",
       "270  Ari Aster’s Top10                       Federico Fellini      4   \n",
       "271  Ari Aster’s Top10                             Mike Leigh      5   \n",
       "272  Ari Aster’s Top10                             Mike Leigh      5   \n",
       "273  Ari Aster’s Top10  Michael Powell and Emeric Pressburger      6   \n",
       "274  Ari Aster’s Top10  Michael Powell and Emeric Pressburger      6   \n",
       "\n",
       "                                   title  \n",
       "265                               Ugetsu  \n",
       "266                   Sansho the Bailiff  \n",
       "267                    The Life of Oharu  \n",
       "268                 The Age of Innocence  \n",
       "269                             45 Years  \n",
       "270                                   8½  \n",
       "271                          Topsy-Turvy  \n",
       "272                                Naked  \n",
       "273                        The Red Shoes  \n",
       "274  The Life and Death of Colonel Blimp  "
      ]
     },
     "execution_count": 11,
     "metadata": {},
     "output_type": "execute_result"
    }
   ],
   "source": [
    "import pandas as pd\n",
    "\n",
    "df = pd.read_csv('top10-lists.csv')\n",
    "df.shape\n",
    "df[265:275]"
   ]
  },
  {
   "cell_type": "markdown",
   "metadata": {
    "slideshow": {
     "slide_type": "-"
    }
   },
   "source": [
    "Is the data usable as is?"
   ]
  },
  {
   "cell_type": "markdown",
   "metadata": {
    "slideshow": {
     "slide_type": "slide"
    }
   },
   "source": [
    "# pandas"
   ]
  },
  {
   "cell_type": "markdown",
   "metadata": {
    "slideshow": {
     "slide_type": "slide"
    }
   },
   "source": [
    "# Series\n",
    "\n",
    "A Series is a one-dimensional array-like object containing a sequence of values (of similar types to NumPy types) and an associated array of data labels, called its index. The simplest Series is formed from only an array of data."
   ]
  },
  {
   "cell_type": "code",
   "execution_count": 209,
   "metadata": {
    "slideshow": {
     "slide_type": "-"
    }
   },
   "outputs": [
    {
     "name": "stdout",
     "output_type": "stream",
     "text": [
      "0     8.40\n",
      "1     6.11\n",
      "2    53.40\n",
      "3    20.10\n",
      "dtype: float64\n"
     ]
    },
    {
     "data": {
      "text/plain": [
       "All About Eve                   8.40\n",
       "A Woman Under the Influence     6.11\n",
       "RoboCop                        53.40\n",
       "Mulholland Dr.                 20.10\n",
       "dtype: float64"
      ]
     },
     "execution_count": 209,
     "metadata": {},
     "output_type": "execute_result"
    }
   ],
   "source": [
    "import pandas as pd\n",
    "\n",
    "myseries = pd.Series([8.4, 6.11, 53.4, 20.1])\n",
    "print(myseries)\n",
    "movies = ['All About Eve', 'A Woman Under the Influence', 'RoboCop', 'Mulholland Dr.']\n",
    "myseries.index = movies\n",
    "myseries"
   ]
  },
  {
   "cell_type": "markdown",
   "metadata": {
    "slideshow": {
     "slide_type": "slide"
    }
   },
   "source": [
    "# pandas DataFrame\n",
    "\n",
    "- A DataFrame represents a rectangular table of data and contains an ordered collection of columns, each of which can be a different value type (numeric, string, boolean, etc.). \n",
    "\n",
    "- The DataFrame has both a row and column index; it can be thought of as a dict of Series all sharing the same index.\n",
    "\n",
    "- Under the hood, the data is stored as one or more two-dimensional blocks rather than a list, dict, or some other collection of one-dimensional arrays. \n",
    "\n",
    "(McKinney, 2018 and [pandas ref](https://pandas.pydata.org))"
   ]
  },
  {
   "cell_type": "code",
   "execution_count": 210,
   "metadata": {
    "slideshow": {
     "slide_type": "-"
    }
   },
   "outputs": [
    {
     "data": {
      "text/html": [
       "<div>\n",
       "<style scoped>\n",
       "    .dataframe tbody tr th:only-of-type {\n",
       "        vertical-align: middle;\n",
       "    }\n",
       "\n",
       "    .dataframe tbody tr th {\n",
       "        vertical-align: top;\n",
       "    }\n",
       "\n",
       "    .dataframe thead th {\n",
       "        text-align: right;\n",
       "    }\n",
       "</style>\n",
       "<table border=\"1\" class=\"dataframe\">\n",
       "  <thead>\n",
       "    <tr style=\"text-align: right;\">\n",
       "      <th></th>\n",
       "      <th>movie</th>\n",
       "      <th>box_office</th>\n",
       "      <th>year</th>\n",
       "    </tr>\n",
       "  </thead>\n",
       "  <tbody>\n",
       "    <tr>\n",
       "      <th>0</th>\n",
       "      <td>All About Eve</td>\n",
       "      <td>8.40</td>\n",
       "      <td>1950</td>\n",
       "    </tr>\n",
       "    <tr>\n",
       "      <th>1</th>\n",
       "      <td>A Woman Under the Influence</td>\n",
       "      <td>6.11</td>\n",
       "      <td>1974</td>\n",
       "    </tr>\n",
       "    <tr>\n",
       "      <th>2</th>\n",
       "      <td>RoboCop</td>\n",
       "      <td>53.40</td>\n",
       "      <td>1987</td>\n",
       "    </tr>\n",
       "    <tr>\n",
       "      <th>3</th>\n",
       "      <td>Mulholland Dr.</td>\n",
       "      <td>20.10</td>\n",
       "      <td>2001</td>\n",
       "    </tr>\n",
       "  </tbody>\n",
       "</table>\n",
       "</div>"
      ],
      "text/plain": [
       "                         movie  box_office  year\n",
       "0                All About Eve        8.40  1950\n",
       "1  A Woman Under the Influence        6.11  1974\n",
       "2                      RoboCop       53.40  1987\n",
       "3               Mulholland Dr.       20.10  2001"
      ]
     },
     "execution_count": 210,
     "metadata": {},
     "output_type": "execute_result"
    }
   ],
   "source": [
    "# a dict of equal length lists\n",
    "movies = {'movie':['All About Eve', 'A Woman Under the Influence', 'RoboCop', 'Mulholland Dr.'], \n",
    "          'box_office': [8.4, 6.11, 53.4, 20.1],\n",
    "         'year': [1950, 1974, 1987, 2001]}\n",
    "df = pd.DataFrame(movies)\n",
    "df"
   ]
  },
  {
   "cell_type": "markdown",
   "metadata": {
    "slideshow": {
     "slide_type": "slide"
    }
   },
   "source": [
    "- pandas can read and write data in many types of formats (text, binary, SQL) that are stored as csv, json, html, etc.  (see [IO tools](http://pandas.pydata.org/pandas-docs/stable/io.html) )\n",
    "\n",
    "- For example, `read_html` accepts an HTML string/file/URL and will parse an HTML tables into a list of pandas DataFrames."
   ]
  },
  {
   "cell_type": "code",
   "execution_count": 25,
   "metadata": {
    "slideshow": {
     "slide_type": "-"
    }
   },
   "outputs": [
    {
     "data": {
      "text/html": [
       "<div>\n",
       "<style scoped>\n",
       "    .dataframe tbody tr th:only-of-type {\n",
       "        vertical-align: middle;\n",
       "    }\n",
       "\n",
       "    .dataframe tbody tr th {\n",
       "        vertical-align: top;\n",
       "    }\n",
       "\n",
       "    .dataframe thead th {\n",
       "        text-align: right;\n",
       "    }\n",
       "</style>\n",
       "<table border=\"1\" class=\"dataframe\">\n",
       "  <thead>\n",
       "    <tr style=\"text-align: right;\">\n",
       "      <th></th>\n",
       "      <th>Rank</th>\n",
       "      <th>Title</th>\n",
       "      <th>Worldwide gross (2019 $)</th>\n",
       "      <th>Year</th>\n",
       "    </tr>\n",
       "  </thead>\n",
       "  <tbody>\n",
       "    <tr>\n",
       "      <th>0</th>\n",
       "      <td>1</td>\n",
       "      <td>Gone with the Wind</td>\n",
       "      <td>$3,713,000,000</td>\n",
       "      <td>1939</td>\n",
       "    </tr>\n",
       "    <tr>\n",
       "      <th>1</th>\n",
       "      <td>2</td>\n",
       "      <td>Avatar</td>\n",
       "      <td>$3,263,000,000</td>\n",
       "      <td>2009</td>\n",
       "    </tr>\n",
       "    <tr>\n",
       "      <th>2</th>\n",
       "      <td>3</td>\n",
       "      <td>Titanic</td>\n",
       "      <td>T$3,087,000,000</td>\n",
       "      <td>1997</td>\n",
       "    </tr>\n",
       "    <tr>\n",
       "      <th>3</th>\n",
       "      <td>4</td>\n",
       "      <td>Star Wars</td>\n",
       "      <td>$3,049,000,000</td>\n",
       "      <td>1977</td>\n",
       "    </tr>\n",
       "    <tr>\n",
       "      <th>4</th>\n",
       "      <td>5</td>\n",
       "      <td>Avengers: Endgame</td>\n",
       "      <td>AE$2,798,000,000</td>\n",
       "      <td>2019</td>\n",
       "    </tr>\n",
       "  </tbody>\n",
       "</table>\n",
       "</div>"
      ],
      "text/plain": [
       "   Rank               Title Worldwide gross (2019 $)  Year\n",
       "0     1  Gone with the Wind           $3,713,000,000  1939\n",
       "1     2              Avatar           $3,263,000,000  2009\n",
       "2     3             Titanic          T$3,087,000,000  1997\n",
       "3     4           Star Wars           $3,049,000,000  1977\n",
       "4     5   Avengers: Endgame         AE$2,798,000,000  2019"
      ]
     },
     "execution_count": 25,
     "metadata": {},
     "output_type": "execute_result"
    }
   ],
   "source": [
    "url = 'https://en.wikipedia.org/wiki/List_of_highest-grossing_films'\n",
    "df = pd.read_html(url, header=0)\n",
    "movies = df[1]  # select table of movies\n",
    "movies.head()"
   ]
  },
  {
   "cell_type": "markdown",
   "metadata": {
    "slideshow": {
     "slide_type": "slide"
    }
   },
   "source": [
    "# Filtering rows (observations)\n",
    "\n",
    "- Select the top 10 movies.\n",
    "\n",
    "- `movies[0:10]` retains only the top 10 rows.\n",
    "\n",
    "- This uses the \"slice\" syntax."
   ]
  },
  {
   "cell_type": "code",
   "execution_count": 212,
   "metadata": {
    "scrolled": true,
    "slideshow": {
     "slide_type": "-"
    }
   },
   "outputs": [
    {
     "data": {
      "text/html": [
       "<div>\n",
       "<style scoped>\n",
       "    .dataframe tbody tr th:only-of-type {\n",
       "        vertical-align: middle;\n",
       "    }\n",
       "\n",
       "    .dataframe tbody tr th {\n",
       "        vertical-align: top;\n",
       "    }\n",
       "\n",
       "    .dataframe thead th {\n",
       "        text-align: right;\n",
       "    }\n",
       "</style>\n",
       "<table border=\"1\" class=\"dataframe\">\n",
       "  <thead>\n",
       "    <tr style=\"text-align: right;\">\n",
       "      <th></th>\n",
       "      <th>Rank</th>\n",
       "      <th>Title</th>\n",
       "      <th>Worldwide gross (2019 $)</th>\n",
       "      <th>Year</th>\n",
       "    </tr>\n",
       "  </thead>\n",
       "  <tbody>\n",
       "    <tr>\n",
       "      <th>0</th>\n",
       "      <td>1</td>\n",
       "      <td>Gone with the Wind</td>\n",
       "      <td>$3,713,000,000</td>\n",
       "      <td>1939</td>\n",
       "    </tr>\n",
       "    <tr>\n",
       "      <th>1</th>\n",
       "      <td>2</td>\n",
       "      <td>Avatar</td>\n",
       "      <td>$3,263,000,000</td>\n",
       "      <td>2009</td>\n",
       "    </tr>\n",
       "    <tr>\n",
       "      <th>2</th>\n",
       "      <td>3</td>\n",
       "      <td>Titanic</td>\n",
       "      <td>T$3,087,000,000</td>\n",
       "      <td>1997</td>\n",
       "    </tr>\n",
       "    <tr>\n",
       "      <th>3</th>\n",
       "      <td>4</td>\n",
       "      <td>Star Wars: Episode IV – A New Hope</td>\n",
       "      <td>$3,049,000,000</td>\n",
       "      <td>1977</td>\n",
       "    </tr>\n",
       "    <tr>\n",
       "      <th>4</th>\n",
       "      <td>5</td>\n",
       "      <td>Avengers: Endgame</td>\n",
       "      <td>AE$2,798,000,000</td>\n",
       "      <td>2019</td>\n",
       "    </tr>\n",
       "    <tr>\n",
       "      <th>5</th>\n",
       "      <td>6</td>\n",
       "      <td>The Sound of Music</td>\n",
       "      <td>$2,554,000,000</td>\n",
       "      <td>1965</td>\n",
       "    </tr>\n",
       "    <tr>\n",
       "      <th>6</th>\n",
       "      <td>7</td>\n",
       "      <td>E.T. the Extra-Terrestrial</td>\n",
       "      <td>$2,493,000,000</td>\n",
       "      <td>1982</td>\n",
       "    </tr>\n",
       "    <tr>\n",
       "      <th>7</th>\n",
       "      <td>8</td>\n",
       "      <td>The Ten Commandments</td>\n",
       "      <td>$2,361,000,000</td>\n",
       "      <td>1956</td>\n",
       "    </tr>\n",
       "    <tr>\n",
       "      <th>8</th>\n",
       "      <td>9</td>\n",
       "      <td>Doctor Zhivago</td>\n",
       "      <td>$2,238,000,000</td>\n",
       "      <td>1965</td>\n",
       "    </tr>\n",
       "    <tr>\n",
       "      <th>9</th>\n",
       "      <td>10</td>\n",
       "      <td>Star Wars: Episode VII – The Force Awakens</td>\n",
       "      <td>$2,206,000,000</td>\n",
       "      <td>2015</td>\n",
       "    </tr>\n",
       "  </tbody>\n",
       "</table>\n",
       "</div>"
      ],
      "text/plain": [
       "   Rank                                       Title Worldwide gross (2019 $)  \\\n",
       "0     1                          Gone with the Wind           $3,713,000,000   \n",
       "1     2                                      Avatar           $3,263,000,000   \n",
       "2     3                                     Titanic          T$3,087,000,000   \n",
       "3     4          Star Wars: Episode IV – A New Hope           $3,049,000,000   \n",
       "4     5                           Avengers: Endgame         AE$2,798,000,000   \n",
       "5     6                          The Sound of Music           $2,554,000,000   \n",
       "6     7                  E.T. the Extra-Terrestrial           $2,493,000,000   \n",
       "7     8                        The Ten Commandments           $2,361,000,000   \n",
       "8     9                              Doctor Zhivago           $2,238,000,000   \n",
       "9    10  Star Wars: Episode VII – The Force Awakens           $2,206,000,000   \n",
       "\n",
       "   Year  \n",
       "0  1939  \n",
       "1  2009  \n",
       "2  1997  \n",
       "3  1977  \n",
       "4  2019  \n",
       "5  1965  \n",
       "6  1982  \n",
       "7  1956  \n",
       "8  1965  \n",
       "9  2015  "
      ]
     },
     "execution_count": 212,
     "metadata": {},
     "output_type": "execute_result"
    }
   ],
   "source": [
    "movies[0:10]"
   ]
  },
  {
   "cell_type": "markdown",
   "metadata": {
    "slideshow": {
     "slide_type": "-"
    }
   },
   "source": [
    "**Exercise:** \n",
    "- Remove the top row\n",
    "- Retain the movies ranked between 5 and 10 only"
   ]
  },
  {
   "cell_type": "markdown",
   "metadata": {
    "slideshow": {
     "slide_type": "slide"
    }
   },
   "source": [
    "Use `.loc` to select by row index and column name.  What is the title of the movie of rank 10?"
   ]
  },
  {
   "cell_type": "code",
   "execution_count": 213,
   "metadata": {
    "slideshow": {
     "slide_type": "-"
    }
   },
   "outputs": [
    {
     "data": {
      "text/plain": [
       "'Star Wars: Episode VII – The Force Awakens'"
      ]
     },
     "execution_count": 213,
     "metadata": {},
     "output_type": "execute_result"
    }
   ],
   "source": [
    "movies.loc[9, 'Title']"
   ]
  },
  {
   "cell_type": "markdown",
   "metadata": {
    "slideshow": {
     "slide_type": "slide"
    }
   },
   "source": [
    "Modify values in place using `.loc`."
   ]
  },
  {
   "cell_type": "code",
   "execution_count": 29,
   "metadata": {
    "slideshow": {
     "slide_type": "-"
    }
   },
   "outputs": [
    {
     "data": {
      "text/plain": [
       "'Star Wars VII'"
      ]
     },
     "execution_count": 29,
     "metadata": {},
     "output_type": "execute_result"
    }
   ],
   "source": [
    "## Write the code to replace the title of the movie at row index 9 with \"Star Wars VII\"\n",
    "\n",
    "movies.loc[9, 'Title'] = \"Star Wars VII\"\n",
    "movies.loc[9, 'Title']"
   ]
  },
  {
   "cell_type": "markdown",
   "metadata": {
    "slideshow": {
     "slide_type": "slide"
    }
   },
   "source": [
    "We can also select rows using integers with `iloc`.  The 2nd column has index value 1."
   ]
  },
  {
   "cell_type": "code",
   "execution_count": 30,
   "metadata": {
    "slideshow": {
     "slide_type": "-"
    }
   },
   "outputs": [
    {
     "data": {
      "text/plain": [
       "'Star Wars VII'"
      ]
     },
     "execution_count": 30,
     "metadata": {},
     "output_type": "execute_result"
    }
   ],
   "source": [
    "## Write the code to access row index 9 and column title, using indexes only\n",
    "\n",
    "movies.iloc[9, 1]"
   ]
  },
  {
   "cell_type": "markdown",
   "metadata": {
    "slideshow": {
     "slide_type": "slide"
    }
   },
   "source": [
    "We can also use boolean logic to select rows."
   ]
  },
  {
   "cell_type": "code",
   "execution_count": 33,
   "metadata": {
    "slideshow": {
     "slide_type": "-"
    }
   },
   "outputs": [
    {
     "data": {
      "text/html": [
       "<div>\n",
       "<style scoped>\n",
       "    .dataframe tbody tr th:only-of-type {\n",
       "        vertical-align: middle;\n",
       "    }\n",
       "\n",
       "    .dataframe tbody tr th {\n",
       "        vertical-align: top;\n",
       "    }\n",
       "\n",
       "    .dataframe thead th {\n",
       "        text-align: right;\n",
       "    }\n",
       "</style>\n",
       "<table border=\"1\" class=\"dataframe\">\n",
       "  <thead>\n",
       "    <tr style=\"text-align: right;\">\n",
       "      <th></th>\n",
       "      <th>Rank</th>\n",
       "      <th>Title</th>\n",
       "      <th>Worldwide gross (2019 $)</th>\n",
       "      <th>Year</th>\n",
       "    </tr>\n",
       "  </thead>\n",
       "  <tbody>\n",
       "    <tr>\n",
       "      <th>2</th>\n",
       "      <td>3</td>\n",
       "      <td>Titanic</td>\n",
       "      <td>T$3,087,000,000</td>\n",
       "      <td>1997</td>\n",
       "    </tr>\n",
       "    <tr>\n",
       "      <th>3</th>\n",
       "      <td>4</td>\n",
       "      <td>Star Wars</td>\n",
       "      <td>$3,049,000,000</td>\n",
       "      <td>1977</td>\n",
       "    </tr>\n",
       "    <tr>\n",
       "      <th>5</th>\n",
       "      <td>6</td>\n",
       "      <td>The Sound of Music</td>\n",
       "      <td>$2,554,000,000</td>\n",
       "      <td>1965</td>\n",
       "    </tr>\n",
       "    <tr>\n",
       "      <th>6</th>\n",
       "      <td>7</td>\n",
       "      <td>E.T. the Extra-Terrestrial</td>\n",
       "      <td>$2,493,000,000</td>\n",
       "      <td>1982</td>\n",
       "    </tr>\n",
       "    <tr>\n",
       "      <th>7</th>\n",
       "      <td>8</td>\n",
       "      <td>The Ten Commandments</td>\n",
       "      <td>$2,361,000,000</td>\n",
       "      <td>1956</td>\n",
       "    </tr>\n",
       "    <tr>\n",
       "      <th>8</th>\n",
       "      <td>9</td>\n",
       "      <td>Doctor Zhivago</td>\n",
       "      <td>$2,238,000,000</td>\n",
       "      <td>1965</td>\n",
       "    </tr>\n",
       "  </tbody>\n",
       "</table>\n",
       "</div>"
      ],
      "text/plain": [
       "   Rank                       Title Worldwide gross (2019 $)  Year\n",
       "2     3                     Titanic          T$3,087,000,000  1997\n",
       "3     4                   Star Wars           $3,049,000,000  1977\n",
       "5     6          The Sound of Music           $2,554,000,000  1965\n",
       "6     7  E.T. the Extra-Terrestrial           $2,493,000,000  1982\n",
       "7     8        The Ten Commandments           $2,361,000,000  1956\n",
       "8     9              Doctor Zhivago           $2,238,000,000  1965"
      ]
     },
     "execution_count": 33,
     "metadata": {},
     "output_type": "execute_result"
    }
   ],
   "source": [
    "# Extend the code to keep only movies whose year is also before 2000.\n",
    "\n",
    "movies[(pd.to_numeric(movies['Year']) >= 1950)  &  (pd.to_numeric(movies['Year']) < 2000)]"
   ]
  },
  {
   "cell_type": "markdown",
   "metadata": {
    "slideshow": {
     "slide_type": "slide"
    }
   },
   "source": [
    "# Selecting variables (columns)\n",
    "\n",
    "\n",
    "- `movies['Title']` returns a pandas series (i.e., data frame with one column)."
   ]
  },
  {
   "cell_type": "code",
   "execution_count": 216,
   "metadata": {
    "slideshow": {
     "slide_type": "-"
    }
   },
   "outputs": [
    {
     "data": {
      "text/plain": [
       "0                    Gone with the Wind\n",
       "1                                Avatar\n",
       "2                               Titanic\n",
       "3    Star Wars: Episode IV – A New Hope\n",
       "4                     Avengers: Endgame\n",
       "Name: Title, dtype: object"
      ]
     },
     "execution_count": 216,
     "metadata": {},
     "output_type": "execute_result"
    }
   ],
   "source": [
    "movies['Title'].head()"
   ]
  },
  {
   "cell_type": "markdown",
   "metadata": {
    "slideshow": {
     "slide_type": "slide"
    }
   },
   "source": [
    "# Creating New Variables\n",
    "\n",
    "Suppose we want to add a new variable to the data frame to indicate if a movie's gross is over $2.5 millions."
   ]
  },
  {
   "cell_type": "code",
   "execution_count": 35,
   "metadata": {
    "slideshow": {
     "slide_type": "-"
    }
   },
   "outputs": [
    {
     "data": {
      "text/plain": [
       "Index(['Rank', 'Title', 'Gross', 'Year'], dtype='object')"
      ]
     },
     "execution_count": 35,
     "metadata": {},
     "output_type": "execute_result"
    }
   ],
   "source": [
    "# We start by renaming the coloum\n",
    "\n",
    "movies.rename(columns={'Worldwide gross (2019 $)':'Gross'}, \n",
    "                 inplace=True)\n",
    "movies.columns"
   ]
  },
  {
   "cell_type": "code",
   "execution_count": 36,
   "metadata": {
    "slideshow": {
     "slide_type": "-"
    }
   },
   "outputs": [
    {
     "data": {
      "text/plain": [
       "count                  10\n",
       "unique                 10\n",
       "top       T$3,087,000,000\n",
       "freq                    1\n",
       "Name: Gross, dtype: object"
      ]
     },
     "execution_count": 36,
     "metadata": {},
     "output_type": "execute_result"
    }
   ],
   "source": [
    "movies['Gross'].describe()"
   ]
  },
  {
   "cell_type": "code",
   "execution_count": 47,
   "metadata": {
    "slideshow": {
     "slide_type": "slide"
    }
   },
   "outputs": [],
   "source": [
    "movies['Gross'] = (movies['Gross']\n",
    " .replace('\\$|,|T|AE','', regex = True)   # remove unwanted characters\n",
    " .astype(int))                            # set the type to integer\n"
   ]
  },
  {
   "cell_type": "code",
   "execution_count": 48,
   "metadata": {
    "slideshow": {
     "slide_type": "slide"
    }
   },
   "outputs": [
    {
     "data": {
      "text/html": [
       "<div>\n",
       "<style scoped>\n",
       "    .dataframe tbody tr th:only-of-type {\n",
       "        vertical-align: middle;\n",
       "    }\n",
       "\n",
       "    .dataframe tbody tr th {\n",
       "        vertical-align: top;\n",
       "    }\n",
       "\n",
       "    .dataframe thead th {\n",
       "        text-align: right;\n",
       "    }\n",
       "</style>\n",
       "<table border=\"1\" class=\"dataframe\">\n",
       "  <thead>\n",
       "    <tr style=\"text-align: right;\">\n",
       "      <th></th>\n",
       "      <th>Rank</th>\n",
       "      <th>Title</th>\n",
       "      <th>Gross</th>\n",
       "      <th>Year</th>\n",
       "    </tr>\n",
       "  </thead>\n",
       "  <tbody>\n",
       "    <tr>\n",
       "      <th>0</th>\n",
       "      <td>1</td>\n",
       "      <td>Gone with the Wind</td>\n",
       "      <td>3713000000</td>\n",
       "      <td>1939</td>\n",
       "    </tr>\n",
       "    <tr>\n",
       "      <th>1</th>\n",
       "      <td>2</td>\n",
       "      <td>Avatar</td>\n",
       "      <td>3263000000</td>\n",
       "      <td>2009</td>\n",
       "    </tr>\n",
       "    <tr>\n",
       "      <th>2</th>\n",
       "      <td>3</td>\n",
       "      <td>Titanic</td>\n",
       "      <td>3087000000</td>\n",
       "      <td>1997</td>\n",
       "    </tr>\n",
       "    <tr>\n",
       "      <th>3</th>\n",
       "      <td>4</td>\n",
       "      <td>Star Wars</td>\n",
       "      <td>3049000000</td>\n",
       "      <td>1977</td>\n",
       "    </tr>\n",
       "    <tr>\n",
       "      <th>4</th>\n",
       "      <td>5</td>\n",
       "      <td>Avengers: Endgame</td>\n",
       "      <td>2798000000</td>\n",
       "      <td>2019</td>\n",
       "    </tr>\n",
       "    <tr>\n",
       "      <th>5</th>\n",
       "      <td>6</td>\n",
       "      <td>The Sound of Music</td>\n",
       "      <td>2554000000</td>\n",
       "      <td>1965</td>\n",
       "    </tr>\n",
       "    <tr>\n",
       "      <th>6</th>\n",
       "      <td>7</td>\n",
       "      <td>E.T. the Extra-Terrestrial</td>\n",
       "      <td>2493000000</td>\n",
       "      <td>1982</td>\n",
       "    </tr>\n",
       "    <tr>\n",
       "      <th>7</th>\n",
       "      <td>8</td>\n",
       "      <td>The Ten Commandments</td>\n",
       "      <td>2361000000</td>\n",
       "      <td>1956</td>\n",
       "    </tr>\n",
       "    <tr>\n",
       "      <th>8</th>\n",
       "      <td>9</td>\n",
       "      <td>Doctor Zhivago</td>\n",
       "      <td>2238000000</td>\n",
       "      <td>1965</td>\n",
       "    </tr>\n",
       "    <tr>\n",
       "      <th>9</th>\n",
       "      <td>10</td>\n",
       "      <td>Star Wars VII</td>\n",
       "      <td>2206000000</td>\n",
       "      <td>2015</td>\n",
       "    </tr>\n",
       "  </tbody>\n",
       "</table>\n",
       "</div>"
      ],
      "text/plain": [
       "   Rank                       Title       Gross  Year\n",
       "0     1          Gone with the Wind  3713000000  1939\n",
       "1     2                      Avatar  3263000000  2009\n",
       "2     3                     Titanic  3087000000  1997\n",
       "3     4                   Star Wars  3049000000  1977\n",
       "4     5           Avengers: Endgame  2798000000  2019\n",
       "5     6          The Sound of Music  2554000000  1965\n",
       "6     7  E.T. the Extra-Terrestrial  2493000000  1982\n",
       "7     8        The Ten Commandments  2361000000  1956\n",
       "8     9              Doctor Zhivago  2238000000  1965\n",
       "9    10               Star Wars VII  2206000000  2015"
      ]
     },
     "execution_count": 48,
     "metadata": {},
     "output_type": "execute_result"
    }
   ],
   "source": [
    "movies[movies['Gross'] >= 2500000]"
   ]
  },
  {
   "cell_type": "markdown",
   "metadata": {
    "slideshow": {
     "slide_type": "slide"
    }
   },
   "source": [
    "# Movies in 2019\n",
    "\n",
    "**Questions:** \n",
    "\n",
    "- What is the distribution of box office revenue in 2019 for American Movies?\n",
    "- What are the genres generating the most revenue?\n",
    "- Is there a relationship between the ratings from imdb and metacritic? \n",
    "\n",
    "The Wikipedia page [American films of 2019](https://en.wikipedia.org/wiki/List_of_American_films_of_2019) lists American films in 2019.\n",
    "\n",
    "<img src='film-2019.png' height=\"500\" width=\"600\" ></img>\n"
   ]
  },
  {
   "cell_type": "code",
   "execution_count": 49,
   "metadata": {
    "slideshow": {
     "slide_type": "slide"
    }
   },
   "outputs": [
    {
     "data": {
      "text/html": [
       "<div>\n",
       "<style scoped>\n",
       "    .dataframe tbody tr th:only-of-type {\n",
       "        vertical-align: middle;\n",
       "    }\n",
       "\n",
       "    .dataframe tbody tr th {\n",
       "        vertical-align: top;\n",
       "    }\n",
       "\n",
       "    .dataframe thead th {\n",
       "        text-align: right;\n",
       "    }\n",
       "</style>\n",
       "<table border=\"1\" class=\"dataframe\">\n",
       "  <thead>\n",
       "    <tr style=\"text-align: right;\">\n",
       "      <th></th>\n",
       "      <th>Opening</th>\n",
       "      <th>Opening.1</th>\n",
       "      <th>Title</th>\n",
       "      <th>Production company</th>\n",
       "      <th>Cast and crew</th>\n",
       "      <th>Genre</th>\n",
       "      <th>Ref.</th>\n",
       "    </tr>\n",
       "  </thead>\n",
       "  <tbody>\n",
       "    <tr>\n",
       "      <th>0</th>\n",
       "      <td>JANUARY</td>\n",
       "      <td>4</td>\n",
       "      <td>Escape Room</td>\n",
       "      <td>Columbia Pictures</td>\n",
       "      <td>Adam Robitel (director); Bragi F. Schut, Maria...</td>\n",
       "      <td>Horror, Thriller, Mystery</td>\n",
       "      <td>[2]</td>\n",
       "    </tr>\n",
       "    <tr>\n",
       "      <th>1</th>\n",
       "      <td>JANUARY</td>\n",
       "      <td>4</td>\n",
       "      <td>Rust Creek</td>\n",
       "      <td>IFC Films</td>\n",
       "      <td>Jen McGowan (director); Julie Lipson (screenpl...</td>\n",
       "      <td>Drama, Thriller, Horror</td>\n",
       "      <td>[3]</td>\n",
       "    </tr>\n",
       "    <tr>\n",
       "      <th>2</th>\n",
       "      <td>JANUARY</td>\n",
       "      <td>4</td>\n",
       "      <td>American Hangman</td>\n",
       "      <td>Hangman Justice Productions</td>\n",
       "      <td>Wilson Coneybeare (director/screenplay); Donal...</td>\n",
       "      <td>Thriller</td>\n",
       "      <td>[4]</td>\n",
       "    </tr>\n",
       "    <tr>\n",
       "      <th>3</th>\n",
       "      <td>JANUARY</td>\n",
       "      <td>11</td>\n",
       "      <td>A Dog's Way Home</td>\n",
       "      <td>Columbia Pictures</td>\n",
       "      <td>Charles Martin Smith (director); W. Bruce Came...</td>\n",
       "      <td>Drama, Family</td>\n",
       "      <td>[5]</td>\n",
       "    </tr>\n",
       "  </tbody>\n",
       "</table>\n",
       "</div>"
      ],
      "text/plain": [
       "   Opening  Opening.1             Title           Production company  \\\n",
       "0  JANUARY          4       Escape Room            Columbia Pictures   \n",
       "1  JANUARY          4        Rust Creek                    IFC Films   \n",
       "2  JANUARY          4  American Hangman  Hangman Justice Productions   \n",
       "3  JANUARY         11  A Dog's Way Home            Columbia Pictures   \n",
       "\n",
       "                                       Cast and crew  \\\n",
       "0  Adam Robitel (director); Bragi F. Schut, Maria...   \n",
       "1  Jen McGowan (director); Julie Lipson (screenpl...   \n",
       "2  Wilson Coneybeare (director/screenplay); Donal...   \n",
       "3  Charles Martin Smith (director); W. Bruce Came...   \n",
       "\n",
       "                       Genre Ref.  \n",
       "0  Horror, Thriller, Mystery  [2]  \n",
       "1    Drama, Thriller, Horror  [3]  \n",
       "2                   Thriller  [4]  \n",
       "3              Drama, Family  [5]  "
      ]
     },
     "execution_count": 49,
     "metadata": {},
     "output_type": "execute_result"
    }
   ],
   "source": [
    "import pandas as pd\n",
    "url = 'https://en.wikipedia.org/wiki/List_of_American_films_of_2019'\n",
    "df = pd.read_html(url, attrs = {\"class\":\"wikitable sortable\"})\n",
    "df[0].head(4)"
   ]
  },
  {
   "cell_type": "markdown",
   "metadata": {
    "slideshow": {
     "slide_type": "-"
    }
   },
   "source": [
    "**Exercise:** Extract all of the genres listed in the table."
   ]
  },
  {
   "cell_type": "markdown",
   "metadata": {
    "slideshow": {
     "slide_type": "slide"
    }
   },
   "source": [
    "# Movies awarded a Palme d'Or\n",
    "\n",
    "The Wikipedia Page [Palme d'Or](https://en.wikipedia.org/wiki/Palme_d%27Or) lists Palme d'Or-winning films.\n",
    "\n",
    "<img src='plamedor.png' height=\"500\" width=\"600\" ></img>"
   ]
  },
  {
   "cell_type": "code",
   "execution_count": 12,
   "metadata": {
    "slideshow": {
     "slide_type": "slide"
    }
   },
   "outputs": [
    {
     "data": {
      "text/html": [
       "<div>\n",
       "<style scoped>\n",
       "    .dataframe tbody tr th:only-of-type {\n",
       "        vertical-align: middle;\n",
       "    }\n",
       "\n",
       "    .dataframe tbody tr th {\n",
       "        vertical-align: top;\n",
       "    }\n",
       "\n",
       "    .dataframe thead th {\n",
       "        text-align: right;\n",
       "    }\n",
       "</style>\n",
       "<table border=\"1\" class=\"dataframe\">\n",
       "  <thead>\n",
       "    <tr style=\"text-align: right;\">\n",
       "      <th></th>\n",
       "      <th>Year</th>\n",
       "      <th>Film</th>\n",
       "      <th>Original title</th>\n",
       "      <th>Director(s)</th>\n",
       "      <th>Country</th>\n",
       "    </tr>\n",
       "  </thead>\n",
       "  <tbody>\n",
       "    <tr>\n",
       "      <th>0</th>\n",
       "      <td>1930s</td>\n",
       "      <td>1930s</td>\n",
       "      <td>1930s</td>\n",
       "      <td>1930s</td>\n",
       "      <td>1930s</td>\n",
       "    </tr>\n",
       "    <tr>\n",
       "      <th>1</th>\n",
       "      <td>Awarded as \"Grand Prix du Festival Internation...</td>\n",
       "      <td>Awarded as \"Grand Prix du Festival Internation...</td>\n",
       "      <td>Awarded as \"Grand Prix du Festival Internation...</td>\n",
       "      <td>Awarded as \"Grand Prix du Festival Internation...</td>\n",
       "      <td>Awarded as \"Grand Prix du Festival Internation...</td>\n",
       "    </tr>\n",
       "    <tr>\n",
       "      <th>2</th>\n",
       "      <td>1939 ‡</td>\n",
       "      <td>Union Pacific</td>\n",
       "      <td>Union Pacific</td>\n",
       "      <td>Cecil B. DeMille</td>\n",
       "      <td>USA</td>\n",
       "    </tr>\n",
       "    <tr>\n",
       "      <th>3</th>\n",
       "      <td>1940s</td>\n",
       "      <td>1940s</td>\n",
       "      <td>1940s</td>\n",
       "      <td>1940s</td>\n",
       "      <td>1940s</td>\n",
       "    </tr>\n",
       "    <tr>\n",
       "      <th>4</th>\n",
       "      <td>1940–1945</td>\n",
       "      <td>No awards due to World War II.</td>\n",
       "      <td>No awards due to World War II.</td>\n",
       "      <td>No awards due to World War II.</td>\n",
       "      <td>No awards due to World War II.</td>\n",
       "    </tr>\n",
       "    <tr>\n",
       "      <th>5</th>\n",
       "      <td>1946</td>\n",
       "      <td>The Turning Point</td>\n",
       "      <td>Velikij perelom / Великий перелом</td>\n",
       "      <td>Fridrikh Ermler</td>\n",
       "      <td>USSR</td>\n",
       "    </tr>\n",
       "    <tr>\n",
       "      <th>6</th>\n",
       "      <td>1946</td>\n",
       "      <td>Men Without Wings</td>\n",
       "      <td>Muži bez křídel</td>\n",
       "      <td>František Čáp</td>\n",
       "      <td>Czechoslovakia</td>\n",
       "    </tr>\n",
       "    <tr>\n",
       "      <th>7</th>\n",
       "      <td>1946</td>\n",
       "      <td>The Last Chance</td>\n",
       "      <td>Die Letzte Chance</td>\n",
       "      <td>Leopold Lindtberg</td>\n",
       "      <td>Switzerland</td>\n",
       "    </tr>\n",
       "    <tr>\n",
       "      <th>8</th>\n",
       "      <td>1946</td>\n",
       "      <td>Torment</td>\n",
       "      <td>Hets</td>\n",
       "      <td>Alf Sjöberg</td>\n",
       "      <td>Sweden</td>\n",
       "    </tr>\n",
       "    <tr>\n",
       "      <th>9</th>\n",
       "      <td>1946</td>\n",
       "      <td>Portrait of Maria</td>\n",
       "      <td>María Candelaria</td>\n",
       "      <td>Emilio Fernández</td>\n",
       "      <td>Mexico</td>\n",
       "    </tr>\n",
       "  </tbody>\n",
       "</table>\n",
       "</div>"
      ],
      "text/plain": [
       "                                                Year  \\\n",
       "0                                              1930s   \n",
       "1  Awarded as \"Grand Prix du Festival Internation...   \n",
       "2                                             1939 ‡   \n",
       "3                                              1940s   \n",
       "4                                          1940–1945   \n",
       "5                                               1946   \n",
       "6                                               1946   \n",
       "7                                               1946   \n",
       "8                                               1946   \n",
       "9                                               1946   \n",
       "\n",
       "                                                Film  \\\n",
       "0                                              1930s   \n",
       "1  Awarded as \"Grand Prix du Festival Internation...   \n",
       "2                                      Union Pacific   \n",
       "3                                              1940s   \n",
       "4                     No awards due to World War II.   \n",
       "5                                  The Turning Point   \n",
       "6                                  Men Without Wings   \n",
       "7                                    The Last Chance   \n",
       "8                                            Torment   \n",
       "9                                  Portrait of Maria   \n",
       "\n",
       "                                      Original title  \\\n",
       "0                                              1930s   \n",
       "1  Awarded as \"Grand Prix du Festival Internation...   \n",
       "2                                      Union Pacific   \n",
       "3                                              1940s   \n",
       "4                     No awards due to World War II.   \n",
       "5                  Velikij perelom / Великий перелом   \n",
       "6                                    Muži bez křídel   \n",
       "7                                  Die Letzte Chance   \n",
       "8                                               Hets   \n",
       "9                                   María Candelaria   \n",
       "\n",
       "                                         Director(s)  \\\n",
       "0                                              1930s   \n",
       "1  Awarded as \"Grand Prix du Festival Internation...   \n",
       "2                                   Cecil B. DeMille   \n",
       "3                                              1940s   \n",
       "4                     No awards due to World War II.   \n",
       "5                                    Fridrikh Ermler   \n",
       "6                                      František Čáp   \n",
       "7                                  Leopold Lindtberg   \n",
       "8                                        Alf Sjöberg   \n",
       "9                                   Emilio Fernández   \n",
       "\n",
       "                                             Country  \n",
       "0                                              1930s  \n",
       "1  Awarded as \"Grand Prix du Festival Internation...  \n",
       "2                                                USA  \n",
       "3                                              1940s  \n",
       "4                     No awards due to World War II.  \n",
       "5                                               USSR  \n",
       "6                                     Czechoslovakia  \n",
       "7                                        Switzerland  \n",
       "8                                             Sweden  \n",
       "9                                             Mexico  "
      ]
     },
     "execution_count": 12,
     "metadata": {},
     "output_type": "execute_result"
    }
   ],
   "source": [
    "url = 'https://en.wikipedia.org/wiki/Palme_d%27Or'\n",
    "df = pd.read_html(url, header=0)\n",
    "movies = df[1]  # select table of movies\n",
    "movies.head(10)"
   ]
  },
  {
   "cell_type": "markdown",
   "metadata": {
    "slideshow": {
     "slide_type": "slide"
    }
   },
   "source": [
    "- `read_html` didn't parse the table properly.\n",
    "\n",
    ">Expect to do some cleanup after you call this function. For example, you might need to manually assign column names if the column names are converted to NaN when you pass the header=0 argument. We try to assume as little as possible about the structure of the table and push the idiosyncrasies of the HTML contained in the table to the user (see `pandas.read_html` [API ref](https://pandas.pydata.org/pandas-docs/stable/reference/api/pandas.read_html.html)).\n",
    "\n",
    "- Cleaning this table requires selecting rows manually. "
   ]
  },
  {
   "cell_type": "code",
   "execution_count": 50,
   "metadata": {
    "slideshow": {
     "slide_type": "slide"
    }
   },
   "outputs": [
    {
     "data": {
      "text/html": [
       "<div>\n",
       "<style scoped>\n",
       "    .dataframe tbody tr th:only-of-type {\n",
       "        vertical-align: middle;\n",
       "    }\n",
       "\n",
       "    .dataframe tbody tr th {\n",
       "        vertical-align: top;\n",
       "    }\n",
       "\n",
       "    .dataframe thead th {\n",
       "        text-align: right;\n",
       "    }\n",
       "</style>\n",
       "<table border=\"1\" class=\"dataframe\">\n",
       "  <thead>\n",
       "    <tr style=\"text-align: right;\">\n",
       "      <th></th>\n",
       "      <th>Rank</th>\n",
       "      <th>Title</th>\n",
       "      <th>Gross</th>\n",
       "      <th>Year</th>\n",
       "    </tr>\n",
       "  </thead>\n",
       "  <tbody>\n",
       "    <tr>\n",
       "      <th>1</th>\n",
       "      <td>2</td>\n",
       "      <td>Avatar</td>\n",
       "      <td>3263000000</td>\n",
       "      <td>2009</td>\n",
       "    </tr>\n",
       "    <tr>\n",
       "      <th>2</th>\n",
       "      <td>3</td>\n",
       "      <td>Titanic</td>\n",
       "      <td>3087000000</td>\n",
       "      <td>1997</td>\n",
       "    </tr>\n",
       "    <tr>\n",
       "      <th>3</th>\n",
       "      <td>4</td>\n",
       "      <td>Star Wars</td>\n",
       "      <td>3049000000</td>\n",
       "      <td>1977</td>\n",
       "    </tr>\n",
       "    <tr>\n",
       "      <th>4</th>\n",
       "      <td>5</td>\n",
       "      <td>Avengers: Endgame</td>\n",
       "      <td>2798000000</td>\n",
       "      <td>2019</td>\n",
       "    </tr>\n",
       "    <tr>\n",
       "      <th>5</th>\n",
       "      <td>6</td>\n",
       "      <td>The Sound of Music</td>\n",
       "      <td>2554000000</td>\n",
       "      <td>1965</td>\n",
       "    </tr>\n",
       "    <tr>\n",
       "      <th>6</th>\n",
       "      <td>7</td>\n",
       "      <td>E.T. the Extra-Terrestrial</td>\n",
       "      <td>2493000000</td>\n",
       "      <td>1982</td>\n",
       "    </tr>\n",
       "    <tr>\n",
       "      <th>7</th>\n",
       "      <td>8</td>\n",
       "      <td>The Ten Commandments</td>\n",
       "      <td>2361000000</td>\n",
       "      <td>1956</td>\n",
       "    </tr>\n",
       "    <tr>\n",
       "      <th>8</th>\n",
       "      <td>9</td>\n",
       "      <td>Doctor Zhivago</td>\n",
       "      <td>2238000000</td>\n",
       "      <td>1965</td>\n",
       "    </tr>\n",
       "    <tr>\n",
       "      <th>9</th>\n",
       "      <td>10</td>\n",
       "      <td>Star Wars VII</td>\n",
       "      <td>2206000000</td>\n",
       "      <td>2015</td>\n",
       "    </tr>\n",
       "  </tbody>\n",
       "</table>\n",
       "</div>"
      ],
      "text/plain": [
       "   Rank                       Title       Gross  Year\n",
       "1     2                      Avatar  3263000000  2009\n",
       "2     3                     Titanic  3087000000  1997\n",
       "3     4                   Star Wars  3049000000  1977\n",
       "4     5           Avengers: Endgame  2798000000  2019\n",
       "5     6          The Sound of Music  2554000000  1965\n",
       "6     7  E.T. the Extra-Terrestrial  2493000000  1982\n",
       "7     8        The Ten Commandments  2361000000  1956\n",
       "8     9              Doctor Zhivago  2238000000  1965\n",
       "9    10               Star Wars VII  2206000000  2015"
      ]
     },
     "execution_count": 50,
     "metadata": {},
     "output_type": "execute_result"
    }
   ],
   "source": [
    "# remove the first row\n",
    "movies[1:]"
   ]
  },
  {
   "cell_type": "code",
   "execution_count": 234,
   "metadata": {
    "slideshow": {
     "slide_type": "slide"
    }
   },
   "outputs": [
    {
     "data": {
      "text/html": [
       "<div>\n",
       "<style scoped>\n",
       "    .dataframe tbody tr th:only-of-type {\n",
       "        vertical-align: middle;\n",
       "    }\n",
       "\n",
       "    .dataframe tbody tr th {\n",
       "        vertical-align: top;\n",
       "    }\n",
       "\n",
       "    .dataframe thead th {\n",
       "        text-align: right;\n",
       "    }\n",
       "</style>\n",
       "<table border=\"1\" class=\"dataframe\">\n",
       "  <thead>\n",
       "    <tr style=\"text-align: right;\">\n",
       "      <th></th>\n",
       "      <th>Year</th>\n",
       "      <th>Film</th>\n",
       "      <th>Original title</th>\n",
       "      <th>Director(s)</th>\n",
       "      <th>Country</th>\n",
       "    </tr>\n",
       "  </thead>\n",
       "  <tbody>\n",
       "    <tr>\n",
       "      <th>2</th>\n",
       "      <td>1939 ‡</td>\n",
       "      <td>Union Pacific</td>\n",
       "      <td>Union Pacific</td>\n",
       "      <td>Cecil B. DeMille</td>\n",
       "      <td>USA</td>\n",
       "    </tr>\n",
       "    <tr>\n",
       "      <th>5</th>\n",
       "      <td>1946</td>\n",
       "      <td>The Turning Point</td>\n",
       "      <td>Velikij perelom / Великий перелом</td>\n",
       "      <td>Fridrikh Ermler</td>\n",
       "      <td>USSR</td>\n",
       "    </tr>\n",
       "    <tr>\n",
       "      <th>6</th>\n",
       "      <td>1946</td>\n",
       "      <td>Men Without Wings</td>\n",
       "      <td>Muži bez křídel</td>\n",
       "      <td>František Čáp</td>\n",
       "      <td>Czechoslovakia</td>\n",
       "    </tr>\n",
       "    <tr>\n",
       "      <th>7</th>\n",
       "      <td>1946</td>\n",
       "      <td>The Last Chance</td>\n",
       "      <td>Die Letzte Chance</td>\n",
       "      <td>Leopold Lindtberg</td>\n",
       "      <td>Switzerland</td>\n",
       "    </tr>\n",
       "    <tr>\n",
       "      <th>8</th>\n",
       "      <td>1946</td>\n",
       "      <td>Torment</td>\n",
       "      <td>Hets</td>\n",
       "      <td>Alf Sjöberg</td>\n",
       "      <td>Sweden</td>\n",
       "    </tr>\n",
       "    <tr>\n",
       "      <th>...</th>\n",
       "      <td>...</td>\n",
       "      <td>...</td>\n",
       "      <td>...</td>\n",
       "      <td>...</td>\n",
       "      <td>...</td>\n",
       "    </tr>\n",
       "    <tr>\n",
       "      <th>102</th>\n",
       "      <td>2015</td>\n",
       "      <td>Dheepan</td>\n",
       "      <td>Dheepan</td>\n",
       "      <td>Jacques Audiard</td>\n",
       "      <td>France</td>\n",
       "    </tr>\n",
       "    <tr>\n",
       "      <th>103</th>\n",
       "      <td>2016</td>\n",
       "      <td>I, Daniel Blake</td>\n",
       "      <td>I, Daniel Blake</td>\n",
       "      <td>Ken Loach</td>\n",
       "      <td>United Kingdom France</td>\n",
       "    </tr>\n",
       "    <tr>\n",
       "      <th>104</th>\n",
       "      <td>2017</td>\n",
       "      <td>The Square</td>\n",
       "      <td>The Square</td>\n",
       "      <td>Ruben Östlund</td>\n",
       "      <td>Sweden Germany France Denmark</td>\n",
       "    </tr>\n",
       "    <tr>\n",
       "      <th>105</th>\n",
       "      <td>2018</td>\n",
       "      <td>Shoplifters</td>\n",
       "      <td>Manbiki kazoku / 万引き家族</td>\n",
       "      <td>Hirokazu Kore-eda</td>\n",
       "      <td>Japan</td>\n",
       "    </tr>\n",
       "    <tr>\n",
       "      <th>106</th>\n",
       "      <td>2019</td>\n",
       "      <td>Parasite §</td>\n",
       "      <td>Gisaengchung / 기생충</td>\n",
       "      <td>Bong Joon-ho</td>\n",
       "      <td>South Korea</td>\n",
       "    </tr>\n",
       "  </tbody>\n",
       "</table>\n",
       "<p>92 rows × 5 columns</p>\n",
       "</div>"
      ],
      "text/plain": [
       "       Year               Film                     Original title  \\\n",
       "2    1939 ‡      Union Pacific                      Union Pacific   \n",
       "5      1946  The Turning Point  Velikij perelom / Великий перелом   \n",
       "6      1946  Men Without Wings                    Muži bez křídel   \n",
       "7      1946    The Last Chance                  Die Letzte Chance   \n",
       "8      1946            Torment                               Hets   \n",
       "..      ...                ...                                ...   \n",
       "102    2015            Dheepan                            Dheepan   \n",
       "103    2016    I, Daniel Blake                    I, Daniel Blake   \n",
       "104    2017         The Square                         The Square   \n",
       "105    2018        Shoplifters             Manbiki kazoku / 万引き家族   \n",
       "106    2019         Parasite §                 Gisaengchung / 기생충   \n",
       "\n",
       "           Director(s)                        Country  \n",
       "2     Cecil B. DeMille                            USA  \n",
       "5      Fridrikh Ermler                           USSR  \n",
       "6        František Čáp                 Czechoslovakia  \n",
       "7    Leopold Lindtberg                    Switzerland  \n",
       "8          Alf Sjöberg                         Sweden  \n",
       "..                 ...                            ...  \n",
       "102    Jacques Audiard                         France  \n",
       "103          Ken Loach          United Kingdom France  \n",
       "104      Ruben Östlund  Sweden Germany France Denmark  \n",
       "105  Hirokazu Kore-eda                          Japan  \n",
       "106       Bong Joon-ho                    South Korea  \n",
       "\n",
       "[92 rows x 5 columns]"
      ]
     },
     "execution_count": 234,
     "metadata": {},
     "output_type": "execute_result"
    }
   ],
   "source": [
    "# Remove the rows where Country contains \"No awards\" & The rows where movie Year != movie name\n",
    "movies[(~movies.Country.str.contains(\"No awards\")) & (movies.Year != movies.Film)]"
   ]
  },
  {
   "cell_type": "markdown",
   "metadata": {
    "slideshow": {
     "slide_type": "slide"
    }
   },
   "source": [
    "# Award-winning movies\n",
    "\n",
    "The Wikipedia Page [Cannes Film Festival Award for Best Director](https://en.wikipedia.org/wiki/Cannes_Film_Festival_Award_for_Best_Director) lists award-winning movies for best director.\n",
    "\n",
    "<img src='cannes.png' height=\"500\" width=\"600\" ></img>"
   ]
  },
  {
   "cell_type": "code",
   "execution_count": 151,
   "metadata": {
    "slideshow": {
     "slide_type": "slide"
    }
   },
   "outputs": [
    {
     "data": {
      "text/html": [
       "<div>\n",
       "<style scoped>\n",
       "    .dataframe tbody tr th:only-of-type {\n",
       "        vertical-align: middle;\n",
       "    }\n",
       "\n",
       "    .dataframe tbody tr th {\n",
       "        vertical-align: top;\n",
       "    }\n",
       "\n",
       "    .dataframe thead th {\n",
       "        text-align: right;\n",
       "    }\n",
       "</style>\n",
       "<table border=\"1\" class=\"dataframe\">\n",
       "  <thead>\n",
       "    <tr style=\"text-align: right;\">\n",
       "      <th></th>\n",
       "      <th>Year</th>\n",
       "      <th>Director</th>\n",
       "      <th>Film</th>\n",
       "      <th>Original Title</th>\n",
       "      <th>Country</th>\n",
       "    </tr>\n",
       "  </thead>\n",
       "  <tbody>\n",
       "    <tr>\n",
       "      <th>0</th>\n",
       "      <td>1940s</td>\n",
       "      <td>1940s</td>\n",
       "      <td>1940s</td>\n",
       "      <td>1940s</td>\n",
       "      <td>1940s</td>\n",
       "    </tr>\n",
       "    <tr>\n",
       "      <th>1</th>\n",
       "      <td>1946</td>\n",
       "      <td>René Clément</td>\n",
       "      <td>The Battle of the Rails</td>\n",
       "      <td>La Bataille du rail</td>\n",
       "      <td>France</td>\n",
       "    </tr>\n",
       "    <tr>\n",
       "      <th>2</th>\n",
       "      <td>1947</td>\n",
       "      <td>no award</td>\n",
       "      <td>no award</td>\n",
       "      <td>no award</td>\n",
       "      <td>no award</td>\n",
       "    </tr>\n",
       "    <tr>\n",
       "      <th>3</th>\n",
       "      <td>1949</td>\n",
       "      <td>René Clément</td>\n",
       "      <td>The Walls of Malapaga</td>\n",
       "      <td>Au-delà des grilles</td>\n",
       "      <td>France</td>\n",
       "    </tr>\n",
       "    <tr>\n",
       "      <th>4</th>\n",
       "      <td>1950s</td>\n",
       "      <td>1950s</td>\n",
       "      <td>1950s</td>\n",
       "      <td>1950s</td>\n",
       "      <td>1950s</td>\n",
       "    </tr>\n",
       "  </tbody>\n",
       "</table>\n",
       "</div>"
      ],
      "text/plain": [
       "    Year      Director                     Film       Original Title   Country\n",
       "0  1940s         1940s                    1940s                1940s     1940s\n",
       "1   1946  René Clément  The Battle of the Rails  La Bataille du rail    France\n",
       "2   1947      no award                 no award             no award  no award\n",
       "3   1949  René Clément    The Walls of Malapaga  Au-delà des grilles    France\n",
       "4  1950s         1950s                    1950s                1950s     1950s"
      ]
     },
     "execution_count": 151,
     "metadata": {},
     "output_type": "execute_result"
    }
   ],
   "source": [
    "url = 'https://en.wikipedia.org/wiki/Cannes_Film_Festival_Award_for_Best_Director'\n",
    "df = pd.read_html(url, header=0)\n",
    "awards = df[0]  # select table of movies\n",
    "awards.head()"
   ]
  },
  {
   "cell_type": "code",
   "execution_count": 146,
   "metadata": {
    "slideshow": {
     "slide_type": "slide"
    }
   },
   "outputs": [
    {
     "data": {
      "text/plain": [
       "['The Battle of the Rails',\n",
       " 'La Bataille du rail',\n",
       " 'The Walls of Malapaga',\n",
       " 'Au-delà des grilles',\n",
       " 'The Young and the Damned',\n",
       " 'Los Olvidados',\n",
       " 'Fanfan la Tulipe',\n",
       " 'Rififi',\n",
       " 'Du rififi chez les hommes',\n",
       " 'Heroes of Shipka',\n",
       " '(Geroi Shipki)',\n",
       " 'Othello',\n",
       " 'Отелло',\n",
       " 'A Man Escaped or: The Wind Bloweth Where It Listeth',\n",
       " \"Un condamné à mort s'est échappé ou Le vent souffle où il veut\",\n",
       " 'Brink of Life',\n",
       " 'Nära livet',\n",
       " 'The 400 Blows',\n",
       " 'Les Quatre Cents Coups',\n",
       " 'The Story of the Flaming Years',\n",
       " '(Povest plamennykh let)',\n",
       " 'Forest of the Hanged',\n",
       " 'Pădurea spânzuraților',\n",
       " 'Lenin in Poland',\n",
       " '(Lenin v Polshe)',\n",
       " 'Ten Thousand Days',\n",
       " 'Tízezer nap',\n",
       " 'Antonio das Mortes',\n",
       " 'O Dragão da Maldade contra o Santo Guerreiro',\n",
       " 'All My Compatriots',\n",
       " 'Všichni dobří rodáci',\n",
       " 'Leo the Last',\n",
       " 'Red Psalm',\n",
       " 'Még kér a nép',\n",
       " 'Orderers',\n",
       " 'Les Ordres',\n",
       " 'Special Section',\n",
       " 'Section spéciale',\n",
       " 'Down and Dirty',\n",
       " 'Brutti, sporchi e cattivi',\n",
       " 'Empire of Passion',\n",
       " 'Ai no Bōrei',\n",
       " 'Days of Heaven',\n",
       " 'Fitzcarraldo',\n",
       " 'Money',\n",
       " \"L'Argent\",\n",
       " 'Nostalgia',\n",
       " 'Nostalghia',\n",
       " 'A Sunday in the Country',\n",
       " 'Un dimanche à la campagne',\n",
       " 'Rendez-vous',\n",
       " 'After Hours',\n",
       " 'Wings of Desire',\n",
       " 'Der Himmel über Berlin',\n",
       " 'South',\n",
       " 'Sur',\n",
       " 'Time of the Gypsies',\n",
       " 'Dom za vešanje)',\n",
       " 'Taxi Blues',\n",
       " '(Taksi-Blyuz)',\n",
       " 'Barton Fink',\n",
       " 'The Player',\n",
       " 'Naked',\n",
       " 'Dear Diary',\n",
       " 'Caro diario',\n",
       " 'Hate',\n",
       " 'La Haine',\n",
       " 'Fargo',\n",
       " 'Happy Together',\n",
       " '(Ceon gwong za sit)',\n",
       " 'The General',\n",
       " 'All About My Mother',\n",
       " 'Todo sobre mi madre',\n",
       " 'A One and a Two',\n",
       " 'Yi Yi)',\n",
       " \"The Man Who Wasn't There\",\n",
       " 'Mulholland Drive',\n",
       " 'Painted Fire',\n",
       " 'Chi-hwa-seon)',\n",
       " 'Punch-Drunk Love',\n",
       " 'Elephant',\n",
       " 'Exiles',\n",
       " 'Hidden',\n",
       " 'Caché',\n",
       " 'Babel',\n",
       " 'The Diving Bell and the Butterfly',\n",
       " 'Le Scaphandre et le Papillon',\n",
       " 'Three Monkeys',\n",
       " 'Üç Maymun',\n",
       " 'Butchered',\n",
       " 'Kinatay',\n",
       " 'On Tour',\n",
       " 'Tournée',\n",
       " 'Drive',\n",
       " 'Post Tenebras Lux',\n",
       " 'Heli',\n",
       " 'Foxcatcher',\n",
       " 'The Assassin',\n",
       " 'Cìkè Niè Yǐnniáng)',\n",
       " 'Graduation',\n",
       " 'Bacalaureat',\n",
       " 'Personal Shopper',\n",
       " 'The Beguiled',\n",
       " 'Cold War',\n",
       " 'Zimna wojna',\n",
       " 'Young Ahmed',\n",
       " 'Le Jeune Ahmed',\n",
       " \"Palme d'Or\",\n",
       " \"Palme d'Or\"]"
      ]
     },
     "execution_count": 146,
     "metadata": {},
     "output_type": "execute_result"
    }
   ],
   "source": [
    "# we just want the movie names\n",
    "from urllib.request import urlopen\n",
    "from bs4 import BeautifulSoup\n",
    "\n",
    "webpage = 'https://en.wikipedia.org/wiki/Cannes_Film_Festival_Award_for_Best_Director'\n",
    "page = urlopen(webpage)\n",
    "soup = BeautifulSoup(page, 'html.parser')\n",
    "\n",
    "# css selection \n",
    "# select all <i> tag elements within <td> within <tr> elements \n",
    "# within <tbody> elements see \n",
    "# https://www.w3schools.com/cssref/css_selectors.asp \n",
    "\n",
    "movie=soup.select('tbody tr td i') \n",
    "type(movie) # returns a list of <i> tag elements on the page\n",
    "\n",
    "# extract text part of tag using \n",
    "# list comprehension\n",
    "names = [m.get_text() for m in movie] \n",
    "\n",
    "# by inspection we see rows 25:291\n",
    "# correspond to movie names\n",
    "\n",
    "names"
   ]
  },
  {
   "cell_type": "markdown",
   "metadata": {
    "slideshow": {
     "slide_type": "slide"
    }
   },
   "source": [
    "<a href=\"https://pypi.org/project/omdb/\"><img src=\"omdb.png\" style=\"width:75%;\"> </img></a>"
   ]
  },
  {
   "cell_type": "markdown",
   "metadata": {
    "slideshow": {
     "slide_type": "slide"
    }
   },
   "source": [
    "Install Python package [omdb](https://pypi.org/project/omdb/) using `pip` or access the API directly."
   ]
  },
  {
   "cell_type": "code",
   "execution_count": 175,
   "metadata": {},
   "outputs": [
    {
     "data": {
      "text/plain": [
       "{'title': 'RoboCop',\n",
       " 'year': '1987',\n",
       " 'rated': 'R',\n",
       " 'released': '17 Jul 1987',\n",
       " 'runtime': '102 min',\n",
       " 'genre': 'Action, Crime, Sci-Fi, Thriller',\n",
       " 'director': 'Paul Verhoeven',\n",
       " 'writer': 'Edward Neumeier, Michael Miner',\n",
       " 'actors': \"Peter Weller, Nancy Allen, Dan O'Herlihy, Ronny Cox\",\n",
       " 'plot': 'In a dystopic and crime-ridden Detroit, a terminally wounded cop returns to the force as a powerful cyborg haunted by submerged memories.',\n",
       " 'language': 'English',\n",
       " 'country': 'USA',\n",
       " 'awards': 'Nominated for 2 Oscars. Another 11 wins & 10 nominations.',\n",
       " 'poster': 'https://m.media-amazon.com/images/M/MV5BZWVlYzU2ZjQtZmNkMi00OTc3LTkwZmYtZDVjNmY4OWFmZGJlXkEyXkFqcGdeQXVyMTQxNzMzNDI@._V1_SX300.jpg',\n",
       " 'ratings': [{'source': 'Internet Movie Database', 'value': '7.5/10'},\n",
       "  {'source': 'Rotten Tomatoes', 'value': '89%'},\n",
       "  {'source': 'Metacritic', 'value': '67/100'}],\n",
       " 'metascore': '67',\n",
       " 'imdb_rating': '7.5',\n",
       " 'imdb_votes': '219,592',\n",
       " 'imdb_id': 'tt0093870',\n",
       " 'type': 'movie',\n",
       " 'dvd': '02 Oct 2001',\n",
       " 'box_office': 'N/A',\n",
       " 'production': 'Orion Pictures Corporation',\n",
       " 'website': 'N/A',\n",
       " 'response': 'True'}"
      ]
     },
     "execution_count": 175,
     "metadata": {},
     "output_type": "execute_result"
    }
   ],
   "source": [
    "#install omdb using pip\n",
    "\n",
    "import omdb\n",
    "\n",
    "API_KEY = '' #fill in your key here\n",
    "\n",
    "omdb.set_default('apikey', API_KEY)\n",
    "movie1 = omdb.title('Robocop')\n",
    "movie1 #returns a dict"
   ]
  },
  {
   "cell_type": "code",
   "execution_count": 176,
   "metadata": {
    "slideshow": {
     "slide_type": "slide"
    }
   },
   "outputs": [
    {
     "name": "stdout",
     "output_type": "stream",
     "text": [
      "Peter Weller, Nancy Allen, Dan O'Herlihy, Ronny Cox \n",
      " \n",
      " N/A\n"
     ]
    }
   ],
   "source": [
    "print(movie1['actors'], '\\n \\n', movie1['box_office'])"
   ]
  },
  {
   "cell_type": "code",
   "execution_count": 177,
   "metadata": {
    "slideshow": {
     "slide_type": "slide"
    }
   },
   "outputs": [
    {
     "data": {
      "text/html": [
       "<div>\n",
       "<style scoped>\n",
       "    .dataframe tbody tr th:only-of-type {\n",
       "        vertical-align: middle;\n",
       "    }\n",
       "\n",
       "    .dataframe tbody tr th {\n",
       "        vertical-align: top;\n",
       "    }\n",
       "\n",
       "    .dataframe thead th {\n",
       "        text-align: right;\n",
       "    }\n",
       "</style>\n",
       "<table border=\"1\" class=\"dataframe\">\n",
       "  <thead>\n",
       "    <tr style=\"text-align: right;\">\n",
       "      <th></th>\n",
       "      <th>title</th>\n",
       "      <th>year</th>\n",
       "      <th>rated</th>\n",
       "      <th>released</th>\n",
       "      <th>runtime</th>\n",
       "      <th>genre</th>\n",
       "      <th>director</th>\n",
       "      <th>writer</th>\n",
       "      <th>actors</th>\n",
       "      <th>plot</th>\n",
       "      <th>...</th>\n",
       "      <th>metascore</th>\n",
       "      <th>imdb_rating</th>\n",
       "      <th>imdb_votes</th>\n",
       "      <th>imdb_id</th>\n",
       "      <th>type</th>\n",
       "      <th>dvd</th>\n",
       "      <th>box_office</th>\n",
       "      <th>production</th>\n",
       "      <th>website</th>\n",
       "      <th>response</th>\n",
       "    </tr>\n",
       "  </thead>\n",
       "  <tbody>\n",
       "    <tr>\n",
       "      <th>0</th>\n",
       "      <td>RoboCop</td>\n",
       "      <td>1987</td>\n",
       "      <td>R</td>\n",
       "      <td>17 Jul 1987</td>\n",
       "      <td>102 min</td>\n",
       "      <td>Action, Crime, Sci-Fi, Thriller</td>\n",
       "      <td>Paul Verhoeven</td>\n",
       "      <td>Edward Neumeier, Michael Miner</td>\n",
       "      <td>Peter Weller, Nancy Allen, Dan O'Herlihy, Ronn...</td>\n",
       "      <td>In a dystopic and crime-ridden Detroit, a term...</td>\n",
       "      <td>...</td>\n",
       "      <td>67</td>\n",
       "      <td>7.5</td>\n",
       "      <td>219,592</td>\n",
       "      <td>tt0093870</td>\n",
       "      <td>movie</td>\n",
       "      <td>02 Oct 2001</td>\n",
       "      <td>N/A</td>\n",
       "      <td>Orion Pictures Corporation</td>\n",
       "      <td>N/A</td>\n",
       "      <td>True</td>\n",
       "    </tr>\n",
       "    <tr>\n",
       "      <th>1</th>\n",
       "      <td>RoboCop</td>\n",
       "      <td>1987</td>\n",
       "      <td>R</td>\n",
       "      <td>17 Jul 1987</td>\n",
       "      <td>102 min</td>\n",
       "      <td>Action, Crime, Sci-Fi, Thriller</td>\n",
       "      <td>Paul Verhoeven</td>\n",
       "      <td>Edward Neumeier, Michael Miner</td>\n",
       "      <td>Peter Weller, Nancy Allen, Dan O'Herlihy, Ronn...</td>\n",
       "      <td>In a dystopic and crime-ridden Detroit, a term...</td>\n",
       "      <td>...</td>\n",
       "      <td>67</td>\n",
       "      <td>7.5</td>\n",
       "      <td>219,592</td>\n",
       "      <td>tt0093870</td>\n",
       "      <td>movie</td>\n",
       "      <td>02 Oct 2001</td>\n",
       "      <td>N/A</td>\n",
       "      <td>Orion Pictures Corporation</td>\n",
       "      <td>N/A</td>\n",
       "      <td>True</td>\n",
       "    </tr>\n",
       "    <tr>\n",
       "      <th>2</th>\n",
       "      <td>RoboCop</td>\n",
       "      <td>1987</td>\n",
       "      <td>R</td>\n",
       "      <td>17 Jul 1987</td>\n",
       "      <td>102 min</td>\n",
       "      <td>Action, Crime, Sci-Fi, Thriller</td>\n",
       "      <td>Paul Verhoeven</td>\n",
       "      <td>Edward Neumeier, Michael Miner</td>\n",
       "      <td>Peter Weller, Nancy Allen, Dan O'Herlihy, Ronn...</td>\n",
       "      <td>In a dystopic and crime-ridden Detroit, a term...</td>\n",
       "      <td>...</td>\n",
       "      <td>67</td>\n",
       "      <td>7.5</td>\n",
       "      <td>219,592</td>\n",
       "      <td>tt0093870</td>\n",
       "      <td>movie</td>\n",
       "      <td>02 Oct 2001</td>\n",
       "      <td>N/A</td>\n",
       "      <td>Orion Pictures Corporation</td>\n",
       "      <td>N/A</td>\n",
       "      <td>True</td>\n",
       "    </tr>\n",
       "  </tbody>\n",
       "</table>\n",
       "<p>3 rows × 25 columns</p>\n",
       "</div>"
      ],
      "text/plain": [
       "     title  year rated     released  runtime                            genre  \\\n",
       "0  RoboCop  1987     R  17 Jul 1987  102 min  Action, Crime, Sci-Fi, Thriller   \n",
       "1  RoboCop  1987     R  17 Jul 1987  102 min  Action, Crime, Sci-Fi, Thriller   \n",
       "2  RoboCop  1987     R  17 Jul 1987  102 min  Action, Crime, Sci-Fi, Thriller   \n",
       "\n",
       "         director                          writer  \\\n",
       "0  Paul Verhoeven  Edward Neumeier, Michael Miner   \n",
       "1  Paul Verhoeven  Edward Neumeier, Michael Miner   \n",
       "2  Paul Verhoeven  Edward Neumeier, Michael Miner   \n",
       "\n",
       "                                              actors  \\\n",
       "0  Peter Weller, Nancy Allen, Dan O'Herlihy, Ronn...   \n",
       "1  Peter Weller, Nancy Allen, Dan O'Herlihy, Ronn...   \n",
       "2  Peter Weller, Nancy Allen, Dan O'Herlihy, Ronn...   \n",
       "\n",
       "                                                plot  ... metascore  \\\n",
       "0  In a dystopic and crime-ridden Detroit, a term...  ...        67   \n",
       "1  In a dystopic and crime-ridden Detroit, a term...  ...        67   \n",
       "2  In a dystopic and crime-ridden Detroit, a term...  ...        67   \n",
       "\n",
       "  imdb_rating imdb_votes    imdb_id   type          dvd box_office  \\\n",
       "0         7.5    219,592  tt0093870  movie  02 Oct 2001        N/A   \n",
       "1         7.5    219,592  tt0093870  movie  02 Oct 2001        N/A   \n",
       "2         7.5    219,592  tt0093870  movie  02 Oct 2001        N/A   \n",
       "\n",
       "                   production website response  \n",
       "0  Orion Pictures Corporation     N/A     True  \n",
       "1  Orion Pictures Corporation     N/A     True  \n",
       "2  Orion Pictures Corporation     N/A     True  \n",
       "\n",
       "[3 rows x 25 columns]"
      ]
     },
     "execution_count": 177,
     "metadata": {},
     "output_type": "execute_result"
    }
   ],
   "source": [
    "# easy to import directly into pandas\n",
    "import pandas as pd\n",
    "pd.DataFrame(movie1)"
   ]
  }
 ],
 "metadata": {
  "celltoolbar": "Slideshow",
  "hide_code_all_hidden": false,
  "kernelspec": {
   "display_name": "Python 3",
   "language": "python",
   "name": "python3"
  },
  "language_info": {
   "codemirror_mode": {
    "name": "ipython",
    "version": 3
   },
   "file_extension": ".py",
   "mimetype": "text/x-python",
   "name": "python",
   "nbconvert_exporter": "python",
   "pygments_lexer": "ipython3",
   "version": "3.7.6"
  }
 },
 "nbformat": 4,
 "nbformat_minor": 2
}
