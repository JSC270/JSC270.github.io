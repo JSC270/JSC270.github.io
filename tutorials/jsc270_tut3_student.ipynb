{
 "cells": [
  {
   "cell_type": "markdown",
   "metadata": {},
   "source": [
    "# JSC270S - Tutorial \\#3 : Design, Conduct and Analyse a Survey\n",
    "\n",
    "## Profs. F. Chevalier and N. Taback\n",
    "\n",
    "\n",
    "## Date: January 30, 2019\n",
    "## Time: 12:00 - 14:00\n",
    "## Location: BA 3175\n",
    "\n",
    "\n",
    "****\n",
    "## Instructions\n",
    "\n",
    "- This tutorial comprises two parts. <font color='blue'>**In the first part, you will work with a tutorial partner. The second part is individual.**</font>\n",
    "\n",
    "- Make a copy of this notebook.\n",
    "\n",
    "- The notebook should be named: jsc270_tut3_answers_lastname_studentnumber, where \"lastname\" is your last name, and \"studentnumber\" is your UofT student number. <font color='blue'>**While you will work in pairs during the tutorial, both of your team members should commit the same notebook in their Github classroom repositority separately.**.</font>\n",
    "\n",
    "- Answer the questions in the cells that indicate where your answers should be placed. Leave the initial comment in the code cell and heading (indicated by `# Answer for qustion XX`).  For example, place your answer for Question 1 in the markdown cell with comment `# Enter your answer for Question 1 into this cell` (remember not to delete this comment).\n",
    "\n",
    "- Make sure that you explain your solutions when asked and comment your code. \n",
    "\n",
    "- Commit and push changes to the Github classroom repository that has been provided (more details below).\n",
    "\n",
    "\n",
    "### What should be submitted?\n",
    "\n",
    "- One *Jupyter notebook* using Python that contains all the data analyses. Make sure to comment your code in the code cells.\n",
    "\n",
    "- Additional files that your notebook requires to compile properly (e.g. a data file).\n",
    "\n",
    "- <font color='blue'>**csv file(s) with participants' answers to your survey**</font>\n",
    "\n",
    "- A pdf of your Jupyter notebook exported as a pdf file.  This can be done using [`nbconvert`](https://nbconvert.readthedocs.io/en/latest/install.html).\n",
    "\n",
    "\n",
    "### When should it be submitted?\n",
    "\n",
    "- **At the end of the tutorial (in-lab tutorial assignment)**: Commit and push your notebook to the Github classroom repository that contains your answers (i.e., the file named: jsc270_tut1_answers_lastname_studentnumber.ipynb) before 14:10 on the day of the tutorial, January 30. <font color='blue'>**Each group member should submit the group notebook separately.** Make sure you also commit and push all of the **csv file(s) with participants' answers to your survey**.</font>\n",
    "\n",
    "- [`nbdime`](https://nbdime.readthedocs.io/en/latest/) is a Python package that allows you (and the teaching team) to see the changes you have made to your assignment. \n",
    "\n",
    "- **Homework (tutorial assignment completion)**: Push your completed tutorial by 11:30, Monday, February 4.  Your last commit closest to 11:30 will be considered your final assignment.\n",
    "\n",
    "### Where should the assignment be submitted?\n",
    "\n",
    "Push your finished notebook and any other files on Github, through the following link: https://classroom.github.com/a/auWRMyAC\n",
    "\n",
    "Upload the pdf of your answer notebook to the JSC270 course page on Quercus.\n",
    "\n",
    "***\n",
    "\n",
    "## Tutorial Grading\n",
    "\n",
    "Tutorials will be graded according to the following marking scheme.\n",
    "\n",
    "<table>\n",
    "  <tr>\n",
    "    <th></th>\n",
    "    <th>Marks</th>\n",
    "  </tr>\n",
    "  <tr>\n",
    "    <td>Tutorial Participation</td>\n",
    "    <td>5</td>\n",
    "  </tr>\n",
    "  <tr>\n",
    "    <td>Attendance for entire tutorial</td>\n",
    "    <td>5</td>\n",
    "  </tr>\n",
    "  <tr>\n",
    "    <td>In-lab tutorial assignment</td>\n",
    "    <td>20</td>\n",
    "  </tr>\n",
    "  <tr>\n",
    "    <td>Tutorial assignment completion</td>\n",
    "    <td>20</td>\n",
    "  </tr>\n",
    "</table>\n",
    "\n",
    "\n",
    "### Grading Rubric for Tutorial Assignments\n",
    "\n",
    "Tutorial grading rubric is available [here](https://jsc270.github.io/tut_docs.html#tutorial_grading).\n",
    "\n",
    "\n",
    "***\n",
    "\n",
    "## Tutorial objectives\n",
    "The goal of this tutorial is to design and conduct a survey, then analyse the results.\n",
    "\n",
    "\n",
    "****"
   ]
  },
  {
   "cell_type": "markdown",
   "metadata": {},
   "source": [
    "## Widgets in python using ipywidgets\n",
    "\n",
    "\n",
    "The [ipywidgets](https://ipywidgets.readthedocs.io/en/stable/) library supports the definition of widgets to interactively prompt input from the user. You will use such widgets to design a simple fillable form in python.\n",
    "\n",
    "You can install the library using `pip` or `conda`:\n",
    "```python\n",
    "    # using pip\n",
    "    !pip install ipywidgets\n",
    "    \n",
    "    # using conda\n",
    "    !conda install -c conda-forge ipywidgets\n",
    "```    \n",
    "\n",
    "Below, we illustrate how to use `ipywidgets` with an example of a simple form that we designed for people to order meals. Note that nbconvert will not render the widgets in your pdf."
   ]
  },
  {
   "cell_type": "code",
   "execution_count": 4,
   "metadata": {},
   "outputs": [
    {
     "name": "stdout",
     "output_type": "stream",
     "text": [
      "\u001b[4m ** YOUR MEAL ORDER ** \u001b[0m \n",
      "\n",
      "\u001b[1m Party details \u001b[0m\n"
     ]
    },
    {
     "data": {
      "application/vnd.jupyter.widget-view+json": {
       "model_id": "628bc9c11e2c4f5b9685af8ce78414fb",
       "version_major": 2,
       "version_minor": 0
      },
      "text/plain": [
       "Text(value='<put the contact name here>', description='Name:', placeholder='')"
      ]
     },
     "metadata": {},
     "output_type": "display_data"
    },
    {
     "data": {
      "application/vnd.jupyter.widget-view+json": {
       "model_id": "584efe1fe2434b94bf7799a8e5aff528",
       "version_major": 2,
       "version_minor": 0
      },
      "text/plain": [
       "BoundedIntText(value=1, description='Guests:', max=5, min=1)"
      ]
     },
     "metadata": {},
     "output_type": "display_data"
    },
    {
     "name": "stdout",
     "output_type": "stream",
     "text": [
      "\u001b[1m When would you like to come? \u001b[0m\n"
     ]
    },
    {
     "data": {
      "application/vnd.jupyter.widget-view+json": {
       "model_id": "faf655b5004d4baaae0220b5e50e9a86",
       "version_major": 2,
       "version_minor": 0
      },
      "text/plain": [
       "RadioButtons(description='Time:', options=('breakfast', 'lunch', 'dinner'), value='breakfast')"
      ]
     },
     "metadata": {},
     "output_type": "display_data"
    },
    {
     "name": "stdout",
     "output_type": "stream",
     "text": [
      "\u001b[1m How interested are you in hearing about the chef's recommendations? \u001b[0m\n"
     ]
    },
    {
     "data": {
      "application/vnd.jupyter.widget-view+json": {
       "model_id": "8eb1aef435a14862a4971c912924565d",
       "version_major": 2,
       "version_minor": 0
      },
      "text/plain": [
       "ToggleButtons(options=('very interested', 'somewhat interested', 'neutral', 'somewhat uninterested', 'not inte…"
      ]
     },
     "metadata": {},
     "output_type": "display_data"
    },
    {
     "name": "stdout",
     "output_type": "stream",
     "text": [
      "\u001b[1m Do you have any dietary restriction? \u001b[0m\n"
     ]
    },
    {
     "data": {
      "application/vnd.jupyter.widget-view+json": {
       "model_id": "5d2339320d8d41a5ac368fd3e1b62e54",
       "version_major": 2,
       "version_minor": 0
      },
      "text/plain": [
       "Checkbox(value=False, description='Vegetarian')"
      ]
     },
     "metadata": {},
     "output_type": "display_data"
    },
    {
     "data": {
      "application/vnd.jupyter.widget-view+json": {
       "model_id": "e43355ad479b4b6fa4c375550adcebb2",
       "version_major": 2,
       "version_minor": 0
      },
      "text/plain": [
       "Checkbox(value=False, description='Allergy (peanuts, gluten, ...)')"
      ]
     },
     "metadata": {},
     "output_type": "display_data"
    },
    {
     "data": {
      "application/vnd.jupyter.widget-view+json": {
       "model_id": "b389be57c8dc415db70ffa7e1ebefea5",
       "version_major": 2,
       "version_minor": 0
      },
      "text/plain": [
       "Button(button_style='info', description='Validate', style=ButtonStyle())"
      ]
     },
     "metadata": {},
     "output_type": "display_data"
    }
   ],
   "source": [
    "import ipywidgets as widgets                 ## widget library\n",
    "from IPython.display import display          ## to display the widgets\n",
    "import re                                    ## library for using regular expressions\n",
    "\n",
    "\n",
    "##### Survey: Food order #####\n",
    "\n",
    "## Text field widget to prompt for contact name \n",
    "name = widgets.Text(\n",
    "    value='<put the contact name here>',\n",
    "    placeholder='',\n",
    "    description='Name:',\n",
    "    disabled=False\n",
    ")\n",
    "\n",
    "## Input validation for participant name \n",
    "## we use a regular expression to verify that the entered text in this field doesn't contain special characters\n",
    "## Returns True if text appears valid, else print error and returns false\n",
    "def validate_name(name):\n",
    "    if not re.match(\"^[a-zA-Z]*$\", name):\n",
    "        print(\"Error: There are special characters in your name.\")\n",
    "        return False\n",
    "    return True\n",
    "\n",
    "\n",
    "## Integer value widget to prompt for guests number\n",
    "## the min (and default) value is set to 1 (i.e. the participant)\n",
    "nb = widgets.BoundedIntText(\n",
    "    value=1,\n",
    "    min=1,\n",
    "    max=5,\n",
    "    step=1,\n",
    "    description='Guests:'\n",
    ")\n",
    "\n",
    "\n",
    "## Radio button widget to prompt for a single choice of meal \n",
    "meal = widgets.RadioButtons(\n",
    "    options=['breakfast', 'lunch', 'dinner'],\n",
    "    description='Time:'\n",
    ")\n",
    "\n",
    "## 5-points likert scale to prompt for promotional offers\n",
    "chef = widgets.ToggleButtons(\n",
    "    options=['very interested', 'somewhat interested', 'neutral', 'somewhat uninterested', 'not interested at all'],\n",
    "    button_style=''\n",
    ")\n",
    "\n",
    "\n",
    "## Two checkboxes widgets to prompt for dietery restrictions\n",
    "vegetarian = widgets.Checkbox(\n",
    "    value=False,\n",
    "    description='Vegetarian'\n",
    ")\n",
    "\n",
    "allergy = widgets.Checkbox(\n",
    "    value=False,\n",
    "    description='Allergy (peanuts, gluten, ...)'\n",
    ")\n",
    "\n",
    "\n",
    "## Validation button \n",
    "### Validation of data\n",
    "validate = widgets.Button(\n",
    "    description='Validate',\n",
    "    disabled=False,\n",
    "    button_style='info'   ## blue design\n",
    ")\n",
    "\n",
    "\n",
    "## Function to call when clicking \"validate\" button\n",
    "def on_button_clicked(b):\n",
    "    if (validate_name(name.value)):      ## check if the input data is valid\n",
    "        confirm()                        ## if successful confirm order\n",
    "    \n",
    "def confirm():\n",
    "    ## <this is where you would put some python code to save the data in a file or database>\n",
    "    \n",
    "    print('Thank you for your order. \\n We took record of your reservation request for', \n",
    "           nb.value, 'guests for', time.value, \n",
    "          'under the name of', name.value)\n",
    "    if allergy.value: \n",
    "        print ('Food allergy.')\n",
    "    if vegetarian.value: \n",
    "        print ('Vegetarian meal.')\n",
    "\n",
    "## Specify the function to call upon click even on the validate button \n",
    "validate.on_click(on_button_clicked)\n",
    "\n",
    "   \n",
    "    \n",
    "## This class is used to format text when calling print\n",
    "class font:\n",
    "   BOLD = '\\033[1m'\n",
    "   UNDERLINE = '\\033[4m'\n",
    "   END = '\\033[0m'\n",
    "\n",
    "\n",
    "### Create the form\n",
    "print(font.UNDERLINE, '** YOUR MEAL ORDER **', font.END,'\\n')\n",
    "print(font.BOLD, 'Party details', font.END)\n",
    "display(name)\n",
    "display(nb)\n",
    "print(font.BOLD, 'When would you like to come?', font.END)\n",
    "display(meal)\n",
    "print(font.BOLD, 'How interested are you in hearing about the chef\\'s recommendations?', font.END)\n",
    "display(chef)\n",
    "print(font.BOLD, 'Do you have any dietary restriction?', font.END)\n",
    "display(vegetarian, allergy)\n",
    "display(validate)"
   ]
  },
  {
   "cell_type": "markdown",
   "metadata": {},
   "source": [
    "***\n",
    "# A survey to learn about students taking JSC270\n",
    "\n",
    "We are interested in learning about the students taking the JSC270 course. In this tutorial, we ask you to help us design a survey.\n",
    "\n",
    "In part 1 of the tutorial, you will work in pairs, to design and implement a fillable form to administer the survey, then take your own survey, as well as another group's. In part 2 of the tutorial, you will work individually, to combine and analyze the data collected from all groups.\n",
    "\n",
    "We are interested in learning the following information:\n",
    "\n",
    "* Participant ID (assigned at the beginning of the tutorial)\n",
    "* Demographic data:\n",
    "    * semester born: (Fall-Winter (January - May) or Spring-Summer (June - December))\n",
    "    \n",
    "* Astrological sign?\n",
    "     * Aquarius\n",
    "     * Pisces\n",
    "     * etc ...   \n",
    "     \n",
    "* Among the following list: pizza, pasta, tacos, chicken curry, steak and French fries (steak frites), steamed vegetable dumplings, steamed pork dumplings, ramen noodle soup \n",
    "    * most favourite dish (up to three) and why?\n",
    "    * least favourite dish (up to three) and why?\n",
    "\n",
    "* Which genre of movies do you enjoy?  (Examples could be comedy movies, drama movies, horror movies, etc ...)\n",
    "* How often do you go to the movie theater?\n",
    "* Which genre of music do you enjoy? (Examples could be: classical music, pop music, jazz, etc ...)\n",
    "\n",
    "* Reaction time: reaction time to the [online test](https://www.humanbenchmark.com/tests/reactiontime)\n",
    "\n",
    "* Did you eat a candy less than one hour before taking the reaction time test?\n",
    "***"
   ]
  },
  {
   "cell_type": "markdown",
   "metadata": {},
   "source": [
    "\n",
    "## Part I:  Design and conduct a survey (group work)\n",
    "\n",
    "In this part of the tutorial, you will work in pairs. Choose a partner to work with on Questions 1-5.\n",
    "\n",
    "\n",
    "## Question 1\n",
    "\n",
    "Together with your tutorial partner, decide on the phrasing of each question and associated type of input (i.e. what widget) you will use for collecting information. Explain briefly your choices."
   ]
  },
  {
   "cell_type": "markdown",
   "metadata": {},
   "source": [
    "## Answer for Question 1\n",
    "\n",
    "- Write your answer to question 1 here"
   ]
  },
  {
   "cell_type": "markdown",
   "metadata": {},
   "source": [
    "## Question 2\n",
    "\n",
    "Together with your tutorial partner, discuss what tests you can run on the input data to prevent the user from entering corrupt or invalid data. Explain where and why you would add such tests in a few words."
   ]
  },
  {
   "cell_type": "markdown",
   "metadata": {},
   "source": [
    "## Answer for Question 2\n",
    "\n",
    "- Write your answer to question 2 here"
   ]
  },
  {
   "cell_type": "markdown",
   "metadata": {},
   "source": [
    "## Question 3\n",
    "\n",
    "Write the python code to create the fillable form you designed above, including input validation methods. \n",
    "\n",
    "When validating the answers, if the participant's input is valid, your code should save their answers into a csv file named jsc270_survey_lastname1_lastname2_participantID, where \"lastname1\" and \"lastname2\" are the lastname of your two group members, and participant ID is the ID the participant entered in the form."
   ]
  },
  {
   "cell_type": "code",
   "execution_count": 2,
   "metadata": {},
   "outputs": [],
   "source": [
    "## Write the code for question 3 here"
   ]
  },
  {
   "cell_type": "markdown",
   "metadata": {},
   "source": [
    "## Question 4\n",
    "Take your own survey and save the data in a csv file. In the cell below, document the data collection method (i.e. specification of the data file) for a third party to understand the context and limitations of the data.\n"
   ]
  },
  {
   "cell_type": "markdown",
   "metadata": {},
   "source": [
    "## Answer for Question 4\n",
    "\n",
    "- Write your answer to question 4 here"
   ]
  },
  {
   "cell_type": "markdown",
   "metadata": {},
   "source": [
    "## Question 5\n",
    "\n",
    "Take your neighbour's survey. While taking the other group's survey, take note of the differences in the way the other group designed their survey compared to your group. Comment on the pros and cons of the different ways of collecting the same pieces of information. (It is possible that their are no differences)."
   ]
  },
  {
   "cell_type": "markdown",
   "metadata": {},
   "source": [
    "## Answer for Question 5\n",
    "\n",
    "- Write your answer to question 1 here"
   ]
  },
  {
   "cell_type": "markdown",
   "metadata": {},
   "source": [
    "***\n",
    "\n",
    "# Part II: Analyze the data (individual work)\n",
    "\n",
    "In this part of the tutorial, you will work individually. We will send everyone the data files generated during the tutorial. "
   ]
  },
  {
   "cell_type": "markdown",
   "metadata": {},
   "source": [
    "## Question 6\n",
    "\n",
    "Combine and reconcile the different files into a single uniform data frame containing all of the collected information. "
   ]
  },
  {
   "cell_type": "code",
   "execution_count": 3,
   "metadata": {},
   "outputs": [],
   "source": [
    "## Write the code for Question 6 below"
   ]
  },
  {
   "cell_type": "markdown",
   "metadata": {},
   "source": [
    "## Question 7\n",
    "\n",
    "Use appropriate statistical methods to answer the following questions.  Briefly explain your rationale for selecting the methods, state your conclusions and any limitations in a few sentences.\n",
    "\n",
    "(a) Do students born in the Fall-Winter term have different reaction times compared to Spring-Summer students?\n",
    "\n",
    "(b) Do students born in the Fall-Winter term have different movie preferences compared to Spring-Summer students?\n",
    "\n",
    "(c) Do students who ate a candy within one hour before the time reaction test perform better at the test?"
   ]
  },
  {
   "cell_type": "code",
   "execution_count": null,
   "metadata": {},
   "outputs": [],
   "source": []
  }
 ],
 "metadata": {
  "kernelspec": {
   "display_name": "Python 3",
   "language": "python",
   "name": "python3"
  },
  "language_info": {
   "codemirror_mode": {
    "name": "ipython",
    "version": 3
   },
   "file_extension": ".py",
   "mimetype": "text/x-python",
   "name": "python",
   "nbconvert_exporter": "python",
   "pygments_lexer": "ipython3",
   "version": "3.6.5"
  }
 },
 "nbformat": 4,
 "nbformat_minor": 2
}
